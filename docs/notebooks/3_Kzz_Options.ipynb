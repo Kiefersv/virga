{
 "cells": [
  {
   "cell_type": "markdown",
   "metadata": {
    "toc": true
   },
   "source": [
    "<h1>Table of Contents<span class=\"tocSkip\"></span></h1>\n",
    "<div class=\"toc\"><ul class=\"toc-item\"><li><span><a href=\"#Options-for-K$_z$\" data-toc-modified-id=\"Options-for-K$_z$-1\"><span class=\"toc-item-num\">1&nbsp;&nbsp;</span>Options for K$_z$</a></span><ul class=\"toc-item\"><li><span><a href=\"#Toy-Model:-Supply-Constant-K$_z$\" data-toc-modified-id=\"Toy-Model:-Supply-Constant-K$_z$-1.1\"><span class=\"toc-item-num\">1.1&nbsp;&nbsp;</span>Toy Model: Supply Constant K$_z$</a></span></li><li><span><a href=\"#Informed:-Compute-K$_z$-from-convective-heat-flux\" data-toc-modified-id=\"Informed:-Compute-K$_z$-from-convective-heat-flux-1.2\"><span class=\"toc-item-num\">1.2&nbsp;&nbsp;</span>Informed: Compute K$_z$ from convective heat flux</a></span></li><li><span><a href=\"#Analyze-different-$K_z$-formalism-via-convective-heat-flux\" data-toc-modified-id=\"Analyze-different-$K_z$-formalism-via-convective-heat-flux-1.3\"><span class=\"toc-item-num\">1.3&nbsp;&nbsp;</span>Analyze different $K_z$ formalism via convective heat flux</a></span></li><li><span><a href=\"#More-informed:-Input-K$_z$-from-external-model\" data-toc-modified-id=\"More-informed:-Input-K$_z$-from-external-model-1.4\"><span class=\"toc-item-num\">1.4&nbsp;&nbsp;</span>More informed: Input K$_z$ from external model</a></span></li><li><span><a href=\"#Analyze-different-$K_z$-formalism-via-external-input\" data-toc-modified-id=\"Analyze-different-$K_z$-formalism-via-external-input-1.5\"><span class=\"toc-item-num\">1.5&nbsp;&nbsp;</span>Analyze different $K_z$ formalism via external input</a></span></li></ul></li></ul></div>"
   ]
  },
  {
   "cell_type": "markdown",
   "metadata": {},
   "source": [
    "# Options for K$_z$\n",
    "\n",
    "In this tutorial you will learn: \n",
    "\n",
    "1. The hierarchy of K$_z$ assumptions \n",
    "\n",
    "You should already be familiar with: \n",
    "\n",
    "1. How to pick condensates to run in a cloud model \n",
    "2. What is $f_{sed}$ and what number is right for my model? \n",
    "3. What are the chemical limitations in the code \n",
    "4. How to compute initial Mie scattering grid\n",
    "5. Generally how to run the code \n"
   ]
  },
  {
   "cell_type": "code",
   "execution_count": 1,
   "metadata": {},
   "outputs": [
    {
     "data": {
      "text/html": [
       "    <style>\n",
       "        .bk-notebook-logo {\n",
       "            display: block;\n",
       "            width: 20px;\n",
       "            height: 20px;\n",
       "            background-image: url(data:image/png;base64,iVBORw0KGgoAAAANSUhEUgAAABQAAAAUCAYAAACNiR0NAAAABHNCSVQICAgIfAhkiAAAAAlwSFlzAAALEgAACxIB0t1+/AAAABx0RVh0U29mdHdhcmUAQWRvYmUgRmlyZXdvcmtzIENTNui8sowAAAOkSURBVDiNjZRtaJVlGMd/1/08zzln5zjP1LWcU9N0NkN8m2CYjpgQYQXqSs0I84OLIC0hkEKoPtiH3gmKoiJDU7QpLgoLjLIQCpEsNJ1vqUOdO7ppbuec5+V+rj4ctwzd8IIbbi6u+8f1539dt3A78eXC7QizUF7gyV1fD1Yqg4JWz84yffhm0qkFqBogB9rM8tZdtwVsPUhWhGcFJngGeWrPzHm5oaMmkfEg1usvLFyc8jLRqDOMru7AyC8saQr7GG7f5fvDeH7Ej8CM66nIF+8yngt6HWaKh7k49Soy9nXurCi1o3qUbS3zWfrYeQDTB/Qj6kX6Ybhw4B+bOYoLKCC9H3Nu/leUTZ1JdRWkkn2ldcCamzrcf47KKXdAJllSlxAOkRgyHsGC/zRday5Qld9DyoM4/q/rUoy/CXh3jzOu3bHUVZeU+DEn8FInkPBFlu3+nW3Nw0mk6vCDiWg8CeJaxEwuHS3+z5RgY+YBR6V1Z1nxSOfoaPa4LASWxxdNp+VWTk7+4vzaou8v8PN+xo+KY2xsw6une2frhw05CTYOmQvsEhjhWjn0bmXPjpE1+kplmmkP3suftwTubK9Vq22qKmrBhpY4jvd5afdRA3wGjFAgcnTK2s4hY0/GPNIb0nErGMCRxWOOX64Z8RAC4oCXdklmEvcL8o0BfkNK4lUg9HTl+oPlQxdNo3Mg4Nv175e/1LDGzZen30MEjRUtmXSfiTVu1kK8W4txyV6BMKlbgk3lMwYCiusNy9fVfvvwMxv8Ynl6vxoByANLTWplvuj/nF9m2+PDtt1eiHPBr1oIfhCChQMBw6Aw0UulqTKZdfVvfG7VcfIqLG9bcldL/+pdWTLxLUy8Qq38heUIjh4XlzZxzQm19lLFlr8vdQ97rjZVOLf8nclzckbcD4wxXMidpX30sFd37Fv/GtwwhzhxGVAprjbg0gCAEeIgwCZyTV2Z1REEW8O4py0wsjeloKoMr6iCY6dP92H6Vw/oTyICIthibxjm/DfN9lVz8IqtqKYLUXfoKVMVQVVJOElGjrnnUt9T9wbgp8AyYKaGlqingHZU/uG2NTZSVqwHQTWkx9hxjkpWDaCg6Ckj5qebgBVbT3V3NNXMSiWSDdGV3hrtzla7J+duwPOToIg42ChPQOQjspnSlp1V+Gjdged7+8UN5CRAV7a5EdFNwCjEaBR27b3W890TE7g24NAP/mMDXRWrGoFPQI9ls/MWO2dWFAar/xcOIImbbpA3zgAAAABJRU5ErkJggg==);\n",
       "        }\n",
       "    </style>\n",
       "    <div>\n",
       "        <a href=\"https://bokeh.org\" target=\"_blank\" class=\"bk-notebook-logo\"></a>\n",
       "        <span id=\"b314c587-ca58-4dca-9a1f-33b55f941fe5\">Loading BokehJS ...</span>\n",
       "    </div>\n"
      ]
     },
     "metadata": {},
     "output_type": "display_data"
    },
    {
     "data": {
      "application/javascript": [
       "(function(root) {\n",
       "  function now() {\n",
       "    return new Date();\n",
       "  }\n",
       "\n",
       "  const force = true;\n",
       "\n",
       "  if (typeof root._bokeh_onload_callbacks === \"undefined\" || force === true) {\n",
       "    root._bokeh_onload_callbacks = [];\n",
       "    root._bokeh_is_loading = undefined;\n",
       "  }\n",
       "\n",
       "const JS_MIME_TYPE = 'application/javascript';\n",
       "  const HTML_MIME_TYPE = 'text/html';\n",
       "  const EXEC_MIME_TYPE = 'application/vnd.bokehjs_exec.v0+json';\n",
       "  const CLASS_NAME = 'output_bokeh rendered_html';\n",
       "\n",
       "  /**\n",
       "   * Render data to the DOM node\n",
       "   */\n",
       "  function render(props, node) {\n",
       "    const script = document.createElement(\"script\");\n",
       "    node.appendChild(script);\n",
       "  }\n",
       "\n",
       "  /**\n",
       "   * Handle when an output is cleared or removed\n",
       "   */\n",
       "  function handleClearOutput(event, handle) {\n",
       "    function drop(id) {\n",
       "      const view = Bokeh.index.get_by_id(id)\n",
       "      if (view != null) {\n",
       "        view.model.document.clear()\n",
       "        Bokeh.index.delete(view)\n",
       "      }\n",
       "    }\n",
       "\n",
       "    const cell = handle.cell;\n",
       "\n",
       "    const id = cell.output_area._bokeh_element_id;\n",
       "    const server_id = cell.output_area._bokeh_server_id;\n",
       "\n",
       "    // Clean up Bokeh references\n",
       "    if (id != null) {\n",
       "      drop(id)\n",
       "    }\n",
       "\n",
       "    if (server_id !== undefined) {\n",
       "      // Clean up Bokeh references\n",
       "      const cmd_clean = \"from bokeh.io.state import curstate; print(curstate().uuid_to_server['\" + server_id + \"'].get_sessions()[0].document.roots[0]._id)\";\n",
       "      cell.notebook.kernel.execute(cmd_clean, {\n",
       "        iopub: {\n",
       "          output: function(msg) {\n",
       "            const id = msg.content.text.trim()\n",
       "            drop(id)\n",
       "          }\n",
       "        }\n",
       "      });\n",
       "      // Destroy server and session\n",
       "      const cmd_destroy = \"import bokeh.io.notebook as ion; ion.destroy_server('\" + server_id + \"')\";\n",
       "      cell.notebook.kernel.execute(cmd_destroy);\n",
       "    }\n",
       "  }\n",
       "\n",
       "  /**\n",
       "   * Handle when a new output is added\n",
       "   */\n",
       "  function handleAddOutput(event, handle) {\n",
       "    const output_area = handle.output_area;\n",
       "    const output = handle.output;\n",
       "\n",
       "    // limit handleAddOutput to display_data with EXEC_MIME_TYPE content only\n",
       "    if ((output.output_type != \"display_data\") || (!Object.prototype.hasOwnProperty.call(output.data, EXEC_MIME_TYPE))) {\n",
       "      return\n",
       "    }\n",
       "\n",
       "    const toinsert = output_area.element.find(\".\" + CLASS_NAME.split(' ')[0]);\n",
       "\n",
       "    if (output.metadata[EXEC_MIME_TYPE][\"id\"] !== undefined) {\n",
       "      toinsert[toinsert.length - 1].firstChild.textContent = output.data[JS_MIME_TYPE];\n",
       "      // store reference to embed id on output_area\n",
       "      output_area._bokeh_element_id = output.metadata[EXEC_MIME_TYPE][\"id\"];\n",
       "    }\n",
       "    if (output.metadata[EXEC_MIME_TYPE][\"server_id\"] !== undefined) {\n",
       "      const bk_div = document.createElement(\"div\");\n",
       "      bk_div.innerHTML = output.data[HTML_MIME_TYPE];\n",
       "      const script_attrs = bk_div.children[0].attributes;\n",
       "      for (let i = 0; i < script_attrs.length; i++) {\n",
       "        toinsert[toinsert.length - 1].firstChild.setAttribute(script_attrs[i].name, script_attrs[i].value);\n",
       "        toinsert[toinsert.length - 1].firstChild.textContent = bk_div.children[0].textContent\n",
       "      }\n",
       "      // store reference to server id on output_area\n",
       "      output_area._bokeh_server_id = output.metadata[EXEC_MIME_TYPE][\"server_id\"];\n",
       "    }\n",
       "  }\n",
       "\n",
       "  function register_renderer(events, OutputArea) {\n",
       "\n",
       "    function append_mime(data, metadata, element) {\n",
       "      // create a DOM node to render to\n",
       "      const toinsert = this.create_output_subarea(\n",
       "        metadata,\n",
       "        CLASS_NAME,\n",
       "        EXEC_MIME_TYPE\n",
       "      );\n",
       "      this.keyboard_manager.register_events(toinsert);\n",
       "      // Render to node\n",
       "      const props = {data: data, metadata: metadata[EXEC_MIME_TYPE]};\n",
       "      render(props, toinsert[toinsert.length - 1]);\n",
       "      element.append(toinsert);\n",
       "      return toinsert\n",
       "    }\n",
       "\n",
       "    /* Handle when an output is cleared or removed */\n",
       "    events.on('clear_output.CodeCell', handleClearOutput);\n",
       "    events.on('delete.Cell', handleClearOutput);\n",
       "\n",
       "    /* Handle when a new output is added */\n",
       "    events.on('output_added.OutputArea', handleAddOutput);\n",
       "\n",
       "    /**\n",
       "     * Register the mime type and append_mime function with output_area\n",
       "     */\n",
       "    OutputArea.prototype.register_mime_type(EXEC_MIME_TYPE, append_mime, {\n",
       "      /* Is output safe? */\n",
       "      safe: true,\n",
       "      /* Index of renderer in `output_area.display_order` */\n",
       "      index: 0\n",
       "    });\n",
       "  }\n",
       "\n",
       "  // register the mime type if in Jupyter Notebook environment and previously unregistered\n",
       "  if (root.Jupyter !== undefined) {\n",
       "    const events = require('base/js/events');\n",
       "    const OutputArea = require('notebook/js/outputarea').OutputArea;\n",
       "\n",
       "    if (OutputArea.prototype.mime_types().indexOf(EXEC_MIME_TYPE) == -1) {\n",
       "      register_renderer(events, OutputArea);\n",
       "    }\n",
       "  }\n",
       "  if (typeof (root._bokeh_timeout) === \"undefined\" || force === true) {\n",
       "    root._bokeh_timeout = Date.now() + 5000;\n",
       "    root._bokeh_failed_load = false;\n",
       "  }\n",
       "\n",
       "  const NB_LOAD_WARNING = {'data': {'text/html':\n",
       "     \"<div style='background-color: #fdd'>\\n\"+\n",
       "     \"<p>\\n\"+\n",
       "     \"BokehJS does not appear to have successfully loaded. If loading BokehJS from CDN, this \\n\"+\n",
       "     \"may be due to a slow or bad network connection. Possible fixes:\\n\"+\n",
       "     \"</p>\\n\"+\n",
       "     \"<ul>\\n\"+\n",
       "     \"<li>re-rerun `output_notebook()` to attempt to load from CDN again, or</li>\\n\"+\n",
       "     \"<li>use INLINE resources instead, as so:</li>\\n\"+\n",
       "     \"</ul>\\n\"+\n",
       "     \"<code>\\n\"+\n",
       "     \"from bokeh.resources import INLINE\\n\"+\n",
       "     \"output_notebook(resources=INLINE)\\n\"+\n",
       "     \"</code>\\n\"+\n",
       "     \"</div>\"}};\n",
       "\n",
       "  function display_loaded() {\n",
       "    const el = document.getElementById(\"b314c587-ca58-4dca-9a1f-33b55f941fe5\");\n",
       "    if (el != null) {\n",
       "      el.textContent = \"BokehJS is loading...\";\n",
       "    }\n",
       "    if (root.Bokeh !== undefined) {\n",
       "      if (el != null) {\n",
       "        el.textContent = \"BokehJS \" + root.Bokeh.version + \" successfully loaded.\";\n",
       "      }\n",
       "    } else if (Date.now() < root._bokeh_timeout) {\n",
       "      setTimeout(display_loaded, 100)\n",
       "    }\n",
       "  }\n",
       "\n",
       "  function run_callbacks() {\n",
       "    try {\n",
       "      root._bokeh_onload_callbacks.forEach(function(callback) {\n",
       "        if (callback != null)\n",
       "          callback();\n",
       "      });\n",
       "    } finally {\n",
       "      delete root._bokeh_onload_callbacks\n",
       "    }\n",
       "    console.debug(\"Bokeh: all callbacks have finished\");\n",
       "  }\n",
       "\n",
       "  function load_libs(css_urls, js_urls, callback) {\n",
       "    if (css_urls == null) css_urls = [];\n",
       "    if (js_urls == null) js_urls = [];\n",
       "\n",
       "    root._bokeh_onload_callbacks.push(callback);\n",
       "    if (root._bokeh_is_loading > 0) {\n",
       "      console.debug(\"Bokeh: BokehJS is being loaded, scheduling callback at\", now());\n",
       "      return null;\n",
       "    }\n",
       "    if (js_urls == null || js_urls.length === 0) {\n",
       "      run_callbacks();\n",
       "      return null;\n",
       "    }\n",
       "    console.debug(\"Bokeh: BokehJS not loaded, scheduling load and callback at\", now());\n",
       "    root._bokeh_is_loading = css_urls.length + js_urls.length;\n",
       "\n",
       "    function on_load() {\n",
       "      root._bokeh_is_loading--;\n",
       "      if (root._bokeh_is_loading === 0) {\n",
       "        console.debug(\"Bokeh: all BokehJS libraries/stylesheets loaded\");\n",
       "        run_callbacks()\n",
       "      }\n",
       "    }\n",
       "\n",
       "    function on_error(url) {\n",
       "      console.error(\"failed to load \" + url);\n",
       "    }\n",
       "\n",
       "    for (let i = 0; i < css_urls.length; i++) {\n",
       "      const url = css_urls[i];\n",
       "      const element = document.createElement(\"link\");\n",
       "      element.onload = on_load;\n",
       "      element.onerror = on_error.bind(null, url);\n",
       "      element.rel = \"stylesheet\";\n",
       "      element.type = \"text/css\";\n",
       "      element.href = url;\n",
       "      console.debug(\"Bokeh: injecting link tag for BokehJS stylesheet: \", url);\n",
       "      document.body.appendChild(element);\n",
       "    }\n",
       "\n",
       "    for (let i = 0; i < js_urls.length; i++) {\n",
       "      const url = js_urls[i];\n",
       "      const element = document.createElement('script');\n",
       "      element.onload = on_load;\n",
       "      element.onerror = on_error.bind(null, url);\n",
       "      element.async = false;\n",
       "      element.src = url;\n",
       "      console.debug(\"Bokeh: injecting script tag for BokehJS library: \", url);\n",
       "      document.head.appendChild(element);\n",
       "    }\n",
       "  };\n",
       "\n",
       "  function inject_raw_css(css) {\n",
       "    const element = document.createElement(\"style\");\n",
       "    element.appendChild(document.createTextNode(css));\n",
       "    document.body.appendChild(element);\n",
       "  }\n",
       "\n",
       "  const js_urls = [\"https://cdn.bokeh.org/bokeh/release/bokeh-3.3.4.min.js\", \"https://cdn.bokeh.org/bokeh/release/bokeh-gl-3.3.4.min.js\", \"https://cdn.bokeh.org/bokeh/release/bokeh-widgets-3.3.4.min.js\", \"https://cdn.bokeh.org/bokeh/release/bokeh-tables-3.3.4.min.js\", \"https://cdn.bokeh.org/bokeh/release/bokeh-mathjax-3.3.4.min.js\"];\n",
       "  const css_urls = [];\n",
       "\n",
       "  const inline_js = [    function(Bokeh) {\n",
       "      Bokeh.set_log_level(\"info\");\n",
       "    },\n",
       "function(Bokeh) {\n",
       "    }\n",
       "  ];\n",
       "\n",
       "  function run_inline_js() {\n",
       "    if (root.Bokeh !== undefined || force === true) {\n",
       "          for (let i = 0; i < inline_js.length; i++) {\n",
       "      inline_js[i].call(root, root.Bokeh);\n",
       "    }\n",
       "if (force === true) {\n",
       "        display_loaded();\n",
       "      }} else if (Date.now() < root._bokeh_timeout) {\n",
       "      setTimeout(run_inline_js, 100);\n",
       "    } else if (!root._bokeh_failed_load) {\n",
       "      console.log(\"Bokeh: BokehJS failed to load within specified timeout.\");\n",
       "      root._bokeh_failed_load = true;\n",
       "    } else if (force !== true) {\n",
       "      const cell = $(document.getElementById(\"b314c587-ca58-4dca-9a1f-33b55f941fe5\")).parents('.cell').data().cell;\n",
       "      cell.output_area.append_execute_result(NB_LOAD_WARNING)\n",
       "    }\n",
       "  }\n",
       "\n",
       "  if (root._bokeh_is_loading === 0) {\n",
       "    console.debug(\"Bokeh: BokehJS loaded, going straight to plotting\");\n",
       "    run_inline_js();\n",
       "  } else {\n",
       "    load_libs(css_urls, js_urls, function() {\n",
       "      console.debug(\"Bokeh: BokehJS plotting callback run at\", now());\n",
       "      run_inline_js();\n",
       "    });\n",
       "  }\n",
       "}(window));"
      ],
      "application/vnd.bokehjs_load.v0+json": "(function(root) {\n  function now() {\n    return new Date();\n  }\n\n  const force = true;\n\n  if (typeof root._bokeh_onload_callbacks === \"undefined\" || force === true) {\n    root._bokeh_onload_callbacks = [];\n    root._bokeh_is_loading = undefined;\n  }\n\n\n  if (typeof (root._bokeh_timeout) === \"undefined\" || force === true) {\n    root._bokeh_timeout = Date.now() + 5000;\n    root._bokeh_failed_load = false;\n  }\n\n  const NB_LOAD_WARNING = {'data': {'text/html':\n     \"<div style='background-color: #fdd'>\\n\"+\n     \"<p>\\n\"+\n     \"BokehJS does not appear to have successfully loaded. If loading BokehJS from CDN, this \\n\"+\n     \"may be due to a slow or bad network connection. Possible fixes:\\n\"+\n     \"</p>\\n\"+\n     \"<ul>\\n\"+\n     \"<li>re-rerun `output_notebook()` to attempt to load from CDN again, or</li>\\n\"+\n     \"<li>use INLINE resources instead, as so:</li>\\n\"+\n     \"</ul>\\n\"+\n     \"<code>\\n\"+\n     \"from bokeh.resources import INLINE\\n\"+\n     \"output_notebook(resources=INLINE)\\n\"+\n     \"</code>\\n\"+\n     \"</div>\"}};\n\n  function display_loaded() {\n    const el = document.getElementById(\"b314c587-ca58-4dca-9a1f-33b55f941fe5\");\n    if (el != null) {\n      el.textContent = \"BokehJS is loading...\";\n    }\n    if (root.Bokeh !== undefined) {\n      if (el != null) {\n        el.textContent = \"BokehJS \" + root.Bokeh.version + \" successfully loaded.\";\n      }\n    } else if (Date.now() < root._bokeh_timeout) {\n      setTimeout(display_loaded, 100)\n    }\n  }\n\n  function run_callbacks() {\n    try {\n      root._bokeh_onload_callbacks.forEach(function(callback) {\n        if (callback != null)\n          callback();\n      });\n    } finally {\n      delete root._bokeh_onload_callbacks\n    }\n    console.debug(\"Bokeh: all callbacks have finished\");\n  }\n\n  function load_libs(css_urls, js_urls, callback) {\n    if (css_urls == null) css_urls = [];\n    if (js_urls == null) js_urls = [];\n\n    root._bokeh_onload_callbacks.push(callback);\n    if (root._bokeh_is_loading > 0) {\n      console.debug(\"Bokeh: BokehJS is being loaded, scheduling callback at\", now());\n      return null;\n    }\n    if (js_urls == null || js_urls.length === 0) {\n      run_callbacks();\n      return null;\n    }\n    console.debug(\"Bokeh: BokehJS not loaded, scheduling load and callback at\", now());\n    root._bokeh_is_loading = css_urls.length + js_urls.length;\n\n    function on_load() {\n      root._bokeh_is_loading--;\n      if (root._bokeh_is_loading === 0) {\n        console.debug(\"Bokeh: all BokehJS libraries/stylesheets loaded\");\n        run_callbacks()\n      }\n    }\n\n    function on_error(url) {\n      console.error(\"failed to load \" + url);\n    }\n\n    for (let i = 0; i < css_urls.length; i++) {\n      const url = css_urls[i];\n      const element = document.createElement(\"link\");\n      element.onload = on_load;\n      element.onerror = on_error.bind(null, url);\n      element.rel = \"stylesheet\";\n      element.type = \"text/css\";\n      element.href = url;\n      console.debug(\"Bokeh: injecting link tag for BokehJS stylesheet: \", url);\n      document.body.appendChild(element);\n    }\n\n    for (let i = 0; i < js_urls.length; i++) {\n      const url = js_urls[i];\n      const element = document.createElement('script');\n      element.onload = on_load;\n      element.onerror = on_error.bind(null, url);\n      element.async = false;\n      element.src = url;\n      console.debug(\"Bokeh: injecting script tag for BokehJS library: \", url);\n      document.head.appendChild(element);\n    }\n  };\n\n  function inject_raw_css(css) {\n    const element = document.createElement(\"style\");\n    element.appendChild(document.createTextNode(css));\n    document.body.appendChild(element);\n  }\n\n  const js_urls = [\"https://cdn.bokeh.org/bokeh/release/bokeh-3.3.4.min.js\", \"https://cdn.bokeh.org/bokeh/release/bokeh-gl-3.3.4.min.js\", \"https://cdn.bokeh.org/bokeh/release/bokeh-widgets-3.3.4.min.js\", \"https://cdn.bokeh.org/bokeh/release/bokeh-tables-3.3.4.min.js\", \"https://cdn.bokeh.org/bokeh/release/bokeh-mathjax-3.3.4.min.js\"];\n  const css_urls = [];\n\n  const inline_js = [    function(Bokeh) {\n      Bokeh.set_log_level(\"info\");\n    },\nfunction(Bokeh) {\n    }\n  ];\n\n  function run_inline_js() {\n    if (root.Bokeh !== undefined || force === true) {\n          for (let i = 0; i < inline_js.length; i++) {\n      inline_js[i].call(root, root.Bokeh);\n    }\nif (force === true) {\n        display_loaded();\n      }} else if (Date.now() < root._bokeh_timeout) {\n      setTimeout(run_inline_js, 100);\n    } else if (!root._bokeh_failed_load) {\n      console.log(\"Bokeh: BokehJS failed to load within specified timeout.\");\n      root._bokeh_failed_load = true;\n    } else if (force !== true) {\n      const cell = $(document.getElementById(\"b314c587-ca58-4dca-9a1f-33b55f941fe5\")).parents('.cell').data().cell;\n      cell.output_area.append_execute_result(NB_LOAD_WARNING)\n    }\n  }\n\n  if (root._bokeh_is_loading === 0) {\n    console.debug(\"Bokeh: BokehJS loaded, going straight to plotting\");\n    run_inline_js();\n  } else {\n    load_libs(css_urls, js_urls, function() {\n      console.debug(\"Bokeh: BokehJS plotting callback run at\", now());\n      run_inline_js();\n    });\n  }\n}(window));"
     },
     "metadata": {},
     "output_type": "display_data"
    }
   ],
   "source": [
    "from bokeh.io import output_notebook \n",
    "from bokeh.plotting import show, figure\n",
    "output_notebook()\n",
    "import numpy as np\n",
    "import pandas as pd\n",
    "import astropy.units as u\n",
    "\n",
    "#cloud code\n",
    "import virga.justdoit as jdi\n",
    "import virga.justplotit as jpi\n"
   ]
  },
  {
   "cell_type": "markdown",
   "metadata": {},
   "source": [
    "Initial parameters we will keep fixed for the tutorial"
   ]
  },
  {
   "cell_type": "code",
   "execution_count": 2,
   "metadata": {},
   "outputs": [],
   "source": [
    "mieff_directory = '/Users/nbatalh1/Documents/data/virga/'\n",
    "fsed = 0.3\n",
    "metallicity = 1 #atmospheric metallicity relative to Solar\n",
    "mean_molecular_weight = 2.2 # atmospheric mean molecular weight"
   ]
  },
  {
   "cell_type": "markdown",
   "metadata": {},
   "source": [
    "## Toy Model: Supply Constant K$_z$"
   ]
  },
  {
   "cell_type": "code",
   "execution_count": 3,
   "metadata": {},
   "outputs": [],
   "source": [
    "sum_planet = jdi.Atmosphere(['KCl', 'MgSiO3'],fsed=fsed,mh=metallicity,\n",
    "                 mmw = mean_molecular_weight)\n",
    "sum_planet.gravity(gravity=100.00, gravity_unit=u.Unit('m/(s**2)'))"
   ]
  },
  {
   "cell_type": "code",
   "execution_count": 4,
   "metadata": {},
   "outputs": [],
   "source": [
    "constant_kz = 1e10\n",
    "df = jdi.brown_dwarf()\n",
    "sum_planet.ptk(df = df.loc[:,['pressure','temperature']],constant_kz = constant_kz) "
   ]
  },
  {
   "cell_type": "code",
   "execution_count": 5,
   "metadata": {},
   "outputs": [],
   "source": [
    "out_constant = sum_planet.compute(as_dict=True, \n",
    "                               directory=mieff_directory)"
   ]
  },
  {
   "cell_type": "markdown",
   "metadata": {},
   "source": [
    "## Informed: Compute K$_z$ from convective heat flux \n",
    "\n",
    "The convective heat flux is supplied through an external radiative transfer model which partitions the transport of interior heat between radiative and convective fluxes. As an example, we will upload one from the Sonora Grid. "
   ]
  },
  {
   "cell_type": "code",
   "execution_count": 6,
   "metadata": {},
   "outputs": [],
   "source": [
    "df = jdi.brown_dwarf()\n",
    "sum_planet = jdi.Atmosphere(['MgSiO3','KCl'],fsed=fsed,mh=metallicity,\n",
    "                 mmw = mean_molecular_weight)\n",
    "sum_planet.gravity(gravity=100.00, gravity_unit=u.Unit('m/(s**2)'))\n",
    "sum_planet.ptk(df=df)\n",
    "out_chf = sum_planet.compute(as_dict=True, \n",
    "                               directory=mieff_directory)"
   ]
  },
  {
   "cell_type": "markdown",
   "metadata": {},
   "source": [
    "### Turn on correction for latent heat"
   ]
  },
  {
   "cell_type": "code",
   "execution_count": 7,
   "metadata": {},
   "outputs": [],
   "source": [
    "sum_planet = jdi.Atmosphere(['MgSiO3','KCl'],fsed=fsed,mh=metallicity,\n",
    "                 mmw = mean_molecular_weight)\n",
    "sum_planet.gravity(gravity=100.00, gravity_unit=u.Unit('m/(s**2)'))\n",
    "sum_planet.ptk(df = df, latent_heat=True)\n",
    "out_latent = sum_planet.compute(as_dict=True, \n",
    "                               directory=mieff_directory)"
   ]
  },
  {
   "cell_type": "markdown",
   "metadata": {},
   "source": [
    "### Turn on correction for latent heat & convective overshoot"
   ]
  },
  {
   "cell_type": "code",
   "execution_count": 8,
   "metadata": {},
   "outputs": [],
   "source": [
    "sum_planet = jdi.Atmosphere(['MgSiO3','KCl'],fsed=fsed,mh=metallicity,\n",
    "                 mmw = mean_molecular_weight)\n",
    "sum_planet.gravity(gravity=100.00, gravity_unit=u.Unit('m/(s**2)'))\n",
    "sum_planet.ptk(df = df, latent_heat=True, convective_overshoot=1/3.)\n",
    "out_latent_cos = sum_planet.compute(as_dict=True, \n",
    "                               directory=mieff_directory)"
   ]
  },
  {
   "cell_type": "markdown",
   "metadata": {},
   "source": [
    "## Analyze different $K_z$ formalism via convective heat flux"
   ]
  },
  {
   "cell_type": "code",
   "execution_count": 9,
   "metadata": {},
   "outputs": [
    {
     "data": {
      "text/html": [
       "\n",
       "  <div id=\"defff97d-e58f-475f-9f0f-fb1edffefed4\" data-root-id=\"p1001\" style=\"display: contents;\"></div>\n"
      ]
     },
     "metadata": {},
     "output_type": "display_data"
    },
    {
     "data": {
      "application/javascript": [
       "(function(root) {\n",
       "  function embed_document(root) {\n",
       "  const docs_json = {\"e48783f8-7186-4617-9a58-c568a6f5b65a\":{\"version\":\"3.3.4\",\"title\":\"Bokeh Application\",\"roots\":[{\"type\":\"object\",\"name\":\"Figure\",\"id\":\"p1001\",\"attributes\":{\"height\":250,\"x_range\":{\"type\":\"object\",\"name\":\"Range1d\",\"id\":\"p1010\",\"attributes\":{\"start\":100000000.0,\"end\":500000000000.0}},\"y_range\":{\"type\":\"object\",\"name\":\"Range1d\",\"id\":\"p1011\",\"attributes\":{\"start\":100.0,\"end\":1e-06}},\"x_scale\":{\"type\":\"object\",\"name\":\"LogScale\",\"id\":\"p1012\"},\"y_scale\":{\"type\":\"object\",\"name\":\"LogScale\",\"id\":\"p1013\"},\"title\":{\"type\":\"object\",\"name\":\"Title\",\"id\":\"p1008\"},\"renderers\":[{\"type\":\"object\",\"name\":\"GlyphRenderer\",\"id\":\"p1041\",\"attributes\":{\"data_source\":{\"type\":\"object\",\"name\":\"ColumnDataSource\",\"id\":\"p1035\",\"attributes\":{\"selected\":{\"type\":\"object\",\"name\":\"Selection\",\"id\":\"p1036\",\"attributes\":{\"indices\":[],\"line_indices\":[]}},\"selection_policy\":{\"type\":\"object\",\"name\":\"UnionRenderers\",\"id\":\"p1037\"},\"data\":{\"type\":\"map\",\"entries\":[[\"x\",{\"type\":\"ndarray\",\"array\":{\"type\":\"bytes\",\"data\":\"AAAAIF+gAkIAAAAgX6ACQgAAACBfoAJCAAAAIF+gAkIAAAAgX6ACQgAAACBfoAJCAAAAIF+gAkIAAAAgX6ACQgAAACBfoAJCAAAAIF+gAkIAAAAgX6ACQgAAACBfoAJCAAAAIF+gAkIAAAAgX6ACQgAAACBfoAJCAAAAIF+gAkIAAAAgX6ACQgAAACBfoAJCAAAAIF+gAkIAAAAgX6ACQgAAACBfoAJCAAAAIF+gAkIAAAAgX6ACQgAAACBfoAJCAAAAIF+gAkIAAAAgX6ACQgAAACBfoAJCAAAAIF+gAkIAAAAgX6ACQgAAACBfoAJCAAAAIF+gAkIAAAAgX6ACQgAAACBfoAJCAAAAIF+gAkIAAAAgX6ACQgAAACBfoAJCAAAAIF+gAkIAAAAgX6ACQgAAACBfoAJCAAAAIF+gAkIAAAAgX6ACQgAAACBfoAJCAAAAIF+gAkIAAAAgX6ACQgAAACBfoAJCAAAAIF+gAkIAAAAgX6ACQgAAACBfoAJCAAAAIF+gAkIAAAAgX6ACQgAAACBfoAJCAAAAIF+gAkIAAAAgX6ACQgAAACBfoAJCAAAAIF+gAkIAAAAgX6ACQgAAACBfoAJCAAAAIF+gAkIAAAAgX6ACQgAAACBfoAJCAAAAIF+gAkIAAAAgX6ACQgAAACBfoAJCAAAAIF+gAkIAAAAgX6ACQgAAACBfoAJCAAAAIF+gAkIAAAAgX6ACQgAAACBfoAJCAAAAIF+gAkIAAAAgX6ACQgAAACBfoAJCAAAAIF+gAkIAAAAgX6ACQgAAACBfoAJCAAAAIF+gAkIAAAAgX6ACQgAAACBfoAJCAAAAIF+gAkIAAAAgX6ACQgAAACBfoAJCAAAAIF+gAkIAAAAgX6ACQgAAACBfoAJCAAAAIF+gAkIAAAAgX6ACQgAAACBfoAJCAAAAIF+gAkIAAAAgX6ACQgAAACBfoAJC\"},\"shape\":[90],\"dtype\":\"float64\",\"order\":\"little\"}],[\"y\",{\"type\":\"ndarray\",\"array\":{\"type\":\"bytes\",\"data\":\"0dYce1EWKT+ZaVYRyessP/lahu5IqzA/k7quqT02Mz/ZhwZzBSU2P+7MBMO5hjk/vz9KkSFsPT/a4a/JGvVAPwL0+/7Ni0M/oB+hwQGIRj/YbhaKz/hJP3ttkQ/V700/en/NgwVBUT8vRD0zd+NTP6uYSj/h7FY/ficcMP5sWj9v57Ec13VeP/JdSl0yjmE/MtXdhmI8ZD/EIitkU1NnP60mPi314mo/ZN3TMNf9bj9DfSZWodxxP4ncwqnFlnQ/BqYudIC7dz9V10bhH1t7P2Wire9oiH8/1x5R/HMsgj9MQtjfyPKEPzyxPWmXJYg/aUVAKmrViz/WU6uvrgqQP7Y8xWC0fZI/Kq0a33JQlT9eSl0yjpGYP/RqJRneUZw/T5ph/mVSoD/cWQV7XdCiP3V2jfG8r6U/bXGNz2T/qD+Z9PdSeNCsPx1jOOhcm7A/e9tMhXgksz+Jbqx6rxC2P5qLCXskb7k/ZFkw8UdRvT/yVCwjmuXAP9adOMoLesM//sQSIFRzxj8s8uuH2ODJP53y6EZY1M0/Ekza+SMx0T+dR8X/HdHTP4ggvZex19Y/E6tQ7ohU2j9AQK1YslneP63tNyT/feE/ecK3VbUp5D/eoRekzz3nP+BrY0c+yuo/IxQAiGDh7j8KFuLsMczxP1CavLfYg/Q/8E4+Pbal9z/6fg8DAkL7P+wX7IZta/8/kL8PYsIbAkBdXsoKj98EQLw3K0dtDwhAC2t0GN27C0DlNPqH4/cPQLXu1X22bBJAyIkbXN88FUDBSvTo/HoYQH96fffYNxxA73eDw2ZDIEDAhMCAFL8iQKeIHdfQmyVAvWU9a23oKECz8iYa/7UsQEasDzUbjDBAx9nPveISM0DPOMPDavw1QPkboyvHVzlAqD5GL1k2PUDGzsqsFNZAQIdZw6AnaENAyKe2irReRkC7KeW1EslJQN50yw7xuE1A\"},\"shape\":[90],\"dtype\":\"float64\",\"order\":\"little\"}]]}}},\"view\":{\"type\":\"object\",\"name\":\"CDSView\",\"id\":\"p1042\",\"attributes\":{\"filter\":{\"type\":\"object\",\"name\":\"AllIndices\",\"id\":\"p1043\"}}},\"glyph\":{\"type\":\"object\",\"name\":\"Line\",\"id\":\"p1038\",\"attributes\":{\"x\":{\"type\":\"field\",\"field\":\"x\"},\"y\":{\"type\":\"field\",\"field\":\"y\"},\"line_color\":\"#0072B2\",\"line_width\":3}},\"nonselection_glyph\":{\"type\":\"object\",\"name\":\"Line\",\"id\":\"p1039\",\"attributes\":{\"x\":{\"type\":\"field\",\"field\":\"x\"},\"y\":{\"type\":\"field\",\"field\":\"y\"},\"line_color\":\"#0072B2\",\"line_alpha\":0.1,\"line_width\":3}},\"muted_glyph\":{\"type\":\"object\",\"name\":\"Line\",\"id\":\"p1040\",\"attributes\":{\"x\":{\"type\":\"field\",\"field\":\"x\"},\"y\":{\"type\":\"field\",\"field\":\"y\"},\"line_color\":\"#0072B2\",\"line_alpha\":0.2,\"line_width\":3}}}},{\"type\":\"object\",\"name\":\"GlyphRenderer\",\"id\":\"p1052\",\"attributes\":{\"data_source\":{\"type\":\"object\",\"name\":\"ColumnDataSource\",\"id\":\"p1046\",\"attributes\":{\"selected\":{\"type\":\"object\",\"name\":\"Selection\",\"id\":\"p1047\",\"attributes\":{\"indices\":[],\"line_indices\":[]}},\"selection_policy\":{\"type\":\"object\",\"name\":\"UnionRenderers\",\"id\":\"p1048\"},\"data\":{\"type\":\"map\",\"entries\":[[\"x\",[4109382653.2047653,4097057987.5994196,3836047192.5216184,3623239778.7751474,3447900213.953578,3291333704.408774,3147875316.9202905,3014506773.9288526,2889983423.1786423,2773049541.426711,2662999917.03717,2559258396.6172175,2461119978.229147,2368060643.5131774,2279898766.706833,2196231015.1026554,2116648781.379874,2040835154.1142926,1968502616.5712514,1899367109.89534,1833304726.6186216,1770153419.920003,1709865616.1964195,1652348857.7222352,1597457519.7151859,1545204469.1479015,1495416616.5673518,1448136014.697525,1403221159.1914113,1360786051.151537,1320885843.1254041,1283441052.1811178,1248343775.565482,1215432387.0759401,1184579847.5874224,1155765686.9079962,1128940815.845938,1104150758.3986123,1081405556.6364307,1060571860.9245037,1041639308.0336094,1024510950.6737307,1009084153.0106957,995268599.4831467,983028375.2888185,972544824.0577109,963801920.3749794,956637192.7016867,951210513.3826773,947485003.4377254,944964246.2237132,943290164.5337231,942862432.4277976,943243535.7361217,943126208.0539484,941500474.2157167,938274791.6771212,933542574.7234038,927108769.6930054,919113270.5529807,909704348.3101907,898823712.9519875,886882096.8768426,874640381.38835,862601195.9611098,850890047.2504749,839570882.5238006,828630173.9051013,818138139.6868995,808563960.9653205,800499831.0610853,794719885.5725603,5160445420.647084,7355497937.0382185,8872277114.128876,10099006174.535234,10876797265.68899,11276562898.175196,11525168782.079332,11657421879.11674,11751351347.188131,11826886504.861694,11872821661.588943,11893443796.484482,11893438840.490345,11870107886.829363,11825348343.172867,11762353964.053343,11683658971.521633,11694267368.535051]],[\"y\",{\"type\":\"ndarray\",\"array\":{\"type\":\"bytes\",\"data\":\"0dYce1EWKT+ZaVYRyessP/lahu5IqzA/k7quqT02Mz/ZhwZzBSU2P+7MBMO5hjk/vz9KkSFsPT/a4a/JGvVAPwL0+/7Ni0M/oB+hwQGIRj/YbhaKz/hJP3ttkQ/V700/en/NgwVBUT8vRD0zd+NTP6uYSj/h7FY/ficcMP5sWj9v57Ec13VeP/JdSl0yjmE/MtXdhmI8ZD/EIitkU1NnP60mPi314mo/ZN3TMNf9bj9DfSZWodxxP4ncwqnFlnQ/BqYudIC7dz9V10bhH1t7P2Wire9oiH8/1x5R/HMsgj9MQtjfyPKEPzyxPWmXJYg/aUVAKmrViz/WU6uvrgqQP7Y8xWC0fZI/Kq0a33JQlT9eSl0yjpGYP/RqJRneUZw/T5ph/mVSoD/cWQV7XdCiP3V2jfG8r6U/bXGNz2T/qD+Z9PdSeNCsPx1jOOhcm7A/e9tMhXgksz+Jbqx6rxC2P5qLCXskb7k/ZFkw8UdRvT/yVCwjmuXAP9adOMoLesM//sQSIFRzxj8s8uuH2ODJP53y6EZY1M0/Ekza+SMx0T+dR8X/HdHTP4ggvZex19Y/E6tQ7ohU2j9AQK1YslneP63tNyT/feE/ecK3VbUp5D/eoRekzz3nP+BrY0c+yuo/IxQAiGDh7j8KFuLsMczxP1CavLfYg/Q/8E4+Pbal9z/6fg8DAkL7P+wX7IZta/8/kL8PYsIbAkBdXsoKj98EQLw3K0dtDwhAC2t0GN27C0DlNPqH4/cPQLXu1X22bBJAyIkbXN88FUDBSvTo/HoYQH96fffYNxxA73eDw2ZDIEDAhMCAFL8iQKeIHdfQmyVAvWU9a23oKECz8iYa/7UsQEasDzUbjDBAx9nPveISM0DPOMPDavw1QPkboyvHVzlAqD5GL1k2PUDGzsqsFNZAQIdZw6AnaENAyKe2irReRkC7KeW1EslJQN50yw7xuE1A\"},\"shape\":[90],\"dtype\":\"float64\",\"order\":\"little\"}]]}}},\"view\":{\"type\":\"object\",\"name\":\"CDSView\",\"id\":\"p1053\",\"attributes\":{\"filter\":{\"type\":\"object\",\"name\":\"AllIndices\",\"id\":\"p1054\"}}},\"glyph\":{\"type\":\"object\",\"name\":\"Line\",\"id\":\"p1049\",\"attributes\":{\"x\":{\"type\":\"field\",\"field\":\"x\"},\"y\":{\"type\":\"field\",\"field\":\"y\"},\"line_color\":\"#E69F00\",\"line_width\":3}},\"nonselection_glyph\":{\"type\":\"object\",\"name\":\"Line\",\"id\":\"p1050\",\"attributes\":{\"x\":{\"type\":\"field\",\"field\":\"x\"},\"y\":{\"type\":\"field\",\"field\":\"y\"},\"line_color\":\"#E69F00\",\"line_alpha\":0.1,\"line_width\":3}},\"muted_glyph\":{\"type\":\"object\",\"name\":\"Line\",\"id\":\"p1051\",\"attributes\":{\"x\":{\"type\":\"field\",\"field\":\"x\"},\"y\":{\"type\":\"field\",\"field\":\"y\"},\"line_color\":\"#E69F00\",\"line_alpha\":0.2,\"line_width\":3}}}},{\"type\":\"object\",\"name\":\"GlyphRenderer\",\"id\":\"p1062\",\"attributes\":{\"data_source\":{\"type\":\"object\",\"name\":\"ColumnDataSource\",\"id\":\"p1056\",\"attributes\":{\"selected\":{\"type\":\"object\",\"name\":\"Selection\",\"id\":\"p1057\",\"attributes\":{\"indices\":[],\"line_indices\":[]}},\"selection_policy\":{\"type\":\"object\",\"name\":\"UnionRenderers\",\"id\":\"p1058\"},\"data\":{\"type\":\"map\",\"entries\":[[\"x\",[190740646.361573,190168586.05905515,224019975.2554764,247449900.5753063,264148370.08526865,281733265.3812326,296679031.95963055,306946818.160308,318436819.91370255,324640673.4388269,330612823.6617093,335107249.84053594,334494099.4358174,335503809.89768946,334848338.9078242,332767167.5557203,326652229.415029,321272536.62260985,315011628.516116,306277494.9869717,300917182.5467758,296082035.9737554,292700872.05592304,290489028.1587998,289261763.316806,289614247.02429926,291320904.1522852,294910746.8416886,298291500.31895226,309458267.7428919,320517761.62565255,332523212.47331095,344332889.1253855,355857495.5599826,368051358.34318095,380851565.18214166,396915153.3731835,416393800.0278709,435402891.1325293,455627512.8802576,477333629.9656513,498648418.65090054,519915689.272396,541046186.5345817,565008711.3883802,596407962.8045616,625039057.8029948,652064860.2278464,691811363.5659353,723058448.5116217,741641781.4047301,759764064.2649935,797170969.1975346,800484003.7628317,773619675.9612343,729491282.0430192,694159852.2710736,653511007.8585091,609427534.6451946,571050067.0720357,533244060.56229997,491269450.71243536,468359859.03060806,458912842.226904,455856811.3910694,453991488.1964386,452694073.14866865,451714945.1598401,453945245.9981958,472013237.01098746,503158719.1030165,556214808.7745475,4515841054.215217,6616388070.170545,7888039933.738384,8833807846.457722,9372646317.339853,9576798442.70995,9569207222.369335,9472483037.912376,9357222175.275206,9159413082.057804,8912222146.259476,8680823403.664587,8439945031.076667,8104432795.853662,7796091159.977558,7503783091.817146,7219105440.681245,6977489605.677495]],[\"y\",{\"type\":\"ndarray\",\"array\":{\"type\":\"bytes\",\"data\":\"0dYce1EWKT+ZaVYRyessP/lahu5IqzA/k7quqT02Mz/ZhwZzBSU2P+7MBMO5hjk/vz9KkSFsPT/a4a/JGvVAPwL0+/7Ni0M/oB+hwQGIRj/YbhaKz/hJP3ttkQ/V700/en/NgwVBUT8vRD0zd+NTP6uYSj/h7FY/ficcMP5sWj9v57Ec13VeP/JdSl0yjmE/MtXdhmI8ZD/EIitkU1NnP60mPi314mo/ZN3TMNf9bj9DfSZWodxxP4ncwqnFlnQ/BqYudIC7dz9V10bhH1t7P2Wire9oiH8/1x5R/HMsgj9MQtjfyPKEPzyxPWmXJYg/aUVAKmrViz/WU6uvrgqQP7Y8xWC0fZI/Kq0a33JQlT9eSl0yjpGYP/RqJRneUZw/T5ph/mVSoD/cWQV7XdCiP3V2jfG8r6U/bXGNz2T/qD+Z9PdSeNCsPx1jOOhcm7A/e9tMhXgksz+Jbqx6rxC2P5qLCXskb7k/ZFkw8UdRvT/yVCwjmuXAP9adOMoLesM//sQSIFRzxj8s8uuH2ODJP53y6EZY1M0/Ekza+SMx0T+dR8X/HdHTP4ggvZex19Y/E6tQ7ohU2j9AQK1YslneP63tNyT/feE/ecK3VbUp5D/eoRekzz3nP+BrY0c+yuo/IxQAiGDh7j8KFuLsMczxP1CavLfYg/Q/8E4+Pbal9z/6fg8DAkL7P+wX7IZta/8/kL8PYsIbAkBdXsoKj98EQLw3K0dtDwhAC2t0GN27C0DlNPqH4/cPQLXu1X22bBJAyIkbXN88FUDBSvTo/HoYQH96fffYNxxA73eDw2ZDIEDAhMCAFL8iQKeIHdfQmyVAvWU9a23oKECz8iYa/7UsQEasDzUbjDBAx9nPveISM0DPOMPDavw1QPkboyvHVzlAqD5GL1k2PUDGzsqsFNZAQIdZw6AnaENAyKe2irReRkC7KeW1EslJQN50yw7xuE1A\"},\"shape\":[90],\"dtype\":\"float64\",\"order\":\"little\"}]]}}},\"view\":{\"type\":\"object\",\"name\":\"CDSView\",\"id\":\"p1063\",\"attributes\":{\"filter\":{\"type\":\"object\",\"name\":\"AllIndices\",\"id\":\"p1064\"}}},\"glyph\":{\"type\":\"object\",\"name\":\"Line\",\"id\":\"p1059\",\"attributes\":{\"x\":{\"type\":\"field\",\"field\":\"x\"},\"y\":{\"type\":\"field\",\"field\":\"y\"},\"line_color\":\"#F0E442\",\"line_width\":3}},\"nonselection_glyph\":{\"type\":\"object\",\"name\":\"Line\",\"id\":\"p1060\",\"attributes\":{\"x\":{\"type\":\"field\",\"field\":\"x\"},\"y\":{\"type\":\"field\",\"field\":\"y\"},\"line_color\":\"#F0E442\",\"line_alpha\":0.1,\"line_width\":3}},\"muted_glyph\":{\"type\":\"object\",\"name\":\"Line\",\"id\":\"p1061\",\"attributes\":{\"x\":{\"type\":\"field\",\"field\":\"x\"},\"y\":{\"type\":\"field\",\"field\":\"y\"},\"line_color\":\"#F0E442\",\"line_alpha\":0.2,\"line_width\":3}}}},{\"type\":\"object\",\"name\":\"GlyphRenderer\",\"id\":\"p1072\",\"attributes\":{\"data_source\":{\"type\":\"object\",\"name\":\"ColumnDataSource\",\"id\":\"p1066\",\"attributes\":{\"selected\":{\"type\":\"object\",\"name\":\"Selection\",\"id\":\"p1067\",\"attributes\":{\"indices\":[],\"line_indices\":[]}},\"selection_policy\":{\"type\":\"object\",\"name\":\"UnionRenderers\",\"id\":\"p1068\"},\"data\":{\"type\":\"map\",\"entries\":[[\"x\",[190740646.361573,190168586.05905515,224019975.2554764,247449900.5753063,264148370.08526865,281733265.3812326,296679031.95963055,306946818.160308,318436819.91370255,324640673.4388269,330612823.6617093,335107249.84053594,334494099.4358174,335503809.89768946,334848338.9078242,332767167.5557203,326652229.415029,321272536.62260985,315011628.516116,306277494.9869717,300917182.5467758,296082035.9737554,292700872.05592304,290489028.1587998,289261763.316806,289614247.02429926,291320904.1522852,294910746.8416886,298291500.31895226,309458267.7428919,320517761.62565255,332523212.47331095,344332889.1253855,355857495.5599826,368051358.34318095,380851565.18214166,396915153.3731835,416393800.0278709,435402891.1325293,455627512.8802576,477333629.9656513,498648418.65090054,519915689.272396,541046186.5345817,565008711.3883802,596407962.8045616,625039057.8029948,652064860.2278464,691811363.5659353,723058448.5116217,741641781.4047301,759764064.2649935,797170969.1975346,800484003.7628317,773619675.9612343,729491282.0430192,694159852.2710736,653511007.8585091,609427534.6451946,571050067.0720357,533244060.56229997,491269450.71243536,468359859.03060806,458912842.226904,455856811.3910694,453991488.1964386,452694073.14866865,451714945.1598401,564972987.7625219,888301255.1148562,1431803829.2920144,2393018960.0592465,4515841054.215217,6616388070.170545,7888039933.738384,8833807846.457722,9372646317.339853,9576798442.70995,9569207222.369335,9472483037.912376,9357222175.275206,9159413082.057804,8912222146.259476,8680823403.664587,8439945031.076667,8104432795.853662,7796091159.977558,7503783091.817146,7219105440.681245,6977489605.677495]],[\"y\",{\"type\":\"ndarray\",\"array\":{\"type\":\"bytes\",\"data\":\"0dYce1EWKT+ZaVYRyessP/lahu5IqzA/k7quqT02Mz/ZhwZzBSU2P+7MBMO5hjk/vz9KkSFsPT/a4a/JGvVAPwL0+/7Ni0M/oB+hwQGIRj/YbhaKz/hJP3ttkQ/V700/en/NgwVBUT8vRD0zd+NTP6uYSj/h7FY/ficcMP5sWj9v57Ec13VeP/JdSl0yjmE/MtXdhmI8ZD/EIitkU1NnP60mPi314mo/ZN3TMNf9bj9DfSZWodxxP4ncwqnFlnQ/BqYudIC7dz9V10bhH1t7P2Wire9oiH8/1x5R/HMsgj9MQtjfyPKEPzyxPWmXJYg/aUVAKmrViz/WU6uvrgqQP7Y8xWC0fZI/Kq0a33JQlT9eSl0yjpGYP/RqJRneUZw/T5ph/mVSoD/cWQV7XdCiP3V2jfG8r6U/bXGNz2T/qD+Z9PdSeNCsPx1jOOhcm7A/e9tMhXgksz+Jbqx6rxC2P5qLCXskb7k/ZFkw8UdRvT/yVCwjmuXAP9adOMoLesM//sQSIFRzxj8s8uuH2ODJP53y6EZY1M0/Ekza+SMx0T+dR8X/HdHTP4ggvZex19Y/E6tQ7ohU2j9AQK1YslneP63tNyT/feE/ecK3VbUp5D/eoRekzz3nP+BrY0c+yuo/IxQAiGDh7j8KFuLsMczxP1CavLfYg/Q/8E4+Pbal9z/6fg8DAkL7P+wX7IZta/8/kL8PYsIbAkBdXsoKj98EQLw3K0dtDwhAC2t0GN27C0DlNPqH4/cPQLXu1X22bBJAyIkbXN88FUDBSvTo/HoYQH96fffYNxxA73eDw2ZDIEDAhMCAFL8iQKeIHdfQmyVAvWU9a23oKECz8iYa/7UsQEasDzUbjDBAx9nPveISM0DPOMPDavw1QPkboyvHVzlAqD5GL1k2PUDGzsqsFNZAQIdZw6AnaENAyKe2irReRkC7KeW1EslJQN50yw7xuE1A\"},\"shape\":[90],\"dtype\":\"float64\",\"order\":\"little\"}]]}}},\"view\":{\"type\":\"object\",\"name\":\"CDSView\",\"id\":\"p1073\",\"attributes\":{\"filter\":{\"type\":\"object\",\"name\":\"AllIndices\",\"id\":\"p1074\"}}},\"glyph\":{\"type\":\"object\",\"name\":\"Line\",\"id\":\"p1069\",\"attributes\":{\"x\":{\"type\":\"field\",\"field\":\"x\"},\"y\":{\"type\":\"field\",\"field\":\"y\"},\"line_color\":\"#009E73\",\"line_width\":3}},\"nonselection_glyph\":{\"type\":\"object\",\"name\":\"Line\",\"id\":\"p1070\",\"attributes\":{\"x\":{\"type\":\"field\",\"field\":\"x\"},\"y\":{\"type\":\"field\",\"field\":\"y\"},\"line_color\":\"#009E73\",\"line_alpha\":0.1,\"line_width\":3}},\"muted_glyph\":{\"type\":\"object\",\"name\":\"Line\",\"id\":\"p1071\",\"attributes\":{\"x\":{\"type\":\"field\",\"field\":\"x\"},\"y\":{\"type\":\"field\",\"field\":\"y\"},\"line_color\":\"#009E73\",\"line_alpha\":0.2,\"line_width\":3}}}}],\"toolbar\":{\"type\":\"object\",\"name\":\"Toolbar\",\"id\":\"p1009\",\"attributes\":{\"tools\":[{\"type\":\"object\",\"name\":\"PanTool\",\"id\":\"p1024\"},{\"type\":\"object\",\"name\":\"WheelZoomTool\",\"id\":\"p1025\",\"attributes\":{\"renderers\":\"auto\"}},{\"type\":\"object\",\"name\":\"BoxZoomTool\",\"id\":\"p1026\",\"attributes\":{\"overlay\":{\"type\":\"object\",\"name\":\"BoxAnnotation\",\"id\":\"p1027\",\"attributes\":{\"syncable\":false,\"level\":\"overlay\",\"visible\":false,\"left\":{\"type\":\"number\",\"value\":\"nan\"},\"right\":{\"type\":\"number\",\"value\":\"nan\"},\"top\":{\"type\":\"number\",\"value\":\"nan\"},\"bottom\":{\"type\":\"number\",\"value\":\"nan\"},\"left_units\":\"canvas\",\"right_units\":\"canvas\",\"top_units\":\"canvas\",\"bottom_units\":\"canvas\",\"line_color\":\"black\",\"line_alpha\":1.0,\"line_width\":2,\"line_dash\":[4,4],\"fill_color\":\"lightgrey\",\"fill_alpha\":0.5}}}},{\"type\":\"object\",\"name\":\"SaveTool\",\"id\":\"p1032\"},{\"type\":\"object\",\"name\":\"ResetTool\",\"id\":\"p1033\"},{\"type\":\"object\",\"name\":\"HelpTool\",\"id\":\"p1034\"}]}},\"left\":[{\"type\":\"object\",\"name\":\"LogAxis\",\"id\":\"p1019\",\"attributes\":{\"ticker\":{\"type\":\"object\",\"name\":\"LogTicker\",\"id\":\"p1020\",\"attributes\":{\"num_minor_ticks\":10,\"mantissas\":[1,5]}},\"formatter\":{\"type\":\"object\",\"name\":\"LogTickFormatter\",\"id\":\"p1021\"},\"axis_label\":\"Pressure (bars)\",\"major_label_policy\":{\"type\":\"object\",\"name\":\"AllLabels\",\"id\":\"p1022\"}}}],\"below\":[{\"type\":\"object\",\"name\":\"LogAxis\",\"id\":\"p1014\",\"attributes\":{\"ticker\":{\"type\":\"object\",\"name\":\"LogTicker\",\"id\":\"p1015\",\"attributes\":{\"num_minor_ticks\":10,\"mantissas\":[1,5]}},\"formatter\":{\"type\":\"object\",\"name\":\"LogTickFormatter\",\"id\":\"p1016\"},\"axis_label\":\"Kz cm2/s\",\"major_label_policy\":{\"type\":\"object\",\"name\":\"AllLabels\",\"id\":\"p1017\"}}}],\"center\":[{\"type\":\"object\",\"name\":\"Grid\",\"id\":\"p1018\",\"attributes\":{\"axis\":{\"id\":\"p1014\"}}},{\"type\":\"object\",\"name\":\"Grid\",\"id\":\"p1023\",\"attributes\":{\"dimension\":1,\"axis\":{\"id\":\"p1019\"}}},{\"type\":\"object\",\"name\":\"Legend\",\"id\":\"p1044\",\"attributes\":{\"items\":[{\"type\":\"object\",\"name\":\"LegendItem\",\"id\":\"p1045\",\"attributes\":{\"label\":{\"type\":\"value\",\"value\":\"Constant\"},\"renderers\":[{\"id\":\"p1041\"}]}},{\"type\":\"object\",\"name\":\"LegendItem\",\"id\":\"p1055\",\"attributes\":{\"label\":{\"type\":\"value\",\"value\":\"CHF-Only\"},\"renderers\":[{\"id\":\"p1052\"}]}},{\"type\":\"object\",\"name\":\"LegendItem\",\"id\":\"p1065\",\"attributes\":{\"label\":{\"type\":\"value\",\"value\":\"CHF+Latent\"},\"renderers\":[{\"id\":\"p1062\"}]}},{\"type\":\"object\",\"name\":\"LegendItem\",\"id\":\"p1075\",\"attributes\":{\"label\":{\"type\":\"value\",\"value\":\"CFH+Latent+COS\"},\"renderers\":[{\"id\":\"p1072\"}]}}]}}]}}]}};\n",
       "  const render_items = [{\"docid\":\"e48783f8-7186-4617-9a58-c568a6f5b65a\",\"roots\":{\"p1001\":\"defff97d-e58f-475f-9f0f-fb1edffefed4\"},\"root_ids\":[\"p1001\"]}];\n",
       "  root.Bokeh.embed.embed_items_notebook(docs_json, render_items);\n",
       "  }\n",
       "  if (root.Bokeh !== undefined) {\n",
       "    embed_document(root);\n",
       "  } else {\n",
       "    let attempts = 0;\n",
       "    const timer = setInterval(function(root) {\n",
       "      if (root.Bokeh !== undefined) {\n",
       "        clearInterval(timer);\n",
       "        embed_document(root);\n",
       "      } else {\n",
       "        attempts++;\n",
       "        if (attempts > 100) {\n",
       "          clearInterval(timer);\n",
       "          console.log(\"Bokeh: ERROR: Unable to run BokehJS code because BokehJS library is missing\");\n",
       "        }\n",
       "      }\n",
       "    }, 10, root)\n",
       "  }\n",
       "})(window);"
      ],
      "application/vnd.bokehjs_exec.v0+json": ""
     },
     "metadata": {
      "application/vnd.bokehjs_exec.v0+json": {
       "id": "p1001"
      }
     },
     "output_type": "display_data"
    }
   ],
   "source": [
    "legend = ['Constant','CHF-Only','CHF+Latent','CFH+Latent+COS']\n",
    "fig =jpi.pressure_fig(plot_height=250,x_axis_label='Kz cm2/s',x_axis_type='log',x_range=[1e8,5e11])\n",
    "for i,idf in enumerate([out_constant, out_chf, out_latent, out_latent_cos ]):\n",
    "    fig.line(idf['kz'],idf['pressure'],line_width=3,color=jpi.colpals.Colorblind8[i],legend_label=legend[i])\n",
    "show(fig)"
   ]
  },
  {
   "cell_type": "code",
   "execution_count": 10,
   "metadata": {},
   "outputs": [
    {
     "data": {
      "text/html": [
       "\n",
       "  <div id=\"ed169adb-7b64-4d28-bd8e-7dc8ac57ee3b\" data-root-id=\"p1300\" style=\"display: contents;\"></div>\n"
      ]
     },
     "metadata": {},
     "output_type": "display_data"
    },
    {
     "data": {
      "application/javascript": [
       "(function(root) {\n",
       "  function embed_document(root) {\n",
       "  const docs_json = {\"a760b11f-8473-4405-a92a-418f46b8ca60\":{\"version\":\"3.3.4\",\"title\":\"Bokeh Application\",\"roots\":[{\"type\":\"object\",\"name\":\"GridPlot\",\"id\":\"p1300\",\"attributes\":{\"rows\":null,\"cols\":null,\"toolbar\":{\"type\":\"object\",\"name\":\"Toolbar\",\"id\":\"p1299\",\"attributes\":{\"tools\":[{\"type\":\"object\",\"name\":\"ToolProxy\",\"id\":\"p1293\",\"attributes\":{\"tools\":[{\"type\":\"object\",\"name\":\"PanTool\",\"id\":\"p1169\"},{\"type\":\"object\",\"name\":\"PanTool\",\"id\":\"p1103\"},{\"type\":\"object\",\"name\":\"PanTool\",\"id\":\"p1136\"}]}},{\"type\":\"object\",\"name\":\"ToolProxy\",\"id\":\"p1294\",\"attributes\":{\"tools\":[{\"type\":\"object\",\"name\":\"WheelZoomTool\",\"id\":\"p1170\",\"attributes\":{\"renderers\":\"auto\"}},{\"type\":\"object\",\"name\":\"WheelZoomTool\",\"id\":\"p1104\",\"attributes\":{\"renderers\":\"auto\"}},{\"type\":\"object\",\"name\":\"WheelZoomTool\",\"id\":\"p1137\",\"attributes\":{\"renderers\":\"auto\"}}]}},{\"type\":\"object\",\"name\":\"ToolProxy\",\"id\":\"p1295\",\"attributes\":{\"tools\":[{\"type\":\"object\",\"name\":\"BoxZoomTool\",\"id\":\"p1171\",\"attributes\":{\"overlay\":{\"type\":\"object\",\"name\":\"BoxAnnotation\",\"id\":\"p1172\",\"attributes\":{\"syncable\":false,\"level\":\"overlay\",\"visible\":false,\"left\":{\"type\":\"number\",\"value\":\"nan\"},\"right\":{\"type\":\"number\",\"value\":\"nan\"},\"top\":{\"type\":\"number\",\"value\":\"nan\"},\"bottom\":{\"type\":\"number\",\"value\":\"nan\"},\"left_units\":\"canvas\",\"right_units\":\"canvas\",\"top_units\":\"canvas\",\"bottom_units\":\"canvas\",\"line_color\":\"black\",\"line_alpha\":1.0,\"line_width\":2,\"line_dash\":[4,4],\"fill_color\":\"lightgrey\",\"fill_alpha\":0.5}}}},{\"type\":\"object\",\"name\":\"BoxZoomTool\",\"id\":\"p1105\",\"attributes\":{\"overlay\":{\"type\":\"object\",\"name\":\"BoxAnnotation\",\"id\":\"p1106\",\"attributes\":{\"syncable\":false,\"level\":\"overlay\",\"visible\":false,\"left\":{\"type\":\"number\",\"value\":\"nan\"},\"right\":{\"type\":\"number\",\"value\":\"nan\"},\"top\":{\"type\":\"number\",\"value\":\"nan\"},\"bottom\":{\"type\":\"number\",\"value\":\"nan\"},\"left_units\":\"canvas\",\"right_units\":\"canvas\",\"top_units\":\"canvas\",\"bottom_units\":\"canvas\",\"line_color\":\"black\",\"line_alpha\":1.0,\"line_width\":2,\"line_dash\":[4,4],\"fill_color\":\"lightgrey\",\"fill_alpha\":0.5}}}},{\"type\":\"object\",\"name\":\"BoxZoomTool\",\"id\":\"p1138\",\"attributes\":{\"overlay\":{\"type\":\"object\",\"name\":\"BoxAnnotation\",\"id\":\"p1139\",\"attributes\":{\"syncable\":false,\"level\":\"overlay\",\"visible\":false,\"left\":{\"type\":\"number\",\"value\":\"nan\"},\"right\":{\"type\":\"number\",\"value\":\"nan\"},\"top\":{\"type\":\"number\",\"value\":\"nan\"},\"bottom\":{\"type\":\"number\",\"value\":\"nan\"},\"left_units\":\"canvas\",\"right_units\":\"canvas\",\"top_units\":\"canvas\",\"bottom_units\":\"canvas\",\"line_color\":\"black\",\"line_alpha\":1.0,\"line_width\":2,\"line_dash\":[4,4],\"fill_color\":\"lightgrey\",\"fill_alpha\":0.5}}}}]}},{\"type\":\"object\",\"name\":\"SaveTool\",\"id\":\"p1296\"},{\"type\":\"object\",\"name\":\"ToolProxy\",\"id\":\"p1297\",\"attributes\":{\"tools\":[{\"type\":\"object\",\"name\":\"ResetTool\",\"id\":\"p1178\"},{\"type\":\"object\",\"name\":\"ResetTool\",\"id\":\"p1112\"},{\"type\":\"object\",\"name\":\"ResetTool\",\"id\":\"p1145\"}]}},{\"type\":\"object\",\"name\":\"ToolProxy\",\"id\":\"p1298\",\"attributes\":{\"tools\":[{\"type\":\"object\",\"name\":\"HelpTool\",\"id\":\"p1179\"},{\"type\":\"object\",\"name\":\"HelpTool\",\"id\":\"p1113\"},{\"type\":\"object\",\"name\":\"HelpTool\",\"id\":\"p1146\"}]}}]}},\"children\":[[{\"type\":\"object\",\"name\":\"Figure\",\"id\":\"p1147\",\"attributes\":{\"width\":300,\"height\":300,\"x_range\":{\"type\":\"object\",\"name\":\"DataRange1d\",\"id\":\"p1149\"},\"y_range\":{\"type\":\"object\",\"name\":\"Range1d\",\"id\":\"p1156\",\"attributes\":{\"start\":59.4448565,\"end\":0.00019140000000000002}},\"x_scale\":{\"type\":\"object\",\"name\":\"LogScale\",\"id\":\"p1157\"},\"y_scale\":{\"type\":\"object\",\"name\":\"LogScale\",\"id\":\"p1158\"},\"title\":{\"type\":\"object\",\"name\":\"Title\",\"id\":\"p1154\"},\"renderers\":[{\"type\":\"object\",\"name\":\"GlyphRenderer\",\"id\":\"p1186\",\"attributes\":{\"data_source\":{\"type\":\"object\",\"name\":\"ColumnDataSource\",\"id\":\"p1180\",\"attributes\":{\"selected\":{\"type\":\"object\",\"name\":\"Selection\",\"id\":\"p1181\",\"attributes\":{\"indices\":[],\"line_indices\":[]}},\"selection_policy\":{\"type\":\"object\",\"name\":\"UnionRenderers\",\"id\":\"p1182\"},\"data\":{\"type\":\"map\",\"entries\":[[\"x\",{\"type\":\"ndarray\",\"array\":{\"type\":\"bytes\",\"data\":\"B79w7JTsUz89PeV8MHZUP45OVTYiJlU/cTFWTL/gVT9KP/W/8NtWP1c7wXR711c/I205ZYoOWT9Elds502daP5nCvm/Y9Vs/MZYeq7nGXT8dPHNZtNFfP2VTFwkcHmE/FpaZw/CFYj9zLuZW9SpkP5GL08XUG2Y/mtHDE1llaD9ZqHFuvRdrP7Oq64fBSm4/v0Q1gOcJcT8MgJzJj0hzP1+p1HeP8XU/xgS/TY8ceT+UAG+WBt58PxfIGCCFqoA/+ISLJQdTgz8BHi0f33yGPyarFmOXQYo/GlZSpEe+jj/R3EaQ/gySP2vMIsA4P5U/Ly5Z3hQRmT+cd4JgHqKdP55+FFECjKE/Nzsd+LbQpD/ztXayx7qoPypAt/hGZ60/scZ/lOV/sT+G04MED960P4Fo5Av/67c/Vv63IGcPuz88MuCQBivAPy72ftjxUsM/er5oM4kYxz/ZMH8XqpfLP00raybcddA//9se45uZ0z8ziKVZEnXXP0cdln/PHNw/WSWDXPXa4D+0Rie3VjnkP/9nSGONRug/HexcXsol7T8bEI2xtIHxP9c+Hgw7CfU/2ktuYohF+T9zeep9ilf+PzngH/7kMwJA6TZ3N1/TBUAA/VKgPCYKQFbi7sT+TQ9AExCqzzG5EkD5CVsTbWAWQL2DnZzOuBpAfE0ao1blH0CJzhmFYwcjQIulvL/ssSZARCrGbkgLK0A8veVjyBQwQH8TN6fwBzNA3DHqxaQ7NkBfGLPYTv84QI90yhmGeDhABgRiXv/XIUDZbDbKy4zsP9lsNsrLjNw/AAAAAAAAAAAAAAAAAAAAAAAAAAAAAAAAAAAAAAAAAAAAAAAAAAAAAAAAAAAAAAAAAAAAAAAAAAAAAAAAAAAAAAAAAAAAAAAAAAAAAAAAAAAAAAAAAAAAAAAAAAAAAAAAAAAAAAAAAAAAAAAAAAAAAAAAAAAAAAAA\"},\"shape\":[90],\"dtype\":\"float64\",\"order\":\"little\"}],[\"y\",{\"type\":\"ndarray\",\"array\":{\"type\":\"bytes\",\"data\":\"0dYce1EWKT+ZaVYRyessP/lahu5IqzA/k7quqT02Mz/ZhwZzBSU2P+7MBMO5hjk/vz9KkSFsPT/a4a/JGvVAPwL0+/7Ni0M/oB+hwQGIRj/YbhaKz/hJP3ttkQ/V700/en/NgwVBUT8vRD0zd+NTP6uYSj/h7FY/ficcMP5sWj9v57Ec13VeP/JdSl0yjmE/MtXdhmI8ZD/EIitkU1NnP60mPi314mo/ZN3TMNf9bj9DfSZWodxxP4ncwqnFlnQ/BqYudIC7dz9V10bhH1t7P2Wire9oiH8/1x5R/HMsgj9MQtjfyPKEPzyxPWmXJYg/aUVAKmrViz/WU6uvrgqQP7Y8xWC0fZI/Kq0a33JQlT9eSl0yjpGYP/RqJRneUZw/T5ph/mVSoD/cWQV7XdCiP3V2jfG8r6U/bXGNz2T/qD+Z9PdSeNCsPx1jOOhcm7A/e9tMhXgksz+Jbqx6rxC2P5qLCXskb7k/ZFkw8UdRvT/yVCwjmuXAP9adOMoLesM//sQSIFRzxj8s8uuH2ODJP53y6EZY1M0/Ekza+SMx0T+dR8X/HdHTP4ggvZex19Y/E6tQ7ohU2j9AQK1YslneP63tNyT/feE/ecK3VbUp5D/eoRekzz3nP+BrY0c+yuo/IxQAiGDh7j8KFuLsMczxP1CavLfYg/Q/8E4+Pbal9z/6fg8DAkL7P+wX7IZta/8/kL8PYsIbAkBdXsoKj98EQLw3K0dtDwhAC2t0GN27C0DlNPqH4/cPQLXu1X22bBJAyIkbXN88FUDBSvTo/HoYQH96fffYNxxA73eDw2ZDIEDAhMCAFL8iQKeIHdfQmyVAvWU9a23oKECz8iYa/7UsQEasDzUbjDBAx9nPveISM0DPOMPDavw1QPkboyvHVzlAqD5GL1k2PUDGzsqsFNZAQIdZw6AnaENAyKe2irReRkC7KeW1EslJQN50yw7xuE1A\"},\"shape\":[90],\"dtype\":\"float64\",\"order\":\"little\"}]]}}},\"view\":{\"type\":\"object\",\"name\":\"CDSView\",\"id\":\"p1187\",\"attributes\":{\"filter\":{\"type\":\"object\",\"name\":\"AllIndices\",\"id\":\"p1188\"}}},\"glyph\":{\"type\":\"object\",\"name\":\"Line\",\"id\":\"p1183\",\"attributes\":{\"x\":{\"type\":\"field\",\"field\":\"x\"},\"y\":{\"type\":\"field\",\"field\":\"y\"},\"line_color\":\"#0072B2\",\"line_width\":3}},\"nonselection_glyph\":{\"type\":\"object\",\"name\":\"Line\",\"id\":\"p1184\",\"attributes\":{\"x\":{\"type\":\"field\",\"field\":\"x\"},\"y\":{\"type\":\"field\",\"field\":\"y\"},\"line_color\":\"#0072B2\",\"line_alpha\":0.1,\"line_width\":3}},\"muted_glyph\":{\"type\":\"object\",\"name\":\"Line\",\"id\":\"p1185\",\"attributes\":{\"x\":{\"type\":\"field\",\"field\":\"x\"},\"y\":{\"type\":\"field\",\"field\":\"y\"},\"line_color\":\"#0072B2\",\"line_alpha\":0.2,\"line_width\":3}}}},{\"type\":\"object\",\"name\":\"GlyphRenderer\",\"id\":\"p1215\",\"attributes\":{\"data_source\":{\"type\":\"object\",\"name\":\"ColumnDataSource\",\"id\":\"p1209\",\"attributes\":{\"selected\":{\"type\":\"object\",\"name\":\"Selection\",\"id\":\"p1210\",\"attributes\":{\"indices\":[],\"line_indices\":[]}},\"selection_policy\":{\"type\":\"object\",\"name\":\"UnionRenderers\",\"id\":\"p1211\"},\"data\":{\"type\":\"map\",\"entries\":[[\"x\",{\"type\":\"ndarray\",\"array\":{\"type\":\"bytes\",\"data\":\"DC0z/p/7aj8QGPb8iiZsP9GSa4WQYm8/mSGsqsFEcT+ccnNtzvNyPz/V1Hr+mnQ/g0gDoylxdj+2zBIhF2R4P5RzlzoNhXo/+WdOVRzifD/QzLFvX3F/PzMs01hnKoE/1mRk72XHgj8dIvo3AJiEP/XwtUlBqYY/GkxCNfECiT8QGnTOYbCLP2ahzmdXx44/+db97L0skT876lzapkCTPzjMiXt1rZU/kCmZSKiImD9nzj6QIuSbP3q64Kk53J8/qTU2IahJoj8nZkOMsBalP9QVuxWMbKg/Z4vS/DdmrD+kGsQ4DJSwP/lB7R4nbLM/3C3zYGHUtj9NTgTDzum6P9HMxEywz78/68aLlqHYwj+xN0qB22DGPwdfvqkvn8o/F9u8QUe5zz/Wl2X8xu3SP5yzwPTMndY/L30HxvAM2z/uw6FEsjDgP/RvjniHZOM/ISmvGGA85z9jU3grl9XrP+ok1iObpvA/i5cr99rg8z88jm3GMNj3P3MYl6v3ofw//ZgzuhoxAUDAZbGfF6UEQBc16tYkywhAo98/hPbHDUB4sTezy+IRQJE/o8ByfBVAj4LRMUHTGUDMbPP24REfQFlZgRw0tSJAbXiREqSMJkAvSi8O8jQrQKQ5MVWrbTBAbvPJ7YPbM0BHG8HTvgU4QFnVrKwrFT1AvaE5R96cQUCA6ojl6lVFQCl+WkKU10lAupNAMxdIT0Cbl6QjaOZSQM1LLmLgulZAM6+/UqH5WkBhs4PoT8ZeQCyczC7Jf15ASVf6Te3BLEDWRcikigH3P9ZFyKSKAec/AAAAAAAAAAAAAAAAAAAAAAAAAAAAAAAAAAAAAAAAAAAAAAAAAAAAAAAAAAAAAAAAAAAAAAAAAAAAAAAAAAAAAAAAAAAAAAAAAAAAAAAAAAAAAAAAAAAAAAAAAAAAAAAAAAAAAAAAAAAAAAAAAAAAAAAAAAAAAAAA\"},\"shape\":[90],\"dtype\":\"float64\",\"order\":\"little\"}],[\"y\",{\"type\":\"ndarray\",\"array\":{\"type\":\"bytes\",\"data\":\"0dYce1EWKT+ZaVYRyessP/lahu5IqzA/k7quqT02Mz/ZhwZzBSU2P+7MBMO5hjk/vz9KkSFsPT/a4a/JGvVAPwL0+/7Ni0M/oB+hwQGIRj/YbhaKz/hJP3ttkQ/V700/en/NgwVBUT8vRD0zd+NTP6uYSj/h7FY/ficcMP5sWj9v57Ec13VeP/JdSl0yjmE/MtXdhmI8ZD/EIitkU1NnP60mPi314mo/ZN3TMNf9bj9DfSZWodxxP4ncwqnFlnQ/BqYudIC7dz9V10bhH1t7P2Wire9oiH8/1x5R/HMsgj9MQtjfyPKEPzyxPWmXJYg/aUVAKmrViz/WU6uvrgqQP7Y8xWC0fZI/Kq0a33JQlT9eSl0yjpGYP/RqJRneUZw/T5ph/mVSoD/cWQV7XdCiP3V2jfG8r6U/bXGNz2T/qD+Z9PdSeNCsPx1jOOhcm7A/e9tMhXgksz+Jbqx6rxC2P5qLCXskb7k/ZFkw8UdRvT/yVCwjmuXAP9adOMoLesM//sQSIFRzxj8s8uuH2ODJP53y6EZY1M0/Ekza+SMx0T+dR8X/HdHTP4ggvZex19Y/E6tQ7ohU2j9AQK1YslneP63tNyT/feE/ecK3VbUp5D/eoRekzz3nP+BrY0c+yuo/IxQAiGDh7j8KFuLsMczxP1CavLfYg/Q/8E4+Pbal9z/6fg8DAkL7P+wX7IZta/8/kL8PYsIbAkBdXsoKj98EQLw3K0dtDwhAC2t0GN27C0DlNPqH4/cPQLXu1X22bBJAyIkbXN88FUDBSvTo/HoYQH96fffYNxxA73eDw2ZDIEDAhMCAFL8iQKeIHdfQmyVAvWU9a23oKECz8iYa/7UsQEasDzUbjDBAx9nPveISM0DPOMPDavw1QPkboyvHVzlAqD5GL1k2PUDGzsqsFNZAQIdZw6AnaENAyKe2irReRkC7KeW1EslJQN50yw7xuE1A\"},\"shape\":[90],\"dtype\":\"float64\",\"order\":\"little\"}]]}}},\"view\":{\"type\":\"object\",\"name\":\"CDSView\",\"id\":\"p1216\",\"attributes\":{\"filter\":{\"type\":\"object\",\"name\":\"AllIndices\",\"id\":\"p1217\"}}},\"glyph\":{\"type\":\"object\",\"name\":\"Line\",\"id\":\"p1212\",\"attributes\":{\"x\":{\"type\":\"field\",\"field\":\"x\"},\"y\":{\"type\":\"field\",\"field\":\"y\"},\"line_color\":\"#E69F00\",\"line_width\":3}},\"nonselection_glyph\":{\"type\":\"object\",\"name\":\"Line\",\"id\":\"p1213\",\"attributes\":{\"x\":{\"type\":\"field\",\"field\":\"x\"},\"y\":{\"type\":\"field\",\"field\":\"y\"},\"line_color\":\"#E69F00\",\"line_alpha\":0.1,\"line_width\":3}},\"muted_glyph\":{\"type\":\"object\",\"name\":\"Line\",\"id\":\"p1214\",\"attributes\":{\"x\":{\"type\":\"field\",\"field\":\"x\"},\"y\":{\"type\":\"field\",\"field\":\"y\"},\"line_color\":\"#E69F00\",\"line_alpha\":0.2,\"line_width\":3}}}},{\"type\":\"object\",\"name\":\"GlyphRenderer\",\"id\":\"p1243\",\"attributes\":{\"data_source\":{\"type\":\"object\",\"name\":\"ColumnDataSource\",\"id\":\"p1237\",\"attributes\":{\"selected\":{\"type\":\"object\",\"name\":\"Selection\",\"id\":\"p1238\",\"attributes\":{\"indices\":[],\"line_indices\":[]}},\"selection_policy\":{\"type\":\"object\",\"name\":\"UnionRenderers\",\"id\":\"p1239\"},\"data\":{\"type\":\"map\",\"entries\":[[\"x\",{\"type\":\"ndarray\",\"array\":{\"type\":\"bytes\",\"data\":\"HwXReK327j5TrXFfn2f5PjHRKh/F5gM/xsZysKhdDT9c7XhBAfgUPxRYh74kxhw/dJVC939OIz89ktwTFWopP6RYF194ajA/Qycyz8oDNT+wZ5TgzY46P/x2z+7MqkA/HglAzxvfRD/cfwb7cvpJP0hXWCfPJFA/nzLXmbUKVD8vrCVFSPFYP9bR/2oBEF8/jd5uEqJiYz/HKANnrVBoP8DbiOm3gG4/jVfc1ygvcz8wPzAQsCh4P9fa+LWld34/hBFKD0w+gz+wOvoe0VGIP2OU2Xa9vY4/9R7+bA1qkz/v4e4RgIqYP9AJGJla154/F4S1kdlZoz8cPZH8NzuoPycxmbkSTK4/M0obXnHqsj/M7zcHkZO3P7cmHvdXVL0/HxAXtUsvwj9+C7EzJ3jGP4evhPb4tMs/MimSBvEJ0T9p5O2FbObUP1nvyrNpldk/PWOzsFo+3z8U91xgDQbjPxHwRP/tDOc/8THT03C46z/NVh0EoMTwPx8QIAR8SvQ/3ZB6WQZy+D9aLvueCHX9P9QpD/9lxgFAFUNFn8lwBUB2/3Mpx74JQMACemF0FQ9AQx/vyIriEkBvBxfoxxQXQDDRZMP8PxxAWe4O1VlcIUAHP55xJG8lQHaFi1tQiCpA7+pm9rJ7MEAMO5Bs75c0QEZIXwElsDlA5l5Auur3P0DO2KKbW9tDQNcPXkA2pUhAOvVI3muMTkDpgzmzxOJSQN02wN5HMldAChhIeLvtW0BVahQG0Q1gQGfXe1xXxF9AqjldQDlgLUBXYRfNLYD3P1dhF80tgOc/AAAAAAAAAAAAAAAAAAAAAAAAAAAAAAAAAAAAAAAAAAAAAAAAAAAAAAAAAAAAAAAAAAAAAAAAAAAAAAAAAAAAAAAAAAAAAAAAAAAAAAAAAAAAAAAAAAAAAAAAAAAAAAAAAAAAAAAAAAAAAAAAAAAAAAAAAAAAAAAA\"},\"shape\":[90],\"dtype\":\"float64\",\"order\":\"little\"}],[\"y\",{\"type\":\"ndarray\",\"array\":{\"type\":\"bytes\",\"data\":\"0dYce1EWKT+ZaVYRyessP/lahu5IqzA/k7quqT02Mz/ZhwZzBSU2P+7MBMO5hjk/vz9KkSFsPT/a4a/JGvVAPwL0+/7Ni0M/oB+hwQGIRj/YbhaKz/hJP3ttkQ/V700/en/NgwVBUT8vRD0zd+NTP6uYSj/h7FY/ficcMP5sWj9v57Ec13VeP/JdSl0yjmE/MtXdhmI8ZD/EIitkU1NnP60mPi314mo/ZN3TMNf9bj9DfSZWodxxP4ncwqnFlnQ/BqYudIC7dz9V10bhH1t7P2Wire9oiH8/1x5R/HMsgj9MQtjfyPKEPzyxPWmXJYg/aUVAKmrViz/WU6uvrgqQP7Y8xWC0fZI/Kq0a33JQlT9eSl0yjpGYP/RqJRneUZw/T5ph/mVSoD/cWQV7XdCiP3V2jfG8r6U/bXGNz2T/qD+Z9PdSeNCsPx1jOOhcm7A/e9tMhXgksz+Jbqx6rxC2P5qLCXskb7k/ZFkw8UdRvT/yVCwjmuXAP9adOMoLesM//sQSIFRzxj8s8uuH2ODJP53y6EZY1M0/Ekza+SMx0T+dR8X/HdHTP4ggvZex19Y/E6tQ7ohU2j9AQK1YslneP63tNyT/feE/ecK3VbUp5D/eoRekzz3nP+BrY0c+yuo/IxQAiGDh7j8KFuLsMczxP1CavLfYg/Q/8E4+Pbal9z/6fg8DAkL7P+wX7IZta/8/kL8PYsIbAkBdXsoKj98EQLw3K0dtDwhAC2t0GN27C0DlNPqH4/cPQLXu1X22bBJAyIkbXN88FUDBSvTo/HoYQH96fffYNxxA73eDw2ZDIEDAhMCAFL8iQKeIHdfQmyVAvWU9a23oKECz8iYa/7UsQEasDzUbjDBAx9nPveISM0DPOMPDavw1QPkboyvHVzlAqD5GL1k2PUDGzsqsFNZAQIdZw6AnaENAyKe2irReRkC7KeW1EslJQN50yw7xuE1A\"},\"shape\":[90],\"dtype\":\"float64\",\"order\":\"little\"}]]}}},\"view\":{\"type\":\"object\",\"name\":\"CDSView\",\"id\":\"p1244\",\"attributes\":{\"filter\":{\"type\":\"object\",\"name\":\"AllIndices\",\"id\":\"p1245\"}}},\"glyph\":{\"type\":\"object\",\"name\":\"Line\",\"id\":\"p1240\",\"attributes\":{\"x\":{\"type\":\"field\",\"field\":\"x\"},\"y\":{\"type\":\"field\",\"field\":\"y\"},\"line_color\":\"#F0E442\",\"line_width\":3}},\"nonselection_glyph\":{\"type\":\"object\",\"name\":\"Line\",\"id\":\"p1241\",\"attributes\":{\"x\":{\"type\":\"field\",\"field\":\"x\"},\"y\":{\"type\":\"field\",\"field\":\"y\"},\"line_color\":\"#F0E442\",\"line_alpha\":0.1,\"line_width\":3}},\"muted_glyph\":{\"type\":\"object\",\"name\":\"Line\",\"id\":\"p1242\",\"attributes\":{\"x\":{\"type\":\"field\",\"field\":\"x\"},\"y\":{\"type\":\"field\",\"field\":\"y\"},\"line_color\":\"#F0E442\",\"line_alpha\":0.2,\"line_width\":3}}}},{\"type\":\"object\",\"name\":\"GlyphRenderer\",\"id\":\"p1271\",\"attributes\":{\"data_source\":{\"type\":\"object\",\"name\":\"ColumnDataSource\",\"id\":\"p1265\",\"attributes\":{\"selected\":{\"type\":\"object\",\"name\":\"Selection\",\"id\":\"p1266\",\"attributes\":{\"indices\":[],\"line_indices\":[]}},\"selection_policy\":{\"type\":\"object\",\"name\":\"UnionRenderers\",\"id\":\"p1267\"},\"data\":{\"type\":\"map\",\"entries\":[[\"x\",{\"type\":\"ndarray\",\"array\":{\"type\":\"bytes\",\"data\":\"HwXReK327j5TrXFfn2f5PjHRKh/F5gM/xsZysKhdDT9c7XhBAfgUPxRYh74kxhw/dJVC939OIz89ktwTFWopP6RYF194ajA/Qycyz8oDNT+wZ5TgzY46P/x2z+7MqkA/HglAzxvfRD/cfwb7cvpJP0hXWCfPJFA/nzLXmbUKVD8vrCVFSPFYP9bR/2oBEF8/jd5uEqJiYz/HKANnrVBoP8DbiOm3gG4/jVfc1ygvcz8wPzAQsCh4P9fa+LWld34/hBFKD0w+gz+wOvoe0VGIP2OU2Xa9vY4/9R7+bA1qkz/v4e4RgIqYP9AJGJla154/F4S1kdlZoz8cPZH8NzuoPycxmbkSTK4/M0obXnHqsj/M7zcHkZO3P7cmHvdXVL0/HxAXtUsvwj9+C7EzJ3jGP4evhPb4tMs/MimSBvEJ0T9p5O2FbObUP1nvyrNpldk/PWOzsFo+3z8U91xgDQbjPxHwRP/tDOc/8THT03C46z/NVh0EoMTwPx8QIAR8SvQ/3ZB6WQZy+D9aLvueCHX9P9QpD/9lxgFAFUNFn8lwBUB2/3Mpx74JQMACemF0FQ9AQx/vyIriEkBvBxfoxxQXQDDRZMP8PxxAWe4O1VlcIUAHP55xJG8lQHaFi1tQiCpA7+pm9rJ7MEAMO5Bs75c0QEZIXwElsDlA5l5Auur3P0DO2KKbW9tDQNcPXkA2pUhAOvVI3muMTkDpgzmzxOJSQB142/ccmlRAR9c8tkTdU0CzsoKxuVRSQF/1uts1+EpAqjldQDlgLUBXYRfNLYD3P1dhF80tgOc/AAAAAAAAAAAAAAAAAAAAAAAAAAAAAAAAAAAAAAAAAAAAAAAAAAAAAAAAAAAAAAAAAAAAAAAAAAAAAAAAAAAAAAAAAAAAAAAAAAAAAAAAAAAAAAAAAAAAAAAAAAAAAAAAAAAAAAAAAAAAAAAAAAAAAAAAAAAAAAAA\"},\"shape\":[90],\"dtype\":\"float64\",\"order\":\"little\"}],[\"y\",{\"type\":\"ndarray\",\"array\":{\"type\":\"bytes\",\"data\":\"0dYce1EWKT+ZaVYRyessP/lahu5IqzA/k7quqT02Mz/ZhwZzBSU2P+7MBMO5hjk/vz9KkSFsPT/a4a/JGvVAPwL0+/7Ni0M/oB+hwQGIRj/YbhaKz/hJP3ttkQ/V700/en/NgwVBUT8vRD0zd+NTP6uYSj/h7FY/ficcMP5sWj9v57Ec13VeP/JdSl0yjmE/MtXdhmI8ZD/EIitkU1NnP60mPi314mo/ZN3TMNf9bj9DfSZWodxxP4ncwqnFlnQ/BqYudIC7dz9V10bhH1t7P2Wire9oiH8/1x5R/HMsgj9MQtjfyPKEPzyxPWmXJYg/aUVAKmrViz/WU6uvrgqQP7Y8xWC0fZI/Kq0a33JQlT9eSl0yjpGYP/RqJRneUZw/T5ph/mVSoD/cWQV7XdCiP3V2jfG8r6U/bXGNz2T/qD+Z9PdSeNCsPx1jOOhcm7A/e9tMhXgksz+Jbqx6rxC2P5qLCXskb7k/ZFkw8UdRvT/yVCwjmuXAP9adOMoLesM//sQSIFRzxj8s8uuH2ODJP53y6EZY1M0/Ekza+SMx0T+dR8X/HdHTP4ggvZex19Y/E6tQ7ohU2j9AQK1YslneP63tNyT/feE/ecK3VbUp5D/eoRekzz3nP+BrY0c+yuo/IxQAiGDh7j8KFuLsMczxP1CavLfYg/Q/8E4+Pbal9z/6fg8DAkL7P+wX7IZta/8/kL8PYsIbAkBdXsoKj98EQLw3K0dtDwhAC2t0GN27C0DlNPqH4/cPQLXu1X22bBJAyIkbXN88FUDBSvTo/HoYQH96fffYNxxA73eDw2ZDIEDAhMCAFL8iQKeIHdfQmyVAvWU9a23oKECz8iYa/7UsQEasDzUbjDBAx9nPveISM0DPOMPDavw1QPkboyvHVzlAqD5GL1k2PUDGzsqsFNZAQIdZw6AnaENAyKe2irReRkC7KeW1EslJQN50yw7xuE1A\"},\"shape\":[90],\"dtype\":\"float64\",\"order\":\"little\"}]]}}},\"view\":{\"type\":\"object\",\"name\":\"CDSView\",\"id\":\"p1272\",\"attributes\":{\"filter\":{\"type\":\"object\",\"name\":\"AllIndices\",\"id\":\"p1273\"}}},\"glyph\":{\"type\":\"object\",\"name\":\"Line\",\"id\":\"p1268\",\"attributes\":{\"x\":{\"type\":\"field\",\"field\":\"x\"},\"y\":{\"type\":\"field\",\"field\":\"y\"},\"line_color\":\"#009E73\",\"line_width\":3}},\"nonselection_glyph\":{\"type\":\"object\",\"name\":\"Line\",\"id\":\"p1269\",\"attributes\":{\"x\":{\"type\":\"field\",\"field\":\"x\"},\"y\":{\"type\":\"field\",\"field\":\"y\"},\"line_color\":\"#009E73\",\"line_alpha\":0.1,\"line_width\":3}},\"muted_glyph\":{\"type\":\"object\",\"name\":\"Line\",\"id\":\"p1270\",\"attributes\":{\"x\":{\"type\":\"field\",\"field\":\"x\"},\"y\":{\"type\":\"field\",\"field\":\"y\"},\"line_color\":\"#009E73\",\"line_alpha\":0.2,\"line_width\":3}}}}],\"toolbar\":{\"type\":\"object\",\"name\":\"Toolbar\",\"id\":\"p1155\",\"attributes\":{\"tools\":[{\"id\":\"p1169\"},{\"id\":\"p1170\"},{\"id\":\"p1171\"},{\"type\":\"object\",\"name\":\"SaveTool\",\"id\":\"p1177\"},{\"id\":\"p1178\"},{\"id\":\"p1179\"}]}},\"toolbar_location\":null,\"left\":[{\"type\":\"object\",\"name\":\"LogAxis\",\"id\":\"p1164\",\"attributes\":{\"ticker\":{\"type\":\"object\",\"name\":\"LogTicker\",\"id\":\"p1165\",\"attributes\":{\"num_minor_ticks\":10,\"mantissas\":[1,5]}},\"formatter\":{\"type\":\"object\",\"name\":\"LogTickFormatter\",\"id\":\"p1166\"},\"axis_label\":\"Pressure (bars)\",\"major_label_policy\":{\"type\":\"object\",\"name\":\"AllLabels\",\"id\":\"p1167\"}}}],\"below\":[{\"type\":\"object\",\"name\":\"LogAxis\",\"id\":\"p1159\",\"attributes\":{\"ticker\":{\"type\":\"object\",\"name\":\"LogTicker\",\"id\":\"p1160\",\"attributes\":{\"num_minor_ticks\":10,\"mantissas\":[1,5]}},\"formatter\":{\"type\":\"object\",\"name\":\"LogTickFormatter\",\"id\":\"p1161\"},\"axis_label\":\"Optical Depth\",\"major_label_policy\":{\"type\":\"object\",\"name\":\"AllLabels\",\"id\":\"p1162\"}}}],\"center\":[{\"type\":\"object\",\"name\":\"Grid\",\"id\":\"p1163\",\"attributes\":{\"axis\":{\"id\":\"p1159\"}}},{\"type\":\"object\",\"name\":\"Grid\",\"id\":\"p1168\",\"attributes\":{\"dimension\":1,\"axis\":{\"id\":\"p1164\"}}}]}},0,0],[{\"type\":\"object\",\"name\":\"Figure\",\"id\":\"p1081\",\"attributes\":{\"width\":300,\"height\":300,\"x_range\":{\"type\":\"object\",\"name\":\"DataRange1d\",\"id\":\"p1083\"},\"y_range\":{\"type\":\"object\",\"name\":\"Range1d\",\"id\":\"p1090\",\"attributes\":{\"start\":59.4448565,\"end\":0.00019140000000000002}},\"x_scale\":{\"type\":\"object\",\"name\":\"LinearScale\",\"id\":\"p1091\"},\"y_scale\":{\"type\":\"object\",\"name\":\"LogScale\",\"id\":\"p1092\"},\"title\":{\"type\":\"object\",\"name\":\"Title\",\"id\":\"p1088\"},\"renderers\":[{\"type\":\"object\",\"name\":\"GlyphRenderer\",\"id\":\"p1204\",\"attributes\":{\"data_source\":{\"type\":\"object\",\"name\":\"ColumnDataSource\",\"id\":\"p1198\",\"attributes\":{\"selected\":{\"type\":\"object\",\"name\":\"Selection\",\"id\":\"p1199\",\"attributes\":{\"indices\":[],\"line_indices\":[]}},\"selection_policy\":{\"type\":\"object\",\"name\":\"UnionRenderers\",\"id\":\"p1200\"},\"data\":{\"type\":\"map\",\"entries\":[[\"x\",{\"type\":\"ndarray\",\"array\":{\"type\":\"bytes\",\"data\":\"1FEZ0+eP7z+GJemCrIDvP728qnIKcO8/Jiy0vupd7z9mARw1KkrvP6CVKmmyNO8/J4tLu3Yd7z+c6i0xZwTvP0Zo5sSL6e4/rVTuk/XM7j9vBzE60a7uPw2F78Fgj+4/E2fswO9u7j+D331u4E3uPy+QJI2tLO4/fNGdL68L7j9KUvLAO+vtP9Rcrxm3y+0/PDlMS2qt7T+T0ZeOiZDtPzces388de0/8zQsGpxb7T8soMZqskPtP9bOpMJ/Le0/D5Hz+P0Y7T/x9/ApGQbtP3ElPOy79Ow/UaHaJ9Xk7D9RmmzQTNbsP0Z0hwkRyew/Kcq6Zw+97D/TNmToL7LsP1Rbuc1cqOw/VmF4+n6f7D/d9HYggpfsP3P5UQTjj+w/vBURf+KI7D8gpApeLYPsPx+kqrBEXuw/xGfcwhM57D9RFyaVaTTsP5AfcDPQL+w/eZVIExkr7D9JY7MG3CXsP68LLa0qH+w/Vm6fYlQW7D9WvPkXYxLsP18Go5yyD+w/oPmaN2oN7D8duk6flAvsP21+wFUJCuw/RgCHu7UI7D8qrZ1MtQfsPwEgAxHuBuw/A+cA0QAG7D/UetLxpATsP93+3QPMAuw/QEC3+HQA7D/Nz5umiv3rP6QlwOEI+us/Guh8/O/16z+WGDUbKPHrP4dQnU7J6+s/SUddsBDm6z/jAhuoHeDrP7bYiQ8B2us/UyfcPLzT6z+DlqNgUM3rP6p3t9/Gxus/2iegR1fA6z/g95cdXLrrP40yXrpftes/ccKbb4i16z9xwptviLXrP3HCm2+Ites/AAAAAAAAAAAAAAAAAAAAAAAAAAAAAAAAAAAAAAAAAAAAAAAAAAAAAAAAAAAAAAAAAAAAAAAAAAAAAAAAAAAAAAAAAAAAAAAAAAAAAAAAAAAAAAAAAAAAAAAAAAAAAAAAAAAAAAAAAAAAAAAAAAAAAAAAAAAAAAAA\"},\"shape\":[90],\"dtype\":\"float64\",\"order\":\"little\"}],[\"y\",{\"type\":\"ndarray\",\"array\":{\"type\":\"bytes\",\"data\":\"0dYce1EWKT+ZaVYRyessP/lahu5IqzA/k7quqT02Mz/ZhwZzBSU2P+7MBMO5hjk/vz9KkSFsPT/a4a/JGvVAPwL0+/7Ni0M/oB+hwQGIRj/YbhaKz/hJP3ttkQ/V700/en/NgwVBUT8vRD0zd+NTP6uYSj/h7FY/ficcMP5sWj9v57Ec13VeP/JdSl0yjmE/MtXdhmI8ZD/EIitkU1NnP60mPi314mo/ZN3TMNf9bj9DfSZWodxxP4ncwqnFlnQ/BqYudIC7dz9V10bhH1t7P2Wire9oiH8/1x5R/HMsgj9MQtjfyPKEPzyxPWmXJYg/aUVAKmrViz/WU6uvrgqQP7Y8xWC0fZI/Kq0a33JQlT9eSl0yjpGYP/RqJRneUZw/T5ph/mVSoD/cWQV7XdCiP3V2jfG8r6U/bXGNz2T/qD+Z9PdSeNCsPx1jOOhcm7A/e9tMhXgksz+Jbqx6rxC2P5qLCXskb7k/ZFkw8UdRvT/yVCwjmuXAP9adOMoLesM//sQSIFRzxj8s8uuH2ODJP53y6EZY1M0/Ekza+SMx0T+dR8X/HdHTP4ggvZex19Y/E6tQ7ohU2j9AQK1YslneP63tNyT/feE/ecK3VbUp5D/eoRekzz3nP+BrY0c+yuo/IxQAiGDh7j8KFuLsMczxP1CavLfYg/Q/8E4+Pbal9z/6fg8DAkL7P+wX7IZta/8/kL8PYsIbAkBdXsoKj98EQLw3K0dtDwhAC2t0GN27C0DlNPqH4/cPQLXu1X22bBJAyIkbXN88FUDBSvTo/HoYQH96fffYNxxA73eDw2ZDIEDAhMCAFL8iQKeIHdfQmyVAvWU9a23oKECz8iYa/7UsQEasDzUbjDBAx9nPveISM0DPOMPDavw1QPkboyvHVzlAqD5GL1k2PUDGzsqsFNZAQIdZw6AnaENAyKe2irReRkC7KeW1EslJQN50yw7xuE1A\"},\"shape\":[90],\"dtype\":\"float64\",\"order\":\"little\"}]]}}},\"view\":{\"type\":\"object\",\"name\":\"CDSView\",\"id\":\"p1205\",\"attributes\":{\"filter\":{\"type\":\"object\",\"name\":\"AllIndices\",\"id\":\"p1206\"}}},\"glyph\":{\"type\":\"object\",\"name\":\"Line\",\"id\":\"p1201\",\"attributes\":{\"x\":{\"type\":\"field\",\"field\":\"x\"},\"y\":{\"type\":\"field\",\"field\":\"y\"},\"line_color\":\"#0072B2\",\"line_width\":3}},\"nonselection_glyph\":{\"type\":\"object\",\"name\":\"Line\",\"id\":\"p1202\",\"attributes\":{\"x\":{\"type\":\"field\",\"field\":\"x\"},\"y\":{\"type\":\"field\",\"field\":\"y\"},\"line_color\":\"#0072B2\",\"line_alpha\":0.1,\"line_width\":3}},\"muted_glyph\":{\"type\":\"object\",\"name\":\"Line\",\"id\":\"p1203\",\"attributes\":{\"x\":{\"type\":\"field\",\"field\":\"x\"},\"y\":{\"type\":\"field\",\"field\":\"y\"},\"line_color\":\"#0072B2\",\"line_alpha\":0.2,\"line_width\":3}}}},{\"type\":\"object\",\"name\":\"GlyphRenderer\",\"id\":\"p1233\",\"attributes\":{\"data_source\":{\"type\":\"object\",\"name\":\"ColumnDataSource\",\"id\":\"p1227\",\"attributes\":{\"selected\":{\"type\":\"object\",\"name\":\"Selection\",\"id\":\"p1228\",\"attributes\":{\"indices\":[],\"line_indices\":[]}},\"selection_policy\":{\"type\":\"object\",\"name\":\"UnionRenderers\",\"id\":\"p1229\"},\"data\":{\"type\":\"map\",\"entries\":[[\"x\",{\"type\":\"ndarray\",\"array\":{\"type\":\"bytes\",\"data\":\"rGd3oDrR7z/pzydljcrvPzZJXnGixu8/9KoxcPXB7z+WZC5Ad7zvP0/qauZatu8/DKc+Bq+v7z/h0NTvd6jvPwZs11K4oO8/f6mQrXKY7z/GNEEsq4/vP6A8p21nhu8/cJU3Ca187z93js9fhnLvPxackjgLaO8/PzNSeTpd7z95CtspG1LvPx9HpaHPRu8/dM6L03E77z9jm81GHTDvP0qkBrvuJO8/IYC22gQa7z96WSXdeQ/vP0cW8CpnBe8/XKscGun77j9G60McBvPuP50jEKjH6u4/c9PMyjfj7j9Tu+T8WdzuP6qTbx0q1u4/nF8diqHQ7j9tz30wt8vuP1+hcqZkx+4/A6KSPJ3D7j905OpQVMDuP+a5aWV/ve4/LQzkZxO77j9du8P4ArnuP3Z1yt8/t+4/vO4uIcC17j8NCWIgdbTuP/okhSxRs+4/D73uTjuy7j+2WRYGCLHuP+DwIQFgr+4/BIwto/as7j/dMOMSI6zuP8rolvOpq+4/scXmXTOr7j+hV/KMvaruP9BgDGNNqu4/3YjGi+mp7j80XcfohKnuP3OXHPYnqe4/nNCqHfKo7j/QG/55/qjuP1ZFEilOqe4/nfCLut2p7j+JzoNisqruPwlruzfHq+4/XDQp/Ret7j9NV/x7oa7uP2wVmhJdsO4/+i9/sTiy7j+TuVxnILTuP1QLkh8Otu4/n/3rA/+37j/QWWuJ8rnuP/Y9a23lu+4/YxRAqse97j9wwsjGhb/uP3d6Zj0Cwe4/yssKHzn57D/KywofOfnsP8rLCh85+ew/AAAAAAAAAAAAAAAAAAAAAAAAAAAAAAAAAAAAAAAAAAAAAAAAAAAAAAAAAAAAAAAAAAAAAAAAAAAAAAAAAAAAAAAAAAAAAAAAAAAAAAAAAAAAAAAAAAAAAAAAAAAAAAAAAAAAAAAAAAAAAAAAAAAAAAAAAAAAAAAA\"},\"shape\":[90],\"dtype\":\"float64\",\"order\":\"little\"}],[\"y\",{\"type\":\"ndarray\",\"array\":{\"type\":\"bytes\",\"data\":\"0dYce1EWKT+ZaVYRyessP/lahu5IqzA/k7quqT02Mz/ZhwZzBSU2P+7MBMO5hjk/vz9KkSFsPT/a4a/JGvVAPwL0+/7Ni0M/oB+hwQGIRj/YbhaKz/hJP3ttkQ/V700/en/NgwVBUT8vRD0zd+NTP6uYSj/h7FY/ficcMP5sWj9v57Ec13VeP/JdSl0yjmE/MtXdhmI8ZD/EIitkU1NnP60mPi314mo/ZN3TMNf9bj9DfSZWodxxP4ncwqnFlnQ/BqYudIC7dz9V10bhH1t7P2Wire9oiH8/1x5R/HMsgj9MQtjfyPKEPzyxPWmXJYg/aUVAKmrViz/WU6uvrgqQP7Y8xWC0fZI/Kq0a33JQlT9eSl0yjpGYP/RqJRneUZw/T5ph/mVSoD/cWQV7XdCiP3V2jfG8r6U/bXGNz2T/qD+Z9PdSeNCsPx1jOOhcm7A/e9tMhXgksz+Jbqx6rxC2P5qLCXskb7k/ZFkw8UdRvT/yVCwjmuXAP9adOMoLesM//sQSIFRzxj8s8uuH2ODJP53y6EZY1M0/Ekza+SMx0T+dR8X/HdHTP4ggvZex19Y/E6tQ7ohU2j9AQK1YslneP63tNyT/feE/ecK3VbUp5D/eoRekzz3nP+BrY0c+yuo/IxQAiGDh7j8KFuLsMczxP1CavLfYg/Q/8E4+Pbal9z/6fg8DAkL7P+wX7IZta/8/kL8PYsIbAkBdXsoKj98EQLw3K0dtDwhAC2t0GN27C0DlNPqH4/cPQLXu1X22bBJAyIkbXN88FUDBSvTo/HoYQH96fffYNxxA73eDw2ZDIEDAhMCAFL8iQKeIHdfQmyVAvWU9a23oKECz8iYa/7UsQEasDzUbjDBAx9nPveISM0DPOMPDavw1QPkboyvHVzlAqD5GL1k2PUDGzsqsFNZAQIdZw6AnaENAyKe2irReRkC7KeW1EslJQN50yw7xuE1A\"},\"shape\":[90],\"dtype\":\"float64\",\"order\":\"little\"}]]}}},\"view\":{\"type\":\"object\",\"name\":\"CDSView\",\"id\":\"p1234\",\"attributes\":{\"filter\":{\"type\":\"object\",\"name\":\"AllIndices\",\"id\":\"p1235\"}}},\"glyph\":{\"type\":\"object\",\"name\":\"Line\",\"id\":\"p1230\",\"attributes\":{\"x\":{\"type\":\"field\",\"field\":\"x\"},\"y\":{\"type\":\"field\",\"field\":\"y\"},\"line_color\":\"#E69F00\",\"line_width\":3}},\"nonselection_glyph\":{\"type\":\"object\",\"name\":\"Line\",\"id\":\"p1231\",\"attributes\":{\"x\":{\"type\":\"field\",\"field\":\"x\"},\"y\":{\"type\":\"field\",\"field\":\"y\"},\"line_color\":\"#E69F00\",\"line_alpha\":0.1,\"line_width\":3}},\"muted_glyph\":{\"type\":\"object\",\"name\":\"Line\",\"id\":\"p1232\",\"attributes\":{\"x\":{\"type\":\"field\",\"field\":\"x\"},\"y\":{\"type\":\"field\",\"field\":\"y\"},\"line_color\":\"#E69F00\",\"line_alpha\":0.2,\"line_width\":3}}}},{\"type\":\"object\",\"name\":\"GlyphRenderer\",\"id\":\"p1261\",\"attributes\":{\"data_source\":{\"type\":\"object\",\"name\":\"ColumnDataSource\",\"id\":\"p1255\",\"attributes\":{\"selected\":{\"type\":\"object\",\"name\":\"Selection\",\"id\":\"p1256\",\"attributes\":{\"indices\":[],\"line_indices\":[]}},\"selection_policy\":{\"type\":\"object\",\"name\":\"UnionRenderers\",\"id\":\"p1257\"},\"data\":{\"type\":\"map\",\"entries\":[[\"x\",{\"type\":\"ndarray\",\"array\":{\"type\":\"bytes\",\"data\":\"jMdgYmnn7z+5qlGyGuXvP1lWg25g4u8/k9D+vFzf7z8T5Ba77NvvP3PeTfzg1+8/CrcqzFPT7z+UphFYWM7vP+qNkrKzyO8/mdCAiqrC7z/kiYg8CLzvP6zNY7fetO8/14xWlGmt7z/DxQn3UaXvPzAplIXenO8/Vn1ECwuU7z/P5C4NFIvvPxaP5yW+ge8/0zFq4j147z9tGl1t0m7vP01Ppn8GZe8/gW47kTNb7z/P3q17VlHvP4wzrUuNR+8/XNgYJ/o97z/gdu9nljTvP2fO19R3K+8/JJLDiKEi7z+RK1uJXxrvP63rFcXJEe8/macVGtcJ7z8KT6etaALvP8erOlaf++4/SoBz5XP17j/2eGkYxO/uP7Gpa+yL6u4/t0MhS4Xl7j+wC5elquDuP2Td4YlL3O4/U/nnwTfY7j+twm+4XNTuP7Y6yj7O0O4/weswjGLN7j88lttz3cnuPx353DGSxe4/3TKEIc6/7j/m4jk9qrzuP/w3GYZCuu4/x7EVzFC37j+ZvPzwA7XuP5qQS/B+s+4/1sDn+Ruy7j9Elnue4K/uP0/yq9Nbr+4/SVHftmaw7j/Z6+VribLuP72xlzqCtO4/APLWPgi37j99Isj/D7ruPyanx+wQve4/FOgTSVPA7j/UkuQ+KsTuP8StsqPtxu4/7EcYw9jI7j9QQOV4WcruPzeTD8PMy+4/JhHykzzN7j+zmrMOrc7uP3TS2BDmz+4/ULKOJ/vP7j+3I2MmL8/uP7wlT0cLze4/d6SRM0AG7T95pJEzQAbtP3mkkTNABu0/AAAAAAAAAAAAAAAAAAAAAAAAAAAAAAAAAAAAAAAAAAAAAAAAAAAAAAAAAAAAAAAAAAAAAAAAAAAAAAAAAAAAAAAAAAAAAAAAAAAAAAAAAAAAAAAAAAAAAAAAAAAAAAAAAAAAAAAAAAAAAAAAAAAAAAAAAAAAAAAA\"},\"shape\":[90],\"dtype\":\"float64\",\"order\":\"little\"}],[\"y\",{\"type\":\"ndarray\",\"array\":{\"type\":\"bytes\",\"data\":\"0dYce1EWKT+ZaVYRyessP/lahu5IqzA/k7quqT02Mz/ZhwZzBSU2P+7MBMO5hjk/vz9KkSFsPT/a4a/JGvVAPwL0+/7Ni0M/oB+hwQGIRj/YbhaKz/hJP3ttkQ/V700/en/NgwVBUT8vRD0zd+NTP6uYSj/h7FY/ficcMP5sWj9v57Ec13VeP/JdSl0yjmE/MtXdhmI8ZD/EIitkU1NnP60mPi314mo/ZN3TMNf9bj9DfSZWodxxP4ncwqnFlnQ/BqYudIC7dz9V10bhH1t7P2Wire9oiH8/1x5R/HMsgj9MQtjfyPKEPzyxPWmXJYg/aUVAKmrViz/WU6uvrgqQP7Y8xWC0fZI/Kq0a33JQlT9eSl0yjpGYP/RqJRneUZw/T5ph/mVSoD/cWQV7XdCiP3V2jfG8r6U/bXGNz2T/qD+Z9PdSeNCsPx1jOOhcm7A/e9tMhXgksz+Jbqx6rxC2P5qLCXskb7k/ZFkw8UdRvT/yVCwjmuXAP9adOMoLesM//sQSIFRzxj8s8uuH2ODJP53y6EZY1M0/Ekza+SMx0T+dR8X/HdHTP4ggvZex19Y/E6tQ7ohU2j9AQK1YslneP63tNyT/feE/ecK3VbUp5D/eoRekzz3nP+BrY0c+yuo/IxQAiGDh7j8KFuLsMczxP1CavLfYg/Q/8E4+Pbal9z/6fg8DAkL7P+wX7IZta/8/kL8PYsIbAkBdXsoKj98EQLw3K0dtDwhAC2t0GN27C0DlNPqH4/cPQLXu1X22bBJAyIkbXN88FUDBSvTo/HoYQH96fffYNxxA73eDw2ZDIEDAhMCAFL8iQKeIHdfQmyVAvWU9a23oKECz8iYa/7UsQEasDzUbjDBAx9nPveISM0DPOMPDavw1QPkboyvHVzlAqD5GL1k2PUDGzsqsFNZAQIdZw6AnaENAyKe2irReRkC7KeW1EslJQN50yw7xuE1A\"},\"shape\":[90],\"dtype\":\"float64\",\"order\":\"little\"}]]}}},\"view\":{\"type\":\"object\",\"name\":\"CDSView\",\"id\":\"p1262\",\"attributes\":{\"filter\":{\"type\":\"object\",\"name\":\"AllIndices\",\"id\":\"p1263\"}}},\"glyph\":{\"type\":\"object\",\"name\":\"Line\",\"id\":\"p1258\",\"attributes\":{\"x\":{\"type\":\"field\",\"field\":\"x\"},\"y\":{\"type\":\"field\",\"field\":\"y\"},\"line_color\":\"#F0E442\",\"line_width\":3}},\"nonselection_glyph\":{\"type\":\"object\",\"name\":\"Line\",\"id\":\"p1259\",\"attributes\":{\"x\":{\"type\":\"field\",\"field\":\"x\"},\"y\":{\"type\":\"field\",\"field\":\"y\"},\"line_color\":\"#F0E442\",\"line_alpha\":0.1,\"line_width\":3}},\"muted_glyph\":{\"type\":\"object\",\"name\":\"Line\",\"id\":\"p1260\",\"attributes\":{\"x\":{\"type\":\"field\",\"field\":\"x\"},\"y\":{\"type\":\"field\",\"field\":\"y\"},\"line_color\":\"#F0E442\",\"line_alpha\":0.2,\"line_width\":3}}}},{\"type\":\"object\",\"name\":\"GlyphRenderer\",\"id\":\"p1289\",\"attributes\":{\"data_source\":{\"type\":\"object\",\"name\":\"ColumnDataSource\",\"id\":\"p1283\",\"attributes\":{\"selected\":{\"type\":\"object\",\"name\":\"Selection\",\"id\":\"p1284\",\"attributes\":{\"indices\":[],\"line_indices\":[]}},\"selection_policy\":{\"type\":\"object\",\"name\":\"UnionRenderers\",\"id\":\"p1285\"},\"data\":{\"type\":\"map\",\"entries\":[[\"x\",{\"type\":\"ndarray\",\"array\":{\"type\":\"bytes\",\"data\":\"jMdgYmnn7z+5qlGyGuXvP1lWg25g4u8/k9D+vFzf7z8T5Ba77NvvP3PeTfzg1+8/CrcqzFPT7z+UphFYWM7vP+qNkrKzyO8/mdCAiqrC7z/kiYg8CLzvP6zNY7fetO8/14xWlGmt7z/DxQn3UaXvPzAplIXenO8/Vn1ECwuU7z/P5C4NFIvvPxaP5yW+ge8/0zFq4j147z9tGl1t0m7vP01Ppn8GZe8/gW47kTNb7z/P3q17VlHvP4wzrUuNR+8/XNgYJ/o97z/gdu9nljTvP2fO19R3K+8/JJLDiKEi7z+RK1uJXxrvP63rFcXJEe8/macVGtcJ7z8KT6etaALvP8erOlaf++4/SoBz5XP17j/2eGkYxO/uP7Gpa+yL6u4/t0MhS4Xl7j+wC5elquDuP2Td4YlL3O4/U/nnwTfY7j+twm+4XNTuP7Y6yj7O0O4/weswjGLN7j88lttz3cnuPx353DGSxe4/3TKEIc6/7j/m4jk9qrzuP/w3GYZCuu4/x7EVzFC37j+ZvPzwA7XuP5qQS/B+s+4/1sDn+Ruy7j9Elnue4K/uP0/yq9Nbr+4/SVHftmaw7j/Z6+VribLuP72xlzqCtO4/APLWPgi37j99Isj/D7ruPyanx+wQve4/FOgTSVPA7j/UkuQ+KsTuP8StsqPtxu4/7EcYw9jI7j9QQOV4WcruPzeTD8PMy+4/JhHykzzN7j+zmrMOrc7uP+NuyFy8se4/7CdW7RZx7j+MfSJ8tyPuP7MT5Q56ou0/d6SRM0AG7T95pJEzQAbtP3mkkTNABu0/AAAAAAAAAAAAAAAAAAAAAAAAAAAAAAAAAAAAAAAAAAAAAAAAAAAAAAAAAAAAAAAAAAAAAAAAAAAAAAAAAAAAAAAAAAAAAAAAAAAAAAAAAAAAAAAAAAAAAAAAAAAAAAAAAAAAAAAAAAAAAAAAAAAAAAAAAAAAAAAA\"},\"shape\":[90],\"dtype\":\"float64\",\"order\":\"little\"}],[\"y\",{\"type\":\"ndarray\",\"array\":{\"type\":\"bytes\",\"data\":\"0dYce1EWKT+ZaVYRyessP/lahu5IqzA/k7quqT02Mz/ZhwZzBSU2P+7MBMO5hjk/vz9KkSFsPT/a4a/JGvVAPwL0+/7Ni0M/oB+hwQGIRj/YbhaKz/hJP3ttkQ/V700/en/NgwVBUT8vRD0zd+NTP6uYSj/h7FY/ficcMP5sWj9v57Ec13VeP/JdSl0yjmE/MtXdhmI8ZD/EIitkU1NnP60mPi314mo/ZN3TMNf9bj9DfSZWodxxP4ncwqnFlnQ/BqYudIC7dz9V10bhH1t7P2Wire9oiH8/1x5R/HMsgj9MQtjfyPKEPzyxPWmXJYg/aUVAKmrViz/WU6uvrgqQP7Y8xWC0fZI/Kq0a33JQlT9eSl0yjpGYP/RqJRneUZw/T5ph/mVSoD/cWQV7XdCiP3V2jfG8r6U/bXGNz2T/qD+Z9PdSeNCsPx1jOOhcm7A/e9tMhXgksz+Jbqx6rxC2P5qLCXskb7k/ZFkw8UdRvT/yVCwjmuXAP9adOMoLesM//sQSIFRzxj8s8uuH2ODJP53y6EZY1M0/Ekza+SMx0T+dR8X/HdHTP4ggvZex19Y/E6tQ7ohU2j9AQK1YslneP63tNyT/feE/ecK3VbUp5D/eoRekzz3nP+BrY0c+yuo/IxQAiGDh7j8KFuLsMczxP1CavLfYg/Q/8E4+Pbal9z/6fg8DAkL7P+wX7IZta/8/kL8PYsIbAkBdXsoKj98EQLw3K0dtDwhAC2t0GN27C0DlNPqH4/cPQLXu1X22bBJAyIkbXN88FUDBSvTo/HoYQH96fffYNxxA73eDw2ZDIEDAhMCAFL8iQKeIHdfQmyVAvWU9a23oKECz8iYa/7UsQEasDzUbjDBAx9nPveISM0DPOMPDavw1QPkboyvHVzlAqD5GL1k2PUDGzsqsFNZAQIdZw6AnaENAyKe2irReRkC7KeW1EslJQN50yw7xuE1A\"},\"shape\":[90],\"dtype\":\"float64\",\"order\":\"little\"}]]}}},\"view\":{\"type\":\"object\",\"name\":\"CDSView\",\"id\":\"p1290\",\"attributes\":{\"filter\":{\"type\":\"object\",\"name\":\"AllIndices\",\"id\":\"p1291\"}}},\"glyph\":{\"type\":\"object\",\"name\":\"Line\",\"id\":\"p1286\",\"attributes\":{\"x\":{\"type\":\"field\",\"field\":\"x\"},\"y\":{\"type\":\"field\",\"field\":\"y\"},\"line_color\":\"#009E73\",\"line_width\":3}},\"nonselection_glyph\":{\"type\":\"object\",\"name\":\"Line\",\"id\":\"p1287\",\"attributes\":{\"x\":{\"type\":\"field\",\"field\":\"x\"},\"y\":{\"type\":\"field\",\"field\":\"y\"},\"line_color\":\"#009E73\",\"line_alpha\":0.1,\"line_width\":3}},\"muted_glyph\":{\"type\":\"object\",\"name\":\"Line\",\"id\":\"p1288\",\"attributes\":{\"x\":{\"type\":\"field\",\"field\":\"x\"},\"y\":{\"type\":\"field\",\"field\":\"y\"},\"line_color\":\"#009E73\",\"line_alpha\":0.2,\"line_width\":3}}}}],\"toolbar\":{\"type\":\"object\",\"name\":\"Toolbar\",\"id\":\"p1089\",\"attributes\":{\"tools\":[{\"id\":\"p1103\"},{\"id\":\"p1104\"},{\"id\":\"p1105\"},{\"type\":\"object\",\"name\":\"SaveTool\",\"id\":\"p1111\"},{\"id\":\"p1112\"},{\"id\":\"p1113\"}]}},\"toolbar_location\":null,\"left\":[{\"type\":\"object\",\"name\":\"LogAxis\",\"id\":\"p1098\",\"attributes\":{\"ticker\":{\"type\":\"object\",\"name\":\"LogTicker\",\"id\":\"p1099\",\"attributes\":{\"num_minor_ticks\":10,\"mantissas\":[1,5]}},\"formatter\":{\"type\":\"object\",\"name\":\"LogTickFormatter\",\"id\":\"p1100\"},\"major_label_policy\":{\"type\":\"object\",\"name\":\"AllLabels\",\"id\":\"p1101\"}}}],\"below\":[{\"type\":\"object\",\"name\":\"LinearAxis\",\"id\":\"p1093\",\"attributes\":{\"ticker\":{\"type\":\"object\",\"name\":\"BasicTicker\",\"id\":\"p1094\",\"attributes\":{\"mantissas\":[1,2,5]}},\"formatter\":{\"type\":\"object\",\"name\":\"BasicTickFormatter\",\"id\":\"p1095\"},\"axis_label\":\"Single Scattering Albedo\",\"major_label_policy\":{\"type\":\"object\",\"name\":\"AllLabels\",\"id\":\"p1096\"}}}],\"center\":[{\"type\":\"object\",\"name\":\"Grid\",\"id\":\"p1097\",\"attributes\":{\"axis\":{\"id\":\"p1093\"}}},{\"type\":\"object\",\"name\":\"Grid\",\"id\":\"p1102\",\"attributes\":{\"dimension\":1,\"axis\":{\"id\":\"p1098\"}}},{\"type\":\"object\",\"name\":\"Legend\",\"id\":\"p1207\",\"attributes\":{\"location\":\"top_left\",\"items\":[{\"type\":\"object\",\"name\":\"LegendItem\",\"id\":\"p1208\",\"attributes\":{\"label\":{\"type\":\"value\",\"value\":\"Constant\"},\"renderers\":[{\"id\":\"p1204\"}]}},{\"type\":\"object\",\"name\":\"LegendItem\",\"id\":\"p1236\",\"attributes\":{\"label\":{\"type\":\"value\",\"value\":\"CHF-Only\"},\"renderers\":[{\"id\":\"p1233\"}]}},{\"type\":\"object\",\"name\":\"LegendItem\",\"id\":\"p1264\",\"attributes\":{\"label\":{\"type\":\"value\",\"value\":\"CHF+Latent\"},\"renderers\":[{\"id\":\"p1261\"}]}},{\"type\":\"object\",\"name\":\"LegendItem\",\"id\":\"p1292\",\"attributes\":{\"label\":{\"type\":\"value\",\"value\":\"CFH+Latent+COS\"},\"renderers\":[{\"id\":\"p1289\"}]}}]}}]}},0,1],[{\"type\":\"object\",\"name\":\"Figure\",\"id\":\"p1114\",\"attributes\":{\"width\":300,\"height\":300,\"x_range\":{\"type\":\"object\",\"name\":\"DataRange1d\",\"id\":\"p1116\"},\"y_range\":{\"type\":\"object\",\"name\":\"Range1d\",\"id\":\"p1123\",\"attributes\":{\"start\":59.4448565,\"end\":0.00019140000000000002}},\"x_scale\":{\"type\":\"object\",\"name\":\"LinearScale\",\"id\":\"p1124\"},\"y_scale\":{\"type\":\"object\",\"name\":\"LogScale\",\"id\":\"p1125\"},\"title\":{\"type\":\"object\",\"name\":\"Title\",\"id\":\"p1121\"},\"renderers\":[{\"type\":\"object\",\"name\":\"GlyphRenderer\",\"id\":\"p1195\",\"attributes\":{\"data_source\":{\"type\":\"object\",\"name\":\"ColumnDataSource\",\"id\":\"p1189\",\"attributes\":{\"selected\":{\"type\":\"object\",\"name\":\"Selection\",\"id\":\"p1190\",\"attributes\":{\"indices\":[],\"line_indices\":[]}},\"selection_policy\":{\"type\":\"object\",\"name\":\"UnionRenderers\",\"id\":\"p1191\"},\"data\":{\"type\":\"map\",\"entries\":[[\"x\",{\"type\":\"ndarray\",\"array\":{\"type\":\"bytes\",\"data\":\"QbduWFEw5j/vkGTj03/mP9CIQncJ0OY/JwOPhLIe5z/5p4itKGrnPzeKUEUasec/ZGYQSLry5z+JPCiA2y7oP/111giMZeg/Qc3sFCOX6D9peMk/A8ToP3AupJWX7Og/QXuMTlER6T9BdiaYjDLpP2ehgc6NUOk/z7V19bBr6T+Qj84bQYTpP+pK2F9vmuk/6q2J/XGu6T/kjg5zfcDpPzyWoLS/0Ok/1Mga/WLf6T8jlA00j+zpP1BtPnpo+Ok/HCMU7g4D6j9hqpagowzqP+BqqDtDFeo/0bubRwQd6j/jQ9Sh/SPqP+/Pj7VAKuo/T+NmTd0v6j8KS2RB5DTqPwoU9A9kOeo/yhh6zmo96j9Ab05xBEHqP8NgJJBNROo/cAGi5jlH6j9hLLn/vknqP0eVGVTlWeo/2QTke8Zp6j9nuFyVqmvqPyPZCLl3beo/4797izBv6j+kiaks23DqPzkMquOEcuo/5s2BdjR06j+Mw49tenXqP2b/xHKPduo/F0Ct23p36j8BSaxzOnjqP1pUQ5DbeOo/9IkD3GV56j83H6Q2znnqPyYKMj8feuo/1gqZsX966j/a/qUDDXvqP2MGpfTMe+o/xpC/x7986j+UKkzW7X3qP28SNIJYf+o/Z/ePTP+A6j/s2YNe64LqPxTB24cSheo/cdkP4luH6j9PnT2guonqP8r+MuMnjOo/l8yFA6OO6j+c+6lqK5HqPz/QvUu9k+o/4VrB2EKW6j/DxlvomJjqPw3hwBmKmuo/6kIrQ3qa6j/sQitDeprqP+xCK0N6muo/AAAAAAAAAAAAAAAAAAAAAAAAAAAAAAAAAAAAAAAAAAAAAAAAAAAAAAAAAAAAAAAAAAAAAAAAAAAAAAAAAAAAAAAAAAAAAAAAAAAAAAAAAAAAAAAAAAAAAAAAAAAAAAAAAAAAAAAAAAAAAAAAAAAAAAAAAAAAAAAA\"},\"shape\":[90],\"dtype\":\"float64\",\"order\":\"little\"}],[\"y\",{\"type\":\"ndarray\",\"array\":{\"type\":\"bytes\",\"data\":\"0dYce1EWKT+ZaVYRyessP/lahu5IqzA/k7quqT02Mz/ZhwZzBSU2P+7MBMO5hjk/vz9KkSFsPT/a4a/JGvVAPwL0+/7Ni0M/oB+hwQGIRj/YbhaKz/hJP3ttkQ/V700/en/NgwVBUT8vRD0zd+NTP6uYSj/h7FY/ficcMP5sWj9v57Ec13VeP/JdSl0yjmE/MtXdhmI8ZD/EIitkU1NnP60mPi314mo/ZN3TMNf9bj9DfSZWodxxP4ncwqnFlnQ/BqYudIC7dz9V10bhH1t7P2Wire9oiH8/1x5R/HMsgj9MQtjfyPKEPzyxPWmXJYg/aUVAKmrViz/WU6uvrgqQP7Y8xWC0fZI/Kq0a33JQlT9eSl0yjpGYP/RqJRneUZw/T5ph/mVSoD/cWQV7XdCiP3V2jfG8r6U/bXGNz2T/qD+Z9PdSeNCsPx1jOOhcm7A/e9tMhXgksz+Jbqx6rxC2P5qLCXskb7k/ZFkw8UdRvT/yVCwjmuXAP9adOMoLesM//sQSIFRzxj8s8uuH2ODJP53y6EZY1M0/Ekza+SMx0T+dR8X/HdHTP4ggvZex19Y/E6tQ7ohU2j9AQK1YslneP63tNyT/feE/ecK3VbUp5D/eoRekzz3nP+BrY0c+yuo/IxQAiGDh7j8KFuLsMczxP1CavLfYg/Q/8E4+Pbal9z/6fg8DAkL7P+wX7IZta/8/kL8PYsIbAkBdXsoKj98EQLw3K0dtDwhAC2t0GN27C0DlNPqH4/cPQLXu1X22bBJAyIkbXN88FUDBSvTo/HoYQH96fffYNxxA73eDw2ZDIEDAhMCAFL8iQKeIHdfQmyVAvWU9a23oKECz8iYa/7UsQEasDzUbjDBAx9nPveISM0DPOMPDavw1QPkboyvHVzlAqD5GL1k2PUDGzsqsFNZAQIdZw6AnaENAyKe2irReRkC7KeW1EslJQN50yw7xuE1A\"},\"shape\":[90],\"dtype\":\"float64\",\"order\":\"little\"}]]}}},\"view\":{\"type\":\"object\",\"name\":\"CDSView\",\"id\":\"p1196\",\"attributes\":{\"filter\":{\"type\":\"object\",\"name\":\"AllIndices\",\"id\":\"p1197\"}}},\"glyph\":{\"type\":\"object\",\"name\":\"Line\",\"id\":\"p1192\",\"attributes\":{\"x\":{\"type\":\"field\",\"field\":\"x\"},\"y\":{\"type\":\"field\",\"field\":\"y\"},\"line_color\":\"#0072B2\",\"line_width\":3}},\"nonselection_glyph\":{\"type\":\"object\",\"name\":\"Line\",\"id\":\"p1193\",\"attributes\":{\"x\":{\"type\":\"field\",\"field\":\"x\"},\"y\":{\"type\":\"field\",\"field\":\"y\"},\"line_color\":\"#0072B2\",\"line_alpha\":0.1,\"line_width\":3}},\"muted_glyph\":{\"type\":\"object\",\"name\":\"Line\",\"id\":\"p1194\",\"attributes\":{\"x\":{\"type\":\"field\",\"field\":\"x\"},\"y\":{\"type\":\"field\",\"field\":\"y\"},\"line_color\":\"#0072B2\",\"line_alpha\":0.2,\"line_width\":3}}}},{\"type\":\"object\",\"name\":\"GlyphRenderer\",\"id\":\"p1224\",\"attributes\":{\"data_source\":{\"type\":\"object\",\"name\":\"ColumnDataSource\",\"id\":\"p1218\",\"attributes\":{\"selected\":{\"type\":\"object\",\"name\":\"Selection\",\"id\":\"p1219\",\"attributes\":{\"indices\":[],\"line_indices\":[]}},\"selection_policy\":{\"type\":\"object\",\"name\":\"UnionRenderers\",\"id\":\"p1220\"},\"data\":{\"type\":\"map\",\"entries\":[[\"x\",{\"type\":\"ndarray\",\"array\":{\"type\":\"bytes\",\"data\":\"e2DICdvZ5D9xXLAcv/bkP6nqfdveCOU/LFVnOZEf5T+kqvWcgzvlP6yRbNjkW+U/SMEzeVWA5T9DJ+Q3eqjlP7cF+JbX0+U/J5BrmdIB5j9sq4nVsDHmP4g7D2qnYuY/1Tg8F+6T5j8kLsFJtsTmP08kf7wV9OY/MfqYsLwh5z9jEMNLVE3nP/NqufFEduc/N05is0uc5z9G1DTdRr/nP/Blj6Au3+c/EDCGDAv85z9jOh7h+xXoP7xnq8MmLeg/P2uq06pB6D+5Uxvg0FPoP3TwM6fPY+g/jEZABdNx6D+9oh02Cn7oP8BLf3yoiOg/ysOLKtyR6D8wDZHjz5noPzNuP8ijoOg/k2bRzXym6D8N60xFe6voP+Mux564r+g/Vrbsa0yz6D96r8QgT7boP+CT5vjXuOg/nahUBvW66D+gwKm4trzoPzpagbkjvug/rGpXVUG/6D8NA4X6CMDoPxxi+fZXwOg/qsv4vx7A6D8NMhj+ocDoPwPmlD1Aweg/PbjhGt3B6D+TO1WkfsLoP5/N8BwYw+g/No4Vd6DD6D9fGrSoKcToP7PhMieoxOg/0Tw0VvHE6D9fuwWL4MToP9woWTF0xOg/g1eDlrDD6D/Qnf3ujcLoP6NEu+cRweg/E5EIC0G/6D98vA5LHr3oP1OXMz6xuug/Bou7uxG46D+6bEMHW7XoPzOYhFeVsug/BHFldsSv6D/5ELPy6KzoP2wqeGoHqug/mdAgzDen6D9sF3EfmKToP6OdDLFWoug/ektr7i0O6j96S2vuLQ7qP3pLa+4tDuo/AAAAAAAAAAAAAAAAAAAAAAAAAAAAAAAAAAAAAAAAAAAAAAAAAAAAAAAAAAAAAAAAAAAAAAAAAAAAAAAAAAAAAAAAAAAAAAAAAAAAAAAAAAAAAAAAAAAAAAAAAAAAAAAAAAAAAAAAAAAAAAAAAAAAAAAAAAAAAAAA\"},\"shape\":[90],\"dtype\":\"float64\",\"order\":\"little\"}],[\"y\",{\"type\":\"ndarray\",\"array\":{\"type\":\"bytes\",\"data\":\"0dYce1EWKT+ZaVYRyessP/lahu5IqzA/k7quqT02Mz/ZhwZzBSU2P+7MBMO5hjk/vz9KkSFsPT/a4a/JGvVAPwL0+/7Ni0M/oB+hwQGIRj/YbhaKz/hJP3ttkQ/V700/en/NgwVBUT8vRD0zd+NTP6uYSj/h7FY/ficcMP5sWj9v57Ec13VeP/JdSl0yjmE/MtXdhmI8ZD/EIitkU1NnP60mPi314mo/ZN3TMNf9bj9DfSZWodxxP4ncwqnFlnQ/BqYudIC7dz9V10bhH1t7P2Wire9oiH8/1x5R/HMsgj9MQtjfyPKEPzyxPWmXJYg/aUVAKmrViz/WU6uvrgqQP7Y8xWC0fZI/Kq0a33JQlT9eSl0yjpGYP/RqJRneUZw/T5ph/mVSoD/cWQV7XdCiP3V2jfG8r6U/bXGNz2T/qD+Z9PdSeNCsPx1jOOhcm7A/e9tMhXgksz+Jbqx6rxC2P5qLCXskb7k/ZFkw8UdRvT/yVCwjmuXAP9adOMoLesM//sQSIFRzxj8s8uuH2ODJP53y6EZY1M0/Ekza+SMx0T+dR8X/HdHTP4ggvZex19Y/E6tQ7ohU2j9AQK1YslneP63tNyT/feE/ecK3VbUp5D/eoRekzz3nP+BrY0c+yuo/IxQAiGDh7j8KFuLsMczxP1CavLfYg/Q/8E4+Pbal9z/6fg8DAkL7P+wX7IZta/8/kL8PYsIbAkBdXsoKj98EQLw3K0dtDwhAC2t0GN27C0DlNPqH4/cPQLXu1X22bBJAyIkbXN88FUDBSvTo/HoYQH96fffYNxxA73eDw2ZDIEDAhMCAFL8iQKeIHdfQmyVAvWU9a23oKECz8iYa/7UsQEasDzUbjDBAx9nPveISM0DPOMPDavw1QPkboyvHVzlAqD5GL1k2PUDGzsqsFNZAQIdZw6AnaENAyKe2irReRkC7KeW1EslJQN50yw7xuE1A\"},\"shape\":[90],\"dtype\":\"float64\",\"order\":\"little\"}]]}}},\"view\":{\"type\":\"object\",\"name\":\"CDSView\",\"id\":\"p1225\",\"attributes\":{\"filter\":{\"type\":\"object\",\"name\":\"AllIndices\",\"id\":\"p1226\"}}},\"glyph\":{\"type\":\"object\",\"name\":\"Line\",\"id\":\"p1221\",\"attributes\":{\"x\":{\"type\":\"field\",\"field\":\"x\"},\"y\":{\"type\":\"field\",\"field\":\"y\"},\"line_color\":\"#E69F00\",\"line_width\":3}},\"nonselection_glyph\":{\"type\":\"object\",\"name\":\"Line\",\"id\":\"p1222\",\"attributes\":{\"x\":{\"type\":\"field\",\"field\":\"x\"},\"y\":{\"type\":\"field\",\"field\":\"y\"},\"line_color\":\"#E69F00\",\"line_alpha\":0.1,\"line_width\":3}},\"muted_glyph\":{\"type\":\"object\",\"name\":\"Line\",\"id\":\"p1223\",\"attributes\":{\"x\":{\"type\":\"field\",\"field\":\"x\"},\"y\":{\"type\":\"field\",\"field\":\"y\"},\"line_color\":\"#E69F00\",\"line_alpha\":0.2,\"line_width\":3}}}},{\"type\":\"object\",\"name\":\"GlyphRenderer\",\"id\":\"p1252\",\"attributes\":{\"data_source\":{\"type\":\"object\",\"name\":\"ColumnDataSource\",\"id\":\"p1246\",\"attributes\":{\"selected\":{\"type\":\"object\",\"name\":\"Selection\",\"id\":\"p1247\",\"attributes\":{\"indices\":[],\"line_indices\":[]}},\"selection_policy\":{\"type\":\"object\",\"name\":\"UnionRenderers\",\"id\":\"p1248\"},\"data\":{\"type\":\"map\",\"entries\":[[\"x\",{\"type\":\"ndarray\",\"array\":{\"type\":\"bytes\",\"data\":\"9IGVrnJg5D+nBL0YnnzkP6pyRlH1keQ/If5pWcGi5D9UH6U6LbLkPwHy6uWPwuQ/OudGf9TU5D/rH/8PxunkP8ywnnEtA+U/t873hlAg5T+ODTbGU0LlP9LGS2TNaOU/j70sMhqS5T/9QbCPlL/lPxa4m74P7+U/mmedpPMf5j9JMWhNUFDmPwsYYYnTgOY/vAEKQvCv5j/oLq/oNNzmP3zkjIGTB+c/2szTlFYw5z/EqlNBlVbnP5DgO2z8eec/mi4/mFCa5z89AAvU8bfnP6G6Fkbl0uc/Ch39i2vr5z85Tf3vBgHoPxeOFRg+Fug/P1B3ntYo6D89yauBYTnoP7B2d8vSR+g//7Mx5W9U6D8BaGbPpl/oP82KMuicaeg/CmD2Mupy6D8QzauDonvoP4A4cVBDg+g/k6G/ZSqK6D/MZm6odZDoPz2KxXf0leg/fRTPeb+a6D9Rt9LIzJ7oPwde3I02oug/vNIB/0Gl6D8wdF9g+ajoPylAsId8rOg/J3OC+sGw6D9TVb7EFLToP/CnOLdBtug/DPq9cTq46D9/Tu39X7voP6YvSwMavOg/5GEwsKO66D/XQW4sn7foP585re3OtOg/X4cjTyux6D9nuCCWvazoP6ynFkZJqOg/KvgYwGCj6D+M3lkSfp3oPxlgfJwvmeg/3fuuCCmW6D8jekbwxJPoP+qhJ61xkeg/p5NtjB+P6D90xIPdx4zoP28U3OPGiug/6dy7NaSK6D9ziSAQ84voPyHVd3Bvj+g/XDMUjqkH6j9cMxSOqQfqP1wzFI6pB+o/AAAAAAAAAAAAAAAAAAAAAAAAAAAAAAAAAAAAAAAAAAAAAAAAAAAAAAAAAAAAAAAAAAAAAAAAAAAAAAAAAAAAAAAAAAAAAAAAAAAAAAAAAAAAAAAAAAAAAAAAAAAAAAAAAAAAAAAAAAAAAAAAAAAAAAAAAAAAAAAA\"},\"shape\":[90],\"dtype\":\"float64\",\"order\":\"little\"}],[\"y\",{\"type\":\"ndarray\",\"array\":{\"type\":\"bytes\",\"data\":\"0dYce1EWKT+ZaVYRyessP/lahu5IqzA/k7quqT02Mz/ZhwZzBSU2P+7MBMO5hjk/vz9KkSFsPT/a4a/JGvVAPwL0+/7Ni0M/oB+hwQGIRj/YbhaKz/hJP3ttkQ/V700/en/NgwVBUT8vRD0zd+NTP6uYSj/h7FY/ficcMP5sWj9v57Ec13VeP/JdSl0yjmE/MtXdhmI8ZD/EIitkU1NnP60mPi314mo/ZN3TMNf9bj9DfSZWodxxP4ncwqnFlnQ/BqYudIC7dz9V10bhH1t7P2Wire9oiH8/1x5R/HMsgj9MQtjfyPKEPzyxPWmXJYg/aUVAKmrViz/WU6uvrgqQP7Y8xWC0fZI/Kq0a33JQlT9eSl0yjpGYP/RqJRneUZw/T5ph/mVSoD/cWQV7XdCiP3V2jfG8r6U/bXGNz2T/qD+Z9PdSeNCsPx1jOOhcm7A/e9tMhXgksz+Jbqx6rxC2P5qLCXskb7k/ZFkw8UdRvT/yVCwjmuXAP9adOMoLesM//sQSIFRzxj8s8uuH2ODJP53y6EZY1M0/Ekza+SMx0T+dR8X/HdHTP4ggvZex19Y/E6tQ7ohU2j9AQK1YslneP63tNyT/feE/ecK3VbUp5D/eoRekzz3nP+BrY0c+yuo/IxQAiGDh7j8KFuLsMczxP1CavLfYg/Q/8E4+Pbal9z/6fg8DAkL7P+wX7IZta/8/kL8PYsIbAkBdXsoKj98EQLw3K0dtDwhAC2t0GN27C0DlNPqH4/cPQLXu1X22bBJAyIkbXN88FUDBSvTo/HoYQH96fffYNxxA73eDw2ZDIEDAhMCAFL8iQKeIHdfQmyVAvWU9a23oKECz8iYa/7UsQEasDzUbjDBAx9nPveISM0DPOMPDavw1QPkboyvHVzlAqD5GL1k2PUDGzsqsFNZAQIdZw6AnaENAyKe2irReRkC7KeW1EslJQN50yw7xuE1A\"},\"shape\":[90],\"dtype\":\"float64\",\"order\":\"little\"}]]}}},\"view\":{\"type\":\"object\",\"name\":\"CDSView\",\"id\":\"p1253\",\"attributes\":{\"filter\":{\"type\":\"object\",\"name\":\"AllIndices\",\"id\":\"p1254\"}}},\"glyph\":{\"type\":\"object\",\"name\":\"Line\",\"id\":\"p1249\",\"attributes\":{\"x\":{\"type\":\"field\",\"field\":\"x\"},\"y\":{\"type\":\"field\",\"field\":\"y\"},\"line_color\":\"#F0E442\",\"line_width\":3}},\"nonselection_glyph\":{\"type\":\"object\",\"name\":\"Line\",\"id\":\"p1250\",\"attributes\":{\"x\":{\"type\":\"field\",\"field\":\"x\"},\"y\":{\"type\":\"field\",\"field\":\"y\"},\"line_color\":\"#F0E442\",\"line_alpha\":0.1,\"line_width\":3}},\"muted_glyph\":{\"type\":\"object\",\"name\":\"Line\",\"id\":\"p1251\",\"attributes\":{\"x\":{\"type\":\"field\",\"field\":\"x\"},\"y\":{\"type\":\"field\",\"field\":\"y\"},\"line_color\":\"#F0E442\",\"line_alpha\":0.2,\"line_width\":3}}}},{\"type\":\"object\",\"name\":\"GlyphRenderer\",\"id\":\"p1280\",\"attributes\":{\"data_source\":{\"type\":\"object\",\"name\":\"ColumnDataSource\",\"id\":\"p1274\",\"attributes\":{\"selected\":{\"type\":\"object\",\"name\":\"Selection\",\"id\":\"p1275\",\"attributes\":{\"indices\":[],\"line_indices\":[]}},\"selection_policy\":{\"type\":\"object\",\"name\":\"UnionRenderers\",\"id\":\"p1276\"},\"data\":{\"type\":\"map\",\"entries\":[[\"x\",{\"type\":\"ndarray\",\"array\":{\"type\":\"bytes\",\"data\":\"9IGVrnJg5D+nBL0YnnzkP6pyRlH1keQ/If5pWcGi5D9UH6U6LbLkPwHy6uWPwuQ/OudGf9TU5D/rH/8PxunkP8ywnnEtA+U/t873hlAg5T+ODTbGU0LlP9LGS2TNaOU/j70sMhqS5T/9QbCPlL/lPxa4m74P7+U/mmedpPMf5j9JMWhNUFDmPwsYYYnTgOY/vAEKQvCv5j/oLq/oNNzmP3zkjIGTB+c/2szTlFYw5z/EqlNBlVbnP5DgO2z8eec/mi4/mFCa5z89AAvU8bfnP6G6Fkbl0uc/Ch39i2vr5z85Tf3vBgHoPxeOFRg+Fug/P1B3ntYo6D89yauBYTnoP7B2d8vSR+g//7Mx5W9U6D8BaGbPpl/oP82KMuicaeg/CmD2Mupy6D8QzauDonvoP4A4cVBDg+g/k6G/ZSqK6D/MZm6odZDoPz2KxXf0leg/fRTPeb+a6D9Rt9LIzJ7oPwde3I02oug/vNIB/0Gl6D8wdF9g+ajoPylAsId8rOg/J3OC+sGw6D9TVb7EFLToP/CnOLdBtug/DPq9cTq46D9/Tu39X7voP6YvSwMavOg/5GEwsKO66D/XQW4sn7foP585re3OtOg/X4cjTyux6D9nuCCWvazoP6ynFkZJqOg/KvgYwGCj6D+M3lkSfp3oPxlgfJwvmeg/3fuuCCmW6D8jekbwxJPoP+qhJ61xkeg/p5NtjB+P6D90xIPdx4zoP/0vNtbBuOg/gbRXj4II6T8jnc9qOFLpPxBydDcKsOk/XDMUjqkH6j9cMxSOqQfqP1wzFI6pB+o/AAAAAAAAAAAAAAAAAAAAAAAAAAAAAAAAAAAAAAAAAAAAAAAAAAAAAAAAAAAAAAAAAAAAAAAAAAAAAAAAAAAAAAAAAAAAAAAAAAAAAAAAAAAAAAAAAAAAAAAAAAAAAAAAAAAAAAAAAAAAAAAAAAAAAAAAAAAAAAAA\"},\"shape\":[90],\"dtype\":\"float64\",\"order\":\"little\"}],[\"y\",{\"type\":\"ndarray\",\"array\":{\"type\":\"bytes\",\"data\":\"0dYce1EWKT+ZaVYRyessP/lahu5IqzA/k7quqT02Mz/ZhwZzBSU2P+7MBMO5hjk/vz9KkSFsPT/a4a/JGvVAPwL0+/7Ni0M/oB+hwQGIRj/YbhaKz/hJP3ttkQ/V700/en/NgwVBUT8vRD0zd+NTP6uYSj/h7FY/ficcMP5sWj9v57Ec13VeP/JdSl0yjmE/MtXdhmI8ZD/EIitkU1NnP60mPi314mo/ZN3TMNf9bj9DfSZWodxxP4ncwqnFlnQ/BqYudIC7dz9V10bhH1t7P2Wire9oiH8/1x5R/HMsgj9MQtjfyPKEPzyxPWmXJYg/aUVAKmrViz/WU6uvrgqQP7Y8xWC0fZI/Kq0a33JQlT9eSl0yjpGYP/RqJRneUZw/T5ph/mVSoD/cWQV7XdCiP3V2jfG8r6U/bXGNz2T/qD+Z9PdSeNCsPx1jOOhcm7A/e9tMhXgksz+Jbqx6rxC2P5qLCXskb7k/ZFkw8UdRvT/yVCwjmuXAP9adOMoLesM//sQSIFRzxj8s8uuH2ODJP53y6EZY1M0/Ekza+SMx0T+dR8X/HdHTP4ggvZex19Y/E6tQ7ohU2j9AQK1YslneP63tNyT/feE/ecK3VbUp5D/eoRekzz3nP+BrY0c+yuo/IxQAiGDh7j8KFuLsMczxP1CavLfYg/Q/8E4+Pbal9z/6fg8DAkL7P+wX7IZta/8/kL8PYsIbAkBdXsoKj98EQLw3K0dtDwhAC2t0GN27C0DlNPqH4/cPQLXu1X22bBJAyIkbXN88FUDBSvTo/HoYQH96fffYNxxA73eDw2ZDIEDAhMCAFL8iQKeIHdfQmyVAvWU9a23oKECz8iYa/7UsQEasDzUbjDBAx9nPveISM0DPOMPDavw1QPkboyvHVzlAqD5GL1k2PUDGzsqsFNZAQIdZw6AnaENAyKe2irReRkC7KeW1EslJQN50yw7xuE1A\"},\"shape\":[90],\"dtype\":\"float64\",\"order\":\"little\"}]]}}},\"view\":{\"type\":\"object\",\"name\":\"CDSView\",\"id\":\"p1281\",\"attributes\":{\"filter\":{\"type\":\"object\",\"name\":\"AllIndices\",\"id\":\"p1282\"}}},\"glyph\":{\"type\":\"object\",\"name\":\"Line\",\"id\":\"p1277\",\"attributes\":{\"x\":{\"type\":\"field\",\"field\":\"x\"},\"y\":{\"type\":\"field\",\"field\":\"y\"},\"line_color\":\"#009E73\",\"line_width\":3}},\"nonselection_glyph\":{\"type\":\"object\",\"name\":\"Line\",\"id\":\"p1278\",\"attributes\":{\"x\":{\"type\":\"field\",\"field\":\"x\"},\"y\":{\"type\":\"field\",\"field\":\"y\"},\"line_color\":\"#009E73\",\"line_alpha\":0.1,\"line_width\":3}},\"muted_glyph\":{\"type\":\"object\",\"name\":\"Line\",\"id\":\"p1279\",\"attributes\":{\"x\":{\"type\":\"field\",\"field\":\"x\"},\"y\":{\"type\":\"field\",\"field\":\"y\"},\"line_color\":\"#009E73\",\"line_alpha\":0.2,\"line_width\":3}}}}],\"toolbar\":{\"type\":\"object\",\"name\":\"Toolbar\",\"id\":\"p1122\",\"attributes\":{\"tools\":[{\"id\":\"p1136\"},{\"id\":\"p1137\"},{\"id\":\"p1138\"},{\"type\":\"object\",\"name\":\"SaveTool\",\"id\":\"p1144\"},{\"id\":\"p1145\"},{\"id\":\"p1146\"}]}},\"toolbar_location\":null,\"left\":[{\"type\":\"object\",\"name\":\"LogAxis\",\"id\":\"p1131\",\"attributes\":{\"ticker\":{\"type\":\"object\",\"name\":\"LogTicker\",\"id\":\"p1132\",\"attributes\":{\"num_minor_ticks\":10,\"mantissas\":[1,5]}},\"formatter\":{\"type\":\"object\",\"name\":\"LogTickFormatter\",\"id\":\"p1133\"},\"major_label_policy\":{\"type\":\"object\",\"name\":\"AllLabels\",\"id\":\"p1134\"}}}],\"below\":[{\"type\":\"object\",\"name\":\"LinearAxis\",\"id\":\"p1126\",\"attributes\":{\"ticker\":{\"type\":\"object\",\"name\":\"BasicTicker\",\"id\":\"p1127\",\"attributes\":{\"mantissas\":[1,2,5]}},\"formatter\":{\"type\":\"object\",\"name\":\"BasicTickFormatter\",\"id\":\"p1128\"},\"axis_label\":\"Asymmetry\",\"major_label_policy\":{\"type\":\"object\",\"name\":\"AllLabels\",\"id\":\"p1129\"}}}],\"center\":[{\"type\":\"object\",\"name\":\"Grid\",\"id\":\"p1130\",\"attributes\":{\"axis\":{\"id\":\"p1126\"}}},{\"type\":\"object\",\"name\":\"Grid\",\"id\":\"p1135\",\"attributes\":{\"dimension\":1,\"axis\":{\"id\":\"p1131\"}}}]}},0,2]]}}]}};\n",
       "  const render_items = [{\"docid\":\"a760b11f-8473-4405-a92a-418f46b8ca60\",\"roots\":{\"p1300\":\"ed169adb-7b64-4d28-bd8e-7dc8ac57ee3b\"},\"root_ids\":[\"p1300\"]}];\n",
       "  root.Bokeh.embed.embed_items_notebook(docs_json, render_items);\n",
       "  }\n",
       "  if (root.Bokeh !== undefined) {\n",
       "    embed_document(root);\n",
       "  } else {\n",
       "    let attempts = 0;\n",
       "    const timer = setInterval(function(root) {\n",
       "      if (root.Bokeh !== undefined) {\n",
       "        clearInterval(timer);\n",
       "        embed_document(root);\n",
       "      } else {\n",
       "        attempts++;\n",
       "        if (attempts > 100) {\n",
       "          clearInterval(timer);\n",
       "          console.log(\"Bokeh: ERROR: Unable to run BokehJS code because BokehJS library is missing\");\n",
       "        }\n",
       "      }\n",
       "    }, 10, root)\n",
       "  }\n",
       "})(window);"
      ],
      "application/vnd.bokehjs_exec.v0+json": ""
     },
     "metadata": {
      "application/vnd.bokehjs_exec.v0+json": {
       "id": "p1300"
      }
     },
     "output_type": "display_data"
    }
   ],
   "source": [
    "show(jpi.all_optics_1d([out_constant, out_chf, out_latent, out_latent_cos ], wave_range=[0.3,1],\n",
    "                       legend = legend))"
   ]
  },
  {
   "cell_type": "markdown",
   "metadata": {},
   "source": [
    "## More informed: Input K$_z$ from external model \n",
    "\n",
    "(e.g. Global Circulation Model) "
   ]
  },
  {
   "cell_type": "code",
   "execution_count": 11,
   "metadata": {},
   "outputs": [],
   "source": [
    "df = jdi.hot_jupiter()\n",
    "\n",
    "sum_planet = jdi.Atmosphere(['MgSiO3','KCl'],fsed=1,mh=metallicity,\n",
    "                 mmw = mean_molecular_weight)\n",
    "sum_planet.gravity(gravity=25.00, gravity_unit=u.Unit('m/(s**2)'))\n",
    "sum_planet.ptk(df=df)\n",
    "hj_real = sum_planet.compute(directory=mieff_directory,as_dict=True)\n",
    "sum_planet.ptk(df=df.loc[:,['pressure','temperature']],constant_kz=1e10)\n",
    "hj_constant = sum_planet.compute(directory=mieff_directory,as_dict=True)"
   ]
  },
  {
   "cell_type": "markdown",
   "metadata": {},
   "source": [
    "## Analyze different $K_z$ formalism via external input\n"
   ]
  },
  {
   "cell_type": "code",
   "execution_count": 12,
   "metadata": {},
   "outputs": [
    {
     "data": {
      "text/html": [
       "\n",
       "  <div id=\"b8ce34dd-8536-4f39-ac5a-ff6ee2c10579\" data-root-id=\"p1489\" style=\"display: contents;\"></div>\n"
      ]
     },
     "metadata": {},
     "output_type": "display_data"
    },
    {
     "data": {
      "application/javascript": [
       "(function(root) {\n",
       "  function embed_document(root) {\n",
       "  const docs_json = {\"b0da1bbe-b249-470c-9a70-5b21c08e40a7\":{\"version\":\"3.3.4\",\"title\":\"Bokeh Application\",\"roots\":[{\"type\":\"object\",\"name\":\"GridPlot\",\"id\":\"p1489\",\"attributes\":{\"rows\":null,\"cols\":null,\"toolbar\":{\"type\":\"object\",\"name\":\"Toolbar\",\"id\":\"p1488\",\"attributes\":{\"tools\":[{\"type\":\"object\",\"name\":\"ToolProxy\",\"id\":\"p1482\",\"attributes\":{\"tools\":[{\"type\":\"object\",\"name\":\"PanTool\",\"id\":\"p1414\"},{\"type\":\"object\",\"name\":\"PanTool\",\"id\":\"p1348\"},{\"type\":\"object\",\"name\":\"PanTool\",\"id\":\"p1381\"}]}},{\"type\":\"object\",\"name\":\"ToolProxy\",\"id\":\"p1483\",\"attributes\":{\"tools\":[{\"type\":\"object\",\"name\":\"WheelZoomTool\",\"id\":\"p1415\",\"attributes\":{\"renderers\":\"auto\"}},{\"type\":\"object\",\"name\":\"WheelZoomTool\",\"id\":\"p1349\",\"attributes\":{\"renderers\":\"auto\"}},{\"type\":\"object\",\"name\":\"WheelZoomTool\",\"id\":\"p1382\",\"attributes\":{\"renderers\":\"auto\"}}]}},{\"type\":\"object\",\"name\":\"ToolProxy\",\"id\":\"p1484\",\"attributes\":{\"tools\":[{\"type\":\"object\",\"name\":\"BoxZoomTool\",\"id\":\"p1416\",\"attributes\":{\"overlay\":{\"type\":\"object\",\"name\":\"BoxAnnotation\",\"id\":\"p1417\",\"attributes\":{\"syncable\":false,\"level\":\"overlay\",\"visible\":false,\"left\":{\"type\":\"number\",\"value\":\"nan\"},\"right\":{\"type\":\"number\",\"value\":\"nan\"},\"top\":{\"type\":\"number\",\"value\":\"nan\"},\"bottom\":{\"type\":\"number\",\"value\":\"nan\"},\"left_units\":\"canvas\",\"right_units\":\"canvas\",\"top_units\":\"canvas\",\"bottom_units\":\"canvas\",\"line_color\":\"black\",\"line_alpha\":1.0,\"line_width\":2,\"line_dash\":[4,4],\"fill_color\":\"lightgrey\",\"fill_alpha\":0.5}}}},{\"type\":\"object\",\"name\":\"BoxZoomTool\",\"id\":\"p1350\",\"attributes\":{\"overlay\":{\"type\":\"object\",\"name\":\"BoxAnnotation\",\"id\":\"p1351\",\"attributes\":{\"syncable\":false,\"level\":\"overlay\",\"visible\":false,\"left\":{\"type\":\"number\",\"value\":\"nan\"},\"right\":{\"type\":\"number\",\"value\":\"nan\"},\"top\":{\"type\":\"number\",\"value\":\"nan\"},\"bottom\":{\"type\":\"number\",\"value\":\"nan\"},\"left_units\":\"canvas\",\"right_units\":\"canvas\",\"top_units\":\"canvas\",\"bottom_units\":\"canvas\",\"line_color\":\"black\",\"line_alpha\":1.0,\"line_width\":2,\"line_dash\":[4,4],\"fill_color\":\"lightgrey\",\"fill_alpha\":0.5}}}},{\"type\":\"object\",\"name\":\"BoxZoomTool\",\"id\":\"p1383\",\"attributes\":{\"overlay\":{\"type\":\"object\",\"name\":\"BoxAnnotation\",\"id\":\"p1384\",\"attributes\":{\"syncable\":false,\"level\":\"overlay\",\"visible\":false,\"left\":{\"type\":\"number\",\"value\":\"nan\"},\"right\":{\"type\":\"number\",\"value\":\"nan\"},\"top\":{\"type\":\"number\",\"value\":\"nan\"},\"bottom\":{\"type\":\"number\",\"value\":\"nan\"},\"left_units\":\"canvas\",\"right_units\":\"canvas\",\"top_units\":\"canvas\",\"bottom_units\":\"canvas\",\"line_color\":\"black\",\"line_alpha\":1.0,\"line_width\":2,\"line_dash\":[4,4],\"fill_color\":\"lightgrey\",\"fill_alpha\":0.5}}}}]}},{\"type\":\"object\",\"name\":\"SaveTool\",\"id\":\"p1485\"},{\"type\":\"object\",\"name\":\"ToolProxy\",\"id\":\"p1486\",\"attributes\":{\"tools\":[{\"type\":\"object\",\"name\":\"ResetTool\",\"id\":\"p1423\"},{\"type\":\"object\",\"name\":\"ResetTool\",\"id\":\"p1357\"},{\"type\":\"object\",\"name\":\"ResetTool\",\"id\":\"p1390\"}]}},{\"type\":\"object\",\"name\":\"ToolProxy\",\"id\":\"p1487\",\"attributes\":{\"tools\":[{\"type\":\"object\",\"name\":\"HelpTool\",\"id\":\"p1424\"},{\"type\":\"object\",\"name\":\"HelpTool\",\"id\":\"p1358\"},{\"type\":\"object\",\"name\":\"HelpTool\",\"id\":\"p1391\"}]}}]}},\"children\":[[{\"type\":\"object\",\"name\":\"Figure\",\"id\":\"p1392\",\"attributes\":{\"width\":300,\"height\":300,\"x_range\":{\"type\":\"object\",\"name\":\"DataRange1d\",\"id\":\"p1394\"},\"y_range\":{\"type\":\"object\",\"name\":\"Range1d\",\"id\":\"p1401\",\"attributes\":{\"start\":145.59,\"end\":2.9176000000000002e-06}},\"x_scale\":{\"type\":\"object\",\"name\":\"LogScale\",\"id\":\"p1402\"},\"y_scale\":{\"type\":\"object\",\"name\":\"LogScale\",\"id\":\"p1403\"},\"title\":{\"type\":\"object\",\"name\":\"Title\",\"id\":\"p1399\"},\"renderers\":[{\"type\":\"object\",\"name\":\"GlyphRenderer\",\"id\":\"p1431\",\"attributes\":{\"data_source\":{\"type\":\"object\",\"name\":\"ColumnDataSource\",\"id\":\"p1425\",\"attributes\":{\"selected\":{\"type\":\"object\",\"name\":\"Selection\",\"id\":\"p1426\",\"attributes\":{\"indices\":[],\"line_indices\":[]}},\"selection_policy\":{\"type\":\"object\",\"name\":\"UnionRenderers\",\"id\":\"p1427\"},\"data\":{\"type\":\"map\",\"entries\":[[\"x\",{\"type\":\"ndarray\",\"array\":{\"type\":\"bytes\",\"data\":\"I6UWZd5OcD68Y0ckKDODPgbEg/VeQo4+/MeADDXllT409U7icwGfPggG/RarSKY+13qw0ZQlsD7WUy88hIK3PhjCvGrDRsE+38WKYXWcyT7eXLkEku/SPqTUMGCmpNs+gQlRgEj04z7QTZIbPdLsPttT+LNwGfU+sVkGKQuf/z7D0PK8f10IP+FAIYKYYBM/AzB3HE/xHz9Uf2rqnk0rP9c9u3UtQzg/we6hLphmRj8XW341JVFVPx9tTOFdsmQ/fH8St3NSdD9mvpWMJwOEP7PFgZ7KsJM/FiSwC99Roz+MemzHfOayP/s5YJ/tecI/kXbP2V4Y0j8dEshuNaLhP4TDvx23ZvE/lwQ5pHBiAUCo98UkpDIRQDodMMJrgCBAjG9Yp4jSLUA5c+fVvao1QKM8oFhmNiRAtmOzE4Ur8D+2Y7MThSvgPwAAAAAAAAAAAAAAAAAAAAAAAAAAAAAAAAAAAAAAAAAAAAAAAAAAAAAAAAAAAAAAAAAAAAAAAAAAAAAAAAAAAAAAAAAAAAAAAAAAAAAAAAAAAAAAAAAAAAA=\"},\"shape\":[52],\"dtype\":\"float64\",\"order\":\"little\"}],[\"y\",{\"type\":\"ndarray\",\"array\":{\"type\":\"bytes\",\"data\":\"f4cGkH95yD7N3DO7xFLRPmljlajYhdg+D8oHPndb4T5nUrQCJJLoPiqRuz1FZPE+d9g69Lqe+D4JXdPND20BP2C0yQwUqwg/6SjrXdp1ET+YYHCBj7cYP97oCIWtfiE/+PQiJBzEKD/3kDLakYcxPzmbTOSb0Dg/4FbNtWCQQT97QXakG91IPz5kBDMqmVE/1lhnIabpWD+40Et7OaJhPwN8EjNW9mg/AeTfwhWrcT91BMts6wJ5P5pQd1Trs4E/ij+KOnMPiT9bmfBL/byRP9NKIZBLHJk/t5p1xvfFoT/7c9GQ8SipP7jLft3pzrE/j95wH7k1uT+ADvPlBdjBP22oGOdvQsk/VFc+y/Pg0T8BE7h1N0/ZP3ztmSUB6uE/JLn8h/Rb6T9QNuUK7/LxP9Sa5h2naPk/zhlR2hv8AUDZPXlYqHUJQKHWNO84BRJANIC3QIKCGUAgY+5aQg4iQI/C9ShcjylAgZVDi2wXMkA/NV66SZw5QH9qvHSTIEJA8KfGSzepSUB9PzVeuilSQKAaL90ktllAexSuR+EyYkA=\"},\"shape\":[52],\"dtype\":\"float64\",\"order\":\"little\"}]]}}},\"view\":{\"type\":\"object\",\"name\":\"CDSView\",\"id\":\"p1432\",\"attributes\":{\"filter\":{\"type\":\"object\",\"name\":\"AllIndices\",\"id\":\"p1433\"}}},\"glyph\":{\"type\":\"object\",\"name\":\"Line\",\"id\":\"p1428\",\"attributes\":{\"x\":{\"type\":\"field\",\"field\":\"x\"},\"y\":{\"type\":\"field\",\"field\":\"y\"},\"line_color\":\"#0072B2\",\"line_width\":3}},\"nonselection_glyph\":{\"type\":\"object\",\"name\":\"Line\",\"id\":\"p1429\",\"attributes\":{\"x\":{\"type\":\"field\",\"field\":\"x\"},\"y\":{\"type\":\"field\",\"field\":\"y\"},\"line_color\":\"#0072B2\",\"line_alpha\":0.1,\"line_width\":3}},\"muted_glyph\":{\"type\":\"object\",\"name\":\"Line\",\"id\":\"p1430\",\"attributes\":{\"x\":{\"type\":\"field\",\"field\":\"x\"},\"y\":{\"type\":\"field\",\"field\":\"y\"},\"line_color\":\"#0072B2\",\"line_alpha\":0.2,\"line_width\":3}}}},{\"type\":\"object\",\"name\":\"GlyphRenderer\",\"id\":\"p1460\",\"attributes\":{\"data_source\":{\"type\":\"object\",\"name\":\"ColumnDataSource\",\"id\":\"p1454\",\"attributes\":{\"selected\":{\"type\":\"object\",\"name\":\"Selection\",\"id\":\"p1455\",\"attributes\":{\"indices\":[],\"line_indices\":[]}},\"selection_policy\":{\"type\":\"object\",\"name\":\"UnionRenderers\",\"id\":\"p1456\"},\"data\":{\"type\":\"map\",\"entries\":[[\"x\",{\"type\":\"ndarray\",\"array\":{\"type\":\"bytes\",\"data\":\"wRC8CjmyUz5jFyKeQnVwPmAHi8ybN4g+wxZK3SjMnz5Fpy3d27qyPnfSvcWn4MM+/+E0N20G0z7X4t4Ur3vgPu0WWA0PFeo+VPN3WMEx8z7xIEg8a/r6PkFRQD6CnQI/sAB42gm3CT92RAcEguoRP9c2YRKSLxk/+LkP3X7TIT8W2LwSg2QpPzzjoEcpPDI/lomCloeWOj+Jv7vfjeRDP1236b419E4/s8ZRXdE2WT+GD8YcZH9lP7J3m4IzEnM/eE3FjCZ8gT8Tr9Ce1nWQPxG0uHkAp58/WTtS8Uvprj/HG2E844C+P51B6wI9SM4/J2vZQm4V3j9BfvRVEaPtP/phU5Vacfw/xnhCGbgXCkATHNUlqcoWQBgKvxXoDCNAujgqaw2DLkDLxlGtZ+AzQHbyH8b6WyBAhh0zcMQs6j+GHTNwxCzaPwAAAAAAAAAAAAAAAAAAAAAAAAAAAAAAAAAAAAAAAAAAAAAAAAAAAAAAAAAAAAAAAAAAAAAAAAAAAAAAAAAAAAAAAAAAAAAAAAAAAAAAAAAAAAAAAAAAAAA=\"},\"shape\":[52],\"dtype\":\"float64\",\"order\":\"little\"}],[\"y\",{\"type\":\"ndarray\",\"array\":{\"type\":\"bytes\",\"data\":\"f4cGkH95yD7N3DO7xFLRPmljlajYhdg+D8oHPndb4T5nUrQCJJLoPiqRuz1FZPE+d9g69Lqe+D4JXdPND20BP2C0yQwUqwg/6SjrXdp1ET+YYHCBj7cYP97oCIWtfiE/+PQiJBzEKD/3kDLakYcxPzmbTOSb0Dg/4FbNtWCQQT97QXakG91IPz5kBDMqmVE/1lhnIabpWD+40Et7OaJhPwN8EjNW9mg/AeTfwhWrcT91BMts6wJ5P5pQd1Trs4E/ij+KOnMPiT9bmfBL/byRP9NKIZBLHJk/t5p1xvfFoT/7c9GQ8SipP7jLft3pzrE/j95wH7k1uT+ADvPlBdjBP22oGOdvQsk/VFc+y/Pg0T8BE7h1N0/ZP3ztmSUB6uE/JLn8h/Rb6T9QNuUK7/LxP9Sa5h2naPk/zhlR2hv8AUDZPXlYqHUJQKHWNO84BRJANIC3QIKCGUAgY+5aQg4iQI/C9ShcjylAgZVDi2wXMkA/NV66SZw5QH9qvHSTIEJA8KfGSzepSUB9PzVeuilSQKAaL90ktllAexSuR+EyYkA=\"},\"shape\":[52],\"dtype\":\"float64\",\"order\":\"little\"}]]}}},\"view\":{\"type\":\"object\",\"name\":\"CDSView\",\"id\":\"p1461\",\"attributes\":{\"filter\":{\"type\":\"object\",\"name\":\"AllIndices\",\"id\":\"p1462\"}}},\"glyph\":{\"type\":\"object\",\"name\":\"Line\",\"id\":\"p1457\",\"attributes\":{\"x\":{\"type\":\"field\",\"field\":\"x\"},\"y\":{\"type\":\"field\",\"field\":\"y\"},\"line_color\":\"#E69F00\",\"line_width\":3}},\"nonselection_glyph\":{\"type\":\"object\",\"name\":\"Line\",\"id\":\"p1458\",\"attributes\":{\"x\":{\"type\":\"field\",\"field\":\"x\"},\"y\":{\"type\":\"field\",\"field\":\"y\"},\"line_color\":\"#E69F00\",\"line_alpha\":0.1,\"line_width\":3}},\"muted_glyph\":{\"type\":\"object\",\"name\":\"Line\",\"id\":\"p1459\",\"attributes\":{\"x\":{\"type\":\"field\",\"field\":\"x\"},\"y\":{\"type\":\"field\",\"field\":\"y\"},\"line_color\":\"#E69F00\",\"line_alpha\":0.2,\"line_width\":3}}}}],\"toolbar\":{\"type\":\"object\",\"name\":\"Toolbar\",\"id\":\"p1400\",\"attributes\":{\"tools\":[{\"id\":\"p1414\"},{\"id\":\"p1415\"},{\"id\":\"p1416\"},{\"type\":\"object\",\"name\":\"SaveTool\",\"id\":\"p1422\"},{\"id\":\"p1423\"},{\"id\":\"p1424\"}]}},\"toolbar_location\":null,\"left\":[{\"type\":\"object\",\"name\":\"LogAxis\",\"id\":\"p1409\",\"attributes\":{\"ticker\":{\"type\":\"object\",\"name\":\"LogTicker\",\"id\":\"p1410\",\"attributes\":{\"num_minor_ticks\":10,\"mantissas\":[1,5]}},\"formatter\":{\"type\":\"object\",\"name\":\"LogTickFormatter\",\"id\":\"p1411\"},\"axis_label\":\"Pressure (bars)\",\"major_label_policy\":{\"type\":\"object\",\"name\":\"AllLabels\",\"id\":\"p1412\"}}}],\"below\":[{\"type\":\"object\",\"name\":\"LogAxis\",\"id\":\"p1404\",\"attributes\":{\"ticker\":{\"type\":\"object\",\"name\":\"LogTicker\",\"id\":\"p1405\",\"attributes\":{\"num_minor_ticks\":10,\"mantissas\":[1,5]}},\"formatter\":{\"type\":\"object\",\"name\":\"LogTickFormatter\",\"id\":\"p1406\"},\"axis_label\":\"Optical Depth\",\"major_label_policy\":{\"type\":\"object\",\"name\":\"AllLabels\",\"id\":\"p1407\"}}}],\"center\":[{\"type\":\"object\",\"name\":\"Grid\",\"id\":\"p1408\",\"attributes\":{\"axis\":{\"id\":\"p1404\"}}},{\"type\":\"object\",\"name\":\"Grid\",\"id\":\"p1413\",\"attributes\":{\"dimension\":1,\"axis\":{\"id\":\"p1409\"}}}]}},0,0],[{\"type\":\"object\",\"name\":\"Figure\",\"id\":\"p1326\",\"attributes\":{\"width\":300,\"height\":300,\"x_range\":{\"type\":\"object\",\"name\":\"DataRange1d\",\"id\":\"p1328\"},\"y_range\":{\"type\":\"object\",\"name\":\"Range1d\",\"id\":\"p1335\",\"attributes\":{\"start\":145.59,\"end\":2.9176000000000002e-06}},\"x_scale\":{\"type\":\"object\",\"name\":\"LinearScale\",\"id\":\"p1336\"},\"y_scale\":{\"type\":\"object\",\"name\":\"LogScale\",\"id\":\"p1337\"},\"title\":{\"type\":\"object\",\"name\":\"Title\",\"id\":\"p1333\"},\"renderers\":[{\"type\":\"object\",\"name\":\"GlyphRenderer\",\"id\":\"p1449\",\"attributes\":{\"data_source\":{\"type\":\"object\",\"name\":\"ColumnDataSource\",\"id\":\"p1443\",\"attributes\":{\"selected\":{\"type\":\"object\",\"name\":\"Selection\",\"id\":\"p1444\",\"attributes\":{\"indices\":[],\"line_indices\":[]}},\"selection_policy\":{\"type\":\"object\",\"name\":\"UnionRenderers\",\"id\":\"p1445\"},\"data\":{\"type\":\"map\",\"entries\":[[\"x\",{\"type\":\"ndarray\",\"array\":{\"type\":\"bytes\",\"data\":\"XO7tMlTp7z9DvixF6OnvP4EceVLd4e8/VA6TLXbV7z+kdj8r1MTvP3q9kJSbsO8/CpgzTLOX7z92SM58pHjvP6drlWx5Uu8/3wueBHAj7z8jULdNHefuP3HVSNVnlu4/GbzLk5kq7j+X/EFmpKDtP03bx83e+uw/U9hYtrhA7D9KKt2cGHzrP2cdZrCGueo/8ajKvzgG6j9BHO1oSWzpP/BKU/IB9Og/FFD/C32g6D+JPy5VYWvoPzzFxjTxSug/HeFHl8A16D+3gwRK0SPoPz1/9tEdEeg/HfACm5v75z9JgsD2puPnP+R13iSrzOc/7V5bXX685z8ksLk03rPnP0wESBOA1uc/Vl0eNm026D/H9C1pt77oP490EXxtUuk/FEv0w0TR6T8Gld5aeUHqP5eZGulSvOo/l5ka6VK86j+XmRrpUrzqPwAAAAAAAAAAAAAAAAAAAAAAAAAAAAAAAAAAAAAAAAAAAAAAAAAAAAAAAAAAAAAAAAAAAAAAAAAAAAAAAAAAAAAAAAAAAAAAAAAAAAAAAAAAAAAAAAAAAAA=\"},\"shape\":[52],\"dtype\":\"float64\",\"order\":\"little\"}],[\"y\",{\"type\":\"ndarray\",\"array\":{\"type\":\"bytes\",\"data\":\"f4cGkH95yD7N3DO7xFLRPmljlajYhdg+D8oHPndb4T5nUrQCJJLoPiqRuz1FZPE+d9g69Lqe+D4JXdPND20BP2C0yQwUqwg/6SjrXdp1ET+YYHCBj7cYP97oCIWtfiE/+PQiJBzEKD/3kDLakYcxPzmbTOSb0Dg/4FbNtWCQQT97QXakG91IPz5kBDMqmVE/1lhnIabpWD+40Et7OaJhPwN8EjNW9mg/AeTfwhWrcT91BMts6wJ5P5pQd1Trs4E/ij+KOnMPiT9bmfBL/byRP9NKIZBLHJk/t5p1xvfFoT/7c9GQ8SipP7jLft3pzrE/j95wH7k1uT+ADvPlBdjBP22oGOdvQsk/VFc+y/Pg0T8BE7h1N0/ZP3ztmSUB6uE/JLn8h/Rb6T9QNuUK7/LxP9Sa5h2naPk/zhlR2hv8AUDZPXlYqHUJQKHWNO84BRJANIC3QIKCGUAgY+5aQg4iQI/C9ShcjylAgZVDi2wXMkA/NV66SZw5QH9qvHSTIEJA8KfGSzepSUB9PzVeuilSQKAaL90ktllAexSuR+EyYkA=\"},\"shape\":[52],\"dtype\":\"float64\",\"order\":\"little\"}]]}}},\"view\":{\"type\":\"object\",\"name\":\"CDSView\",\"id\":\"p1450\",\"attributes\":{\"filter\":{\"type\":\"object\",\"name\":\"AllIndices\",\"id\":\"p1451\"}}},\"glyph\":{\"type\":\"object\",\"name\":\"Line\",\"id\":\"p1446\",\"attributes\":{\"x\":{\"type\":\"field\",\"field\":\"x\"},\"y\":{\"type\":\"field\",\"field\":\"y\"},\"line_color\":\"#0072B2\",\"line_width\":3}},\"nonselection_glyph\":{\"type\":\"object\",\"name\":\"Line\",\"id\":\"p1447\",\"attributes\":{\"x\":{\"type\":\"field\",\"field\":\"x\"},\"y\":{\"type\":\"field\",\"field\":\"y\"},\"line_color\":\"#0072B2\",\"line_alpha\":0.1,\"line_width\":3}},\"muted_glyph\":{\"type\":\"object\",\"name\":\"Line\",\"id\":\"p1448\",\"attributes\":{\"x\":{\"type\":\"field\",\"field\":\"x\"},\"y\":{\"type\":\"field\",\"field\":\"y\"},\"line_color\":\"#0072B2\",\"line_alpha\":0.2,\"line_width\":3}}}},{\"type\":\"object\",\"name\":\"GlyphRenderer\",\"id\":\"p1478\",\"attributes\":{\"data_source\":{\"type\":\"object\",\"name\":\"ColumnDataSource\",\"id\":\"p1472\",\"attributes\":{\"selected\":{\"type\":\"object\",\"name\":\"Selection\",\"id\":\"p1473\",\"attributes\":{\"indices\":[],\"line_indices\":[]}},\"selection_policy\":{\"type\":\"object\",\"name\":\"UnionRenderers\",\"id\":\"p1474\"},\"data\":{\"type\":\"map\",\"entries\":[[\"x\",{\"type\":\"ndarray\",\"array\":{\"type\":\"bytes\",\"data\":\"DC6dxc+z7z+jkdu9R9TvP58/bfFa4u8/7Sn58MDo7z9k0dy2TevvPyMFn/Zg6+8/VEJISDnp7z+88cpJa+TvP4rrRbkU3O8/s+j1xxDP7z89uJ6WOrzvP4OASKiVou8/LCRevxmB7z/khsDhGVbvP73gReS7Hu8/7Jw/6PDW7j/hDUseBXruP13/wSkCBO4/Fv3mp0507T9ZHnwRtNHsP7EwTcLMKuw/3U5VFYqP6z+xYg6IDwvrP8e+ea32oOo/aV48aBZQ6j9p57nn9RXqP6MhXf4A7+k/x4OqgLfW6T/DIGYs6MjpP0yVtml8wuk/j/waREbB6T835MnhysPpP7PndRv6yOk/L1DKSKPP6T9T17kMB9fpP5DS0hvu3uk/jT/LWjfn6T/Kg5L1RfDpP6bX5MYX+uk/ptfkxhf66T+m1+TGF/rpPwAAAAAAAAAAAAAAAAAAAAAAAAAAAAAAAAAAAAAAAAAAAAAAAAAAAAAAAAAAAAAAAAAAAAAAAAAAAAAAAAAAAAAAAAAAAAAAAAAAAAAAAAAAAAAAAAAAAAA=\"},\"shape\":[52],\"dtype\":\"float64\",\"order\":\"little\"}],[\"y\",{\"type\":\"ndarray\",\"array\":{\"type\":\"bytes\",\"data\":\"f4cGkH95yD7N3DO7xFLRPmljlajYhdg+D8oHPndb4T5nUrQCJJLoPiqRuz1FZPE+d9g69Lqe+D4JXdPND20BP2C0yQwUqwg/6SjrXdp1ET+YYHCBj7cYP97oCIWtfiE/+PQiJBzEKD/3kDLakYcxPzmbTOSb0Dg/4FbNtWCQQT97QXakG91IPz5kBDMqmVE/1lhnIabpWD+40Et7OaJhPwN8EjNW9mg/AeTfwhWrcT91BMts6wJ5P5pQd1Trs4E/ij+KOnMPiT9bmfBL/byRP9NKIZBLHJk/t5p1xvfFoT/7c9GQ8SipP7jLft3pzrE/j95wH7k1uT+ADvPlBdjBP22oGOdvQsk/VFc+y/Pg0T8BE7h1N0/ZP3ztmSUB6uE/JLn8h/Rb6T9QNuUK7/LxP9Sa5h2naPk/zhlR2hv8AUDZPXlYqHUJQKHWNO84BRJANIC3QIKCGUAgY+5aQg4iQI/C9ShcjylAgZVDi2wXMkA/NV66SZw5QH9qvHSTIEJA8KfGSzepSUB9PzVeuilSQKAaL90ktllAexSuR+EyYkA=\"},\"shape\":[52],\"dtype\":\"float64\",\"order\":\"little\"}]]}}},\"view\":{\"type\":\"object\",\"name\":\"CDSView\",\"id\":\"p1479\",\"attributes\":{\"filter\":{\"type\":\"object\",\"name\":\"AllIndices\",\"id\":\"p1480\"}}},\"glyph\":{\"type\":\"object\",\"name\":\"Line\",\"id\":\"p1475\",\"attributes\":{\"x\":{\"type\":\"field\",\"field\":\"x\"},\"y\":{\"type\":\"field\",\"field\":\"y\"},\"line_color\":\"#E69F00\",\"line_width\":3}},\"nonselection_glyph\":{\"type\":\"object\",\"name\":\"Line\",\"id\":\"p1476\",\"attributes\":{\"x\":{\"type\":\"field\",\"field\":\"x\"},\"y\":{\"type\":\"field\",\"field\":\"y\"},\"line_color\":\"#E69F00\",\"line_alpha\":0.1,\"line_width\":3}},\"muted_glyph\":{\"type\":\"object\",\"name\":\"Line\",\"id\":\"p1477\",\"attributes\":{\"x\":{\"type\":\"field\",\"field\":\"x\"},\"y\":{\"type\":\"field\",\"field\":\"y\"},\"line_color\":\"#E69F00\",\"line_alpha\":0.2,\"line_width\":3}}}}],\"toolbar\":{\"type\":\"object\",\"name\":\"Toolbar\",\"id\":\"p1334\",\"attributes\":{\"tools\":[{\"id\":\"p1348\"},{\"id\":\"p1349\"},{\"id\":\"p1350\"},{\"type\":\"object\",\"name\":\"SaveTool\",\"id\":\"p1356\"},{\"id\":\"p1357\"},{\"id\":\"p1358\"}]}},\"toolbar_location\":null,\"left\":[{\"type\":\"object\",\"name\":\"LogAxis\",\"id\":\"p1343\",\"attributes\":{\"ticker\":{\"type\":\"object\",\"name\":\"LogTicker\",\"id\":\"p1344\",\"attributes\":{\"num_minor_ticks\":10,\"mantissas\":[1,5]}},\"formatter\":{\"type\":\"object\",\"name\":\"LogTickFormatter\",\"id\":\"p1345\"},\"major_label_policy\":{\"type\":\"object\",\"name\":\"AllLabels\",\"id\":\"p1346\"}}}],\"below\":[{\"type\":\"object\",\"name\":\"LinearAxis\",\"id\":\"p1338\",\"attributes\":{\"ticker\":{\"type\":\"object\",\"name\":\"BasicTicker\",\"id\":\"p1339\",\"attributes\":{\"mantissas\":[1,2,5]}},\"formatter\":{\"type\":\"object\",\"name\":\"BasicTickFormatter\",\"id\":\"p1340\"},\"axis_label\":\"Single Scattering Albedo\",\"major_label_policy\":{\"type\":\"object\",\"name\":\"AllLabels\",\"id\":\"p1341\"}}}],\"center\":[{\"type\":\"object\",\"name\":\"Grid\",\"id\":\"p1342\",\"attributes\":{\"axis\":{\"id\":\"p1338\"}}},{\"type\":\"object\",\"name\":\"Grid\",\"id\":\"p1347\",\"attributes\":{\"dimension\":1,\"axis\":{\"id\":\"p1343\"}}},{\"type\":\"object\",\"name\":\"Legend\",\"id\":\"p1452\",\"attributes\":{\"location\":\"top_left\",\"items\":[{\"type\":\"object\",\"name\":\"LegendItem\",\"id\":\"p1453\",\"attributes\":{\"label\":{\"type\":\"value\",\"value\":\"Real\"},\"renderers\":[{\"id\":\"p1449\"}]}},{\"type\":\"object\",\"name\":\"LegendItem\",\"id\":\"p1481\",\"attributes\":{\"label\":{\"type\":\"value\",\"value\":\"Constant\"},\"renderers\":[{\"id\":\"p1478\"}]}}]}}]}},0,1],[{\"type\":\"object\",\"name\":\"Figure\",\"id\":\"p1359\",\"attributes\":{\"width\":300,\"height\":300,\"x_range\":{\"type\":\"object\",\"name\":\"DataRange1d\",\"id\":\"p1361\"},\"y_range\":{\"type\":\"object\",\"name\":\"Range1d\",\"id\":\"p1368\",\"attributes\":{\"start\":145.59,\"end\":2.9176000000000002e-06}},\"x_scale\":{\"type\":\"object\",\"name\":\"LinearScale\",\"id\":\"p1369\"},\"y_scale\":{\"type\":\"object\",\"name\":\"LogScale\",\"id\":\"p1370\"},\"title\":{\"type\":\"object\",\"name\":\"Title\",\"id\":\"p1366\"},\"renderers\":[{\"type\":\"object\",\"name\":\"GlyphRenderer\",\"id\":\"p1440\",\"attributes\":{\"data_source\":{\"type\":\"object\",\"name\":\"ColumnDataSource\",\"id\":\"p1434\",\"attributes\":{\"selected\":{\"type\":\"object\",\"name\":\"Selection\",\"id\":\"p1435\",\"attributes\":{\"indices\":[],\"line_indices\":[]}},\"selection_policy\":{\"type\":\"object\",\"name\":\"UnionRenderers\",\"id\":\"p1436\"},\"data\":{\"type\":\"map\",\"entries\":[[\"x\",{\"type\":\"ndarray\",\"array\":{\"type\":\"bytes\",\"data\":\"KJBIqxDE4T/JxHvIDwzkP5m1ZBFliuQ/djd5TK3C5D/pTPw9fArlP4m2Yui6cuU/sgJPWx385T8fnoCtIJ3mP5gEsbqWQec/rxt/IrHZ5z9RzxY5GWLoPypi6hkf3eg/Tc9tU1lM6T/h/IKiMrHpP3mr9FVcDeo/RAn+2TBi6j9J1Okeh7DqPw/0XUy19+o/Xc77gBE26z/aTM09JGrrPx91/H5Gkus/0YCWqPqt6z9BRgGTjr/rP3ZNOiNJyus/hDQ79krR6z+vEWsvOdfrPzdtz19o3es/9MmrioXk6z+K12J/cuzrP1w+lPYN9Os/+t2jHmn56z+kYJ2ORPzrP2q0HcfM8Os/jUyH4RHR6z82HYCI9qPrP43IBDbNcus/g80EJxlI6z/xegPXtSHrP9HkIQu39uo/0eQhC7f26j/R5CELt/bqPwAAAAAAAAAAAAAAAAAAAAAAAAAAAAAAAAAAAAAAAAAAAAAAAAAAAAAAAAAAAAAAAAAAAAAAAAAAAAAAAAAAAAAAAAAAAAAAAAAAAAAAAAAAAAAAAAAAAAA=\"},\"shape\":[52],\"dtype\":\"float64\",\"order\":\"little\"}],[\"y\",{\"type\":\"ndarray\",\"array\":{\"type\":\"bytes\",\"data\":\"f4cGkH95yD7N3DO7xFLRPmljlajYhdg+D8oHPndb4T5nUrQCJJLoPiqRuz1FZPE+d9g69Lqe+D4JXdPND20BP2C0yQwUqwg/6SjrXdp1ET+YYHCBj7cYP97oCIWtfiE/+PQiJBzEKD/3kDLakYcxPzmbTOSb0Dg/4FbNtWCQQT97QXakG91IPz5kBDMqmVE/1lhnIabpWD+40Et7OaJhPwN8EjNW9mg/AeTfwhWrcT91BMts6wJ5P5pQd1Trs4E/ij+KOnMPiT9bmfBL/byRP9NKIZBLHJk/t5p1xvfFoT/7c9GQ8SipP7jLft3pzrE/j95wH7k1uT+ADvPlBdjBP22oGOdvQsk/VFc+y/Pg0T8BE7h1N0/ZP3ztmSUB6uE/JLn8h/Rb6T9QNuUK7/LxP9Sa5h2naPk/zhlR2hv8AUDZPXlYqHUJQKHWNO84BRJANIC3QIKCGUAgY+5aQg4iQI/C9ShcjylAgZVDi2wXMkA/NV66SZw5QH9qvHSTIEJA8KfGSzepSUB9PzVeuilSQKAaL90ktllAexSuR+EyYkA=\"},\"shape\":[52],\"dtype\":\"float64\",\"order\":\"little\"}]]}}},\"view\":{\"type\":\"object\",\"name\":\"CDSView\",\"id\":\"p1441\",\"attributes\":{\"filter\":{\"type\":\"object\",\"name\":\"AllIndices\",\"id\":\"p1442\"}}},\"glyph\":{\"type\":\"object\",\"name\":\"Line\",\"id\":\"p1437\",\"attributes\":{\"x\":{\"type\":\"field\",\"field\":\"x\"},\"y\":{\"type\":\"field\",\"field\":\"y\"},\"line_color\":\"#0072B2\",\"line_width\":3}},\"nonselection_glyph\":{\"type\":\"object\",\"name\":\"Line\",\"id\":\"p1438\",\"attributes\":{\"x\":{\"type\":\"field\",\"field\":\"x\"},\"y\":{\"type\":\"field\",\"field\":\"y\"},\"line_color\":\"#0072B2\",\"line_alpha\":0.1,\"line_width\":3}},\"muted_glyph\":{\"type\":\"object\",\"name\":\"Line\",\"id\":\"p1439\",\"attributes\":{\"x\":{\"type\":\"field\",\"field\":\"x\"},\"y\":{\"type\":\"field\",\"field\":\"y\"},\"line_color\":\"#0072B2\",\"line_alpha\":0.2,\"line_width\":3}}}},{\"type\":\"object\",\"name\":\"GlyphRenderer\",\"id\":\"p1469\",\"attributes\":{\"data_source\":{\"type\":\"object\",\"name\":\"ColumnDataSource\",\"id\":\"p1463\",\"attributes\":{\"selected\":{\"type\":\"object\",\"name\":\"Selection\",\"id\":\"p1464\",\"attributes\":{\"indices\":[],\"line_indices\":[]}},\"selection_policy\":{\"type\":\"object\",\"name\":\"UnionRenderers\",\"id\":\"p1465\"},\"data\":{\"type\":\"map\",\"entries\":[[\"x\",{\"type\":\"ndarray\",\"array\":{\"type\":\"bytes\",\"data\":\"0zH1H7mo1z+d35dm0i7cP3hOApG1AuA/MTYK36uQ4T8n5R1gmMDiP5c0hAoumeM/ZpaCAVEl5D8ski64jnbkP/9NWOn4p+Q/Y3ETW6Xc5D/JVlV0EjXlPzzi8Q4TwOU/lfN1bGJz5j+YwrYeqTPnP616pV5Z5uc/H+qvlPp+6D/RrAc6sf7oP4alwG3oa+k/sHXAvRfM6T9X+ubCZCHqP39it7Vfa+o/We4HsCCp6j/2DnmZcNrqP0dhx6llAOs/4A02zacc6z9xFy9YrjDrP8CFwLz9Pes/iRVw4z9G6z9x0azS7krrP3kCTYUbTes/DxjQgYRN6z8fH2FIqkzrP+m/JL/oSus/Ex+OvqZI6z9ZOL/iJEbrP+mhGsF1Q+s/1PVGcqRA6z+6dF4Ijz3rP2aEwfE1Ous/ZoTB8TU66z9mhMHxNTrrPwAAAAAAAAAAAAAAAAAAAAAAAAAAAAAAAAAAAAAAAAAAAAAAAAAAAAAAAAAAAAAAAAAAAAAAAAAAAAAAAAAAAAAAAAAAAAAAAAAAAAAAAAAAAAAAAAAAAAA=\"},\"shape\":[52],\"dtype\":\"float64\",\"order\":\"little\"}],[\"y\",{\"type\":\"ndarray\",\"array\":{\"type\":\"bytes\",\"data\":\"f4cGkH95yD7N3DO7xFLRPmljlajYhdg+D8oHPndb4T5nUrQCJJLoPiqRuz1FZPE+d9g69Lqe+D4JXdPND20BP2C0yQwUqwg/6SjrXdp1ET+YYHCBj7cYP97oCIWtfiE/+PQiJBzEKD/3kDLakYcxPzmbTOSb0Dg/4FbNtWCQQT97QXakG91IPz5kBDMqmVE/1lhnIabpWD+40Et7OaJhPwN8EjNW9mg/AeTfwhWrcT91BMts6wJ5P5pQd1Trs4E/ij+KOnMPiT9bmfBL/byRP9NKIZBLHJk/t5p1xvfFoT/7c9GQ8SipP7jLft3pzrE/j95wH7k1uT+ADvPlBdjBP22oGOdvQsk/VFc+y/Pg0T8BE7h1N0/ZP3ztmSUB6uE/JLn8h/Rb6T9QNuUK7/LxP9Sa5h2naPk/zhlR2hv8AUDZPXlYqHUJQKHWNO84BRJANIC3QIKCGUAgY+5aQg4iQI/C9ShcjylAgZVDi2wXMkA/NV66SZw5QH9qvHSTIEJA8KfGSzepSUB9PzVeuilSQKAaL90ktllAexSuR+EyYkA=\"},\"shape\":[52],\"dtype\":\"float64\",\"order\":\"little\"}]]}}},\"view\":{\"type\":\"object\",\"name\":\"CDSView\",\"id\":\"p1470\",\"attributes\":{\"filter\":{\"type\":\"object\",\"name\":\"AllIndices\",\"id\":\"p1471\"}}},\"glyph\":{\"type\":\"object\",\"name\":\"Line\",\"id\":\"p1466\",\"attributes\":{\"x\":{\"type\":\"field\",\"field\":\"x\"},\"y\":{\"type\":\"field\",\"field\":\"y\"},\"line_color\":\"#E69F00\",\"line_width\":3}},\"nonselection_glyph\":{\"type\":\"object\",\"name\":\"Line\",\"id\":\"p1467\",\"attributes\":{\"x\":{\"type\":\"field\",\"field\":\"x\"},\"y\":{\"type\":\"field\",\"field\":\"y\"},\"line_color\":\"#E69F00\",\"line_alpha\":0.1,\"line_width\":3}},\"muted_glyph\":{\"type\":\"object\",\"name\":\"Line\",\"id\":\"p1468\",\"attributes\":{\"x\":{\"type\":\"field\",\"field\":\"x\"},\"y\":{\"type\":\"field\",\"field\":\"y\"},\"line_color\":\"#E69F00\",\"line_alpha\":0.2,\"line_width\":3}}}}],\"toolbar\":{\"type\":\"object\",\"name\":\"Toolbar\",\"id\":\"p1367\",\"attributes\":{\"tools\":[{\"id\":\"p1381\"},{\"id\":\"p1382\"},{\"id\":\"p1383\"},{\"type\":\"object\",\"name\":\"SaveTool\",\"id\":\"p1389\"},{\"id\":\"p1390\"},{\"id\":\"p1391\"}]}},\"toolbar_location\":null,\"left\":[{\"type\":\"object\",\"name\":\"LogAxis\",\"id\":\"p1376\",\"attributes\":{\"ticker\":{\"type\":\"object\",\"name\":\"LogTicker\",\"id\":\"p1377\",\"attributes\":{\"num_minor_ticks\":10,\"mantissas\":[1,5]}},\"formatter\":{\"type\":\"object\",\"name\":\"LogTickFormatter\",\"id\":\"p1378\"},\"major_label_policy\":{\"type\":\"object\",\"name\":\"AllLabels\",\"id\":\"p1379\"}}}],\"below\":[{\"type\":\"object\",\"name\":\"LinearAxis\",\"id\":\"p1371\",\"attributes\":{\"ticker\":{\"type\":\"object\",\"name\":\"BasicTicker\",\"id\":\"p1372\",\"attributes\":{\"mantissas\":[1,2,5]}},\"formatter\":{\"type\":\"object\",\"name\":\"BasicTickFormatter\",\"id\":\"p1373\"},\"axis_label\":\"Asymmetry\",\"major_label_policy\":{\"type\":\"object\",\"name\":\"AllLabels\",\"id\":\"p1374\"}}}],\"center\":[{\"type\":\"object\",\"name\":\"Grid\",\"id\":\"p1375\",\"attributes\":{\"axis\":{\"id\":\"p1371\"}}},{\"type\":\"object\",\"name\":\"Grid\",\"id\":\"p1380\",\"attributes\":{\"dimension\":1,\"axis\":{\"id\":\"p1376\"}}}]}},0,2]]}}]}};\n",
       "  const render_items = [{\"docid\":\"b0da1bbe-b249-470c-9a70-5b21c08e40a7\",\"roots\":{\"p1489\":\"b8ce34dd-8536-4f39-ac5a-ff6ee2c10579\"},\"root_ids\":[\"p1489\"]}];\n",
       "  root.Bokeh.embed.embed_items_notebook(docs_json, render_items);\n",
       "  }\n",
       "  if (root.Bokeh !== undefined) {\n",
       "    embed_document(root);\n",
       "  } else {\n",
       "    let attempts = 0;\n",
       "    const timer = setInterval(function(root) {\n",
       "      if (root.Bokeh !== undefined) {\n",
       "        clearInterval(timer);\n",
       "        embed_document(root);\n",
       "      } else {\n",
       "        attempts++;\n",
       "        if (attempts > 100) {\n",
       "          clearInterval(timer);\n",
       "          console.log(\"Bokeh: ERROR: Unable to run BokehJS code because BokehJS library is missing\");\n",
       "        }\n",
       "      }\n",
       "    }, 10, root)\n",
       "  }\n",
       "})(window);"
      ],
      "application/vnd.bokehjs_exec.v0+json": ""
     },
     "metadata": {
      "application/vnd.bokehjs_exec.v0+json": {
       "id": "p1489"
      }
     },
     "output_type": "display_data"
    }
   ],
   "source": [
    "#get full dictionary output \n",
    "show(jpi.all_optics_1d([hj_real,hj_constant],[0.3,1] , legend=['Real','Constant']))"
   ]
  }
 ],
 "metadata": {
  "kernelspec": {
   "display_name": "Python 3 (ipykernel)",
   "language": "python",
   "name": "python3"
  },
  "language_info": {
   "codemirror_mode": {
    "name": "ipython",
    "version": 3
   },
   "file_extension": ".py",
   "mimetype": "text/x-python",
   "name": "python",
   "nbconvert_exporter": "python",
   "pygments_lexer": "ipython3",
   "version": "3.11.5"
  },
  "toc": {
   "base_numbering": 1,
   "nav_menu": {},
   "number_sections": true,
   "sideBar": true,
   "skip_h1_title": false,
   "title_cell": "Table of Contents",
   "title_sidebar": "Contents",
   "toc_cell": true,
   "toc_position": {},
   "toc_section_display": true,
   "toc_window_display": false
  }
 },
 "nbformat": 4,
 "nbformat_minor": 4
}
