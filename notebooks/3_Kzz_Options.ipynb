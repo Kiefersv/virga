{
 "cells": [
  {
   "cell_type": "markdown",
   "metadata": {},
   "source": [
    "# Options for K$_z$\n",
    "\n",
    "In this tutorial you will learn: \n",
    "\n",
    "1. The hierarchy of K$_z$ assumptions \n",
    "\n",
    "You should already be familiar with: \n",
    "\n",
    "1. How to pick condensates to run in a cloud model \n",
    "2. What is $f_{sed}$ and what number is right for my model? \n",
    "3. What are the chemical limitations in the code \n",
    "4. How to compute initial Mie scattering grid\n",
    "5. Generally how to run the code \n"
   ]
  },
  {
   "cell_type": "code",
   "execution_count": 1,
   "metadata": {
    "execution": {
     "iopub.execute_input": "2024-04-02T04:44:26.288280Z",
     "iopub.status.busy": "2024-04-02T04:44:26.287742Z",
     "iopub.status.idle": "2024-04-02T04:44:27.614814Z",
     "shell.execute_reply": "2024-04-02T04:44:27.614189Z"
    }
   },
   "outputs": [
    {
     "data": {
      "text/html": [
       "<style>\n",
       "        .bk-notebook-logo {\n",
       "            display: block;\n",
       "            width: 20px;\n",
       "            height: 20px;\n",
       "            background-image: url(data:image/png;base64,iVBORw0KGgoAAAANSUhEUgAAABQAAAAUCAYAAACNiR0NAAAABHNCSVQICAgIfAhkiAAAAAlwSFlzAAALEgAACxIB0t1+/AAAABx0RVh0U29mdHdhcmUAQWRvYmUgRmlyZXdvcmtzIENTNui8sowAAAOkSURBVDiNjZRtaJVlGMd/1/08zzln5zjP1LWcU9N0NkN8m2CYjpgQYQXqSs0I84OLIC0hkEKoPtiH3gmKoiJDU7QpLgoLjLIQCpEsNJ1vqUOdO7ppbuec5+V+rj4ctwzd8IIbbi6u+8f1539dt3A78eXC7QizUF7gyV1fD1Yqg4JWz84yffhm0qkFqBogB9rM8tZdtwVsPUhWhGcFJngGeWrPzHm5oaMmkfEg1usvLFyc8jLRqDOMru7AyC8saQr7GG7f5fvDeH7Ej8CM66nIF+8yngt6HWaKh7k49Soy9nXurCi1o3qUbS3zWfrYeQDTB/Qj6kX6Ybhw4B+bOYoLKCC9H3Nu/leUTZ1JdRWkkn2ldcCamzrcf47KKXdAJllSlxAOkRgyHsGC/zRday5Qld9DyoM4/q/rUoy/CXh3jzOu3bHUVZeU+DEn8FInkPBFlu3+nW3Nw0mk6vCDiWg8CeJaxEwuHS3+z5RgY+YBR6V1Z1nxSOfoaPa4LASWxxdNp+VWTk7+4vzaou8v8PN+xo+KY2xsw6une2frhw05CTYOmQvsEhjhWjn0bmXPjpE1+kplmmkP3suftwTubK9Vq22qKmrBhpY4jvd5afdRA3wGjFAgcnTK2s4hY0/GPNIb0nErGMCRxWOOX64Z8RAC4oCXdklmEvcL8o0BfkNK4lUg9HTl+oPlQxdNo3Mg4Nv175e/1LDGzZen30MEjRUtmXSfiTVu1kK8W4txyV6BMKlbgk3lMwYCiusNy9fVfvvwMxv8Ynl6vxoByANLTWplvuj/nF9m2+PDtt1eiHPBr1oIfhCChQMBw6Aw0UulqTKZdfVvfG7VcfIqLG9bcldL/+pdWTLxLUy8Qq38heUIjh4XlzZxzQm19lLFlr8vdQ97rjZVOLf8nclzckbcD4wxXMidpX30sFd37Fv/GtwwhzhxGVAprjbg0gCAEeIgwCZyTV2Z1REEW8O4py0wsjeloKoMr6iCY6dP92H6Vw/oTyICIthibxjm/DfN9lVz8IqtqKYLUXfoKVMVQVVJOElGjrnnUt9T9wbgp8AyYKaGlqingHZU/uG2NTZSVqwHQTWkx9hxjkpWDaCg6Ckj5qebgBVbT3V3NNXMSiWSDdGV3hrtzla7J+duwPOToIg42ChPQOQjspnSlp1V+Gjdged7+8UN5CRAV7a5EdFNwCjEaBR27b3W890TE7g24NAP/mMDXRWrGoFPQI9ls/MWO2dWFAar/xcOIImbbpA3zgAAAABJRU5ErkJggg==);\n",
       "        }\n",
       "    </style>\n",
       "    <div>\n",
       "        <a href=\"https://bokeh.org\" target=\"_blank\" class=\"bk-notebook-logo\"></a>\n",
       "        <span id=\"p1001\">Loading BokehJS ...</span>\n",
       "    </div>\n"
      ]
     },
     "metadata": {},
     "output_type": "display_data"
    },
    {
     "data": {
      "application/javascript": [
       "(function(root) {\n",
       "  function now() {\n",
       "    return new Date();\n",
       "  }\n",
       "\n",
       "  const force = true;\n",
       "\n",
       "  if (typeof root._bokeh_onload_callbacks === \"undefined\" || force === true) {\n",
       "    root._bokeh_onload_callbacks = [];\n",
       "    root._bokeh_is_loading = undefined;\n",
       "  }\n",
       "\n",
       "const JS_MIME_TYPE = 'application/javascript';\n",
       "  const HTML_MIME_TYPE = 'text/html';\n",
       "  const EXEC_MIME_TYPE = 'application/vnd.bokehjs_exec.v0+json';\n",
       "  const CLASS_NAME = 'output_bokeh rendered_html';\n",
       "\n",
       "  /**\n",
       "   * Render data to the DOM node\n",
       "   */\n",
       "  function render(props, node) {\n",
       "    const script = document.createElement(\"script\");\n",
       "    node.appendChild(script);\n",
       "  }\n",
       "\n",
       "  /**\n",
       "   * Handle when an output is cleared or removed\n",
       "   */\n",
       "  function handleClearOutput(event, handle) {\n",
       "    const cell = handle.cell;\n",
       "\n",
       "    const id = cell.output_area._bokeh_element_id;\n",
       "    const server_id = cell.output_area._bokeh_server_id;\n",
       "    // Clean up Bokeh references\n",
       "    if (id != null && id in Bokeh.index) {\n",
       "      Bokeh.index[id].model.document.clear();\n",
       "      delete Bokeh.index[id];\n",
       "    }\n",
       "\n",
       "    if (server_id !== undefined) {\n",
       "      // Clean up Bokeh references\n",
       "      const cmd_clean = \"from bokeh.io.state import curstate; print(curstate().uuid_to_server['\" + server_id + \"'].get_sessions()[0].document.roots[0]._id)\";\n",
       "      cell.notebook.kernel.execute(cmd_clean, {\n",
       "        iopub: {\n",
       "          output: function(msg) {\n",
       "            const id = msg.content.text.trim();\n",
       "            if (id in Bokeh.index) {\n",
       "              Bokeh.index[id].model.document.clear();\n",
       "              delete Bokeh.index[id];\n",
       "            }\n",
       "          }\n",
       "        }\n",
       "      });\n",
       "      // Destroy server and session\n",
       "      const cmd_destroy = \"import bokeh.io.notebook as ion; ion.destroy_server('\" + server_id + \"')\";\n",
       "      cell.notebook.kernel.execute(cmd_destroy);\n",
       "    }\n",
       "  }\n",
       "\n",
       "  /**\n",
       "   * Handle when a new output is added\n",
       "   */\n",
       "  function handleAddOutput(event, handle) {\n",
       "    const output_area = handle.output_area;\n",
       "    const output = handle.output;\n",
       "\n",
       "    // limit handleAddOutput to display_data with EXEC_MIME_TYPE content only\n",
       "    if ((output.output_type != \"display_data\") || (!Object.prototype.hasOwnProperty.call(output.data, EXEC_MIME_TYPE))) {\n",
       "      return\n",
       "    }\n",
       "\n",
       "    const toinsert = output_area.element.find(\".\" + CLASS_NAME.split(' ')[0]);\n",
       "\n",
       "    if (output.metadata[EXEC_MIME_TYPE][\"id\"] !== undefined) {\n",
       "      toinsert[toinsert.length - 1].firstChild.textContent = output.data[JS_MIME_TYPE];\n",
       "      // store reference to embed id on output_area\n",
       "      output_area._bokeh_element_id = output.metadata[EXEC_MIME_TYPE][\"id\"];\n",
       "    }\n",
       "    if (output.metadata[EXEC_MIME_TYPE][\"server_id\"] !== undefined) {\n",
       "      const bk_div = document.createElement(\"div\");\n",
       "      bk_div.innerHTML = output.data[HTML_MIME_TYPE];\n",
       "      const script_attrs = bk_div.children[0].attributes;\n",
       "      for (let i = 0; i < script_attrs.length; i++) {\n",
       "        toinsert[toinsert.length - 1].firstChild.setAttribute(script_attrs[i].name, script_attrs[i].value);\n",
       "        toinsert[toinsert.length - 1].firstChild.textContent = bk_div.children[0].textContent\n",
       "      }\n",
       "      // store reference to server id on output_area\n",
       "      output_area._bokeh_server_id = output.metadata[EXEC_MIME_TYPE][\"server_id\"];\n",
       "    }\n",
       "  }\n",
       "\n",
       "  function register_renderer(events, OutputArea) {\n",
       "\n",
       "    function append_mime(data, metadata, element) {\n",
       "      // create a DOM node to render to\n",
       "      const toinsert = this.create_output_subarea(\n",
       "        metadata,\n",
       "        CLASS_NAME,\n",
       "        EXEC_MIME_TYPE\n",
       "      );\n",
       "      this.keyboard_manager.register_events(toinsert);\n",
       "      // Render to node\n",
       "      const props = {data: data, metadata: metadata[EXEC_MIME_TYPE]};\n",
       "      render(props, toinsert[toinsert.length - 1]);\n",
       "      element.append(toinsert);\n",
       "      return toinsert\n",
       "    }\n",
       "\n",
       "    /* Handle when an output is cleared or removed */\n",
       "    events.on('clear_output.CodeCell', handleClearOutput);\n",
       "    events.on('delete.Cell', handleClearOutput);\n",
       "\n",
       "    /* Handle when a new output is added */\n",
       "    events.on('output_added.OutputArea', handleAddOutput);\n",
       "\n",
       "    /**\n",
       "     * Register the mime type and append_mime function with output_area\n",
       "     */\n",
       "    OutputArea.prototype.register_mime_type(EXEC_MIME_TYPE, append_mime, {\n",
       "      /* Is output safe? */\n",
       "      safe: true,\n",
       "      /* Index of renderer in `output_area.display_order` */\n",
       "      index: 0\n",
       "    });\n",
       "  }\n",
       "\n",
       "  // register the mime type if in Jupyter Notebook environment and previously unregistered\n",
       "  if (root.Jupyter !== undefined) {\n",
       "    const events = require('base/js/events');\n",
       "    const OutputArea = require('notebook/js/outputarea').OutputArea;\n",
       "\n",
       "    if (OutputArea.prototype.mime_types().indexOf(EXEC_MIME_TYPE) == -1) {\n",
       "      register_renderer(events, OutputArea);\n",
       "    }\n",
       "  }\n",
       "  if (typeof (root._bokeh_timeout) === \"undefined\" || force === true) {\n",
       "    root._bokeh_timeout = Date.now() + 5000;\n",
       "    root._bokeh_failed_load = false;\n",
       "  }\n",
       "\n",
       "  const NB_LOAD_WARNING = {'data': {'text/html':\n",
       "     \"<div style='background-color: #fdd'>\\n\"+\n",
       "     \"<p>\\n\"+\n",
       "     \"BokehJS does not appear to have successfully loaded. If loading BokehJS from CDN, this \\n\"+\n",
       "     \"may be due to a slow or bad network connection. Possible fixes:\\n\"+\n",
       "     \"</p>\\n\"+\n",
       "     \"<ul>\\n\"+\n",
       "     \"<li>re-rerun `output_notebook()` to attempt to load from CDN again, or</li>\\n\"+\n",
       "     \"<li>use INLINE resources instead, as so:</li>\\n\"+\n",
       "     \"</ul>\\n\"+\n",
       "     \"<code>\\n\"+\n",
       "     \"from bokeh.resources import INLINE\\n\"+\n",
       "     \"output_notebook(resources=INLINE)\\n\"+\n",
       "     \"</code>\\n\"+\n",
       "     \"</div>\"}};\n",
       "\n",
       "  function display_loaded() {\n",
       "    const el = document.getElementById(\"p1001\");\n",
       "    if (el != null) {\n",
       "      el.textContent = \"BokehJS is loading...\";\n",
       "    }\n",
       "    if (root.Bokeh !== undefined) {\n",
       "      if (el != null) {\n",
       "        el.textContent = \"BokehJS \" + root.Bokeh.version + \" successfully loaded.\";\n",
       "      }\n",
       "    } else if (Date.now() < root._bokeh_timeout) {\n",
       "      setTimeout(display_loaded, 100)\n",
       "    }\n",
       "  }\n",
       "\n",
       "  function run_callbacks() {\n",
       "    try {\n",
       "      root._bokeh_onload_callbacks.forEach(function(callback) {\n",
       "        if (callback != null)\n",
       "          callback();\n",
       "      });\n",
       "    } finally {\n",
       "      delete root._bokeh_onload_callbacks\n",
       "    }\n",
       "    console.debug(\"Bokeh: all callbacks have finished\");\n",
       "  }\n",
       "\n",
       "  function load_libs(css_urls, js_urls, callback) {\n",
       "    if (css_urls == null) css_urls = [];\n",
       "    if (js_urls == null) js_urls = [];\n",
       "\n",
       "    root._bokeh_onload_callbacks.push(callback);\n",
       "    if (root._bokeh_is_loading > 0) {\n",
       "      console.debug(\"Bokeh: BokehJS is being loaded, scheduling callback at\", now());\n",
       "      return null;\n",
       "    }\n",
       "    if (js_urls == null || js_urls.length === 0) {\n",
       "      run_callbacks();\n",
       "      return null;\n",
       "    }\n",
       "    console.debug(\"Bokeh: BokehJS not loaded, scheduling load and callback at\", now());\n",
       "    root._bokeh_is_loading = css_urls.length + js_urls.length;\n",
       "\n",
       "    function on_load() {\n",
       "      root._bokeh_is_loading--;\n",
       "      if (root._bokeh_is_loading === 0) {\n",
       "        console.debug(\"Bokeh: all BokehJS libraries/stylesheets loaded\");\n",
       "        run_callbacks()\n",
       "      }\n",
       "    }\n",
       "\n",
       "    function on_error(url) {\n",
       "      console.error(\"failed to load \" + url);\n",
       "    }\n",
       "\n",
       "    for (let i = 0; i < css_urls.length; i++) {\n",
       "      const url = css_urls[i];\n",
       "      const element = document.createElement(\"link\");\n",
       "      element.onload = on_load;\n",
       "      element.onerror = on_error.bind(null, url);\n",
       "      element.rel = \"stylesheet\";\n",
       "      element.type = \"text/css\";\n",
       "      element.href = url;\n",
       "      console.debug(\"Bokeh: injecting link tag for BokehJS stylesheet: \", url);\n",
       "      document.body.appendChild(element);\n",
       "    }\n",
       "\n",
       "    for (let i = 0; i < js_urls.length; i++) {\n",
       "      const url = js_urls[i];\n",
       "      const element = document.createElement('script');\n",
       "      element.onload = on_load;\n",
       "      element.onerror = on_error.bind(null, url);\n",
       "      element.async = false;\n",
       "      element.src = url;\n",
       "      console.debug(\"Bokeh: injecting script tag for BokehJS library: \", url);\n",
       "      document.head.appendChild(element);\n",
       "    }\n",
       "  };\n",
       "\n",
       "  function inject_raw_css(css) {\n",
       "    const element = document.createElement(\"style\");\n",
       "    element.appendChild(document.createTextNode(css));\n",
       "    document.body.appendChild(element);\n",
       "  }\n",
       "\n",
       "  const js_urls = [\"https://cdn.bokeh.org/bokeh/release/bokeh-3.0.2.min.js\", \"https://cdn.bokeh.org/bokeh/release/bokeh-gl-3.0.2.min.js\", \"https://cdn.bokeh.org/bokeh/release/bokeh-widgets-3.0.2.min.js\", \"https://cdn.bokeh.org/bokeh/release/bokeh-tables-3.0.2.min.js\", \"https://cdn.bokeh.org/bokeh/release/bokeh-mathjax-3.0.2.min.js\"];\n",
       "  const css_urls = [];\n",
       "\n",
       "  const inline_js = [    function(Bokeh) {\n",
       "      Bokeh.set_log_level(\"info\");\n",
       "    },\n",
       "function(Bokeh) {\n",
       "    }\n",
       "  ];\n",
       "\n",
       "  function run_inline_js() {\n",
       "    if (root.Bokeh !== undefined || force === true) {\n",
       "          for (let i = 0; i < inline_js.length; i++) {\n",
       "      inline_js[i].call(root, root.Bokeh);\n",
       "    }\n",
       "if (force === true) {\n",
       "        display_loaded();\n",
       "      }} else if (Date.now() < root._bokeh_timeout) {\n",
       "      setTimeout(run_inline_js, 100);\n",
       "    } else if (!root._bokeh_failed_load) {\n",
       "      console.log(\"Bokeh: BokehJS failed to load within specified timeout.\");\n",
       "      root._bokeh_failed_load = true;\n",
       "    } else if (force !== true) {\n",
       "      const cell = $(document.getElementById(\"p1001\")).parents('.cell').data().cell;\n",
       "      cell.output_area.append_execute_result(NB_LOAD_WARNING)\n",
       "    }\n",
       "  }\n",
       "\n",
       "  if (root._bokeh_is_loading === 0) {\n",
       "    console.debug(\"Bokeh: BokehJS loaded, going straight to plotting\");\n",
       "    run_inline_js();\n",
       "  } else {\n",
       "    load_libs(css_urls, js_urls, function() {\n",
       "      console.debug(\"Bokeh: BokehJS plotting callback run at\", now());\n",
       "      run_inline_js();\n",
       "    });\n",
       "  }\n",
       "}(window));"
      ],
      "application/vnd.bokehjs_load.v0+json": "(function(root) {\n  function now() {\n    return new Date();\n  }\n\n  const force = true;\n\n  if (typeof root._bokeh_onload_callbacks === \"undefined\" || force === true) {\n    root._bokeh_onload_callbacks = [];\n    root._bokeh_is_loading = undefined;\n  }\n\n\n  if (typeof (root._bokeh_timeout) === \"undefined\" || force === true) {\n    root._bokeh_timeout = Date.now() + 5000;\n    root._bokeh_failed_load = false;\n  }\n\n  const NB_LOAD_WARNING = {'data': {'text/html':\n     \"<div style='background-color: #fdd'>\\n\"+\n     \"<p>\\n\"+\n     \"BokehJS does not appear to have successfully loaded. If loading BokehJS from CDN, this \\n\"+\n     \"may be due to a slow or bad network connection. Possible fixes:\\n\"+\n     \"</p>\\n\"+\n     \"<ul>\\n\"+\n     \"<li>re-rerun `output_notebook()` to attempt to load from CDN again, or</li>\\n\"+\n     \"<li>use INLINE resources instead, as so:</li>\\n\"+\n     \"</ul>\\n\"+\n     \"<code>\\n\"+\n     \"from bokeh.resources import INLINE\\n\"+\n     \"output_notebook(resources=INLINE)\\n\"+\n     \"</code>\\n\"+\n     \"</div>\"}};\n\n  function display_loaded() {\n    const el = document.getElementById(\"p1001\");\n    if (el != null) {\n      el.textContent = \"BokehJS is loading...\";\n    }\n    if (root.Bokeh !== undefined) {\n      if (el != null) {\n        el.textContent = \"BokehJS \" + root.Bokeh.version + \" successfully loaded.\";\n      }\n    } else if (Date.now() < root._bokeh_timeout) {\n      setTimeout(display_loaded, 100)\n    }\n  }\n\n  function run_callbacks() {\n    try {\n      root._bokeh_onload_callbacks.forEach(function(callback) {\n        if (callback != null)\n          callback();\n      });\n    } finally {\n      delete root._bokeh_onload_callbacks\n    }\n    console.debug(\"Bokeh: all callbacks have finished\");\n  }\n\n  function load_libs(css_urls, js_urls, callback) {\n    if (css_urls == null) css_urls = [];\n    if (js_urls == null) js_urls = [];\n\n    root._bokeh_onload_callbacks.push(callback);\n    if (root._bokeh_is_loading > 0) {\n      console.debug(\"Bokeh: BokehJS is being loaded, scheduling callback at\", now());\n      return null;\n    }\n    if (js_urls == null || js_urls.length === 0) {\n      run_callbacks();\n      return null;\n    }\n    console.debug(\"Bokeh: BokehJS not loaded, scheduling load and callback at\", now());\n    root._bokeh_is_loading = css_urls.length + js_urls.length;\n\n    function on_load() {\n      root._bokeh_is_loading--;\n      if (root._bokeh_is_loading === 0) {\n        console.debug(\"Bokeh: all BokehJS libraries/stylesheets loaded\");\n        run_callbacks()\n      }\n    }\n\n    function on_error(url) {\n      console.error(\"failed to load \" + url);\n    }\n\n    for (let i = 0; i < css_urls.length; i++) {\n      const url = css_urls[i];\n      const element = document.createElement(\"link\");\n      element.onload = on_load;\n      element.onerror = on_error.bind(null, url);\n      element.rel = \"stylesheet\";\n      element.type = \"text/css\";\n      element.href = url;\n      console.debug(\"Bokeh: injecting link tag for BokehJS stylesheet: \", url);\n      document.body.appendChild(element);\n    }\n\n    for (let i = 0; i < js_urls.length; i++) {\n      const url = js_urls[i];\n      const element = document.createElement('script');\n      element.onload = on_load;\n      element.onerror = on_error.bind(null, url);\n      element.async = false;\n      element.src = url;\n      console.debug(\"Bokeh: injecting script tag for BokehJS library: \", url);\n      document.head.appendChild(element);\n    }\n  };\n\n  function inject_raw_css(css) {\n    const element = document.createElement(\"style\");\n    element.appendChild(document.createTextNode(css));\n    document.body.appendChild(element);\n  }\n\n  const js_urls = [\"https://cdn.bokeh.org/bokeh/release/bokeh-3.0.2.min.js\", \"https://cdn.bokeh.org/bokeh/release/bokeh-gl-3.0.2.min.js\", \"https://cdn.bokeh.org/bokeh/release/bokeh-widgets-3.0.2.min.js\", \"https://cdn.bokeh.org/bokeh/release/bokeh-tables-3.0.2.min.js\", \"https://cdn.bokeh.org/bokeh/release/bokeh-mathjax-3.0.2.min.js\"];\n  const css_urls = [];\n\n  const inline_js = [    function(Bokeh) {\n      Bokeh.set_log_level(\"info\");\n    },\nfunction(Bokeh) {\n    }\n  ];\n\n  function run_inline_js() {\n    if (root.Bokeh !== undefined || force === true) {\n          for (let i = 0; i < inline_js.length; i++) {\n      inline_js[i].call(root, root.Bokeh);\n    }\nif (force === true) {\n        display_loaded();\n      }} else if (Date.now() < root._bokeh_timeout) {\n      setTimeout(run_inline_js, 100);\n    } else if (!root._bokeh_failed_load) {\n      console.log(\"Bokeh: BokehJS failed to load within specified timeout.\");\n      root._bokeh_failed_load = true;\n    } else if (force !== true) {\n      const cell = $(document.getElementById(\"p1001\")).parents('.cell').data().cell;\n      cell.output_area.append_execute_result(NB_LOAD_WARNING)\n    }\n  }\n\n  if (root._bokeh_is_loading === 0) {\n    console.debug(\"Bokeh: BokehJS loaded, going straight to plotting\");\n    run_inline_js();\n  } else {\n    load_libs(css_urls, js_urls, function() {\n      console.debug(\"Bokeh: BokehJS plotting callback run at\", now());\n      run_inline_js();\n    });\n  }\n}(window));"
     },
     "metadata": {},
     "output_type": "display_data"
    }
   ],
   "source": [
    "from bokeh.io import output_notebook \n",
    "from bokeh.plotting import show, figure\n",
    "output_notebook()\n",
    "import numpy as np\n",
    "import pandas as pd\n",
    "import astropy.units as u\n",
    "\n",
    "#cloud code\n",
    "import virga.justdoit as jdi\n",
    "import virga.justplotit as jpi\n"
   ]
  },
  {
   "cell_type": "markdown",
   "metadata": {},
   "source": [
    "Initial parameters we will keep fixed for the tutorial"
   ]
  },
  {
   "cell_type": "code",
   "execution_count": 2,
   "metadata": {
    "execution": {
     "iopub.execute_input": "2024-04-02T04:44:27.619549Z",
     "iopub.status.busy": "2024-04-02T04:44:27.619222Z",
     "iopub.status.idle": "2024-04-02T04:44:27.622198Z",
     "shell.execute_reply": "2024-04-02T04:44:27.621719Z"
    }
   },
   "outputs": [],
   "source": [
    "mieff_directory = '/data/virga/'\n",
    "fsed = 0.3\n",
    "metallicity = 1 #atmospheric metallicity relative to Solar\n",
    "mean_molecular_weight = 2.2 # atmospheric mean molecular weight"
   ]
  },
  {
   "cell_type": "markdown",
   "metadata": {},
   "source": [
    "## Toy Model: Supply Constant K$_z$"
   ]
  },
  {
   "cell_type": "code",
   "execution_count": 3,
   "metadata": {
    "execution": {
     "iopub.execute_input": "2024-04-02T04:44:27.626304Z",
     "iopub.status.busy": "2024-04-02T04:44:27.626052Z",
     "iopub.status.idle": "2024-04-02T04:44:27.629717Z",
     "shell.execute_reply": "2024-04-02T04:44:27.629216Z"
    }
   },
   "outputs": [],
   "source": [
    "sum_planet = jdi.Atmosphere(['KCl', 'MgSiO3'],fsed=fsed,mh=metallicity,\n",
    "                 mmw = mean_molecular_weight)\n",
    "sum_planet.gravity(gravity=100.00, gravity_unit=u.Unit('m/(s**2)'))"
   ]
  },
  {
   "cell_type": "code",
   "execution_count": 4,
   "metadata": {
    "execution": {
     "iopub.execute_input": "2024-04-02T04:44:27.632918Z",
     "iopub.status.busy": "2024-04-02T04:44:27.632664Z",
     "iopub.status.idle": "2024-04-02T04:44:27.639698Z",
     "shell.execute_reply": "2024-04-02T04:44:27.639183Z"
    }
   },
   "outputs": [],
   "source": [
    "constant_kz = 1e10\n",
    "df = jdi.brown_dwarf()\n",
    "sum_planet.ptk(df = df.loc[:,['pressure','temperature']],constant_kz = constant_kz) "
   ]
  },
  {
   "cell_type": "code",
   "execution_count": 5,
   "metadata": {
    "execution": {
     "iopub.execute_input": "2024-04-02T04:44:27.642335Z",
     "iopub.status.busy": "2024-04-02T04:44:27.642090Z",
     "iopub.status.idle": "2024-04-02T04:44:30.184659Z",
     "shell.execute_reply": "2024-04-02T04:44:30.184028Z"
    }
   },
   "outputs": [],
   "source": [
    "out_constant = sum_planet.compute(as_dict=True, \n",
    "                               directory=mieff_directory)"
   ]
  },
  {
   "cell_type": "markdown",
   "metadata": {},
   "source": [
    "## Informed: Compute K$_z$ from convective heat flux \n",
    "\n",
    "The convective heat flux is supplied through an external radiative transfer model which partitions the transport of interior heat between radiative and convective fluxes. As an example, we will upload one from the Sonora Grid. "
   ]
  },
  {
   "cell_type": "code",
   "execution_count": 6,
   "metadata": {
    "execution": {
     "iopub.execute_input": "2024-04-02T04:44:30.189140Z",
     "iopub.status.busy": "2024-04-02T04:44:30.188869Z",
     "iopub.status.idle": "2024-04-02T04:44:32.732824Z",
     "shell.execute_reply": "2024-04-02T04:44:32.731946Z"
    }
   },
   "outputs": [],
   "source": [
    "df = jdi.brown_dwarf()\n",
    "sum_planet = jdi.Atmosphere(['MgSiO3','KCl'],fsed=fsed,mh=metallicity,\n",
    "                 mmw = mean_molecular_weight)\n",
    "sum_planet.gravity(gravity=100.00, gravity_unit=u.Unit('m/(s**2)'))\n",
    "sum_planet.ptk(df=df)\n",
    "out_chf = sum_planet.compute(as_dict=True, \n",
    "                               directory=mieff_directory)"
   ]
  },
  {
   "cell_type": "markdown",
   "metadata": {},
   "source": [
    "### Turn on correction for latent heat"
   ]
  },
  {
   "cell_type": "code",
   "execution_count": 7,
   "metadata": {
    "execution": {
     "iopub.execute_input": "2024-04-02T04:44:32.737047Z",
     "iopub.status.busy": "2024-04-02T04:44:32.736797Z",
     "iopub.status.idle": "2024-04-02T04:44:35.285514Z",
     "shell.execute_reply": "2024-04-02T04:44:35.284594Z"
    }
   },
   "outputs": [],
   "source": [
    "sum_planet = jdi.Atmosphere(['MgSiO3','KCl'],fsed=fsed,mh=metallicity,\n",
    "                 mmw = mean_molecular_weight)\n",
    "sum_planet.gravity(gravity=100.00, gravity_unit=u.Unit('m/(s**2)'))\n",
    "sum_planet.ptk(df = df, latent_heat=True)\n",
    "out_latent = sum_planet.compute(as_dict=True, \n",
    "                               directory=mieff_directory)"
   ]
  },
  {
   "cell_type": "markdown",
   "metadata": {},
   "source": [
    "### Turn on correction for latent heat & convective overshoot"
   ]
  },
  {
   "cell_type": "code",
   "execution_count": 8,
   "metadata": {
    "execution": {
     "iopub.execute_input": "2024-04-02T04:44:35.290123Z",
     "iopub.status.busy": "2024-04-02T04:44:35.289841Z",
     "iopub.status.idle": "2024-04-02T04:44:37.872665Z",
     "shell.execute_reply": "2024-04-02T04:44:37.871958Z"
    }
   },
   "outputs": [],
   "source": [
    "sum_planet = jdi.Atmosphere(['MgSiO3','KCl'],fsed=fsed,mh=metallicity,\n",
    "                 mmw = mean_molecular_weight)\n",
    "sum_planet.gravity(gravity=100.00, gravity_unit=u.Unit('m/(s**2)'))\n",
    "sum_planet.ptk(df = df, latent_heat=True, convective_overshoot=1/3.)\n",
    "out_latent_cos = sum_planet.compute(as_dict=True, \n",
    "                               directory=mieff_directory)"
   ]
  },
  {
   "cell_type": "markdown",
   "metadata": {},
   "source": [
    "## Analyze different $K_z$ formalism via convective heat flux"
   ]
  },
  {
   "cell_type": "code",
   "execution_count": 9,
   "metadata": {
    "execution": {
     "iopub.execute_input": "2024-04-02T04:44:37.877247Z",
     "iopub.status.busy": "2024-04-02T04:44:37.876957Z",
     "iopub.status.idle": "2024-04-02T04:44:37.968704Z",
     "shell.execute_reply": "2024-04-02T04:44:37.968244Z"
    }
   },
   "outputs": [
    {
     "data": {
      "text/html": [
       "\n",
       "  <div id=\"4fd48225-fc01-497e-a5ba-ea4bfef947d9\" data-root-id=\"p1002\" style=\"display: contents;\"></div>\n"
      ]
     },
     "metadata": {},
     "output_type": "display_data"
    },
    {
     "data": {
      "application/javascript": [
       "(function(root) {\n",
       "  function embed_document(root) {\n",
       "  const docs_json = {\"2ecff1fc-08c4-49e2-9045-e644f5aec269\":{\"version\":\"3.0.2\",\"title\":\"Bokeh Application\",\"defs\":[],\"roots\":[{\"type\":\"object\",\"name\":\"Figure\",\"id\":\"p1002\",\"attributes\":{\"height\":250,\"x_range\":{\"type\":\"object\",\"name\":\"Range1d\",\"id\":\"p1011\",\"attributes\":{\"start\":100000000.0,\"end\":500000000000.0}},\"y_range\":{\"type\":\"object\",\"name\":\"Range1d\",\"id\":\"p1013\",\"attributes\":{\"start\":100.0,\"end\":1e-06}},\"x_scale\":{\"type\":\"object\",\"name\":\"LogScale\",\"id\":\"p1015\"},\"y_scale\":{\"type\":\"object\",\"name\":\"LogScale\",\"id\":\"p1017\"},\"title\":{\"type\":\"object\",\"name\":\"Title\",\"id\":\"p1009\"},\"renderers\":[{\"type\":\"object\",\"name\":\"GlyphRenderer\",\"id\":\"p1054\",\"attributes\":{\"data_source\":{\"type\":\"object\",\"name\":\"ColumnDataSource\",\"id\":\"p1048\",\"attributes\":{\"selected\":{\"type\":\"object\",\"name\":\"Selection\",\"id\":\"p1050\",\"attributes\":{\"indices\":[],\"line_indices\":[]}},\"selection_policy\":{\"type\":\"object\",\"name\":\"UnionRenderers\",\"id\":\"p1049\"},\"data\":{\"type\":\"map\",\"entries\":[[\"x\",{\"type\":\"ndarray\",\"array\":{\"type\":\"bytes\",\"data\":\"AAAAIF+gAkIAAAAgX6ACQgAAACBfoAJCAAAAIF+gAkIAAAAgX6ACQgAAACBfoAJCAAAAIF+gAkIAAAAgX6ACQgAAACBfoAJCAAAAIF+gAkIAAAAgX6ACQgAAACBfoAJCAAAAIF+gAkIAAAAgX6ACQgAAACBfoAJCAAAAIF+gAkIAAAAgX6ACQgAAACBfoAJCAAAAIF+gAkIAAAAgX6ACQgAAACBfoAJCAAAAIF+gAkIAAAAgX6ACQgAAACBfoAJCAAAAIF+gAkIAAAAgX6ACQgAAACBfoAJCAAAAIF+gAkIAAAAgX6ACQgAAACBfoAJCAAAAIF+gAkIAAAAgX6ACQgAAACBfoAJCAAAAIF+gAkIAAAAgX6ACQgAAACBfoAJCAAAAIF+gAkIAAAAgX6ACQgAAACBfoAJCAAAAIF+gAkIAAAAgX6ACQgAAACBfoAJCAAAAIF+gAkIAAAAgX6ACQgAAACBfoAJCAAAAIF+gAkIAAAAgX6ACQgAAACBfoAJCAAAAIF+gAkIAAAAgX6ACQgAAACBfoAJCAAAAIF+gAkIAAAAgX6ACQgAAACBfoAJCAAAAIF+gAkIAAAAgX6ACQgAAACBfoAJCAAAAIF+gAkIAAAAgX6ACQgAAACBfoAJCAAAAIF+gAkIAAAAgX6ACQgAAACBfoAJCAAAAIF+gAkIAAAAgX6ACQgAAACBfoAJCAAAAIF+gAkIAAAAgX6ACQgAAACBfoAJCAAAAIF+gAkIAAAAgX6ACQgAAACBfoAJCAAAAIF+gAkIAAAAgX6ACQgAAACBfoAJCAAAAIF+gAkIAAAAgX6ACQgAAACBfoAJCAAAAIF+gAkIAAAAgX6ACQgAAACBfoAJCAAAAIF+gAkIAAAAgX6ACQgAAACBfoAJCAAAAIF+gAkIAAAAgX6ACQgAAACBfoAJCAAAAIF+gAkIAAAAgX6ACQgAAACBfoAJC\"},\"shape\":[90],\"dtype\":\"float64\",\"order\":\"little\"}],[\"y\",{\"type\":\"ndarray\",\"array\":{\"type\":\"bytes\",\"data\":\"0dYce1EWKT+ZaVYRyessP/lahu5IqzA/k7quqT02Mz/ZhwZzBSU2P+7MBMO5hjk/vz9KkSFsPT/a4a/JGvVAPwL0+/7Ni0M/oB+hwQGIRj/YbhaKz/hJP3ttkQ/V700/en/NgwVBUT8vRD0zd+NTP6uYSj/h7FY/ficcMP5sWj9v57Ec13VeP/JdSl0yjmE/MtXdhmI8ZD/EIitkU1NnP60mPi314mo/ZN3TMNf9bj9DfSZWodxxP4ncwqnFlnQ/BqYudIC7dz9V10bhH1t7P2Wire9oiH8/1x5R/HMsgj9MQtjfyPKEPzyxPWmXJYg/aUVAKmrViz/WU6uvrgqQP7Y8xWC0fZI/Kq0a33JQlT9eSl0yjpGYP/RqJRneUZw/T5ph/mVSoD/cWQV7XdCiP3V2jfG8r6U/bXGNz2T/qD+Z9PdSeNCsPx1jOOhcm7A/e9tMhXgksz+Jbqx6rxC2P5qLCXskb7k/ZFkw8UdRvT/yVCwjmuXAP9adOMoLesM//sQSIFRzxj8s8uuH2ODJP53y6EZY1M0/Ekza+SMx0T+dR8X/HdHTP4ggvZex19Y/E6tQ7ohU2j9AQK1YslneP63tNyT/feE/ecK3VbUp5D/eoRekzz3nP+BrY0c+yuo/IxQAiGDh7j8KFuLsMczxP1CavLfYg/Q/8E4+Pbal9z/6fg8DAkL7P+wX7IZta/8/kL8PYsIbAkBdXsoKj98EQLw3K0dtDwhAC2t0GN27C0DlNPqH4/cPQLXu1X22bBJAyIkbXN88FUDBSvTo/HoYQH96fffYNxxA73eDw2ZDIEDAhMCAFL8iQKeIHdfQmyVAvWU9a23oKECz8iYa/7UsQEasDzUbjDBAx9nPveISM0DPOMPDavw1QPkboyvHVzlAqD5GL1k2PUDGzsqsFNZAQIdZw6AnaENAyKe2irReRkC7KeW1EslJQN50yw7xuE1A\"},\"shape\":[90],\"dtype\":\"float64\",\"order\":\"little\"}]]}}},\"view\":{\"type\":\"object\",\"name\":\"CDSView\",\"id\":\"p1055\",\"attributes\":{\"filter\":{\"type\":\"object\",\"name\":\"AllIndices\",\"id\":\"p1056\"}}},\"glyph\":{\"type\":\"object\",\"name\":\"Line\",\"id\":\"p1051\",\"attributes\":{\"x\":{\"type\":\"field\",\"field\":\"x\"},\"y\":{\"type\":\"field\",\"field\":\"y\"},\"line_color\":\"#0072B2\",\"line_width\":3}},\"nonselection_glyph\":{\"type\":\"object\",\"name\":\"Line\",\"id\":\"p1052\",\"attributes\":{\"x\":{\"type\":\"field\",\"field\":\"x\"},\"y\":{\"type\":\"field\",\"field\":\"y\"},\"line_color\":\"#0072B2\",\"line_alpha\":0.1,\"line_width\":3}},\"muted_glyph\":{\"type\":\"object\",\"name\":\"Line\",\"id\":\"p1053\",\"attributes\":{\"x\":{\"type\":\"field\",\"field\":\"x\"},\"y\":{\"type\":\"field\",\"field\":\"y\"},\"line_color\":\"#0072B2\",\"line_alpha\":0.2,\"line_width\":3}}}},{\"type\":\"object\",\"name\":\"GlyphRenderer\",\"id\":\"p1079\",\"attributes\":{\"data_source\":{\"type\":\"object\",\"name\":\"ColumnDataSource\",\"id\":\"p1073\",\"attributes\":{\"selected\":{\"type\":\"object\",\"name\":\"Selection\",\"id\":\"p1075\",\"attributes\":{\"indices\":[],\"line_indices\":[]}},\"selection_policy\":{\"type\":\"object\",\"name\":\"UnionRenderers\",\"id\":\"p1074\"},\"data\":{\"type\":\"map\",\"entries\":[[\"x\",[4109382653.2047653,4097057987.5994196,3836047192.5216184,3623239778.775147,3447900213.953578,3291333704.408774,3147875316.9202905,3014506773.9288526,2889983423.1786423,2773049541.426711,2662999917.03717,2559258396.6172175,2461119978.2291465,2368060643.5131774,2279898766.706833,2196231015.1026554,2116648781.379874,2040835154.1142926,1968502616.5712514,1899367109.89534,1833304726.6186216,1770153419.920003,1709865616.196419,1652348857.7222352,1597457519.7151856,1545204469.1479015,1495416616.5673518,1448136014.697525,1403221159.1914113,1360786051.151537,1320885843.1254041,1283441052.1811178,1248343775.565482,1215432387.0759401,1184579847.5874224,1155765686.9079962,1128940815.845938,1104150758.3986123,1081405556.6364307,1060571860.9245037,1041639308.0336094,1024510950.6737306,1009084153.0106957,995268599.4831464,983028375.2888185,972544824.0577109,963801920.3749794,956637192.7016867,951210513.3826773,947485003.4377254,944964246.2237132,943290164.533723,942862432.4277976,943243535.7361217,943126208.0539484,941500474.2157167,938274791.6771209,933542574.7234038,927108769.6930054,919113270.5529807,909704348.3101907,898823712.9519875,886882096.8768426,874640381.38835,862601195.9611098,850890047.2504748,839570882.5238006,828630173.9051013,818138139.6868994,808563960.9653205,800499831.0610853,794719885.5725603,5160445420.647084,7355497937.0382185,8872277114.128876,10099006174.535234,10876797265.688988,11276562898.175196,11525168782.07933,11657421879.11674,11751351347.188131,11826886504.861694,11872821661.588942,11893443796.484482,11893438840.490345,11870107886.829363,11825348343.172867,11762353964.053343,11683658971.521633,11694267368.535051]],[\"y\",{\"type\":\"ndarray\",\"array\":{\"type\":\"bytes\",\"data\":\"0dYce1EWKT+ZaVYRyessP/lahu5IqzA/k7quqT02Mz/ZhwZzBSU2P+7MBMO5hjk/vz9KkSFsPT/a4a/JGvVAPwL0+/7Ni0M/oB+hwQGIRj/YbhaKz/hJP3ttkQ/V700/en/NgwVBUT8vRD0zd+NTP6uYSj/h7FY/ficcMP5sWj9v57Ec13VeP/JdSl0yjmE/MtXdhmI8ZD/EIitkU1NnP60mPi314mo/ZN3TMNf9bj9DfSZWodxxP4ncwqnFlnQ/BqYudIC7dz9V10bhH1t7P2Wire9oiH8/1x5R/HMsgj9MQtjfyPKEPzyxPWmXJYg/aUVAKmrViz/WU6uvrgqQP7Y8xWC0fZI/Kq0a33JQlT9eSl0yjpGYP/RqJRneUZw/T5ph/mVSoD/cWQV7XdCiP3V2jfG8r6U/bXGNz2T/qD+Z9PdSeNCsPx1jOOhcm7A/e9tMhXgksz+Jbqx6rxC2P5qLCXskb7k/ZFkw8UdRvT/yVCwjmuXAP9adOMoLesM//sQSIFRzxj8s8uuH2ODJP53y6EZY1M0/Ekza+SMx0T+dR8X/HdHTP4ggvZex19Y/E6tQ7ohU2j9AQK1YslneP63tNyT/feE/ecK3VbUp5D/eoRekzz3nP+BrY0c+yuo/IxQAiGDh7j8KFuLsMczxP1CavLfYg/Q/8E4+Pbal9z/6fg8DAkL7P+wX7IZta/8/kL8PYsIbAkBdXsoKj98EQLw3K0dtDwhAC2t0GN27C0DlNPqH4/cPQLXu1X22bBJAyIkbXN88FUDBSvTo/HoYQH96fffYNxxA73eDw2ZDIEDAhMCAFL8iQKeIHdfQmyVAvWU9a23oKECz8iYa/7UsQEasDzUbjDBAx9nPveISM0DPOMPDavw1QPkboyvHVzlAqD5GL1k2PUDGzsqsFNZAQIdZw6AnaENAyKe2irReRkC7KeW1EslJQN50yw7xuE1A\"},\"shape\":[90],\"dtype\":\"float64\",\"order\":\"little\"}]]}}},\"view\":{\"type\":\"object\",\"name\":\"CDSView\",\"id\":\"p1080\",\"attributes\":{\"filter\":{\"type\":\"object\",\"name\":\"AllIndices\",\"id\":\"p1081\"}}},\"glyph\":{\"type\":\"object\",\"name\":\"Line\",\"id\":\"p1076\",\"attributes\":{\"x\":{\"type\":\"field\",\"field\":\"x\"},\"y\":{\"type\":\"field\",\"field\":\"y\"},\"line_color\":\"#E69F00\",\"line_width\":3}},\"nonselection_glyph\":{\"type\":\"object\",\"name\":\"Line\",\"id\":\"p1077\",\"attributes\":{\"x\":{\"type\":\"field\",\"field\":\"x\"},\"y\":{\"type\":\"field\",\"field\":\"y\"},\"line_color\":\"#E69F00\",\"line_alpha\":0.1,\"line_width\":3}},\"muted_glyph\":{\"type\":\"object\",\"name\":\"Line\",\"id\":\"p1078\",\"attributes\":{\"x\":{\"type\":\"field\",\"field\":\"x\"},\"y\":{\"type\":\"field\",\"field\":\"y\"},\"line_color\":\"#E69F00\",\"line_alpha\":0.2,\"line_width\":3}}}},{\"type\":\"object\",\"name\":\"GlyphRenderer\",\"id\":\"p1108\",\"attributes\":{\"data_source\":{\"type\":\"object\",\"name\":\"ColumnDataSource\",\"id\":\"p1102\",\"attributes\":{\"selected\":{\"type\":\"object\",\"name\":\"Selection\",\"id\":\"p1104\",\"attributes\":{\"indices\":[],\"line_indices\":[]}},\"selection_policy\":{\"type\":\"object\",\"name\":\"UnionRenderers\",\"id\":\"p1103\"},\"data\":{\"type\":\"map\",\"entries\":[[\"x\",[190740646.361573,190168586.05905515,224019975.2554764,247449900.57530627,264148370.08526865,281733265.38123256,296679031.95963055,306946818.160308,318436819.9137023,324640673.4388269,330612823.6617093,335107249.8405359,334494099.4358173,335503809.89768934,334848338.9078242,332767167.5557203,326652229.415029,321272536.62260985,315011628.516116,306277494.9869717,300917182.54677576,296082035.9737554,292700872.0559229,290489028.15879977,289261763.316806,289614247.0242993,291320904.1522852,294910746.8416886,298291500.31895226,309458267.7428919,320517761.6256526,332523212.47331095,344332889.1253855,355857495.5599825,368051358.3431809,380851565.1821416,396915153.37318337,416393800.0278709,435402891.1325291,455627512.8802576,477333629.9656513,498648418.6509004,519915689.272396,541046186.5345815,565008711.3883802,596407962.8045615,625039057.8029948,652064860.2278463,691811363.5659353,723058448.5116217,741641781.4047301,759764064.2649931,797170969.1975346,800484003.7628317,773619675.9612343,729491282.0430192,694159852.2710735,653511007.8585091,609427534.6451946,571050067.0720357,533244060.56229997,491269450.71243536,468359859.0306079,458912842.2269039,455856811.3910694,453991488.19643843,452694073.1486685,451714945.15984,453945245.99819577,472013237.01098734,503158719.1030165,556214808.7745475,4515841054.215216,6616388070.170545,7888039933.738384,8833807846.457722,9372646317.33985,9576798442.70995,9569207222.369333,9472483037.912376,9357222175.275206,9159413082.057804,8912222146.259476,8680823403.664587,8439945031.076669,8104432795.853662,7796091159.977557,7503783091.817144,7219105440.681245,6977489605.677495]],[\"y\",{\"type\":\"ndarray\",\"array\":{\"type\":\"bytes\",\"data\":\"0dYce1EWKT+ZaVYRyessP/lahu5IqzA/k7quqT02Mz/ZhwZzBSU2P+7MBMO5hjk/vz9KkSFsPT/a4a/JGvVAPwL0+/7Ni0M/oB+hwQGIRj/YbhaKz/hJP3ttkQ/V700/en/NgwVBUT8vRD0zd+NTP6uYSj/h7FY/ficcMP5sWj9v57Ec13VeP/JdSl0yjmE/MtXdhmI8ZD/EIitkU1NnP60mPi314mo/ZN3TMNf9bj9DfSZWodxxP4ncwqnFlnQ/BqYudIC7dz9V10bhH1t7P2Wire9oiH8/1x5R/HMsgj9MQtjfyPKEPzyxPWmXJYg/aUVAKmrViz/WU6uvrgqQP7Y8xWC0fZI/Kq0a33JQlT9eSl0yjpGYP/RqJRneUZw/T5ph/mVSoD/cWQV7XdCiP3V2jfG8r6U/bXGNz2T/qD+Z9PdSeNCsPx1jOOhcm7A/e9tMhXgksz+Jbqx6rxC2P5qLCXskb7k/ZFkw8UdRvT/yVCwjmuXAP9adOMoLesM//sQSIFRzxj8s8uuH2ODJP53y6EZY1M0/Ekza+SMx0T+dR8X/HdHTP4ggvZex19Y/E6tQ7ohU2j9AQK1YslneP63tNyT/feE/ecK3VbUp5D/eoRekzz3nP+BrY0c+yuo/IxQAiGDh7j8KFuLsMczxP1CavLfYg/Q/8E4+Pbal9z/6fg8DAkL7P+wX7IZta/8/kL8PYsIbAkBdXsoKj98EQLw3K0dtDwhAC2t0GN27C0DlNPqH4/cPQLXu1X22bBJAyIkbXN88FUDBSvTo/HoYQH96fffYNxxA73eDw2ZDIEDAhMCAFL8iQKeIHdfQmyVAvWU9a23oKECz8iYa/7UsQEasDzUbjDBAx9nPveISM0DPOMPDavw1QPkboyvHVzlAqD5GL1k2PUDGzsqsFNZAQIdZw6AnaENAyKe2irReRkC7KeW1EslJQN50yw7xuE1A\"},\"shape\":[90],\"dtype\":\"float64\",\"order\":\"little\"}]]}}},\"view\":{\"type\":\"object\",\"name\":\"CDSView\",\"id\":\"p1109\",\"attributes\":{\"filter\":{\"type\":\"object\",\"name\":\"AllIndices\",\"id\":\"p1110\"}}},\"glyph\":{\"type\":\"object\",\"name\":\"Line\",\"id\":\"p1105\",\"attributes\":{\"x\":{\"type\":\"field\",\"field\":\"x\"},\"y\":{\"type\":\"field\",\"field\":\"y\"},\"line_color\":\"#F0E442\",\"line_width\":3}},\"nonselection_glyph\":{\"type\":\"object\",\"name\":\"Line\",\"id\":\"p1106\",\"attributes\":{\"x\":{\"type\":\"field\",\"field\":\"x\"},\"y\":{\"type\":\"field\",\"field\":\"y\"},\"line_color\":\"#F0E442\",\"line_alpha\":0.1,\"line_width\":3}},\"muted_glyph\":{\"type\":\"object\",\"name\":\"Line\",\"id\":\"p1107\",\"attributes\":{\"x\":{\"type\":\"field\",\"field\":\"x\"},\"y\":{\"type\":\"field\",\"field\":\"y\"},\"line_color\":\"#F0E442\",\"line_alpha\":0.2,\"line_width\":3}}}},{\"type\":\"object\",\"name\":\"GlyphRenderer\",\"id\":\"p1142\",\"attributes\":{\"data_source\":{\"type\":\"object\",\"name\":\"ColumnDataSource\",\"id\":\"p1136\",\"attributes\":{\"selected\":{\"type\":\"object\",\"name\":\"Selection\",\"id\":\"p1138\",\"attributes\":{\"indices\":[],\"line_indices\":[]}},\"selection_policy\":{\"type\":\"object\",\"name\":\"UnionRenderers\",\"id\":\"p1137\"},\"data\":{\"type\":\"map\",\"entries\":[[\"x\",[190740646.361573,190168586.05905515,224019975.2554764,247449900.57530627,264148370.08526865,281733265.38123256,296679031.95963055,306946818.160308,318436819.9137023,324640673.4388269,330612823.6617093,335107249.8405359,334494099.4358173,335503809.89768934,334848338.9078242,332767167.5557203,326652229.415029,321272536.62260985,315011628.516116,306277494.9869717,300917182.54677576,296082035.9737554,292700872.0559229,290489028.15879977,289261763.316806,289614247.0242993,291320904.1522852,294910746.8416886,298291500.31895226,309458267.7428919,320517761.6256526,332523212.47331095,344332889.1253855,355857495.5599825,368051358.3431809,380851565.1821416,396915153.37318337,416393800.0278709,435402891.1325291,455627512.8802576,477333629.9656513,498648418.6509004,519915689.272396,541046186.5345815,565008711.3883802,596407962.8045615,625039057.8029948,652064860.2278463,691811363.5659353,723058448.5116217,741641781.4047301,759764064.2649931,797170969.1975346,800484003.7628317,773619675.9612343,729491282.0430192,694159852.2710735,653511007.8585091,609427534.6451946,571050067.0720357,533244060.56229997,491269450.71243536,468359859.0306079,458912842.2269039,455856811.3910694,453991488.19643843,452694073.1486685,451714945.15984,564972987.7625219,888301255.114856,1431803829.2920144,2393018960.0592465,4515841054.215216,6616388070.170545,7888039933.738384,8833807846.457722,9372646317.33985,9576798442.70995,9569207222.369333,9472483037.912376,9357222175.275206,9159413082.057804,8912222146.259476,8680823403.664587,8439945031.076669,8104432795.853662,7796091159.977557,7503783091.817144,7219105440.681245,6977489605.677495]],[\"y\",{\"type\":\"ndarray\",\"array\":{\"type\":\"bytes\",\"data\":\"0dYce1EWKT+ZaVYRyessP/lahu5IqzA/k7quqT02Mz/ZhwZzBSU2P+7MBMO5hjk/vz9KkSFsPT/a4a/JGvVAPwL0+/7Ni0M/oB+hwQGIRj/YbhaKz/hJP3ttkQ/V700/en/NgwVBUT8vRD0zd+NTP6uYSj/h7FY/ficcMP5sWj9v57Ec13VeP/JdSl0yjmE/MtXdhmI8ZD/EIitkU1NnP60mPi314mo/ZN3TMNf9bj9DfSZWodxxP4ncwqnFlnQ/BqYudIC7dz9V10bhH1t7P2Wire9oiH8/1x5R/HMsgj9MQtjfyPKEPzyxPWmXJYg/aUVAKmrViz/WU6uvrgqQP7Y8xWC0fZI/Kq0a33JQlT9eSl0yjpGYP/RqJRneUZw/T5ph/mVSoD/cWQV7XdCiP3V2jfG8r6U/bXGNz2T/qD+Z9PdSeNCsPx1jOOhcm7A/e9tMhXgksz+Jbqx6rxC2P5qLCXskb7k/ZFkw8UdRvT/yVCwjmuXAP9adOMoLesM//sQSIFRzxj8s8uuH2ODJP53y6EZY1M0/Ekza+SMx0T+dR8X/HdHTP4ggvZex19Y/E6tQ7ohU2j9AQK1YslneP63tNyT/feE/ecK3VbUp5D/eoRekzz3nP+BrY0c+yuo/IxQAiGDh7j8KFuLsMczxP1CavLfYg/Q/8E4+Pbal9z/6fg8DAkL7P+wX7IZta/8/kL8PYsIbAkBdXsoKj98EQLw3K0dtDwhAC2t0GN27C0DlNPqH4/cPQLXu1X22bBJAyIkbXN88FUDBSvTo/HoYQH96fffYNxxA73eDw2ZDIEDAhMCAFL8iQKeIHdfQmyVAvWU9a23oKECz8iYa/7UsQEasDzUbjDBAx9nPveISM0DPOMPDavw1QPkboyvHVzlAqD5GL1k2PUDGzsqsFNZAQIdZw6AnaENAyKe2irReRkC7KeW1EslJQN50yw7xuE1A\"},\"shape\":[90],\"dtype\":\"float64\",\"order\":\"little\"}]]}}},\"view\":{\"type\":\"object\",\"name\":\"CDSView\",\"id\":\"p1143\",\"attributes\":{\"filter\":{\"type\":\"object\",\"name\":\"AllIndices\",\"id\":\"p1144\"}}},\"glyph\":{\"type\":\"object\",\"name\":\"Line\",\"id\":\"p1139\",\"attributes\":{\"x\":{\"type\":\"field\",\"field\":\"x\"},\"y\":{\"type\":\"field\",\"field\":\"y\"},\"line_color\":\"#009E73\",\"line_width\":3}},\"nonselection_glyph\":{\"type\":\"object\",\"name\":\"Line\",\"id\":\"p1140\",\"attributes\":{\"x\":{\"type\":\"field\",\"field\":\"x\"},\"y\":{\"type\":\"field\",\"field\":\"y\"},\"line_color\":\"#009E73\",\"line_alpha\":0.1,\"line_width\":3}},\"muted_glyph\":{\"type\":\"object\",\"name\":\"Line\",\"id\":\"p1141\",\"attributes\":{\"x\":{\"type\":\"field\",\"field\":\"x\"},\"y\":{\"type\":\"field\",\"field\":\"y\"},\"line_color\":\"#009E73\",\"line_alpha\":0.2,\"line_width\":3}}}}],\"toolbar\":{\"type\":\"object\",\"name\":\"Toolbar\",\"id\":\"p1006\",\"attributes\":{\"tools\":[{\"type\":\"object\",\"name\":\"PanTool\",\"id\":\"p1033\"},{\"type\":\"object\",\"name\":\"WheelZoomTool\",\"id\":\"p1034\"},{\"type\":\"object\",\"name\":\"BoxZoomTool\",\"id\":\"p1035\",\"attributes\":{\"overlay\":{\"type\":\"object\",\"name\":\"BoxAnnotation\",\"id\":\"p1036\",\"attributes\":{\"syncable\":false,\"level\":\"overlay\",\"visible\":false,\"left_units\":\"canvas\",\"right_units\":\"canvas\",\"bottom_units\":\"canvas\",\"top_units\":\"canvas\",\"line_color\":\"black\",\"line_alpha\":1.0,\"line_width\":2,\"line_dash\":[4,4],\"fill_color\":\"lightgrey\",\"fill_alpha\":0.5}}}},{\"type\":\"object\",\"name\":\"SaveTool\",\"id\":\"p1037\"},{\"type\":\"object\",\"name\":\"ResetTool\",\"id\":\"p1038\"},{\"type\":\"object\",\"name\":\"HelpTool\",\"id\":\"p1039\"}]}},\"left\":[{\"type\":\"object\",\"name\":\"LogAxis\",\"id\":\"p1026\",\"attributes\":{\"ticker\":{\"type\":\"object\",\"name\":\"LogTicker\",\"id\":\"p1029\",\"attributes\":{\"num_minor_ticks\":10,\"mantissas\":[1,5]}},\"formatter\":{\"type\":\"object\",\"name\":\"LogTickFormatter\",\"id\":\"p1027\"},\"axis_label\":\"Pressure (bars)\",\"major_label_policy\":{\"type\":\"object\",\"name\":\"AllLabels\",\"id\":\"p1028\"}}}],\"below\":[{\"type\":\"object\",\"name\":\"LogAxis\",\"id\":\"p1019\",\"attributes\":{\"ticker\":{\"type\":\"object\",\"name\":\"LogTicker\",\"id\":\"p1022\",\"attributes\":{\"num_minor_ticks\":10,\"mantissas\":[1,5]}},\"formatter\":{\"type\":\"object\",\"name\":\"LogTickFormatter\",\"id\":\"p1020\"},\"axis_label\":\"Kz cm2/s\",\"major_label_policy\":{\"type\":\"object\",\"name\":\"AllLabels\",\"id\":\"p1021\"}}}],\"center\":[{\"type\":\"object\",\"name\":\"Grid\",\"id\":\"p1025\",\"attributes\":{\"axis\":{\"id\":\"p1019\"}}},{\"type\":\"object\",\"name\":\"Grid\",\"id\":\"p1032\",\"attributes\":{\"dimension\":1,\"axis\":{\"id\":\"p1026\"}}},{\"type\":\"object\",\"name\":\"Legend\",\"id\":\"p1071\",\"attributes\":{\"items\":[{\"type\":\"object\",\"name\":\"LegendItem\",\"id\":\"p1072\",\"attributes\":{\"label\":{\"type\":\"value\",\"value\":\"Constant\"},\"renderers\":[{\"id\":\"p1054\"}]}},{\"type\":\"object\",\"name\":\"LegendItem\",\"id\":\"p1101\",\"attributes\":{\"label\":{\"type\":\"value\",\"value\":\"CHF-Only\"},\"renderers\":[{\"id\":\"p1079\"}]}},{\"type\":\"object\",\"name\":\"LegendItem\",\"id\":\"p1135\",\"attributes\":{\"label\":{\"type\":\"value\",\"value\":\"CHF+Latent\"},\"renderers\":[{\"id\":\"p1108\"}]}},{\"type\":\"object\",\"name\":\"LegendItem\",\"id\":\"p1174\",\"attributes\":{\"label\":{\"type\":\"value\",\"value\":\"CFH+Latent+COS\"},\"renderers\":[{\"id\":\"p1142\"}]}}]}}]}}]}};\n",
       "  const render_items = [{\"docid\":\"2ecff1fc-08c4-49e2-9045-e644f5aec269\",\"roots\":{\"p1002\":\"4fd48225-fc01-497e-a5ba-ea4bfef947d9\"},\"root_ids\":[\"p1002\"]}];\n",
       "  root.Bokeh.embed.embed_items_notebook(docs_json, render_items);\n",
       "  }\n",
       "  if (root.Bokeh !== undefined) {\n",
       "    embed_document(root);\n",
       "  } else {\n",
       "    let attempts = 0;\n",
       "    const timer = setInterval(function(root) {\n",
       "      if (root.Bokeh !== undefined) {\n",
       "        clearInterval(timer);\n",
       "        embed_document(root);\n",
       "      } else {\n",
       "        attempts++;\n",
       "        if (attempts > 100) {\n",
       "          clearInterval(timer);\n",
       "          console.log(\"Bokeh: ERROR: Unable to run BokehJS code because BokehJS library is missing\");\n",
       "        }\n",
       "      }\n",
       "    }, 10, root)\n",
       "  }\n",
       "})(window);"
      ],
      "application/vnd.bokehjs_exec.v0+json": ""
     },
     "metadata": {
      "application/vnd.bokehjs_exec.v0+json": {
       "id": "p1002"
      }
     },
     "output_type": "display_data"
    }
   ],
   "source": [
    "legend = ['Constant','CHF-Only','CHF+Latent','CFH+Latent+COS']\n",
    "fig =jpi.pressure_fig(plot_height=250,x_axis_label='Kz cm2/s',x_axis_type='log',x_range=[1e8,5e11])\n",
    "for i,idf in enumerate([out_constant, out_chf, out_latent, out_latent_cos ]):\n",
    "    fig.line(idf['kz'],idf['pressure'],line_width=3,color=jpi.colpals.Colorblind8[i],legend_label=legend[i])\n",
    "show(fig)"
   ]
  },
  {
   "cell_type": "code",
   "execution_count": 10,
   "metadata": {
    "execution": {
     "iopub.execute_input": "2024-04-02T04:44:37.974793Z",
     "iopub.status.busy": "2024-04-02T04:44:37.974533Z",
     "iopub.status.idle": "2024-04-02T04:44:38.292194Z",
     "shell.execute_reply": "2024-04-02T04:44:38.291694Z"
    }
   },
   "outputs": [
    {
     "data": {
      "text/html": [
       "\n",
       "  <div id=\"da042455-4a55-45d4-a495-8273f3c9fa69\" data-root-id=\"p1803\" style=\"display: contents;\"></div>\n"
      ]
     },
     "metadata": {},
     "output_type": "display_data"
    },
    {
     "data": {
      "application/javascript": [
       "(function(root) {\n",
       "  function embed_document(root) {\n",
       "  const docs_json = {\"29092f2c-be1f-48c5-835d-ef9d4f27f93a\":{\"version\":\"3.0.2\",\"title\":\"Bokeh Application\",\"defs\":[],\"roots\":[{\"type\":\"object\",\"name\":\"GridPlot\",\"id\":\"p1803\",\"attributes\":{\"toolbar\":{\"type\":\"object\",\"name\":\"Toolbar\",\"id\":\"p1802\",\"attributes\":{\"tools\":[{\"type\":\"object\",\"name\":\"ToolProxy\",\"id\":\"p1796\",\"attributes\":{\"tools\":[{\"type\":\"object\",\"name\":\"PanTool\",\"id\":\"p1489\"},{\"type\":\"object\",\"name\":\"PanTool\",\"id\":\"p1397\"},{\"type\":\"object\",\"name\":\"PanTool\",\"id\":\"p1443\"}]}},{\"type\":\"object\",\"name\":\"ToolProxy\",\"id\":\"p1797\",\"attributes\":{\"tools\":[{\"type\":\"object\",\"name\":\"WheelZoomTool\",\"id\":\"p1490\"},{\"type\":\"object\",\"name\":\"WheelZoomTool\",\"id\":\"p1398\"},{\"type\":\"object\",\"name\":\"WheelZoomTool\",\"id\":\"p1444\"}]}},{\"type\":\"object\",\"name\":\"ToolProxy\",\"id\":\"p1798\",\"attributes\":{\"tools\":[{\"type\":\"object\",\"name\":\"BoxZoomTool\",\"id\":\"p1491\",\"attributes\":{\"overlay\":{\"type\":\"object\",\"name\":\"BoxAnnotation\",\"id\":\"p1492\",\"attributes\":{\"syncable\":false,\"level\":\"overlay\",\"visible\":false,\"left_units\":\"canvas\",\"right_units\":\"canvas\",\"bottom_units\":\"canvas\",\"top_units\":\"canvas\",\"line_color\":\"black\",\"line_alpha\":1.0,\"line_width\":2,\"line_dash\":[4,4],\"fill_color\":\"lightgrey\",\"fill_alpha\":0.5}}}},{\"type\":\"object\",\"name\":\"BoxZoomTool\",\"id\":\"p1399\",\"attributes\":{\"overlay\":{\"type\":\"object\",\"name\":\"BoxAnnotation\",\"id\":\"p1400\",\"attributes\":{\"syncable\":false,\"level\":\"overlay\",\"visible\":false,\"left_units\":\"canvas\",\"right_units\":\"canvas\",\"bottom_units\":\"canvas\",\"top_units\":\"canvas\",\"line_color\":\"black\",\"line_alpha\":1.0,\"line_width\":2,\"line_dash\":[4,4],\"fill_color\":\"lightgrey\",\"fill_alpha\":0.5}}}},{\"type\":\"object\",\"name\":\"BoxZoomTool\",\"id\":\"p1445\",\"attributes\":{\"overlay\":{\"type\":\"object\",\"name\":\"BoxAnnotation\",\"id\":\"p1446\",\"attributes\":{\"syncable\":false,\"level\":\"overlay\",\"visible\":false,\"left_units\":\"canvas\",\"right_units\":\"canvas\",\"bottom_units\":\"canvas\",\"top_units\":\"canvas\",\"line_color\":\"black\",\"line_alpha\":1.0,\"line_width\":2,\"line_dash\":[4,4],\"fill_color\":\"lightgrey\",\"fill_alpha\":0.5}}}}]}},{\"type\":\"object\",\"name\":\"SaveTool\",\"id\":\"p1799\"},{\"type\":\"object\",\"name\":\"ToolProxy\",\"id\":\"p1800\",\"attributes\":{\"tools\":[{\"type\":\"object\",\"name\":\"ResetTool\",\"id\":\"p1494\"},{\"type\":\"object\",\"name\":\"ResetTool\",\"id\":\"p1402\"},{\"type\":\"object\",\"name\":\"ResetTool\",\"id\":\"p1448\"}]}},{\"type\":\"object\",\"name\":\"ToolProxy\",\"id\":\"p1801\",\"attributes\":{\"tools\":[{\"type\":\"object\",\"name\":\"HelpTool\",\"id\":\"p1495\"},{\"type\":\"object\",\"name\":\"HelpTool\",\"id\":\"p1403\"},{\"type\":\"object\",\"name\":\"HelpTool\",\"id\":\"p1449\"}]}}]}},\"children\":[[{\"type\":\"object\",\"name\":\"Figure\",\"id\":\"p1458\",\"attributes\":{\"width\":300,\"height\":300,\"x_range\":{\"type\":\"object\",\"name\":\"DataRange1d\",\"id\":\"p1460\"},\"y_range\":{\"type\":\"object\",\"name\":\"Range1d\",\"id\":\"p1469\",\"attributes\":{\"start\":59.4448565,\"end\":0.00019140000000000002}},\"x_scale\":{\"type\":\"object\",\"name\":\"LogScale\",\"id\":\"p1471\"},\"y_scale\":{\"type\":\"object\",\"name\":\"LogScale\",\"id\":\"p1473\"},\"title\":{\"type\":\"object\",\"name\":\"Title\",\"id\":\"p1465\"},\"renderers\":[{\"type\":\"object\",\"name\":\"GlyphRenderer\",\"id\":\"p1510\",\"attributes\":{\"data_source\":{\"type\":\"object\",\"name\":\"ColumnDataSource\",\"id\":\"p1504\",\"attributes\":{\"selected\":{\"type\":\"object\",\"name\":\"Selection\",\"id\":\"p1506\",\"attributes\":{\"indices\":[],\"line_indices\":[]}},\"selection_policy\":{\"type\":\"object\",\"name\":\"UnionRenderers\",\"id\":\"p1505\"},\"data\":{\"type\":\"map\",\"entries\":[[\"x\",{\"type\":\"ndarray\",\"array\":{\"type\":\"bytes\",\"data\":\"Jmh/7JTsUz/rsuZ8MHZUP9XgcDYiJlU/TTBHTL/gVT9+wfS/8NtWPyBlxHR711c/HKdwZYoOWT+xWP0502daP4mAw2/Y9Vs/RjT2qrnGXT8acHBZtNFfP/NzHAkcHmE/4bWaw/CFYj/3EMRW9SpkP4xbvcXUG2Y/R4vdE1llaD+KaVduvRdrP2Zh1YfBSm4/0aI0gOcJcT+lOqfJj0hzP2l2xHeP8XU/miutTY8ceT/WqWeWBt58P3ZOLiCFqoA/xD+IJQdTgz+Gzhkf33yGP+NcGGOXQYo/Udc7pEe+jj88EGCQ/gySP6gdRsA4P5U/JttZ3hQRmT8Gq1xgHqKdP/HJB1ECjKE/F7k3+LbQpD8UgXqyx7qoP0QQovhGZ60/RpaelOV/sT8pTX8ED960P2f9/gv/67c/ykm4IGcPuz9MXQiRBivAP5DIU9jxUsM/Uk2AM4kYxz9Gi50XqpfLP+JlkCbcddA/1qcf45uZ0z993PlZEnXXP0qbwn/PHNw/W4iGXPXa4D/yEzO3VjnkP3mcXGONRug/XQJlXsol7T/zdKWxtIHxPwwtKgw7CfU/mcZdYohF+T+HGAp+ilf+P7hJDv7kMwJA3LmDN1/TBUDXwUigPCYKQPyTP8X+TQ9AKRSxzzG5EkBdoFwTbWAWQE3lnJzOuBpAY171olblH0AJ0huFYwcjQLOGyb/ssSZAQXrHbkgLK0AHkgJkyBQwQKeRNafwBzNA/AinxaQ7NkAvk7fYTv84QApT2RmGeDhAD5NdXv/XIUCzUS/Ky4zsP7NRL8rLjNw/AAAAAAAAAAAAAAAAAAAAAAAAAAAAAAAAAAAAAAAAAAAAAAAAAAAAAAAAAAAAAAAAAAAAAAAAAAAAAAAAAAAAAAAAAAAAAAAAAAAAAAAAAAAAAAAAAAAAAAAAAAAAAAAAAAAAAAAAAAAAAAAAAAAAAAAAAAAAAAAA\"},\"shape\":[90],\"dtype\":\"float64\",\"order\":\"little\"}],[\"y\",{\"type\":\"ndarray\",\"array\":{\"type\":\"bytes\",\"data\":\"0dYce1EWKT+ZaVYRyessP/lahu5IqzA/k7quqT02Mz/ZhwZzBSU2P+7MBMO5hjk/vz9KkSFsPT/a4a/JGvVAPwL0+/7Ni0M/oB+hwQGIRj/YbhaKz/hJP3ttkQ/V700/en/NgwVBUT8vRD0zd+NTP6uYSj/h7FY/ficcMP5sWj9v57Ec13VeP/JdSl0yjmE/MtXdhmI8ZD/EIitkU1NnP60mPi314mo/ZN3TMNf9bj9DfSZWodxxP4ncwqnFlnQ/BqYudIC7dz9V10bhH1t7P2Wire9oiH8/1x5R/HMsgj9MQtjfyPKEPzyxPWmXJYg/aUVAKmrViz/WU6uvrgqQP7Y8xWC0fZI/Kq0a33JQlT9eSl0yjpGYP/RqJRneUZw/T5ph/mVSoD/cWQV7XdCiP3V2jfG8r6U/bXGNz2T/qD+Z9PdSeNCsPx1jOOhcm7A/e9tMhXgksz+Jbqx6rxC2P5qLCXskb7k/ZFkw8UdRvT/yVCwjmuXAP9adOMoLesM//sQSIFRzxj8s8uuH2ODJP53y6EZY1M0/Ekza+SMx0T+dR8X/HdHTP4ggvZex19Y/E6tQ7ohU2j9AQK1YslneP63tNyT/feE/ecK3VbUp5D/eoRekzz3nP+BrY0c+yuo/IxQAiGDh7j8KFuLsMczxP1CavLfYg/Q/8E4+Pbal9z/6fg8DAkL7P+wX7IZta/8/kL8PYsIbAkBdXsoKj98EQLw3K0dtDwhAC2t0GN27C0DlNPqH4/cPQLXu1X22bBJAyIkbXN88FUDBSvTo/HoYQH96fffYNxxA73eDw2ZDIEDAhMCAFL8iQKeIHdfQmyVAvWU9a23oKECz8iYa/7UsQEasDzUbjDBAx9nPveISM0DPOMPDavw1QPkboyvHVzlAqD5GL1k2PUDGzsqsFNZAQIdZw6AnaENAyKe2irReRkC7KeW1EslJQN50yw7xuE1A\"},\"shape\":[90],\"dtype\":\"float64\",\"order\":\"little\"}]]}}},\"view\":{\"type\":\"object\",\"name\":\"CDSView\",\"id\":\"p1511\",\"attributes\":{\"filter\":{\"type\":\"object\",\"name\":\"AllIndices\",\"id\":\"p1512\"}}},\"glyph\":{\"type\":\"object\",\"name\":\"Line\",\"id\":\"p1507\",\"attributes\":{\"x\":{\"type\":\"field\",\"field\":\"x\"},\"y\":{\"type\":\"field\",\"field\":\"y\"},\"line_color\":\"#0072B2\",\"line_width\":3}},\"nonselection_glyph\":{\"type\":\"object\",\"name\":\"Line\",\"id\":\"p1508\",\"attributes\":{\"x\":{\"type\":\"field\",\"field\":\"x\"},\"y\":{\"type\":\"field\",\"field\":\"y\"},\"line_color\":\"#0072B2\",\"line_alpha\":0.1,\"line_width\":3}},\"muted_glyph\":{\"type\":\"object\",\"name\":\"Line\",\"id\":\"p1509\",\"attributes\":{\"x\":{\"type\":\"field\",\"field\":\"x\"},\"y\":{\"type\":\"field\",\"field\":\"y\"},\"line_color\":\"#0072B2\",\"line_alpha\":0.2,\"line_width\":3}}}},{\"type\":\"object\",\"name\":\"GlyphRenderer\",\"id\":\"p1553\",\"attributes\":{\"data_source\":{\"type\":\"object\",\"name\":\"ColumnDataSource\",\"id\":\"p1547\",\"attributes\":{\"selected\":{\"type\":\"object\",\"name\":\"Selection\",\"id\":\"p1549\",\"attributes\":{\"indices\":[],\"line_indices\":[]}},\"selection_policy\":{\"type\":\"object\",\"name\":\"UnionRenderers\",\"id\":\"p1548\"},\"data\":{\"type\":\"map\",\"entries\":[[\"x\",{\"type\":\"ndarray\",\"array\":{\"type\":\"bytes\",\"data\":\"51zq/Z/7aj8cpsn8iiZsP13deYWQYm8/lLVXqsFEcT80g0ttzvNyP5zuzHr+mnQ/aX/loilxdj8hzB0hF2R4PyCNsToNhXo/t2kmVRzifD+EoGVvX3F/P2rJo1hnKoE/Yld772XHgj8MLfk3AJiEPwyRt0lBqYY/djILNfECiT/srUzOYbCLP9y4u2dXx44/pa8I7b0skT9nFELapkCTP0R1bXt1rZU/59GcSKiImD/Pm62QIuSbP5oW3Kk53J8/ZchUIahJoj9uJUOMsBalPyMLihWMbKg/0erX/DdmrD8ouLM4DJSwP+qX2B4nbLM/Dlr2YGHUtj9Jn8vCzum6P/dln0ywz78/tJeYlqHYwj9nfVyB22DGP2dl3Kkvn8o/tEO8QUe5zz+3Hjb8xu3SP4UZjfTMndY/KgVDxvAM2z9GEaFEsjDgP1eNiniHZOM/ibl7GGA85z9pTHkrl9XrP8QA0iObpvA/j/fw9trg8z+dEYrGMNj3PxBEsav3ofw/rzcvuhoxAUAE9LafF6UEQHr+JNckywhAtvh1hPbHDUCJ+Vmzy+IRQI8z0cByfBVA19K3MUHTGUCPPuf24REfQDJncBw0tSJAyXuSEqSMJkA0AfMN8jQrQCJdJFWrbTBAwhjH7YPbM0BZXhbUvgU4QNPfnKwrFT1An1I1R96cQUDTPIXl6lVFQGqQTkKU10lAHXxPMxdIT0DnSsojaOZSQCrpUGLgulZA3UK3UqH5WkBTqYzoT8ZeQBDPrC7Jf15Ar/L2Te3BLEDxjsWkigH3P/GOxaSKAec/AAAAAAAAAAAAAAAAAAAAAAAAAAAAAAAAAAAAAAAAAAAAAAAAAAAAAAAAAAAAAAAAAAAAAAAAAAAAAAAAAAAAAAAAAAAAAAAAAAAAAAAAAAAAAAAAAAAAAAAAAAAAAAAAAAAAAAAAAAAAAAAAAAAAAAAAAAAAAAAA\"},\"shape\":[90],\"dtype\":\"float64\",\"order\":\"little\"}],[\"y\",{\"type\":\"ndarray\",\"array\":{\"type\":\"bytes\",\"data\":\"0dYce1EWKT+ZaVYRyessP/lahu5IqzA/k7quqT02Mz/ZhwZzBSU2P+7MBMO5hjk/vz9KkSFsPT/a4a/JGvVAPwL0+/7Ni0M/oB+hwQGIRj/YbhaKz/hJP3ttkQ/V700/en/NgwVBUT8vRD0zd+NTP6uYSj/h7FY/ficcMP5sWj9v57Ec13VeP/JdSl0yjmE/MtXdhmI8ZD/EIitkU1NnP60mPi314mo/ZN3TMNf9bj9DfSZWodxxP4ncwqnFlnQ/BqYudIC7dz9V10bhH1t7P2Wire9oiH8/1x5R/HMsgj9MQtjfyPKEPzyxPWmXJYg/aUVAKmrViz/WU6uvrgqQP7Y8xWC0fZI/Kq0a33JQlT9eSl0yjpGYP/RqJRneUZw/T5ph/mVSoD/cWQV7XdCiP3V2jfG8r6U/bXGNz2T/qD+Z9PdSeNCsPx1jOOhcm7A/e9tMhXgksz+Jbqx6rxC2P5qLCXskb7k/ZFkw8UdRvT/yVCwjmuXAP9adOMoLesM//sQSIFRzxj8s8uuH2ODJP53y6EZY1M0/Ekza+SMx0T+dR8X/HdHTP4ggvZex19Y/E6tQ7ohU2j9AQK1YslneP63tNyT/feE/ecK3VbUp5D/eoRekzz3nP+BrY0c+yuo/IxQAiGDh7j8KFuLsMczxP1CavLfYg/Q/8E4+Pbal9z/6fg8DAkL7P+wX7IZta/8/kL8PYsIbAkBdXsoKj98EQLw3K0dtDwhAC2t0GN27C0DlNPqH4/cPQLXu1X22bBJAyIkbXN88FUDBSvTo/HoYQH96fffYNxxA73eDw2ZDIEDAhMCAFL8iQKeIHdfQmyVAvWU9a23oKECz8iYa/7UsQEasDzUbjDBAx9nPveISM0DPOMPDavw1QPkboyvHVzlAqD5GL1k2PUDGzsqsFNZAQIdZw6AnaENAyKe2irReRkC7KeW1EslJQN50yw7xuE1A\"},\"shape\":[90],\"dtype\":\"float64\",\"order\":\"little\"}]]}}},\"view\":{\"type\":\"object\",\"name\":\"CDSView\",\"id\":\"p1554\",\"attributes\":{\"filter\":{\"type\":\"object\",\"name\":\"AllIndices\",\"id\":\"p1555\"}}},\"glyph\":{\"type\":\"object\",\"name\":\"Line\",\"id\":\"p1550\",\"attributes\":{\"x\":{\"type\":\"field\",\"field\":\"x\"},\"y\":{\"type\":\"field\",\"field\":\"y\"},\"line_color\":\"#E69F00\",\"line_width\":3}},\"nonselection_glyph\":{\"type\":\"object\",\"name\":\"Line\",\"id\":\"p1551\",\"attributes\":{\"x\":{\"type\":\"field\",\"field\":\"x\"},\"y\":{\"type\":\"field\",\"field\":\"y\"},\"line_color\":\"#E69F00\",\"line_alpha\":0.1,\"line_width\":3}},\"muted_glyph\":{\"type\":\"object\",\"name\":\"Line\",\"id\":\"p1552\",\"attributes\":{\"x\":{\"type\":\"field\",\"field\":\"x\"},\"y\":{\"type\":\"field\",\"field\":\"y\"},\"line_color\":\"#E69F00\",\"line_alpha\":0.2,\"line_width\":3}}}},{\"type\":\"object\",\"name\":\"GlyphRenderer\",\"id\":\"p1600\",\"attributes\":{\"data_source\":{\"type\":\"object\",\"name\":\"ColumnDataSource\",\"id\":\"p1594\",\"attributes\":{\"selected\":{\"type\":\"object\",\"name\":\"Selection\",\"id\":\"p1596\",\"attributes\":{\"indices\":[],\"line_indices\":[]}},\"selection_policy\":{\"type\":\"object\",\"name\":\"UnionRenderers\",\"id\":\"p1595\"},\"data\":{\"type\":\"map\",\"entries\":[[\"x\",{\"type\":\"ndarray\",\"array\":{\"type\":\"bytes\",\"data\":\"dH/WeK327j4M7G5fn2f5Pnr0Fx/F5gM/h1FssKhdDT8yz6ZBAfgUP/YJXL4kxhw/xExj939OIz8D8NgTFWopPzzaFF94ajA/CWszz8oDNT+hXZHgzY46Pw/Tzu7MqkA/zKg8zxvfRD9GhyD7cvpJP1j+HyfPJFA/B17dmbUKVD8ECyBFSPFYP7QM4WoBEF8/0U5yEqJiYz9aIhtnrVBoP+DUY+m3gG4/r3ja1ygvcz+wJWwQsCh4P/QHDbald34/C1tBD0w+gz8HwPce0VGIP7zp3Ha9vY4/NXbqbA1qkz/KU/oRgIqYP09fO5la154/d1C1kdlZoz/viLP8NzuoP1k7hLkSTK4/nwciXnHqsj9j5vwGkZO3P/FPG/dXVL0/BPUstUsvwj/vGdczJ3jGPzROHfb4tMs/LJqNBvEJ0T/QFQ6GbObUP7POxrNpldk/pN61sFo+3z+kSVBgDQbjP9Qhdv/tDOc/Zh7v03C46z+R/R8EoMTwP6zLOgR8SvQ/pOk/WQZy+D9vqRefCHX9PxcK8/5lxgFARTIsn8lwBUC/j8Apx74JQGd1uWF0FQ9ArwsVyYriEkC3MivoxxQXQO3QaMP8PxxAdLAa1VlcIUAvdVRxJG8lQPn+xVtQiCpAA4pZ9rJ7MED88JBs75c0QMM1LgElsDlApEAVuur3P0AYdaebW9tDQKBbMkA2pUhAIYBF3muMTkDErkezxOJSQBzwyt5HMldAl/3vd7vtW0BiNPkF0Q1gQCMkwVxXxF9Az3lvQDlgLUAM+yXNLYD3Pwz7Jc0tgOc/AAAAAAAAAAAAAAAAAAAAAAAAAAAAAAAAAAAAAAAAAAAAAAAAAAAAAAAAAAAAAAAAAAAAAAAAAAAAAAAAAAAAAAAAAAAAAAAAAAAAAAAAAAAAAAAAAAAAAAAAAAAAAAAAAAAAAAAAAAAAAAAAAAAAAAAAAAAAAAAA\"},\"shape\":[90],\"dtype\":\"float64\",\"order\":\"little\"}],[\"y\",{\"type\":\"ndarray\",\"array\":{\"type\":\"bytes\",\"data\":\"0dYce1EWKT+ZaVYRyessP/lahu5IqzA/k7quqT02Mz/ZhwZzBSU2P+7MBMO5hjk/vz9KkSFsPT/a4a/JGvVAPwL0+/7Ni0M/oB+hwQGIRj/YbhaKz/hJP3ttkQ/V700/en/NgwVBUT8vRD0zd+NTP6uYSj/h7FY/ficcMP5sWj9v57Ec13VeP/JdSl0yjmE/MtXdhmI8ZD/EIitkU1NnP60mPi314mo/ZN3TMNf9bj9DfSZWodxxP4ncwqnFlnQ/BqYudIC7dz9V10bhH1t7P2Wire9oiH8/1x5R/HMsgj9MQtjfyPKEPzyxPWmXJYg/aUVAKmrViz/WU6uvrgqQP7Y8xWC0fZI/Kq0a33JQlT9eSl0yjpGYP/RqJRneUZw/T5ph/mVSoD/cWQV7XdCiP3V2jfG8r6U/bXGNz2T/qD+Z9PdSeNCsPx1jOOhcm7A/e9tMhXgksz+Jbqx6rxC2P5qLCXskb7k/ZFkw8UdRvT/yVCwjmuXAP9adOMoLesM//sQSIFRzxj8s8uuH2ODJP53y6EZY1M0/Ekza+SMx0T+dR8X/HdHTP4ggvZex19Y/E6tQ7ohU2j9AQK1YslneP63tNyT/feE/ecK3VbUp5D/eoRekzz3nP+BrY0c+yuo/IxQAiGDh7j8KFuLsMczxP1CavLfYg/Q/8E4+Pbal9z/6fg8DAkL7P+wX7IZta/8/kL8PYsIbAkBdXsoKj98EQLw3K0dtDwhAC2t0GN27C0DlNPqH4/cPQLXu1X22bBJAyIkbXN88FUDBSvTo/HoYQH96fffYNxxA73eDw2ZDIEDAhMCAFL8iQKeIHdfQmyVAvWU9a23oKECz8iYa/7UsQEasDzUbjDBAx9nPveISM0DPOMPDavw1QPkboyvHVzlAqD5GL1k2PUDGzsqsFNZAQIdZw6AnaENAyKe2irReRkC7KeW1EslJQN50yw7xuE1A\"},\"shape\":[90],\"dtype\":\"float64\",\"order\":\"little\"}]]}}},\"view\":{\"type\":\"object\",\"name\":\"CDSView\",\"id\":\"p1601\",\"attributes\":{\"filter\":{\"type\":\"object\",\"name\":\"AllIndices\",\"id\":\"p1602\"}}},\"glyph\":{\"type\":\"object\",\"name\":\"Line\",\"id\":\"p1597\",\"attributes\":{\"x\":{\"type\":\"field\",\"field\":\"x\"},\"y\":{\"type\":\"field\",\"field\":\"y\"},\"line_color\":\"#F0E442\",\"line_width\":3}},\"nonselection_glyph\":{\"type\":\"object\",\"name\":\"Line\",\"id\":\"p1598\",\"attributes\":{\"x\":{\"type\":\"field\",\"field\":\"x\"},\"y\":{\"type\":\"field\",\"field\":\"y\"},\"line_color\":\"#F0E442\",\"line_alpha\":0.1,\"line_width\":3}},\"muted_glyph\":{\"type\":\"object\",\"name\":\"Line\",\"id\":\"p1599\",\"attributes\":{\"x\":{\"type\":\"field\",\"field\":\"x\"},\"y\":{\"type\":\"field\",\"field\":\"y\"},\"line_color\":\"#F0E442\",\"line_alpha\":0.2,\"line_width\":3}}}},{\"type\":\"object\",\"name\":\"GlyphRenderer\",\"id\":\"p1652\",\"attributes\":{\"data_source\":{\"type\":\"object\",\"name\":\"ColumnDataSource\",\"id\":\"p1646\",\"attributes\":{\"selected\":{\"type\":\"object\",\"name\":\"Selection\",\"id\":\"p1648\",\"attributes\":{\"indices\":[],\"line_indices\":[]}},\"selection_policy\":{\"type\":\"object\",\"name\":\"UnionRenderers\",\"id\":\"p1647\"},\"data\":{\"type\":\"map\",\"entries\":[[\"x\",{\"type\":\"ndarray\",\"array\":{\"type\":\"bytes\",\"data\":\"dH/WeK327j4M7G5fn2f5Pnr0Fx/F5gM/h1FssKhdDT8yz6ZBAfgUP/YJXL4kxhw/xExj939OIz8D8NgTFWopPzzaFF94ajA/CWszz8oDNT+hXZHgzY46Pw/Tzu7MqkA/zKg8zxvfRD9GhyD7cvpJP1j+HyfPJFA/B17dmbUKVD8ECyBFSPFYP7QM4WoBEF8/0U5yEqJiYz9aIhtnrVBoP+DUY+m3gG4/r3ja1ygvcz+wJWwQsCh4P/QHDbald34/C1tBD0w+gz8HwPce0VGIP7zp3Ha9vY4/NXbqbA1qkz/KU/oRgIqYP09fO5la154/d1C1kdlZoz/viLP8NzuoP1k7hLkSTK4/nwciXnHqsj9j5vwGkZO3P/FPG/dXVL0/BPUstUsvwj/vGdczJ3jGPzROHfb4tMs/LJqNBvEJ0T/QFQ6GbObUP7POxrNpldk/pN61sFo+3z+kSVBgDQbjP9Qhdv/tDOc/Zh7v03C46z+R/R8EoMTwP6zLOgR8SvQ/pOk/WQZy+D9vqRefCHX9PxcK8/5lxgFARTIsn8lwBUC/j8Apx74JQGd1uWF0FQ9ArwsVyYriEkC3MivoxxQXQO3QaMP8PxxAdLAa1VlcIUAvdVRxJG8lQPn+xVtQiCpAA4pZ9rJ7MED88JBs75c0QMM1LgElsDlApEAVuur3P0AYdaebW9tDQKBbMkA2pUhAIYBF3muMTkDErkezxOJSQO275PccmlRA1pY7tkTdU0A1PJOxuVRSQAbeqts1+EpAz3lvQDlgLUAM+yXNLYD3Pwz7Jc0tgOc/AAAAAAAAAAAAAAAAAAAAAAAAAAAAAAAAAAAAAAAAAAAAAAAAAAAAAAAAAAAAAAAAAAAAAAAAAAAAAAAAAAAAAAAAAAAAAAAAAAAAAAAAAAAAAAAAAAAAAAAAAAAAAAAAAAAAAAAAAAAAAAAAAAAAAAAAAAAAAAAA\"},\"shape\":[90],\"dtype\":\"float64\",\"order\":\"little\"}],[\"y\",{\"type\":\"ndarray\",\"array\":{\"type\":\"bytes\",\"data\":\"0dYce1EWKT+ZaVYRyessP/lahu5IqzA/k7quqT02Mz/ZhwZzBSU2P+7MBMO5hjk/vz9KkSFsPT/a4a/JGvVAPwL0+/7Ni0M/oB+hwQGIRj/YbhaKz/hJP3ttkQ/V700/en/NgwVBUT8vRD0zd+NTP6uYSj/h7FY/ficcMP5sWj9v57Ec13VeP/JdSl0yjmE/MtXdhmI8ZD/EIitkU1NnP60mPi314mo/ZN3TMNf9bj9DfSZWodxxP4ncwqnFlnQ/BqYudIC7dz9V10bhH1t7P2Wire9oiH8/1x5R/HMsgj9MQtjfyPKEPzyxPWmXJYg/aUVAKmrViz/WU6uvrgqQP7Y8xWC0fZI/Kq0a33JQlT9eSl0yjpGYP/RqJRneUZw/T5ph/mVSoD/cWQV7XdCiP3V2jfG8r6U/bXGNz2T/qD+Z9PdSeNCsPx1jOOhcm7A/e9tMhXgksz+Jbqx6rxC2P5qLCXskb7k/ZFkw8UdRvT/yVCwjmuXAP9adOMoLesM//sQSIFRzxj8s8uuH2ODJP53y6EZY1M0/Ekza+SMx0T+dR8X/HdHTP4ggvZex19Y/E6tQ7ohU2j9AQK1YslneP63tNyT/feE/ecK3VbUp5D/eoRekzz3nP+BrY0c+yuo/IxQAiGDh7j8KFuLsMczxP1CavLfYg/Q/8E4+Pbal9z/6fg8DAkL7P+wX7IZta/8/kL8PYsIbAkBdXsoKj98EQLw3K0dtDwhAC2t0GN27C0DlNPqH4/cPQLXu1X22bBJAyIkbXN88FUDBSvTo/HoYQH96fffYNxxA73eDw2ZDIEDAhMCAFL8iQKeIHdfQmyVAvWU9a23oKECz8iYa/7UsQEasDzUbjDBAx9nPveISM0DPOMPDavw1QPkboyvHVzlAqD5GL1k2PUDGzsqsFNZAQIdZw6AnaENAyKe2irReRkC7KeW1EslJQN50yw7xuE1A\"},\"shape\":[90],\"dtype\":\"float64\",\"order\":\"little\"}]]}}},\"view\":{\"type\":\"object\",\"name\":\"CDSView\",\"id\":\"p1653\",\"attributes\":{\"filter\":{\"type\":\"object\",\"name\":\"AllIndices\",\"id\":\"p1654\"}}},\"glyph\":{\"type\":\"object\",\"name\":\"Line\",\"id\":\"p1649\",\"attributes\":{\"x\":{\"type\":\"field\",\"field\":\"x\"},\"y\":{\"type\":\"field\",\"field\":\"y\"},\"line_color\":\"#009E73\",\"line_width\":3}},\"nonselection_glyph\":{\"type\":\"object\",\"name\":\"Line\",\"id\":\"p1650\",\"attributes\":{\"x\":{\"type\":\"field\",\"field\":\"x\"},\"y\":{\"type\":\"field\",\"field\":\"y\"},\"line_color\":\"#009E73\",\"line_alpha\":0.1,\"line_width\":3}},\"muted_glyph\":{\"type\":\"object\",\"name\":\"Line\",\"id\":\"p1651\",\"attributes\":{\"x\":{\"type\":\"field\",\"field\":\"x\"},\"y\":{\"type\":\"field\",\"field\":\"y\"},\"line_color\":\"#009E73\",\"line_alpha\":0.2,\"line_width\":3}}}}],\"toolbar\":{\"type\":\"object\",\"name\":\"Toolbar\",\"id\":\"p1462\",\"attributes\":{\"tools\":[{\"id\":\"p1489\"},{\"id\":\"p1490\"},{\"id\":\"p1491\"},{\"type\":\"object\",\"name\":\"SaveTool\",\"id\":\"p1493\"},{\"id\":\"p1494\"},{\"id\":\"p1495\"}]}},\"toolbar_location\":null,\"left\":[{\"type\":\"object\",\"name\":\"LogAxis\",\"id\":\"p1482\",\"attributes\":{\"ticker\":{\"type\":\"object\",\"name\":\"LogTicker\",\"id\":\"p1485\",\"attributes\":{\"num_minor_ticks\":10,\"mantissas\":[1,5]}},\"formatter\":{\"type\":\"object\",\"name\":\"LogTickFormatter\",\"id\":\"p1483\"},\"axis_label\":\"Pressure (bars)\",\"major_label_policy\":{\"type\":\"object\",\"name\":\"AllLabels\",\"id\":\"p1484\"}}}],\"below\":[{\"type\":\"object\",\"name\":\"LogAxis\",\"id\":\"p1475\",\"attributes\":{\"ticker\":{\"type\":\"object\",\"name\":\"LogTicker\",\"id\":\"p1478\",\"attributes\":{\"num_minor_ticks\":10,\"mantissas\":[1,5]}},\"formatter\":{\"type\":\"object\",\"name\":\"LogTickFormatter\",\"id\":\"p1476\"},\"axis_label\":\"Optical Depth\",\"major_label_policy\":{\"type\":\"object\",\"name\":\"AllLabels\",\"id\":\"p1477\"}}}],\"center\":[{\"type\":\"object\",\"name\":\"Grid\",\"id\":\"p1481\",\"attributes\":{\"axis\":{\"id\":\"p1475\"}}},{\"type\":\"object\",\"name\":\"Grid\",\"id\":\"p1488\",\"attributes\":{\"dimension\":1,\"axis\":{\"id\":\"p1482\"}}}]}},0,0],[{\"type\":\"object\",\"name\":\"Figure\",\"id\":\"p1366\",\"attributes\":{\"width\":300,\"height\":300,\"x_range\":{\"type\":\"object\",\"name\":\"DataRange1d\",\"id\":\"p1368\"},\"y_range\":{\"type\":\"object\",\"name\":\"Range1d\",\"id\":\"p1377\",\"attributes\":{\"start\":59.4448565,\"end\":0.00019140000000000002}},\"x_scale\":{\"type\":\"object\",\"name\":\"LinearScale\",\"id\":\"p1379\"},\"y_scale\":{\"type\":\"object\",\"name\":\"LogScale\",\"id\":\"p1381\"},\"title\":{\"type\":\"object\",\"name\":\"Title\",\"id\":\"p1373\"},\"renderers\":[{\"type\":\"object\",\"name\":\"GlyphRenderer\",\"id\":\"p1528\",\"attributes\":{\"data_source\":{\"type\":\"object\",\"name\":\"ColumnDataSource\",\"id\":\"p1522\",\"attributes\":{\"selected\":{\"type\":\"object\",\"name\":\"Selection\",\"id\":\"p1524\",\"attributes\":{\"indices\":[],\"line_indices\":[]}},\"selection_policy\":{\"type\":\"object\",\"name\":\"UnionRenderers\",\"id\":\"p1523\"},\"data\":{\"type\":\"map\",\"entries\":[[\"x\",{\"type\":\"ndarray\",\"array\":{\"type\":\"bytes\",\"data\":\"FpUZ0+eP7z9ULOmCrIDvP6FSq3IKcO8/fNOzvupd7z9K/hs1KkrvP+2qKmmyNO8/oxhNu3Yd7z9M6y4xZwTvP42N5sSL6e4/IAjtk/XM7j/n7jA60a7uPz/d78Fgj+4/H3rswO9u7j9GmXtu4E3uP68fI42tLO4/t3OfL68L7j8GwPDAO+vtPxcVrhm3y+0/MChMS2qt7T/K4JiOiZDtP/CrsX88de0/T8MqGpxb7T88EsZqskPtP2aRp8J/Le0/Ri/z+P0Y7T92Bu8pGQbtP0lKPOy79Ow/OfLYJ9Xk7D895G/QTNbsP3ZriwkRyew/jee6Zw+97D8fEGHoL7LsPzqXt81cqOw/9p57+n6f7D82WXcggpfsP/EhUATjj+w/o5QVf+KI7D86EApeLYPsP/AwrbBEXuw/ZnXcwhM57D+WriyVaTTsPzbzaTPQL+w/n4ZLExkr7D+PU7YG3CXsP41ZM60qH+w/2oifYlQW7D9dmAMYYxLsP+lfp5yyD+w/cHqbN2oN7D/gUFCflAvsPyPDwlUJCuw/k2KHu7UI7D9JyaFMtQfsP22tBBHuBuw/WST/0AAG7D80mdXxpATsP9BT2wPMAuw/Md+4+HQA7D9KvZqmiv3rP0OPx+EI+us/MLp9/O/16z+tUjUbKPHrP3kQnU7J6+s/txFasBDm6z+TURuoHeDrPy1xiw8B2us/HUrcPLzT6z9h/KhgUM3rPz03t9/Gxus/du6WR1fA6z8gjpgdXLrrP8DuX7pftes/Tfeab4i16z9N95pviLXrP033mm+Ites/AAAAAAAAAAAAAAAAAAAAAAAAAAAAAAAAAAAAAAAAAAAAAAAAAAAAAAAAAAAAAAAAAAAAAAAAAAAAAAAAAAAAAAAAAAAAAAAAAAAAAAAAAAAAAAAAAAAAAAAAAAAAAAAAAAAAAAAAAAAAAAAAAAAAAAAAAAAAAAAA\"},\"shape\":[90],\"dtype\":\"float64\",\"order\":\"little\"}],[\"y\",{\"type\":\"ndarray\",\"array\":{\"type\":\"bytes\",\"data\":\"0dYce1EWKT+ZaVYRyessP/lahu5IqzA/k7quqT02Mz/ZhwZzBSU2P+7MBMO5hjk/vz9KkSFsPT/a4a/JGvVAPwL0+/7Ni0M/oB+hwQGIRj/YbhaKz/hJP3ttkQ/V700/en/NgwVBUT8vRD0zd+NTP6uYSj/h7FY/ficcMP5sWj9v57Ec13VeP/JdSl0yjmE/MtXdhmI8ZD/EIitkU1NnP60mPi314mo/ZN3TMNf9bj9DfSZWodxxP4ncwqnFlnQ/BqYudIC7dz9V10bhH1t7P2Wire9oiH8/1x5R/HMsgj9MQtjfyPKEPzyxPWmXJYg/aUVAKmrViz/WU6uvrgqQP7Y8xWC0fZI/Kq0a33JQlT9eSl0yjpGYP/RqJRneUZw/T5ph/mVSoD/cWQV7XdCiP3V2jfG8r6U/bXGNz2T/qD+Z9PdSeNCsPx1jOOhcm7A/e9tMhXgksz+Jbqx6rxC2P5qLCXskb7k/ZFkw8UdRvT/yVCwjmuXAP9adOMoLesM//sQSIFRzxj8s8uuH2ODJP53y6EZY1M0/Ekza+SMx0T+dR8X/HdHTP4ggvZex19Y/E6tQ7ohU2j9AQK1YslneP63tNyT/feE/ecK3VbUp5D/eoRekzz3nP+BrY0c+yuo/IxQAiGDh7j8KFuLsMczxP1CavLfYg/Q/8E4+Pbal9z/6fg8DAkL7P+wX7IZta/8/kL8PYsIbAkBdXsoKj98EQLw3K0dtDwhAC2t0GN27C0DlNPqH4/cPQLXu1X22bBJAyIkbXN88FUDBSvTo/HoYQH96fffYNxxA73eDw2ZDIEDAhMCAFL8iQKeIHdfQmyVAvWU9a23oKECz8iYa/7UsQEasDzUbjDBAx9nPveISM0DPOMPDavw1QPkboyvHVzlAqD5GL1k2PUDGzsqsFNZAQIdZw6AnaENAyKe2irReRkC7KeW1EslJQN50yw7xuE1A\"},\"shape\":[90],\"dtype\":\"float64\",\"order\":\"little\"}]]}}},\"view\":{\"type\":\"object\",\"name\":\"CDSView\",\"id\":\"p1529\",\"attributes\":{\"filter\":{\"type\":\"object\",\"name\":\"AllIndices\",\"id\":\"p1530\"}}},\"glyph\":{\"type\":\"object\",\"name\":\"Line\",\"id\":\"p1525\",\"attributes\":{\"x\":{\"type\":\"field\",\"field\":\"x\"},\"y\":{\"type\":\"field\",\"field\":\"y\"},\"line_color\":\"#0072B2\",\"line_width\":3}},\"nonselection_glyph\":{\"type\":\"object\",\"name\":\"Line\",\"id\":\"p1526\",\"attributes\":{\"x\":{\"type\":\"field\",\"field\":\"x\"},\"y\":{\"type\":\"field\",\"field\":\"y\"},\"line_color\":\"#0072B2\",\"line_alpha\":0.1,\"line_width\":3}},\"muted_glyph\":{\"type\":\"object\",\"name\":\"Line\",\"id\":\"p1527\",\"attributes\":{\"x\":{\"type\":\"field\",\"field\":\"x\"},\"y\":{\"type\":\"field\",\"field\":\"y\"},\"line_color\":\"#0072B2\",\"line_alpha\":0.2,\"line_width\":3}}}},{\"type\":\"object\",\"name\":\"GlyphRenderer\",\"id\":\"p1571\",\"attributes\":{\"data_source\":{\"type\":\"object\",\"name\":\"ColumnDataSource\",\"id\":\"p1565\",\"attributes\":{\"selected\":{\"type\":\"object\",\"name\":\"Selection\",\"id\":\"p1567\",\"attributes\":{\"indices\":[],\"line_indices\":[]}},\"selection_policy\":{\"type\":\"object\",\"name\":\"UnionRenderers\",\"id\":\"p1566\"},\"data\":{\"type\":\"map\",\"entries\":[[\"x\",{\"type\":\"ndarray\",\"array\":{\"type\":\"bytes\",\"data\":\"se12oDrR7z82gSdljcrvPzBhXnGixu8/cJowcPXB7z9z5i1Ad7zvP5TRauZatu8/UUw+Bq+v7z8R8tTvd6jvPxe611K4oO8/QTOQrXKY7z/fVkAsq4/vP1kqpm1nhu8/5hY4Ca187z/qiM9fhnLvP0ClkjgLaO8/7BNReTpd7z8NRtopG1LvPzntpKHPRu8/My6M03E77z96t8xGHTDvP1bCBbvuJO8/saG22gQa7z89TijdeQ/vPxD37ypnBe8/nwYeGun77j9x70McBvPuP7NlDqjH6u4/P/3Myjfj7j/x0+P8WdzuPzaQbh0q1u4/FoIdiqHQ7j/MxHswt8vuP9aAcaZkx+4/jUqTPJ3D7j9ptetQVMDuPxnTamV/ve4/pAXkZxO77j8mJcH4ArnuP5QXyN8/t+4/zy4xIcC17j8D/mEgdbTuP4HzhCxRs+4/0XfsTjuy7j9BWxYGCLHuP0auIQFgr+4/HHkqo/as7j9xfuQSI6zuPwTbl/Opq+4/Rn/mXTOr7j9GoPKMvaruP1bXDmNNqu4/wG/Ii+mp7j/HZMnohKnuP7zQHvYnqe4/98epHfKo7j+Ntv15/qjuP/lcESlOqe4/A/6Lut2p7j+dfoFisqruP4aUujfHq+4/ShEp/Ret7j+/EQB8oa7uP8d/mRJdsO4/3/J+sTiy7j/5klxnILTuPxSdkR8Otu4/tHjsA/+37j/AVm2J8rnuPxPCbG3lu+4/A8g/qse97j80DMnGhb/uP/B0ZT0Cwe4/vYIKHzn57D+9ggofOfnsP72CCh85+ew/AAAAAAAAAAAAAAAAAAAAAAAAAAAAAAAAAAAAAAAAAAAAAAAAAAAAAAAAAAAAAAAAAAAAAAAAAAAAAAAAAAAAAAAAAAAAAAAAAAAAAAAAAAAAAAAAAAAAAAAAAAAAAAAAAAAAAAAAAAAAAAAAAAAAAAAAAAAAAAAA\"},\"shape\":[90],\"dtype\":\"float64\",\"order\":\"little\"}],[\"y\",{\"type\":\"ndarray\",\"array\":{\"type\":\"bytes\",\"data\":\"0dYce1EWKT+ZaVYRyessP/lahu5IqzA/k7quqT02Mz/ZhwZzBSU2P+7MBMO5hjk/vz9KkSFsPT/a4a/JGvVAPwL0+/7Ni0M/oB+hwQGIRj/YbhaKz/hJP3ttkQ/V700/en/NgwVBUT8vRD0zd+NTP6uYSj/h7FY/ficcMP5sWj9v57Ec13VeP/JdSl0yjmE/MtXdhmI8ZD/EIitkU1NnP60mPi314mo/ZN3TMNf9bj9DfSZWodxxP4ncwqnFlnQ/BqYudIC7dz9V10bhH1t7P2Wire9oiH8/1x5R/HMsgj9MQtjfyPKEPzyxPWmXJYg/aUVAKmrViz/WU6uvrgqQP7Y8xWC0fZI/Kq0a33JQlT9eSl0yjpGYP/RqJRneUZw/T5ph/mVSoD/cWQV7XdCiP3V2jfG8r6U/bXGNz2T/qD+Z9PdSeNCsPx1jOOhcm7A/e9tMhXgksz+Jbqx6rxC2P5qLCXskb7k/ZFkw8UdRvT/yVCwjmuXAP9adOMoLesM//sQSIFRzxj8s8uuH2ODJP53y6EZY1M0/Ekza+SMx0T+dR8X/HdHTP4ggvZex19Y/E6tQ7ohU2j9AQK1YslneP63tNyT/feE/ecK3VbUp5D/eoRekzz3nP+BrY0c+yuo/IxQAiGDh7j8KFuLsMczxP1CavLfYg/Q/8E4+Pbal9z/6fg8DAkL7P+wX7IZta/8/kL8PYsIbAkBdXsoKj98EQLw3K0dtDwhAC2t0GN27C0DlNPqH4/cPQLXu1X22bBJAyIkbXN88FUDBSvTo/HoYQH96fffYNxxA73eDw2ZDIEDAhMCAFL8iQKeIHdfQmyVAvWU9a23oKECz8iYa/7UsQEasDzUbjDBAx9nPveISM0DPOMPDavw1QPkboyvHVzlAqD5GL1k2PUDGzsqsFNZAQIdZw6AnaENAyKe2irReRkC7KeW1EslJQN50yw7xuE1A\"},\"shape\":[90],\"dtype\":\"float64\",\"order\":\"little\"}]]}}},\"view\":{\"type\":\"object\",\"name\":\"CDSView\",\"id\":\"p1572\",\"attributes\":{\"filter\":{\"type\":\"object\",\"name\":\"AllIndices\",\"id\":\"p1573\"}}},\"glyph\":{\"type\":\"object\",\"name\":\"Line\",\"id\":\"p1568\",\"attributes\":{\"x\":{\"type\":\"field\",\"field\":\"x\"},\"y\":{\"type\":\"field\",\"field\":\"y\"},\"line_color\":\"#E69F00\",\"line_width\":3}},\"nonselection_glyph\":{\"type\":\"object\",\"name\":\"Line\",\"id\":\"p1569\",\"attributes\":{\"x\":{\"type\":\"field\",\"field\":\"x\"},\"y\":{\"type\":\"field\",\"field\":\"y\"},\"line_color\":\"#E69F00\",\"line_alpha\":0.1,\"line_width\":3}},\"muted_glyph\":{\"type\":\"object\",\"name\":\"Line\",\"id\":\"p1570\",\"attributes\":{\"x\":{\"type\":\"field\",\"field\":\"x\"},\"y\":{\"type\":\"field\",\"field\":\"y\"},\"line_color\":\"#E69F00\",\"line_alpha\":0.2,\"line_width\":3}}}},{\"type\":\"object\",\"name\":\"GlyphRenderer\",\"id\":\"p1618\",\"attributes\":{\"data_source\":{\"type\":\"object\",\"name\":\"ColumnDataSource\",\"id\":\"p1612\",\"attributes\":{\"selected\":{\"type\":\"object\",\"name\":\"Selection\",\"id\":\"p1614\",\"attributes\":{\"indices\":[],\"line_indices\":[]}},\"selection_policy\":{\"type\":\"object\",\"name\":\"UnionRenderers\",\"id\":\"p1613\"},\"data\":{\"type\":\"map\",\"entries\":[[\"x\",{\"type\":\"ndarray\",\"array\":{\"type\":\"bytes\",\"data\":\"Qc1gYmnn7z96p1GyGuXvP2E2g25g4u8/r8j+vFzf7z83Nxe77NvvPxyhTfzg1+8/TQErzFPT7z/hnxFYWM7vPySGkrKzyO8/AdSAiqrC7z9pg4g8CLzvP3zLY7fetO8/iYFWlGmt7z/0EQr3UaXvP9QKk4XenO8/75hECwuU7z/a0S4NFIvvP/Mq5yW+ge8/tkVq4j147z9Zjl1t0m7vP7+3pX8GZe8/QWA7kTNb7z8WOK97VlHvPzOVrUuNR+8/tJQYJ/o97z9/Y+9nljTvPwzg19R3K+8/puLCiKEi7z/UhVuJXxrvP7O6FsXJEe8/vagVGtcJ7z/fdKitaALvP4cUOlaf++4/Y8pz5XP17j/GZ2cYxO/uPxeVa+yL6u4/V1kiS4Xl7j+5kZilquDuP+l83olL3O4/Sr/nwTfY7j/nN3G4XNTuP7EWyj7O0O4/Kf0wjGLN7j8v9dpz3cnuP3QD3zGSxe4/XDmFIc6/7j+tCjo9qrzuP/CLGoZCuu4/Ty0TzFC37j8Aw/3wA7XuP2MESvB+s+4/dn7m+Ruy7j8Qvn6e4K/uP08OrtNbr+4/Cl/htmaw7j8c2OZribLuP2HWlzqCtO4/pp/XPgi37j8anMT/D7ruP5fqyewQve4/HRgTSVPA7j8wpeQ+KsTuPwrZsKPtxu4/of4Ww9jI7j9qeuV4WcruP2bkDcPMy+4/Q/XxkzzN7j9MVLQOrc7uPxFF2RDmz+4/s7CLJ/vP7j/HgWEmL8/uPxQ1UUcLze4/7B+TM0AG7T/sH5MzQAbtP+wfkzNABu0/AAAAAAAAAAAAAAAAAAAAAAAAAAAAAAAAAAAAAAAAAAAAAAAAAAAAAAAAAAAAAAAAAAAAAAAAAAAAAAAAAAAAAAAAAAAAAAAAAAAAAAAAAAAAAAAAAAAAAAAAAAAAAAAAAAAAAAAAAAAAAAAAAAAAAAAAAAAAAAAA\"},\"shape\":[90],\"dtype\":\"float64\",\"order\":\"little\"}],[\"y\",{\"type\":\"ndarray\",\"array\":{\"type\":\"bytes\",\"data\":\"0dYce1EWKT+ZaVYRyessP/lahu5IqzA/k7quqT02Mz/ZhwZzBSU2P+7MBMO5hjk/vz9KkSFsPT/a4a/JGvVAPwL0+/7Ni0M/oB+hwQGIRj/YbhaKz/hJP3ttkQ/V700/en/NgwVBUT8vRD0zd+NTP6uYSj/h7FY/ficcMP5sWj9v57Ec13VeP/JdSl0yjmE/MtXdhmI8ZD/EIitkU1NnP60mPi314mo/ZN3TMNf9bj9DfSZWodxxP4ncwqnFlnQ/BqYudIC7dz9V10bhH1t7P2Wire9oiH8/1x5R/HMsgj9MQtjfyPKEPzyxPWmXJYg/aUVAKmrViz/WU6uvrgqQP7Y8xWC0fZI/Kq0a33JQlT9eSl0yjpGYP/RqJRneUZw/T5ph/mVSoD/cWQV7XdCiP3V2jfG8r6U/bXGNz2T/qD+Z9PdSeNCsPx1jOOhcm7A/e9tMhXgksz+Jbqx6rxC2P5qLCXskb7k/ZFkw8UdRvT/yVCwjmuXAP9adOMoLesM//sQSIFRzxj8s8uuH2ODJP53y6EZY1M0/Ekza+SMx0T+dR8X/HdHTP4ggvZex19Y/E6tQ7ohU2j9AQK1YslneP63tNyT/feE/ecK3VbUp5D/eoRekzz3nP+BrY0c+yuo/IxQAiGDh7j8KFuLsMczxP1CavLfYg/Q/8E4+Pbal9z/6fg8DAkL7P+wX7IZta/8/kL8PYsIbAkBdXsoKj98EQLw3K0dtDwhAC2t0GN27C0DlNPqH4/cPQLXu1X22bBJAyIkbXN88FUDBSvTo/HoYQH96fffYNxxA73eDw2ZDIEDAhMCAFL8iQKeIHdfQmyVAvWU9a23oKECz8iYa/7UsQEasDzUbjDBAx9nPveISM0DPOMPDavw1QPkboyvHVzlAqD5GL1k2PUDGzsqsFNZAQIdZw6AnaENAyKe2irReRkC7KeW1EslJQN50yw7xuE1A\"},\"shape\":[90],\"dtype\":\"float64\",\"order\":\"little\"}]]}}},\"view\":{\"type\":\"object\",\"name\":\"CDSView\",\"id\":\"p1619\",\"attributes\":{\"filter\":{\"type\":\"object\",\"name\":\"AllIndices\",\"id\":\"p1620\"}}},\"glyph\":{\"type\":\"object\",\"name\":\"Line\",\"id\":\"p1615\",\"attributes\":{\"x\":{\"type\":\"field\",\"field\":\"x\"},\"y\":{\"type\":\"field\",\"field\":\"y\"},\"line_color\":\"#F0E442\",\"line_width\":3}},\"nonselection_glyph\":{\"type\":\"object\",\"name\":\"Line\",\"id\":\"p1616\",\"attributes\":{\"x\":{\"type\":\"field\",\"field\":\"x\"},\"y\":{\"type\":\"field\",\"field\":\"y\"},\"line_color\":\"#F0E442\",\"line_alpha\":0.1,\"line_width\":3}},\"muted_glyph\":{\"type\":\"object\",\"name\":\"Line\",\"id\":\"p1617\",\"attributes\":{\"x\":{\"type\":\"field\",\"field\":\"x\"},\"y\":{\"type\":\"field\",\"field\":\"y\"},\"line_color\":\"#F0E442\",\"line_alpha\":0.2,\"line_width\":3}}}},{\"type\":\"object\",\"name\":\"GlyphRenderer\",\"id\":\"p1670\",\"attributes\":{\"data_source\":{\"type\":\"object\",\"name\":\"ColumnDataSource\",\"id\":\"p1664\",\"attributes\":{\"selected\":{\"type\":\"object\",\"name\":\"Selection\",\"id\":\"p1666\",\"attributes\":{\"indices\":[],\"line_indices\":[]}},\"selection_policy\":{\"type\":\"object\",\"name\":\"UnionRenderers\",\"id\":\"p1665\"},\"data\":{\"type\":\"map\",\"entries\":[[\"x\",{\"type\":\"ndarray\",\"array\":{\"type\":\"bytes\",\"data\":\"Qc1gYmnn7z96p1GyGuXvP2E2g25g4u8/r8j+vFzf7z83Nxe77NvvPxyhTfzg1+8/TQErzFPT7z/hnxFYWM7vPySGkrKzyO8/AdSAiqrC7z9pg4g8CLzvP3zLY7fetO8/iYFWlGmt7z/0EQr3UaXvP9QKk4XenO8/75hECwuU7z/a0S4NFIvvP/Mq5yW+ge8/tkVq4j147z9Zjl1t0m7vP7+3pX8GZe8/QWA7kTNb7z8WOK97VlHvPzOVrUuNR+8/tJQYJ/o97z9/Y+9nljTvPwzg19R3K+8/puLCiKEi7z/UhVuJXxrvP7O6FsXJEe8/vagVGtcJ7z/fdKitaALvP4cUOlaf++4/Y8pz5XP17j/GZ2cYxO/uPxeVa+yL6u4/V1kiS4Xl7j+5kZilquDuP+l83olL3O4/Sr/nwTfY7j/nN3G4XNTuP7EWyj7O0O4/Kf0wjGLN7j8v9dpz3cnuP3QD3zGSxe4/XDmFIc6/7j+tCjo9qrzuP/CLGoZCuu4/Ty0TzFC37j8Aw/3wA7XuP2MESvB+s+4/dn7m+Ruy7j8Qvn6e4K/uP08OrtNbr+4/Cl/htmaw7j8c2OZribLuP2HWlzqCtO4/pp/XPgi37j8anMT/D7ruP5fqyewQve4/HRgTSVPA7j8wpeQ+KsTuPwrZsKPtxu4/of4Ww9jI7j9qeuV4WcruP2bkDcPMy+4/Q/XxkzzN7j9MVLQOrc7uP0foyFy8se4/9BNW7RZx7j8g2iN8tyPuPwnt4w56ou0/7B+TM0AG7T/sH5MzQAbtP+wfkzNABu0/AAAAAAAAAAAAAAAAAAAAAAAAAAAAAAAAAAAAAAAAAAAAAAAAAAAAAAAAAAAAAAAAAAAAAAAAAAAAAAAAAAAAAAAAAAAAAAAAAAAAAAAAAAAAAAAAAAAAAAAAAAAAAAAAAAAAAAAAAAAAAAAAAAAAAAAAAAAAAAAA\"},\"shape\":[90],\"dtype\":\"float64\",\"order\":\"little\"}],[\"y\",{\"type\":\"ndarray\",\"array\":{\"type\":\"bytes\",\"data\":\"0dYce1EWKT+ZaVYRyessP/lahu5IqzA/k7quqT02Mz/ZhwZzBSU2P+7MBMO5hjk/vz9KkSFsPT/a4a/JGvVAPwL0+/7Ni0M/oB+hwQGIRj/YbhaKz/hJP3ttkQ/V700/en/NgwVBUT8vRD0zd+NTP6uYSj/h7FY/ficcMP5sWj9v57Ec13VeP/JdSl0yjmE/MtXdhmI8ZD/EIitkU1NnP60mPi314mo/ZN3TMNf9bj9DfSZWodxxP4ncwqnFlnQ/BqYudIC7dz9V10bhH1t7P2Wire9oiH8/1x5R/HMsgj9MQtjfyPKEPzyxPWmXJYg/aUVAKmrViz/WU6uvrgqQP7Y8xWC0fZI/Kq0a33JQlT9eSl0yjpGYP/RqJRneUZw/T5ph/mVSoD/cWQV7XdCiP3V2jfG8r6U/bXGNz2T/qD+Z9PdSeNCsPx1jOOhcm7A/e9tMhXgksz+Jbqx6rxC2P5qLCXskb7k/ZFkw8UdRvT/yVCwjmuXAP9adOMoLesM//sQSIFRzxj8s8uuH2ODJP53y6EZY1M0/Ekza+SMx0T+dR8X/HdHTP4ggvZex19Y/E6tQ7ohU2j9AQK1YslneP63tNyT/feE/ecK3VbUp5D/eoRekzz3nP+BrY0c+yuo/IxQAiGDh7j8KFuLsMczxP1CavLfYg/Q/8E4+Pbal9z/6fg8DAkL7P+wX7IZta/8/kL8PYsIbAkBdXsoKj98EQLw3K0dtDwhAC2t0GN27C0DlNPqH4/cPQLXu1X22bBJAyIkbXN88FUDBSvTo/HoYQH96fffYNxxA73eDw2ZDIEDAhMCAFL8iQKeIHdfQmyVAvWU9a23oKECz8iYa/7UsQEasDzUbjDBAx9nPveISM0DPOMPDavw1QPkboyvHVzlAqD5GL1k2PUDGzsqsFNZAQIdZw6AnaENAyKe2irReRkC7KeW1EslJQN50yw7xuE1A\"},\"shape\":[90],\"dtype\":\"float64\",\"order\":\"little\"}]]}}},\"view\":{\"type\":\"object\",\"name\":\"CDSView\",\"id\":\"p1671\",\"attributes\":{\"filter\":{\"type\":\"object\",\"name\":\"AllIndices\",\"id\":\"p1672\"}}},\"glyph\":{\"type\":\"object\",\"name\":\"Line\",\"id\":\"p1667\",\"attributes\":{\"x\":{\"type\":\"field\",\"field\":\"x\"},\"y\":{\"type\":\"field\",\"field\":\"y\"},\"line_color\":\"#009E73\",\"line_width\":3}},\"nonselection_glyph\":{\"type\":\"object\",\"name\":\"Line\",\"id\":\"p1668\",\"attributes\":{\"x\":{\"type\":\"field\",\"field\":\"x\"},\"y\":{\"type\":\"field\",\"field\":\"y\"},\"line_color\":\"#009E73\",\"line_alpha\":0.1,\"line_width\":3}},\"muted_glyph\":{\"type\":\"object\",\"name\":\"Line\",\"id\":\"p1669\",\"attributes\":{\"x\":{\"type\":\"field\",\"field\":\"x\"},\"y\":{\"type\":\"field\",\"field\":\"y\"},\"line_color\":\"#009E73\",\"line_alpha\":0.2,\"line_width\":3}}}}],\"toolbar\":{\"type\":\"object\",\"name\":\"Toolbar\",\"id\":\"p1370\",\"attributes\":{\"tools\":[{\"id\":\"p1397\"},{\"id\":\"p1398\"},{\"id\":\"p1399\"},{\"type\":\"object\",\"name\":\"SaveTool\",\"id\":\"p1401\"},{\"id\":\"p1402\"},{\"id\":\"p1403\"}]}},\"toolbar_location\":null,\"left\":[{\"type\":\"object\",\"name\":\"LogAxis\",\"id\":\"p1390\",\"attributes\":{\"ticker\":{\"type\":\"object\",\"name\":\"LogTicker\",\"id\":\"p1393\",\"attributes\":{\"num_minor_ticks\":10,\"mantissas\":[1,5]}},\"formatter\":{\"type\":\"object\",\"name\":\"LogTickFormatter\",\"id\":\"p1391\"},\"major_label_policy\":{\"type\":\"object\",\"name\":\"AllLabels\",\"id\":\"p1392\"}}}],\"below\":[{\"type\":\"object\",\"name\":\"LinearAxis\",\"id\":\"p1383\",\"attributes\":{\"ticker\":{\"type\":\"object\",\"name\":\"BasicTicker\",\"id\":\"p1386\",\"attributes\":{\"mantissas\":[1,2,5]}},\"formatter\":{\"type\":\"object\",\"name\":\"BasicTickFormatter\",\"id\":\"p1384\"},\"axis_label\":\"Single Scattering Albedo\",\"major_label_policy\":{\"type\":\"object\",\"name\":\"AllLabels\",\"id\":\"p1385\"}}}],\"center\":[{\"type\":\"object\",\"name\":\"Grid\",\"id\":\"p1389\",\"attributes\":{\"axis\":{\"id\":\"p1383\"}}},{\"type\":\"object\",\"name\":\"Grid\",\"id\":\"p1396\",\"attributes\":{\"dimension\":1,\"axis\":{\"id\":\"p1390\"}}},{\"type\":\"object\",\"name\":\"Legend\",\"id\":\"p1545\",\"attributes\":{\"location\":\"top_left\",\"items\":[{\"type\":\"object\",\"name\":\"LegendItem\",\"id\":\"p1546\",\"attributes\":{\"label\":{\"type\":\"value\",\"value\":\"Constant\"},\"renderers\":[{\"id\":\"p1528\"}]}},{\"type\":\"object\",\"name\":\"LegendItem\",\"id\":\"p1593\",\"attributes\":{\"label\":{\"type\":\"value\",\"value\":\"CHF-Only\"},\"renderers\":[{\"id\":\"p1571\"}]}},{\"type\":\"object\",\"name\":\"LegendItem\",\"id\":\"p1645\",\"attributes\":{\"label\":{\"type\":\"value\",\"value\":\"CHF+Latent\"},\"renderers\":[{\"id\":\"p1618\"}]}},{\"type\":\"object\",\"name\":\"LegendItem\",\"id\":\"p1702\",\"attributes\":{\"label\":{\"type\":\"value\",\"value\":\"CFH+Latent+COS\"},\"renderers\":[{\"id\":\"p1670\"}]}}]}}]}},0,1],[{\"type\":\"object\",\"name\":\"Figure\",\"id\":\"p1412\",\"attributes\":{\"width\":300,\"height\":300,\"x_range\":{\"type\":\"object\",\"name\":\"DataRange1d\",\"id\":\"p1414\"},\"y_range\":{\"type\":\"object\",\"name\":\"Range1d\",\"id\":\"p1423\",\"attributes\":{\"start\":59.4448565,\"end\":0.00019140000000000002}},\"x_scale\":{\"type\":\"object\",\"name\":\"LinearScale\",\"id\":\"p1425\"},\"y_scale\":{\"type\":\"object\",\"name\":\"LogScale\",\"id\":\"p1427\"},\"title\":{\"type\":\"object\",\"name\":\"Title\",\"id\":\"p1419\"},\"renderers\":[{\"type\":\"object\",\"name\":\"GlyphRenderer\",\"id\":\"p1519\",\"attributes\":{\"data_source\":{\"type\":\"object\",\"name\":\"ColumnDataSource\",\"id\":\"p1513\",\"attributes\":{\"selected\":{\"type\":\"object\",\"name\":\"Selection\",\"id\":\"p1515\",\"attributes\":{\"indices\":[],\"line_indices\":[]}},\"selection_policy\":{\"type\":\"object\",\"name\":\"UnionRenderers\",\"id\":\"p1514\"},\"data\":{\"type\":\"map\",\"entries\":[[\"x\",{\"type\":\"ndarray\",\"array\":{\"type\":\"bytes\",\"data\":\"fEdtWFEw5j/SdmTj03/mP6jQP3cJ0OY/0HiQhLIe5z9nt4itKGrnP2ZIUEUasec/Z08MSLry5z/B/iWA2y7oPwwt1giMZeg/LO3uFCOX6D+Mk8k/A8ToP+fAo5WX7Og/LWWMTlER6T/RpSiYjDLpP+bhgs6NUOk/n2l09bBr6T9Ets8bQYTpPyYp2V9vmuk/2riJ/XGu6T/k5w1zfcDpP591obS/0Ok/L58b/WLf6T833Q00j+zpPxT7PHpo+Ok/HVEU7g4D6j+XppegowzqPwZXqDtDFeo/Q4+cRwQd6j+qrdKh/SPqP+3rjbVAKuo/L9lmTd0v6j9WwmVB5DTqP5Dg9A9kOeo/56J4zmo96j9ERE5xBEHqPz01JZBNROo/5wCg5jlH6j+debn/vknqPy96GFTlWeo/QATke8Zp6j+s7lmVqmvqP0RsC7l3beo/SoB6izBv6j8zUqgs23DqPypvp+OEcuo/Q8OBdjR06j8AuottenXqPzE4w3KPduo/gQut23p36j8jo6tzOnjqP8dnQpDbeOo/8WED3GV56j8wc6I2znnqP41oMT8feuo//8GZsX966j+suqQDDXvqP3cbpvTMe+o/s+i+x7986j+UmUzW7X3qP6AUMYJYf+o/1KKPTP+A6j+XwoNe64LqP7za24cSheo/RyER4luH6j8Bfj2guonqP99cMuMnjOo/2b6FA6OO6j9226dqK5HqP4fpvUu9k+o/nPbE2EKW6j8tjFvomJjqPz80wBmKmuo/9pErQ3qa6j/3kStDeprqP/eRK0N6muo/AAAAAAAAAAAAAAAAAAAAAAAAAAAAAAAAAAAAAAAAAAAAAAAAAAAAAAAAAAAAAAAAAAAAAAAAAAAAAAAAAAAAAAAAAAAAAAAAAAAAAAAAAAAAAAAAAAAAAAAAAAAAAAAAAAAAAAAAAAAAAAAAAAAAAAAAAAAAAAAA\"},\"shape\":[90],\"dtype\":\"float64\",\"order\":\"little\"}],[\"y\",{\"type\":\"ndarray\",\"array\":{\"type\":\"bytes\",\"data\":\"0dYce1EWKT+ZaVYRyessP/lahu5IqzA/k7quqT02Mz/ZhwZzBSU2P+7MBMO5hjk/vz9KkSFsPT/a4a/JGvVAPwL0+/7Ni0M/oB+hwQGIRj/YbhaKz/hJP3ttkQ/V700/en/NgwVBUT8vRD0zd+NTP6uYSj/h7FY/ficcMP5sWj9v57Ec13VeP/JdSl0yjmE/MtXdhmI8ZD/EIitkU1NnP60mPi314mo/ZN3TMNf9bj9DfSZWodxxP4ncwqnFlnQ/BqYudIC7dz9V10bhH1t7P2Wire9oiH8/1x5R/HMsgj9MQtjfyPKEPzyxPWmXJYg/aUVAKmrViz/WU6uvrgqQP7Y8xWC0fZI/Kq0a33JQlT9eSl0yjpGYP/RqJRneUZw/T5ph/mVSoD/cWQV7XdCiP3V2jfG8r6U/bXGNz2T/qD+Z9PdSeNCsPx1jOOhcm7A/e9tMhXgksz+Jbqx6rxC2P5qLCXskb7k/ZFkw8UdRvT/yVCwjmuXAP9adOMoLesM//sQSIFRzxj8s8uuH2ODJP53y6EZY1M0/Ekza+SMx0T+dR8X/HdHTP4ggvZex19Y/E6tQ7ohU2j9AQK1YslneP63tNyT/feE/ecK3VbUp5D/eoRekzz3nP+BrY0c+yuo/IxQAiGDh7j8KFuLsMczxP1CavLfYg/Q/8E4+Pbal9z/6fg8DAkL7P+wX7IZta/8/kL8PYsIbAkBdXsoKj98EQLw3K0dtDwhAC2t0GN27C0DlNPqH4/cPQLXu1X22bBJAyIkbXN88FUDBSvTo/HoYQH96fffYNxxA73eDw2ZDIEDAhMCAFL8iQKeIHdfQmyVAvWU9a23oKECz8iYa/7UsQEasDzUbjDBAx9nPveISM0DPOMPDavw1QPkboyvHVzlAqD5GL1k2PUDGzsqsFNZAQIdZw6AnaENAyKe2irReRkC7KeW1EslJQN50yw7xuE1A\"},\"shape\":[90],\"dtype\":\"float64\",\"order\":\"little\"}]]}}},\"view\":{\"type\":\"object\",\"name\":\"CDSView\",\"id\":\"p1520\",\"attributes\":{\"filter\":{\"type\":\"object\",\"name\":\"AllIndices\",\"id\":\"p1521\"}}},\"glyph\":{\"type\":\"object\",\"name\":\"Line\",\"id\":\"p1516\",\"attributes\":{\"x\":{\"type\":\"field\",\"field\":\"x\"},\"y\":{\"type\":\"field\",\"field\":\"y\"},\"line_color\":\"#0072B2\",\"line_width\":3}},\"nonselection_glyph\":{\"type\":\"object\",\"name\":\"Line\",\"id\":\"p1517\",\"attributes\":{\"x\":{\"type\":\"field\",\"field\":\"x\"},\"y\":{\"type\":\"field\",\"field\":\"y\"},\"line_color\":\"#0072B2\",\"line_alpha\":0.1,\"line_width\":3}},\"muted_glyph\":{\"type\":\"object\",\"name\":\"Line\",\"id\":\"p1518\",\"attributes\":{\"x\":{\"type\":\"field\",\"field\":\"x\"},\"y\":{\"type\":\"field\",\"field\":\"y\"},\"line_color\":\"#0072B2\",\"line_alpha\":0.2,\"line_width\":3}}}},{\"type\":\"object\",\"name\":\"GlyphRenderer\",\"id\":\"p1562\",\"attributes\":{\"data_source\":{\"type\":\"object\",\"name\":\"ColumnDataSource\",\"id\":\"p1556\",\"attributes\":{\"selected\":{\"type\":\"object\",\"name\":\"Selection\",\"id\":\"p1558\",\"attributes\":{\"indices\":[],\"line_indices\":[]}},\"selection_policy\":{\"type\":\"object\",\"name\":\"UnionRenderers\",\"id\":\"p1557\"},\"data\":{\"type\":\"map\",\"entries\":[[\"x\",{\"type\":\"ndarray\",\"array\":{\"type\":\"bytes\",\"data\":\"F2TKCdvZ5D8G0rEcv/bkP+N0fdveCOU/U7JsOZEf5T8VTPicgzvlP9ESbdjkW+U/iMU1eVWA5T+haeM3eqjlP9hB9pbX0+U/YSFumdIB5j/UYY7VsDHmP8/YFGqnYuY/LKI5F+6T5j9fQsFJtsTmP6wFf7wV9OY/+ZGdsLwh5z8ABMZLVE3nP7ekuvFEduc/5xhhs0uc5z+XfDfdRr/nPwHWkaAu3+c/Te+FDAv85z/pIhfh+xXoP3Ggq8MmLeg/zYun06pB6D/UVBvg0FPoP6A9N6fPY+g/5vQ/BdNx6D9qPh82Cn7oP3MKgXyoiOg/qZOLKtyR6D8KU5Tjz5noP880QcijoOg/fGHQzXym6D/BpUtFe6voP+SJxZ64r+g/NrPsa0yz6D/vfcggT7boPzkA6vjXuOg/Y15RBvW66D9h0qm4trzoP92ngbkjvug/OaNaVUG/6D9Q+oT6CMDoPx+++fZXwOg/qgz9vx7A6D8xZhb+ocDoP9SYkz1Aweg/6hjiGt3B6D8U2FSkfsLoP7xv7RwYw+g/3fUSd6DD6D+0VrGoKcToP5PbLyeoxOg/VqQ1VvHE6D/xRAaL4MToPwxlWjF0xOg/N0WDlrDD6D9dyADvjcLoP9NrvOcRweg/o8EIC0G/6D+UiQlLHr3oP6RpND6xuug/qeG7uxG46D/zo0MHW7XoP2Y3hVeVsug/o71kdsSv6D8qJLDy6KzoP+fpdWoHqug/GUMhzDen6D/fp3AfmKToPwQsDrFWoug/wW9r7i0O6j/Bb2vuLQ7qP8Fva+4tDuo/AAAAAAAAAAAAAAAAAAAAAAAAAAAAAAAAAAAAAAAAAAAAAAAAAAAAAAAAAAAAAAAAAAAAAAAAAAAAAAAAAAAAAAAAAAAAAAAAAAAAAAAAAAAAAAAAAAAAAAAAAAAAAAAAAAAAAAAAAAAAAAAAAAAAAAAAAAAAAAAA\"},\"shape\":[90],\"dtype\":\"float64\",\"order\":\"little\"}],[\"y\",{\"type\":\"ndarray\",\"array\":{\"type\":\"bytes\",\"data\":\"0dYce1EWKT+ZaVYRyessP/lahu5IqzA/k7quqT02Mz/ZhwZzBSU2P+7MBMO5hjk/vz9KkSFsPT/a4a/JGvVAPwL0+/7Ni0M/oB+hwQGIRj/YbhaKz/hJP3ttkQ/V700/en/NgwVBUT8vRD0zd+NTP6uYSj/h7FY/ficcMP5sWj9v57Ec13VeP/JdSl0yjmE/MtXdhmI8ZD/EIitkU1NnP60mPi314mo/ZN3TMNf9bj9DfSZWodxxP4ncwqnFlnQ/BqYudIC7dz9V10bhH1t7P2Wire9oiH8/1x5R/HMsgj9MQtjfyPKEPzyxPWmXJYg/aUVAKmrViz/WU6uvrgqQP7Y8xWC0fZI/Kq0a33JQlT9eSl0yjpGYP/RqJRneUZw/T5ph/mVSoD/cWQV7XdCiP3V2jfG8r6U/bXGNz2T/qD+Z9PdSeNCsPx1jOOhcm7A/e9tMhXgksz+Jbqx6rxC2P5qLCXskb7k/ZFkw8UdRvT/yVCwjmuXAP9adOMoLesM//sQSIFRzxj8s8uuH2ODJP53y6EZY1M0/Ekza+SMx0T+dR8X/HdHTP4ggvZex19Y/E6tQ7ohU2j9AQK1YslneP63tNyT/feE/ecK3VbUp5D/eoRekzz3nP+BrY0c+yuo/IxQAiGDh7j8KFuLsMczxP1CavLfYg/Q/8E4+Pbal9z/6fg8DAkL7P+wX7IZta/8/kL8PYsIbAkBdXsoKj98EQLw3K0dtDwhAC2t0GN27C0DlNPqH4/cPQLXu1X22bBJAyIkbXN88FUDBSvTo/HoYQH96fffYNxxA73eDw2ZDIEDAhMCAFL8iQKeIHdfQmyVAvWU9a23oKECz8iYa/7UsQEasDzUbjDBAx9nPveISM0DPOMPDavw1QPkboyvHVzlAqD5GL1k2PUDGzsqsFNZAQIdZw6AnaENAyKe2irReRkC7KeW1EslJQN50yw7xuE1A\"},\"shape\":[90],\"dtype\":\"float64\",\"order\":\"little\"}]]}}},\"view\":{\"type\":\"object\",\"name\":\"CDSView\",\"id\":\"p1563\",\"attributes\":{\"filter\":{\"type\":\"object\",\"name\":\"AllIndices\",\"id\":\"p1564\"}}},\"glyph\":{\"type\":\"object\",\"name\":\"Line\",\"id\":\"p1559\",\"attributes\":{\"x\":{\"type\":\"field\",\"field\":\"x\"},\"y\":{\"type\":\"field\",\"field\":\"y\"},\"line_color\":\"#E69F00\",\"line_width\":3}},\"nonselection_glyph\":{\"type\":\"object\",\"name\":\"Line\",\"id\":\"p1560\",\"attributes\":{\"x\":{\"type\":\"field\",\"field\":\"x\"},\"y\":{\"type\":\"field\",\"field\":\"y\"},\"line_color\":\"#E69F00\",\"line_alpha\":0.1,\"line_width\":3}},\"muted_glyph\":{\"type\":\"object\",\"name\":\"Line\",\"id\":\"p1561\",\"attributes\":{\"x\":{\"type\":\"field\",\"field\":\"x\"},\"y\":{\"type\":\"field\",\"field\":\"y\"},\"line_color\":\"#E69F00\",\"line_alpha\":0.2,\"line_width\":3}}}},{\"type\":\"object\",\"name\":\"GlyphRenderer\",\"id\":\"p1609\",\"attributes\":{\"data_source\":{\"type\":\"object\",\"name\":\"ColumnDataSource\",\"id\":\"p1603\",\"attributes\":{\"selected\":{\"type\":\"object\",\"name\":\"Selection\",\"id\":\"p1605\",\"attributes\":{\"indices\":[],\"line_indices\":[]}},\"selection_policy\":{\"type\":\"object\",\"name\":\"UnionRenderers\",\"id\":\"p1604\"},\"data\":{\"type\":\"map\",\"entries\":[[\"x\",{\"type\":\"ndarray\",\"array\":{\"type\":\"bytes\",\"data\":\"SR2VrnJg5D/fHb0YnnzkP75KR1H1keQ/PhlqWcGi5D85r6M6LbLkP3D96+WPwuQ/0ZtFf9TU5D96O/8PxunkP5/PnnEtA+U/9MD3hlAg5T+sTDbGU0LlP6/jS2TNaOU/5/8sMhqS5T8xoa6PlL/lP88Uor4P7+U/H+CcpPMf5j+ZmWhNUFDmP2keY4nTgOY/oq8JQvCv5j+yLq3oNNzmPx54j4GTB+c/xunTlFYw5z8Jk05BlVbnPySVOmz8eec/GjtAmFCa5z/DOwvU8bfnP2d9Fkbl0uc/KgH/i2vr5z+hYfzvBgHoP5GUExg+Fug/5md3ntYo6D+JUqmBYTnoP32neMvSR+g/GhMx5W9U6D8fmGrPpl/oP33DMuicaeg/L1X0Mupy6D9PGamDonvoPzMkd1BDg+g/6RrAZSqK6D8j8WuodZDoP9baxXf0leg/tPHOeb+a6D/cwNPIzJ7oP48u2Y02oug/cEUA/0Gl6D/mOF9g+ajoPzdLrod8rOg/cRuG+sGw6D9A3LzEFLToPyzdOrdBtug/98K/cTq46D+G4ej9X7voPxo8SAMavOg/un4tsKO66D9W8mwsn7foPxcFre3OtOg/bIsiTyux6D/c6CWWvazoPwlGE0ZJqOg/4TMawGCj6D8dwlkSfp3oP7Y/f5wvmeg/xAWxCCmW6D9RHUbwxJPoPzlXKq1xkeg/3MBtjB+P6D9DlYLdx4zoP/9X2+PGiug/0c7ANaSK6D8GNiMQ84voPwB/dHBvj+g/H3QTjqkH6j8fdBOOqQfqPx90E46pB+o/AAAAAAAAAAAAAAAAAAAAAAAAAAAAAAAAAAAAAAAAAAAAAAAAAAAAAAAAAAAAAAAAAAAAAAAAAAAAAAAAAAAAAAAAAAAAAAAAAAAAAAAAAAAAAAAAAAAAAAAAAAAAAAAAAAAAAAAAAAAAAAAAAAAAAAAAAAAAAAAA\"},\"shape\":[90],\"dtype\":\"float64\",\"order\":\"little\"}],[\"y\",{\"type\":\"ndarray\",\"array\":{\"type\":\"bytes\",\"data\":\"0dYce1EWKT+ZaVYRyessP/lahu5IqzA/k7quqT02Mz/ZhwZzBSU2P+7MBMO5hjk/vz9KkSFsPT/a4a/JGvVAPwL0+/7Ni0M/oB+hwQGIRj/YbhaKz/hJP3ttkQ/V700/en/NgwVBUT8vRD0zd+NTP6uYSj/h7FY/ficcMP5sWj9v57Ec13VeP/JdSl0yjmE/MtXdhmI8ZD/EIitkU1NnP60mPi314mo/ZN3TMNf9bj9DfSZWodxxP4ncwqnFlnQ/BqYudIC7dz9V10bhH1t7P2Wire9oiH8/1x5R/HMsgj9MQtjfyPKEPzyxPWmXJYg/aUVAKmrViz/WU6uvrgqQP7Y8xWC0fZI/Kq0a33JQlT9eSl0yjpGYP/RqJRneUZw/T5ph/mVSoD/cWQV7XdCiP3V2jfG8r6U/bXGNz2T/qD+Z9PdSeNCsPx1jOOhcm7A/e9tMhXgksz+Jbqx6rxC2P5qLCXskb7k/ZFkw8UdRvT/yVCwjmuXAP9adOMoLesM//sQSIFRzxj8s8uuH2ODJP53y6EZY1M0/Ekza+SMx0T+dR8X/HdHTP4ggvZex19Y/E6tQ7ohU2j9AQK1YslneP63tNyT/feE/ecK3VbUp5D/eoRekzz3nP+BrY0c+yuo/IxQAiGDh7j8KFuLsMczxP1CavLfYg/Q/8E4+Pbal9z/6fg8DAkL7P+wX7IZta/8/kL8PYsIbAkBdXsoKj98EQLw3K0dtDwhAC2t0GN27C0DlNPqH4/cPQLXu1X22bBJAyIkbXN88FUDBSvTo/HoYQH96fffYNxxA73eDw2ZDIEDAhMCAFL8iQKeIHdfQmyVAvWU9a23oKECz8iYa/7UsQEasDzUbjDBAx9nPveISM0DPOMPDavw1QPkboyvHVzlAqD5GL1k2PUDGzsqsFNZAQIdZw6AnaENAyKe2irReRkC7KeW1EslJQN50yw7xuE1A\"},\"shape\":[90],\"dtype\":\"float64\",\"order\":\"little\"}]]}}},\"view\":{\"type\":\"object\",\"name\":\"CDSView\",\"id\":\"p1610\",\"attributes\":{\"filter\":{\"type\":\"object\",\"name\":\"AllIndices\",\"id\":\"p1611\"}}},\"glyph\":{\"type\":\"object\",\"name\":\"Line\",\"id\":\"p1606\",\"attributes\":{\"x\":{\"type\":\"field\",\"field\":\"x\"},\"y\":{\"type\":\"field\",\"field\":\"y\"},\"line_color\":\"#F0E442\",\"line_width\":3}},\"nonselection_glyph\":{\"type\":\"object\",\"name\":\"Line\",\"id\":\"p1607\",\"attributes\":{\"x\":{\"type\":\"field\",\"field\":\"x\"},\"y\":{\"type\":\"field\",\"field\":\"y\"},\"line_color\":\"#F0E442\",\"line_alpha\":0.1,\"line_width\":3}},\"muted_glyph\":{\"type\":\"object\",\"name\":\"Line\",\"id\":\"p1608\",\"attributes\":{\"x\":{\"type\":\"field\",\"field\":\"x\"},\"y\":{\"type\":\"field\",\"field\":\"y\"},\"line_color\":\"#F0E442\",\"line_alpha\":0.2,\"line_width\":3}}}},{\"type\":\"object\",\"name\":\"GlyphRenderer\",\"id\":\"p1661\",\"attributes\":{\"data_source\":{\"type\":\"object\",\"name\":\"ColumnDataSource\",\"id\":\"p1655\",\"attributes\":{\"selected\":{\"type\":\"object\",\"name\":\"Selection\",\"id\":\"p1657\",\"attributes\":{\"indices\":[],\"line_indices\":[]}},\"selection_policy\":{\"type\":\"object\",\"name\":\"UnionRenderers\",\"id\":\"p1656\"},\"data\":{\"type\":\"map\",\"entries\":[[\"x\",{\"type\":\"ndarray\",\"array\":{\"type\":\"bytes\",\"data\":\"SR2VrnJg5D/fHb0YnnzkP75KR1H1keQ/PhlqWcGi5D85r6M6LbLkP3D96+WPwuQ/0ZtFf9TU5D96O/8PxunkP5/PnnEtA+U/9MD3hlAg5T+sTDbGU0LlP6/jS2TNaOU/5/8sMhqS5T8xoa6PlL/lP88Uor4P7+U/H+CcpPMf5j+ZmWhNUFDmP2keY4nTgOY/oq8JQvCv5j+yLq3oNNzmPx54j4GTB+c/xunTlFYw5z8Jk05BlVbnPySVOmz8eec/GjtAmFCa5z/DOwvU8bfnP2d9Fkbl0uc/KgH/i2vr5z+hYfzvBgHoP5GUExg+Fug/5md3ntYo6D+JUqmBYTnoP32neMvSR+g/GhMx5W9U6D8fmGrPpl/oP33DMuicaeg/L1X0Mupy6D9PGamDonvoPzMkd1BDg+g/6RrAZSqK6D8j8WuodZDoP9baxXf0leg/tPHOeb+a6D/cwNPIzJ7oP48u2Y02oug/cEUA/0Gl6D/mOF9g+ajoPzdLrod8rOg/cRuG+sGw6D9A3LzEFLToPyzdOrdBtug/98K/cTq46D+G4ej9X7voPxo8SAMavOg/un4tsKO66D9W8mwsn7foPxcFre3OtOg/bIsiTyux6D/c6CWWvazoPwlGE0ZJqOg/4TMawGCj6D8dwlkSfp3oP7Y/f5wvmeg/xAWxCCmW6D9RHUbwxJPoPzlXKq1xkeg/3MBtjB+P6D9DlYLdx4zoPz2ENdbBuOg/GspXj4II6T+gds5qOFLpP1wsdTcKsOk/H3QTjqkH6j8fdBOOqQfqPx90E46pB+o/AAAAAAAAAAAAAAAAAAAAAAAAAAAAAAAAAAAAAAAAAAAAAAAAAAAAAAAAAAAAAAAAAAAAAAAAAAAAAAAAAAAAAAAAAAAAAAAAAAAAAAAAAAAAAAAAAAAAAAAAAAAAAAAAAAAAAAAAAAAAAAAAAAAAAAAAAAAAAAAA\"},\"shape\":[90],\"dtype\":\"float64\",\"order\":\"little\"}],[\"y\",{\"type\":\"ndarray\",\"array\":{\"type\":\"bytes\",\"data\":\"0dYce1EWKT+ZaVYRyessP/lahu5IqzA/k7quqT02Mz/ZhwZzBSU2P+7MBMO5hjk/vz9KkSFsPT/a4a/JGvVAPwL0+/7Ni0M/oB+hwQGIRj/YbhaKz/hJP3ttkQ/V700/en/NgwVBUT8vRD0zd+NTP6uYSj/h7FY/ficcMP5sWj9v57Ec13VeP/JdSl0yjmE/MtXdhmI8ZD/EIitkU1NnP60mPi314mo/ZN3TMNf9bj9DfSZWodxxP4ncwqnFlnQ/BqYudIC7dz9V10bhH1t7P2Wire9oiH8/1x5R/HMsgj9MQtjfyPKEPzyxPWmXJYg/aUVAKmrViz/WU6uvrgqQP7Y8xWC0fZI/Kq0a33JQlT9eSl0yjpGYP/RqJRneUZw/T5ph/mVSoD/cWQV7XdCiP3V2jfG8r6U/bXGNz2T/qD+Z9PdSeNCsPx1jOOhcm7A/e9tMhXgksz+Jbqx6rxC2P5qLCXskb7k/ZFkw8UdRvT/yVCwjmuXAP9adOMoLesM//sQSIFRzxj8s8uuH2ODJP53y6EZY1M0/Ekza+SMx0T+dR8X/HdHTP4ggvZex19Y/E6tQ7ohU2j9AQK1YslneP63tNyT/feE/ecK3VbUp5D/eoRekzz3nP+BrY0c+yuo/IxQAiGDh7j8KFuLsMczxP1CavLfYg/Q/8E4+Pbal9z/6fg8DAkL7P+wX7IZta/8/kL8PYsIbAkBdXsoKj98EQLw3K0dtDwhAC2t0GN27C0DlNPqH4/cPQLXu1X22bBJAyIkbXN88FUDBSvTo/HoYQH96fffYNxxA73eDw2ZDIEDAhMCAFL8iQKeIHdfQmyVAvWU9a23oKECz8iYa/7UsQEasDzUbjDBAx9nPveISM0DPOMPDavw1QPkboyvHVzlAqD5GL1k2PUDGzsqsFNZAQIdZw6AnaENAyKe2irReRkC7KeW1EslJQN50yw7xuE1A\"},\"shape\":[90],\"dtype\":\"float64\",\"order\":\"little\"}]]}}},\"view\":{\"type\":\"object\",\"name\":\"CDSView\",\"id\":\"p1662\",\"attributes\":{\"filter\":{\"type\":\"object\",\"name\":\"AllIndices\",\"id\":\"p1663\"}}},\"glyph\":{\"type\":\"object\",\"name\":\"Line\",\"id\":\"p1658\",\"attributes\":{\"x\":{\"type\":\"field\",\"field\":\"x\"},\"y\":{\"type\":\"field\",\"field\":\"y\"},\"line_color\":\"#009E73\",\"line_width\":3}},\"nonselection_glyph\":{\"type\":\"object\",\"name\":\"Line\",\"id\":\"p1659\",\"attributes\":{\"x\":{\"type\":\"field\",\"field\":\"x\"},\"y\":{\"type\":\"field\",\"field\":\"y\"},\"line_color\":\"#009E73\",\"line_alpha\":0.1,\"line_width\":3}},\"muted_glyph\":{\"type\":\"object\",\"name\":\"Line\",\"id\":\"p1660\",\"attributes\":{\"x\":{\"type\":\"field\",\"field\":\"x\"},\"y\":{\"type\":\"field\",\"field\":\"y\"},\"line_color\":\"#009E73\",\"line_alpha\":0.2,\"line_width\":3}}}}],\"toolbar\":{\"type\":\"object\",\"name\":\"Toolbar\",\"id\":\"p1416\",\"attributes\":{\"tools\":[{\"id\":\"p1443\"},{\"id\":\"p1444\"},{\"id\":\"p1445\"},{\"type\":\"object\",\"name\":\"SaveTool\",\"id\":\"p1447\"},{\"id\":\"p1448\"},{\"id\":\"p1449\"}]}},\"toolbar_location\":null,\"left\":[{\"type\":\"object\",\"name\":\"LogAxis\",\"id\":\"p1436\",\"attributes\":{\"ticker\":{\"type\":\"object\",\"name\":\"LogTicker\",\"id\":\"p1439\",\"attributes\":{\"num_minor_ticks\":10,\"mantissas\":[1,5]}},\"formatter\":{\"type\":\"object\",\"name\":\"LogTickFormatter\",\"id\":\"p1437\"},\"major_label_policy\":{\"type\":\"object\",\"name\":\"AllLabels\",\"id\":\"p1438\"}}}],\"below\":[{\"type\":\"object\",\"name\":\"LinearAxis\",\"id\":\"p1429\",\"attributes\":{\"ticker\":{\"type\":\"object\",\"name\":\"BasicTicker\",\"id\":\"p1432\",\"attributes\":{\"mantissas\":[1,2,5]}},\"formatter\":{\"type\":\"object\",\"name\":\"BasicTickFormatter\",\"id\":\"p1430\"},\"axis_label\":\"Asymmetry\",\"major_label_policy\":{\"type\":\"object\",\"name\":\"AllLabels\",\"id\":\"p1431\"}}}],\"center\":[{\"type\":\"object\",\"name\":\"Grid\",\"id\":\"p1435\",\"attributes\":{\"axis\":{\"id\":\"p1429\"}}},{\"type\":\"object\",\"name\":\"Grid\",\"id\":\"p1442\",\"attributes\":{\"dimension\":1,\"axis\":{\"id\":\"p1436\"}}}]}},0,2]]}}]}};\n",
       "  const render_items = [{\"docid\":\"29092f2c-be1f-48c5-835d-ef9d4f27f93a\",\"roots\":{\"p1803\":\"da042455-4a55-45d4-a495-8273f3c9fa69\"},\"root_ids\":[\"p1803\"]}];\n",
       "  root.Bokeh.embed.embed_items_notebook(docs_json, render_items);\n",
       "  }\n",
       "  if (root.Bokeh !== undefined) {\n",
       "    embed_document(root);\n",
       "  } else {\n",
       "    let attempts = 0;\n",
       "    const timer = setInterval(function(root) {\n",
       "      if (root.Bokeh !== undefined) {\n",
       "        clearInterval(timer);\n",
       "        embed_document(root);\n",
       "      } else {\n",
       "        attempts++;\n",
       "        if (attempts > 100) {\n",
       "          clearInterval(timer);\n",
       "          console.log(\"Bokeh: ERROR: Unable to run BokehJS code because BokehJS library is missing\");\n",
       "        }\n",
       "      }\n",
       "    }, 10, root)\n",
       "  }\n",
       "})(window);"
      ],
      "application/vnd.bokehjs_exec.v0+json": ""
     },
     "metadata": {
      "application/vnd.bokehjs_exec.v0+json": {
       "id": "p1803"
      }
     },
     "output_type": "display_data"
    }
   ],
   "source": [
    "show(jpi.all_optics_1d([out_constant, out_chf, out_latent, out_latent_cos ], wave_range=[0.3,1],\n",
    "                       legend = legend))"
   ]
  },
  {
   "cell_type": "markdown",
   "metadata": {},
   "source": [
    "## More informed: Input K$_z$ from external model \n",
    "\n",
    "(e.g. Global Circulation Model) "
   ]
  },
  {
   "cell_type": "code",
   "execution_count": 11,
   "metadata": {
    "execution": {
     "iopub.execute_input": "2024-04-02T04:44:38.299466Z",
     "iopub.status.busy": "2024-04-02T04:44:38.299205Z",
     "iopub.status.idle": "2024-04-02T04:44:40.033365Z",
     "shell.execute_reply": "2024-04-02T04:44:40.032710Z"
    }
   },
   "outputs": [],
   "source": [
    "df = jdi.hot_jupiter()\n",
    "\n",
    "sum_planet = jdi.Atmosphere(['MgSiO3','KCl'],fsed=1,mh=metallicity,\n",
    "                 mmw = mean_molecular_weight)\n",
    "sum_planet.gravity(gravity=25.00, gravity_unit=u.Unit('m/(s**2)'))\n",
    "sum_planet.ptk(df=df)\n",
    "hj_real = sum_planet.compute(directory=mieff_directory,as_dict=True)\n",
    "sum_planet.ptk(df=df.loc[:,['pressure','temperature']],constant_kz=1e10)\n",
    "hj_constant = sum_planet.compute(directory=mieff_directory,as_dict=True)"
   ]
  },
  {
   "cell_type": "markdown",
   "metadata": {},
   "source": [
    "## Analyze different $K_z$ formalism via external input\n"
   ]
  },
  {
   "cell_type": "code",
   "execution_count": 12,
   "metadata": {
    "execution": {
     "iopub.execute_input": "2024-04-02T04:44:40.037966Z",
     "iopub.status.busy": "2024-04-02T04:44:40.037671Z",
     "iopub.status.idle": "2024-04-02T04:44:40.223434Z",
     "shell.execute_reply": "2024-04-02T04:44:40.222957Z"
    }
   },
   "outputs": [
    {
     "data": {
      "text/html": [
       "\n",
       "  <div id=\"96af62b4-57c0-40f5-8cd7-1ad5f06d78b3\" data-root-id=\"p2714\" style=\"display: contents;\"></div>\n"
      ]
     },
     "metadata": {},
     "output_type": "display_data"
    },
    {
     "data": {
      "application/javascript": [
       "(function(root) {\n",
       "  function embed_document(root) {\n",
       "  const docs_json = {\"d176ac9d-ca57-48b7-836d-d53b3fd062ef\":{\"version\":\"3.0.2\",\"title\":\"Bokeh Application\",\"defs\":[],\"roots\":[{\"type\":\"object\",\"name\":\"GridPlot\",\"id\":\"p2714\",\"attributes\":{\"toolbar\":{\"type\":\"object\",\"name\":\"Toolbar\",\"id\":\"p2713\",\"attributes\":{\"tools\":[{\"type\":\"object\",\"name\":\"ToolProxy\",\"id\":\"p2707\",\"attributes\":{\"tools\":[{\"type\":\"object\",\"name\":\"PanTool\",\"id\":\"p2539\"},{\"type\":\"object\",\"name\":\"PanTool\",\"id\":\"p2447\"},{\"type\":\"object\",\"name\":\"PanTool\",\"id\":\"p2493\"}]}},{\"type\":\"object\",\"name\":\"ToolProxy\",\"id\":\"p2708\",\"attributes\":{\"tools\":[{\"type\":\"object\",\"name\":\"WheelZoomTool\",\"id\":\"p2540\"},{\"type\":\"object\",\"name\":\"WheelZoomTool\",\"id\":\"p2448\"},{\"type\":\"object\",\"name\":\"WheelZoomTool\",\"id\":\"p2494\"}]}},{\"type\":\"object\",\"name\":\"ToolProxy\",\"id\":\"p2709\",\"attributes\":{\"tools\":[{\"type\":\"object\",\"name\":\"BoxZoomTool\",\"id\":\"p2541\",\"attributes\":{\"overlay\":{\"type\":\"object\",\"name\":\"BoxAnnotation\",\"id\":\"p2542\",\"attributes\":{\"syncable\":false,\"level\":\"overlay\",\"visible\":false,\"left_units\":\"canvas\",\"right_units\":\"canvas\",\"bottom_units\":\"canvas\",\"top_units\":\"canvas\",\"line_color\":\"black\",\"line_alpha\":1.0,\"line_width\":2,\"line_dash\":[4,4],\"fill_color\":\"lightgrey\",\"fill_alpha\":0.5}}}},{\"type\":\"object\",\"name\":\"BoxZoomTool\",\"id\":\"p2449\",\"attributes\":{\"overlay\":{\"type\":\"object\",\"name\":\"BoxAnnotation\",\"id\":\"p2450\",\"attributes\":{\"syncable\":false,\"level\":\"overlay\",\"visible\":false,\"left_units\":\"canvas\",\"right_units\":\"canvas\",\"bottom_units\":\"canvas\",\"top_units\":\"canvas\",\"line_color\":\"black\",\"line_alpha\":1.0,\"line_width\":2,\"line_dash\":[4,4],\"fill_color\":\"lightgrey\",\"fill_alpha\":0.5}}}},{\"type\":\"object\",\"name\":\"BoxZoomTool\",\"id\":\"p2495\",\"attributes\":{\"overlay\":{\"type\":\"object\",\"name\":\"BoxAnnotation\",\"id\":\"p2496\",\"attributes\":{\"syncable\":false,\"level\":\"overlay\",\"visible\":false,\"left_units\":\"canvas\",\"right_units\":\"canvas\",\"bottom_units\":\"canvas\",\"top_units\":\"canvas\",\"line_color\":\"black\",\"line_alpha\":1.0,\"line_width\":2,\"line_dash\":[4,4],\"fill_color\":\"lightgrey\",\"fill_alpha\":0.5}}}}]}},{\"type\":\"object\",\"name\":\"SaveTool\",\"id\":\"p2710\"},{\"type\":\"object\",\"name\":\"ToolProxy\",\"id\":\"p2711\",\"attributes\":{\"tools\":[{\"type\":\"object\",\"name\":\"ResetTool\",\"id\":\"p2544\"},{\"type\":\"object\",\"name\":\"ResetTool\",\"id\":\"p2452\"},{\"type\":\"object\",\"name\":\"ResetTool\",\"id\":\"p2498\"}]}},{\"type\":\"object\",\"name\":\"ToolProxy\",\"id\":\"p2712\",\"attributes\":{\"tools\":[{\"type\":\"object\",\"name\":\"HelpTool\",\"id\":\"p2545\"},{\"type\":\"object\",\"name\":\"HelpTool\",\"id\":\"p2453\"},{\"type\":\"object\",\"name\":\"HelpTool\",\"id\":\"p2499\"}]}}]}},\"children\":[[{\"type\":\"object\",\"name\":\"Figure\",\"id\":\"p2508\",\"attributes\":{\"width\":300,\"height\":300,\"x_range\":{\"type\":\"object\",\"name\":\"DataRange1d\",\"id\":\"p2510\"},\"y_range\":{\"type\":\"object\",\"name\":\"Range1d\",\"id\":\"p2519\",\"attributes\":{\"start\":145.59,\"end\":2.9176000000000002e-06}},\"x_scale\":{\"type\":\"object\",\"name\":\"LogScale\",\"id\":\"p2521\"},\"y_scale\":{\"type\":\"object\",\"name\":\"LogScale\",\"id\":\"p2523\"},\"title\":{\"type\":\"object\",\"name\":\"Title\",\"id\":\"p2515\"},\"renderers\":[{\"type\":\"object\",\"name\":\"GlyphRenderer\",\"id\":\"p2560\",\"attributes\":{\"data_source\":{\"type\":\"object\",\"name\":\"ColumnDataSource\",\"id\":\"p2554\",\"attributes\":{\"selected\":{\"type\":\"object\",\"name\":\"Selection\",\"id\":\"p2556\",\"attributes\":{\"indices\":[],\"line_indices\":[]}},\"selection_policy\":{\"type\":\"object\",\"name\":\"UnionRenderers\",\"id\":\"p2555\"},\"data\":{\"type\":\"map\",\"entries\":[[\"x\",{\"type\":\"ndarray\",\"array\":{\"type\":\"bytes\",\"data\":\"JqYWZd5OcD7UY0ckKDODPgfFg/VeQo4+w8WADDXllT48/U3icwGfPrSe+xarSKY+4Xyw0ZQlsD5DPC88hIK3PvW+vGrDRsE+OT2NYXWcyT6oULkEku/SPpwCLmCmpNs+V9lQgEj04z4KaJIbPdLsPtyg9bNwGfU+7MgGKQuf/z736Oy8f10IP3miHoKYYBM/IxN3HE/xHz8Bimrqnk0rP0nKtHUtQzg/N0uiLphmRj/hln81JVFVP1RoTeFdsmQ/MUMbt3NSdD8xPZWMJwOEPzINe57KsJM/7LbAC99Roz/aVGvHfOayPzFwb5/tecI/nQjA2V4Y0j/UQ9ZuNaLhPzEorR23ZvE/n4Y4pHBiAUCY78okpDIRQKgHKMJrgCBA7W9cp4jSLUCvSvPVvao1QMdTrFhmNiRA0Q+9E4Ur8D/RD70ThSvgPwAAAAAAAAAAAAAAAAAAAAAAAAAAAAAAAAAAAAAAAAAAAAAAAAAAAAAAAAAAAAAAAAAAAAAAAAAAAAAAAAAAAAAAAAAAAAAAAAAAAAAAAAAAAAAAAAAAAAA=\"},\"shape\":[52],\"dtype\":\"float64\",\"order\":\"little\"}],[\"y\",{\"type\":\"ndarray\",\"array\":{\"type\":\"bytes\",\"data\":\"f4cGkH95yD7N3DO7xFLRPmljlajYhdg+D8oHPndb4T5nUrQCJJLoPiqRuz1FZPE+d9g69Lqe+D4JXdPND20BP2C0yQwUqwg/6SjrXdp1ET+YYHCBj7cYP97oCIWtfiE/+PQiJBzEKD/3kDLakYcxPzmbTOSb0Dg/4FbNtWCQQT97QXakG91IPz5kBDMqmVE/1lhnIabpWD+40Et7OaJhPwN8EjNW9mg/AeTfwhWrcT91BMts6wJ5P5pQd1Trs4E/ij+KOnMPiT9bmfBL/byRP9NKIZBLHJk/t5p1xvfFoT/7c9GQ8SipP7jLft3pzrE/j95wH7k1uT+ADvPlBdjBP22oGOdvQsk/VFc+y/Pg0T8BE7h1N0/ZP3ztmSUB6uE/JLn8h/Rb6T9QNuUK7/LxP9Sa5h2naPk/zhlR2hv8AUDZPXlYqHUJQKHWNO84BRJANIC3QIKCGUAgY+5aQg4iQI/C9ShcjylAgZVDi2wXMkA/NV66SZw5QH9qvHSTIEJA8KfGSzepSUB9PzVeuilSQKAaL90ktllAexSuR+EyYkA=\"},\"shape\":[52],\"dtype\":\"float64\",\"order\":\"little\"}]]}}},\"view\":{\"type\":\"object\",\"name\":\"CDSView\",\"id\":\"p2561\",\"attributes\":{\"filter\":{\"type\":\"object\",\"name\":\"AllIndices\",\"id\":\"p2562\"}}},\"glyph\":{\"type\":\"object\",\"name\":\"Line\",\"id\":\"p2557\",\"attributes\":{\"x\":{\"type\":\"field\",\"field\":\"x\"},\"y\":{\"type\":\"field\",\"field\":\"y\"},\"line_color\":\"#0072B2\",\"line_width\":3}},\"nonselection_glyph\":{\"type\":\"object\",\"name\":\"Line\",\"id\":\"p2558\",\"attributes\":{\"x\":{\"type\":\"field\",\"field\":\"x\"},\"y\":{\"type\":\"field\",\"field\":\"y\"},\"line_color\":\"#0072B2\",\"line_alpha\":0.1,\"line_width\":3}},\"muted_glyph\":{\"type\":\"object\",\"name\":\"Line\",\"id\":\"p2559\",\"attributes\":{\"x\":{\"type\":\"field\",\"field\":\"x\"},\"y\":{\"type\":\"field\",\"field\":\"y\"},\"line_color\":\"#0072B2\",\"line_alpha\":0.2,\"line_width\":3}}}},{\"type\":\"object\",\"name\":\"GlyphRenderer\",\"id\":\"p2603\",\"attributes\":{\"data_source\":{\"type\":\"object\",\"name\":\"ColumnDataSource\",\"id\":\"p2597\",\"attributes\":{\"selected\":{\"type\":\"object\",\"name\":\"Selection\",\"id\":\"p2599\",\"attributes\":{\"indices\":[],\"line_indices\":[]}},\"selection_policy\":{\"type\":\"object\",\"name\":\"UnionRenderers\",\"id\":\"p2598\"},\"data\":{\"type\":\"map\",\"entries\":[[\"x\",{\"type\":\"ndarray\",\"array\":{\"type\":\"bytes\",\"data\":\"gQy8CjmyUz75FiKeQnVwPnAVjMybN4g+QxZK3SjMnz6iqC3d27qyPrXjvcWn4MM+lBg1N20G0z7v594Ur3vgPuEQWA0PFeo++bZ3WMEx8z5HwEU8a/r6PtE9QD6CnQI/DyZ42gm3CT+Z/wgEguoRP2ePbRKSLxk/LjcQ3X7TIT9xAr0Sg2QpP2A0nEcpPDI//ZqGloeWOj/I9rjfjeRDP/eY6b419E4/DyVKXdE2WT/ssbscZH9lP6V1nYIzEnM/FO3GjCZ8gT+MONCe1nWQP0bPuHkAp58/KkFJ8Uvprj9hfVw844C+P9Y+5QI9SM4/CUjmQm4V3j+8jtpVEaPtP7C7RJVacfw/R5FCGbgXCkA9POElqcoWQD3mvhXoDCNAVqQQaw2DLkDBUjetZ+AzQBZb/sX6WyBAhl79b8Qs6j+GXv1vxCzaPwAAAAAAAAAAAAAAAAAAAAAAAAAAAAAAAAAAAAAAAAAAAAAAAAAAAAAAAAAAAAAAAAAAAAAAAAAAAAAAAAAAAAAAAAAAAAAAAAAAAAAAAAAAAAAAAAAAAAA=\"},\"shape\":[52],\"dtype\":\"float64\",\"order\":\"little\"}],[\"y\",{\"type\":\"ndarray\",\"array\":{\"type\":\"bytes\",\"data\":\"f4cGkH95yD7N3DO7xFLRPmljlajYhdg+D8oHPndb4T5nUrQCJJLoPiqRuz1FZPE+d9g69Lqe+D4JXdPND20BP2C0yQwUqwg/6SjrXdp1ET+YYHCBj7cYP97oCIWtfiE/+PQiJBzEKD/3kDLakYcxPzmbTOSb0Dg/4FbNtWCQQT97QXakG91IPz5kBDMqmVE/1lhnIabpWD+40Et7OaJhPwN8EjNW9mg/AeTfwhWrcT91BMts6wJ5P5pQd1Trs4E/ij+KOnMPiT9bmfBL/byRP9NKIZBLHJk/t5p1xvfFoT/7c9GQ8SipP7jLft3pzrE/j95wH7k1uT+ADvPlBdjBP22oGOdvQsk/VFc+y/Pg0T8BE7h1N0/ZP3ztmSUB6uE/JLn8h/Rb6T9QNuUK7/LxP9Sa5h2naPk/zhlR2hv8AUDZPXlYqHUJQKHWNO84BRJANIC3QIKCGUAgY+5aQg4iQI/C9ShcjylAgZVDi2wXMkA/NV66SZw5QH9qvHSTIEJA8KfGSzepSUB9PzVeuilSQKAaL90ktllAexSuR+EyYkA=\"},\"shape\":[52],\"dtype\":\"float64\",\"order\":\"little\"}]]}}},\"view\":{\"type\":\"object\",\"name\":\"CDSView\",\"id\":\"p2604\",\"attributes\":{\"filter\":{\"type\":\"object\",\"name\":\"AllIndices\",\"id\":\"p2605\"}}},\"glyph\":{\"type\":\"object\",\"name\":\"Line\",\"id\":\"p2600\",\"attributes\":{\"x\":{\"type\":\"field\",\"field\":\"x\"},\"y\":{\"type\":\"field\",\"field\":\"y\"},\"line_color\":\"#E69F00\",\"line_width\":3}},\"nonselection_glyph\":{\"type\":\"object\",\"name\":\"Line\",\"id\":\"p2601\",\"attributes\":{\"x\":{\"type\":\"field\",\"field\":\"x\"},\"y\":{\"type\":\"field\",\"field\":\"y\"},\"line_color\":\"#E69F00\",\"line_alpha\":0.1,\"line_width\":3}},\"muted_glyph\":{\"type\":\"object\",\"name\":\"Line\",\"id\":\"p2602\",\"attributes\":{\"x\":{\"type\":\"field\",\"field\":\"x\"},\"y\":{\"type\":\"field\",\"field\":\"y\"},\"line_color\":\"#E69F00\",\"line_alpha\":0.2,\"line_width\":3}}}}],\"toolbar\":{\"type\":\"object\",\"name\":\"Toolbar\",\"id\":\"p2512\",\"attributes\":{\"tools\":[{\"id\":\"p2539\"},{\"id\":\"p2540\"},{\"id\":\"p2541\"},{\"type\":\"object\",\"name\":\"SaveTool\",\"id\":\"p2543\"},{\"id\":\"p2544\"},{\"id\":\"p2545\"}]}},\"toolbar_location\":null,\"left\":[{\"type\":\"object\",\"name\":\"LogAxis\",\"id\":\"p2532\",\"attributes\":{\"ticker\":{\"type\":\"object\",\"name\":\"LogTicker\",\"id\":\"p2535\",\"attributes\":{\"num_minor_ticks\":10,\"mantissas\":[1,5]}},\"formatter\":{\"type\":\"object\",\"name\":\"LogTickFormatter\",\"id\":\"p2533\"},\"axis_label\":\"Pressure (bars)\",\"major_label_policy\":{\"type\":\"object\",\"name\":\"AllLabels\",\"id\":\"p2534\"}}}],\"below\":[{\"type\":\"object\",\"name\":\"LogAxis\",\"id\":\"p2525\",\"attributes\":{\"ticker\":{\"type\":\"object\",\"name\":\"LogTicker\",\"id\":\"p2528\",\"attributes\":{\"num_minor_ticks\":10,\"mantissas\":[1,5]}},\"formatter\":{\"type\":\"object\",\"name\":\"LogTickFormatter\",\"id\":\"p2526\"},\"axis_label\":\"Optical Depth\",\"major_label_policy\":{\"type\":\"object\",\"name\":\"AllLabels\",\"id\":\"p2527\"}}}],\"center\":[{\"type\":\"object\",\"name\":\"Grid\",\"id\":\"p2531\",\"attributes\":{\"axis\":{\"id\":\"p2525\"}}},{\"type\":\"object\",\"name\":\"Grid\",\"id\":\"p2538\",\"attributes\":{\"dimension\":1,\"axis\":{\"id\":\"p2532\"}}}]}},0,0],[{\"type\":\"object\",\"name\":\"Figure\",\"id\":\"p2416\",\"attributes\":{\"width\":300,\"height\":300,\"x_range\":{\"type\":\"object\",\"name\":\"DataRange1d\",\"id\":\"p2418\"},\"y_range\":{\"type\":\"object\",\"name\":\"Range1d\",\"id\":\"p2427\",\"attributes\":{\"start\":145.59,\"end\":2.9176000000000002e-06}},\"x_scale\":{\"type\":\"object\",\"name\":\"LinearScale\",\"id\":\"p2429\"},\"y_scale\":{\"type\":\"object\",\"name\":\"LogScale\",\"id\":\"p2431\"},\"title\":{\"type\":\"object\",\"name\":\"Title\",\"id\":\"p2423\"},\"renderers\":[{\"type\":\"object\",\"name\":\"GlyphRenderer\",\"id\":\"p2578\",\"attributes\":{\"data_source\":{\"type\":\"object\",\"name\":\"ColumnDataSource\",\"id\":\"p2572\",\"attributes\":{\"selected\":{\"type\":\"object\",\"name\":\"Selection\",\"id\":\"p2574\",\"attributes\":{\"indices\":[],\"line_indices\":[]}},\"selection_policy\":{\"type\":\"object\",\"name\":\"UnionRenderers\",\"id\":\"p2573\"},\"data\":{\"type\":\"map\",\"entries\":[[\"x\",{\"type\":\"ndarray\",\"array\":{\"type\":\"bytes\",\"data\":\"Xe7tMlTp7z9DvixF6OnvP4EceVLd4e8/UA6TLXbV7z/8dD8r1MTvPyG5kJSbsO8/FJgzTLOX7z8HSM58pHjvP5ZrlWx5Uu8/jRyeBHAj7z+XT7dNHefuP6G3SNVnlu4/h7jLk5kq7j9D/kFmpKDtP5SPx83e+uw/7OFYtrhA7D+kZtycGHzrP6mmZbCGueo/qaXKvzgG6j/EHe1oSWzpPx9BUvIB9Og/PWH/C32g6D+8fi5VYWvoPyf2xjTxSug/o6dJl8A16D9faQRK0SPoP6wj9dEdEeg/BF4Gm5v75z83RMD2puPnPz+54SSrzOc/zf1XXX685z+837w03rPnP9OKQxOA1uc/P1seNm026D9KDy9pt77oP/SHD3xtUuk/M8v0w0TR6T9ZjeBaeUHqP1CtHOlSvOo/UK0c6VK86j9QrRzpUrzqPwAAAAAAAAAAAAAAAAAAAAAAAAAAAAAAAAAAAAAAAAAAAAAAAAAAAAAAAAAAAAAAAAAAAAAAAAAAAAAAAAAAAAAAAAAAAAAAAAAAAAAAAAAAAAAAAAAAAAA=\"},\"shape\":[52],\"dtype\":\"float64\",\"order\":\"little\"}],[\"y\",{\"type\":\"ndarray\",\"array\":{\"type\":\"bytes\",\"data\":\"f4cGkH95yD7N3DO7xFLRPmljlajYhdg+D8oHPndb4T5nUrQCJJLoPiqRuz1FZPE+d9g69Lqe+D4JXdPND20BP2C0yQwUqwg/6SjrXdp1ET+YYHCBj7cYP97oCIWtfiE/+PQiJBzEKD/3kDLakYcxPzmbTOSb0Dg/4FbNtWCQQT97QXakG91IPz5kBDMqmVE/1lhnIabpWD+40Et7OaJhPwN8EjNW9mg/AeTfwhWrcT91BMts6wJ5P5pQd1Trs4E/ij+KOnMPiT9bmfBL/byRP9NKIZBLHJk/t5p1xvfFoT/7c9GQ8SipP7jLft3pzrE/j95wH7k1uT+ADvPlBdjBP22oGOdvQsk/VFc+y/Pg0T8BE7h1N0/ZP3ztmSUB6uE/JLn8h/Rb6T9QNuUK7/LxP9Sa5h2naPk/zhlR2hv8AUDZPXlYqHUJQKHWNO84BRJANIC3QIKCGUAgY+5aQg4iQI/C9ShcjylAgZVDi2wXMkA/NV66SZw5QH9qvHSTIEJA8KfGSzepSUB9PzVeuilSQKAaL90ktllAexSuR+EyYkA=\"},\"shape\":[52],\"dtype\":\"float64\",\"order\":\"little\"}]]}}},\"view\":{\"type\":\"object\",\"name\":\"CDSView\",\"id\":\"p2579\",\"attributes\":{\"filter\":{\"type\":\"object\",\"name\":\"AllIndices\",\"id\":\"p2580\"}}},\"glyph\":{\"type\":\"object\",\"name\":\"Line\",\"id\":\"p2575\",\"attributes\":{\"x\":{\"type\":\"field\",\"field\":\"x\"},\"y\":{\"type\":\"field\",\"field\":\"y\"},\"line_color\":\"#0072B2\",\"line_width\":3}},\"nonselection_glyph\":{\"type\":\"object\",\"name\":\"Line\",\"id\":\"p2576\",\"attributes\":{\"x\":{\"type\":\"field\",\"field\":\"x\"},\"y\":{\"type\":\"field\",\"field\":\"y\"},\"line_color\":\"#0072B2\",\"line_alpha\":0.1,\"line_width\":3}},\"muted_glyph\":{\"type\":\"object\",\"name\":\"Line\",\"id\":\"p2577\",\"attributes\":{\"x\":{\"type\":\"field\",\"field\":\"x\"},\"y\":{\"type\":\"field\",\"field\":\"y\"},\"line_color\":\"#0072B2\",\"line_alpha\":0.2,\"line_width\":3}}}},{\"type\":\"object\",\"name\":\"GlyphRenderer\",\"id\":\"p2621\",\"attributes\":{\"data_source\":{\"type\":\"object\",\"name\":\"ColumnDataSource\",\"id\":\"p2615\",\"attributes\":{\"selected\":{\"type\":\"object\",\"name\":\"Selection\",\"id\":\"p2617\",\"attributes\":{\"indices\":[],\"line_indices\":[]}},\"selection_policy\":{\"type\":\"object\",\"name\":\"UnionRenderers\",\"id\":\"p2616\"},\"data\":{\"type\":\"map\",\"entries\":[[\"x\",{\"type\":\"ndarray\",\"array\":{\"type\":\"bytes\",\"data\":\"+i2dxc+z7z+gkdu9R9TvP9dAbfFa4u8/7yn58MDo7z9m0dy2TevvP9AEn/Zg6+8/s0JISDnp7z/G8cpJa+TvP4HrRbkU3O8/IOj1xxDP7z/msp6WOrzvPzGASKiVou8/vCRevxmB7z/GlMDhGVbvP1k5RuS7Hu8/baM/6PDW7j/gD0seBXruPwyZwSkCBO4/x0nnp0507T+XyXsRtNHsP9YtTcLMKuw/wGRUFYqP6z+m1AyIDwvrP2wpeq32oOo/sb08aBZQ6j+/zLnn9RXqP5cZXf4A7+k//2apgLfW6T+3nmUs6MjpP1/ntWl8wuk/vbwcREbB6T8kfcbhysPpP5TGcxv6yOk/enHKSKPP6T8Xz7sMB9fpP/rD0hvu3uk/wybIWjfn6T/RrI31RfDpP8Az3cYX+uk/wDPdxhf66T/AM93GF/rpPwAAAAAAAAAAAAAAAAAAAAAAAAAAAAAAAAAAAAAAAAAAAAAAAAAAAAAAAAAAAAAAAAAAAAAAAAAAAAAAAAAAAAAAAAAAAAAAAAAAAAAAAAAAAAAAAAAAAAA=\"},\"shape\":[52],\"dtype\":\"float64\",\"order\":\"little\"}],[\"y\",{\"type\":\"ndarray\",\"array\":{\"type\":\"bytes\",\"data\":\"f4cGkH95yD7N3DO7xFLRPmljlajYhdg+D8oHPndb4T5nUrQCJJLoPiqRuz1FZPE+d9g69Lqe+D4JXdPND20BP2C0yQwUqwg/6SjrXdp1ET+YYHCBj7cYP97oCIWtfiE/+PQiJBzEKD/3kDLakYcxPzmbTOSb0Dg/4FbNtWCQQT97QXakG91IPz5kBDMqmVE/1lhnIabpWD+40Et7OaJhPwN8EjNW9mg/AeTfwhWrcT91BMts6wJ5P5pQd1Trs4E/ij+KOnMPiT9bmfBL/byRP9NKIZBLHJk/t5p1xvfFoT/7c9GQ8SipP7jLft3pzrE/j95wH7k1uT+ADvPlBdjBP22oGOdvQsk/VFc+y/Pg0T8BE7h1N0/ZP3ztmSUB6uE/JLn8h/Rb6T9QNuUK7/LxP9Sa5h2naPk/zhlR2hv8AUDZPXlYqHUJQKHWNO84BRJANIC3QIKCGUAgY+5aQg4iQI/C9ShcjylAgZVDi2wXMkA/NV66SZw5QH9qvHSTIEJA8KfGSzepSUB9PzVeuilSQKAaL90ktllAexSuR+EyYkA=\"},\"shape\":[52],\"dtype\":\"float64\",\"order\":\"little\"}]]}}},\"view\":{\"type\":\"object\",\"name\":\"CDSView\",\"id\":\"p2622\",\"attributes\":{\"filter\":{\"type\":\"object\",\"name\":\"AllIndices\",\"id\":\"p2623\"}}},\"glyph\":{\"type\":\"object\",\"name\":\"Line\",\"id\":\"p2618\",\"attributes\":{\"x\":{\"type\":\"field\",\"field\":\"x\"},\"y\":{\"type\":\"field\",\"field\":\"y\"},\"line_color\":\"#E69F00\",\"line_width\":3}},\"nonselection_glyph\":{\"type\":\"object\",\"name\":\"Line\",\"id\":\"p2619\",\"attributes\":{\"x\":{\"type\":\"field\",\"field\":\"x\"},\"y\":{\"type\":\"field\",\"field\":\"y\"},\"line_color\":\"#E69F00\",\"line_alpha\":0.1,\"line_width\":3}},\"muted_glyph\":{\"type\":\"object\",\"name\":\"Line\",\"id\":\"p2620\",\"attributes\":{\"x\":{\"type\":\"field\",\"field\":\"x\"},\"y\":{\"type\":\"field\",\"field\":\"y\"},\"line_color\":\"#E69F00\",\"line_alpha\":0.2,\"line_width\":3}}}}],\"toolbar\":{\"type\":\"object\",\"name\":\"Toolbar\",\"id\":\"p2420\",\"attributes\":{\"tools\":[{\"id\":\"p2447\"},{\"id\":\"p2448\"},{\"id\":\"p2449\"},{\"type\":\"object\",\"name\":\"SaveTool\",\"id\":\"p2451\"},{\"id\":\"p2452\"},{\"id\":\"p2453\"}]}},\"toolbar_location\":null,\"left\":[{\"type\":\"object\",\"name\":\"LogAxis\",\"id\":\"p2440\",\"attributes\":{\"ticker\":{\"type\":\"object\",\"name\":\"LogTicker\",\"id\":\"p2443\",\"attributes\":{\"num_minor_ticks\":10,\"mantissas\":[1,5]}},\"formatter\":{\"type\":\"object\",\"name\":\"LogTickFormatter\",\"id\":\"p2441\"},\"major_label_policy\":{\"type\":\"object\",\"name\":\"AllLabels\",\"id\":\"p2442\"}}}],\"below\":[{\"type\":\"object\",\"name\":\"LinearAxis\",\"id\":\"p2433\",\"attributes\":{\"ticker\":{\"type\":\"object\",\"name\":\"BasicTicker\",\"id\":\"p2436\",\"attributes\":{\"mantissas\":[1,2,5]}},\"formatter\":{\"type\":\"object\",\"name\":\"BasicTickFormatter\",\"id\":\"p2434\"},\"axis_label\":\"Single Scattering Albedo\",\"major_label_policy\":{\"type\":\"object\",\"name\":\"AllLabels\",\"id\":\"p2435\"}}}],\"center\":[{\"type\":\"object\",\"name\":\"Grid\",\"id\":\"p2439\",\"attributes\":{\"axis\":{\"id\":\"p2433\"}}},{\"type\":\"object\",\"name\":\"Grid\",\"id\":\"p2446\",\"attributes\":{\"dimension\":1,\"axis\":{\"id\":\"p2440\"}}},{\"type\":\"object\",\"name\":\"Legend\",\"id\":\"p2595\",\"attributes\":{\"location\":\"top_left\",\"items\":[{\"type\":\"object\",\"name\":\"LegendItem\",\"id\":\"p2596\",\"attributes\":{\"label\":{\"type\":\"value\",\"value\":\"Real\"},\"renderers\":[{\"id\":\"p2578\"}]}},{\"type\":\"object\",\"name\":\"LegendItem\",\"id\":\"p2643\",\"attributes\":{\"label\":{\"type\":\"value\",\"value\":\"Constant\"},\"renderers\":[{\"id\":\"p2621\"}]}}]}}]}},0,1],[{\"type\":\"object\",\"name\":\"Figure\",\"id\":\"p2462\",\"attributes\":{\"width\":300,\"height\":300,\"x_range\":{\"type\":\"object\",\"name\":\"DataRange1d\",\"id\":\"p2464\"},\"y_range\":{\"type\":\"object\",\"name\":\"Range1d\",\"id\":\"p2473\",\"attributes\":{\"start\":145.59,\"end\":2.9176000000000002e-06}},\"x_scale\":{\"type\":\"object\",\"name\":\"LinearScale\",\"id\":\"p2475\"},\"y_scale\":{\"type\":\"object\",\"name\":\"LogScale\",\"id\":\"p2477\"},\"title\":{\"type\":\"object\",\"name\":\"Title\",\"id\":\"p2469\"},\"renderers\":[{\"type\":\"object\",\"name\":\"GlyphRenderer\",\"id\":\"p2569\",\"attributes\":{\"data_source\":{\"type\":\"object\",\"name\":\"ColumnDataSource\",\"id\":\"p2563\",\"attributes\":{\"selected\":{\"type\":\"object\",\"name\":\"Selection\",\"id\":\"p2565\",\"attributes\":{\"indices\":[],\"line_indices\":[]}},\"selection_policy\":{\"type\":\"object\",\"name\":\"UnionRenderers\",\"id\":\"p2564\"},\"data\":{\"type\":\"map\",\"entries\":[[\"x\",{\"type\":\"ndarray\",\"array\":{\"type\":\"bytes\",\"data\":\"kJBIqxDE4T++xHvIDwzkP5G1ZBFliuQ/hzd5TK3C5D/OVPw9fArlPzzOYui6cuU/dAJPWx385T8toICtIJ3mP/cEsbqWQec/De5+IrHZ5z9T0BY5GWLoP4OH6hkf3eg/XNJtU1lM6T/U+4KiMrHpPyPR9FVcDeo/NAX+2TBi6j9wHuoeh7DqPzMeXky19+o/gc/7gBE26z9ZTM09JGrrP3PN/H5Gkus/I3uWqPqt6z9cMQGTjr/rP0c9OiNJyus/Op469krR6z9pGmsvOdfrPy3gz19o3es/j6eqioXk6z8U7GJ/cuzrP8wpk/YN9Os/gPykHmn56z9xUpyORPzrP5EvH8fM8Os/Q02H4RHR6z+Kv3+I9qPrP1RtBTbNcus/D6IEJxlI6z+9zALXtSHrP/8nIQu39uo//ychC7f26j//JyELt/bqPwAAAAAAAAAAAAAAAAAAAAAAAAAAAAAAAAAAAAAAAAAAAAAAAAAAAAAAAAAAAAAAAAAAAAAAAAAAAAAAAAAAAAAAAAAAAAAAAAAAAAAAAAAAAAAAAAAAAAA=\"},\"shape\":[52],\"dtype\":\"float64\",\"order\":\"little\"}],[\"y\",{\"type\":\"ndarray\",\"array\":{\"type\":\"bytes\",\"data\":\"f4cGkH95yD7N3DO7xFLRPmljlajYhdg+D8oHPndb4T5nUrQCJJLoPiqRuz1FZPE+d9g69Lqe+D4JXdPND20BP2C0yQwUqwg/6SjrXdp1ET+YYHCBj7cYP97oCIWtfiE/+PQiJBzEKD/3kDLakYcxPzmbTOSb0Dg/4FbNtWCQQT97QXakG91IPz5kBDMqmVE/1lhnIabpWD+40Et7OaJhPwN8EjNW9mg/AeTfwhWrcT91BMts6wJ5P5pQd1Trs4E/ij+KOnMPiT9bmfBL/byRP9NKIZBLHJk/t5p1xvfFoT/7c9GQ8SipP7jLft3pzrE/j95wH7k1uT+ADvPlBdjBP22oGOdvQsk/VFc+y/Pg0T8BE7h1N0/ZP3ztmSUB6uE/JLn8h/Rb6T9QNuUK7/LxP9Sa5h2naPk/zhlR2hv8AUDZPXlYqHUJQKHWNO84BRJANIC3QIKCGUAgY+5aQg4iQI/C9ShcjylAgZVDi2wXMkA/NV66SZw5QH9qvHSTIEJA8KfGSzepSUB9PzVeuilSQKAaL90ktllAexSuR+EyYkA=\"},\"shape\":[52],\"dtype\":\"float64\",\"order\":\"little\"}]]}}},\"view\":{\"type\":\"object\",\"name\":\"CDSView\",\"id\":\"p2570\",\"attributes\":{\"filter\":{\"type\":\"object\",\"name\":\"AllIndices\",\"id\":\"p2571\"}}},\"glyph\":{\"type\":\"object\",\"name\":\"Line\",\"id\":\"p2566\",\"attributes\":{\"x\":{\"type\":\"field\",\"field\":\"x\"},\"y\":{\"type\":\"field\",\"field\":\"y\"},\"line_color\":\"#0072B2\",\"line_width\":3}},\"nonselection_glyph\":{\"type\":\"object\",\"name\":\"Line\",\"id\":\"p2567\",\"attributes\":{\"x\":{\"type\":\"field\",\"field\":\"x\"},\"y\":{\"type\":\"field\",\"field\":\"y\"},\"line_color\":\"#0072B2\",\"line_alpha\":0.1,\"line_width\":3}},\"muted_glyph\":{\"type\":\"object\",\"name\":\"Line\",\"id\":\"p2568\",\"attributes\":{\"x\":{\"type\":\"field\",\"field\":\"x\"},\"y\":{\"type\":\"field\",\"field\":\"y\"},\"line_color\":\"#0072B2\",\"line_alpha\":0.2,\"line_width\":3}}}},{\"type\":\"object\",\"name\":\"GlyphRenderer\",\"id\":\"p2612\",\"attributes\":{\"data_source\":{\"type\":\"object\",\"name\":\"ColumnDataSource\",\"id\":\"p2606\",\"attributes\":{\"selected\":{\"type\":\"object\",\"name\":\"Selection\",\"id\":\"p2608\",\"attributes\":{\"indices\":[],\"line_indices\":[]}},\"selection_policy\":{\"type\":\"object\",\"name\":\"UnionRenderers\",\"id\":\"p2607\"},\"data\":{\"type\":\"map\",\"entries\":[[\"x\",{\"type\":\"ndarray\",\"array\":{\"type\":\"bytes\",\"data\":\"CjD1H7mo1z9d35dm0i7cP02JApG1AuA/FzYK36uQ4T/p5R1gmMDiP5VwhAoumeM/kYqCAVEl5D/MkS64jnbkPyZOWOn4p+Q/y3MTW6Xc5D81clV0EjXlPwTk8Q4TwOU/rvB1bGJz5j+ZjLYeqTPnPweQpF5Z5uc/Bt+vlPp+6D+Zqgc6sf7oPxf1wG3oa+k/10jAvRfM6T+3IufCZCHqP61jt7Vfa+o/z0cIsCCp6j+cn3mZcNrqP6o7x6llAOs/4Ow1zacc6z+TIC9YrjDrP3qIwLz9Pes/M3Zw4z9G6z+B/azS7krrP1c9TYUbTes/X4DPgYRN6z8RRmJIqkzrP514Jb/oSus/yROOvqZI6z9ajb7iJEbrP+GmGsF1Q+s/kANIcqRA6z/ZGmAIjz3rP8MfxPE1Ous/wR/E8TU66z/BH8TxNTrrPwAAAAAAAAAAAAAAAAAAAAAAAAAAAAAAAAAAAAAAAAAAAAAAAAAAAAAAAAAAAAAAAAAAAAAAAAAAAAAAAAAAAAAAAAAAAAAAAAAAAAAAAAAAAAAAAAAAAAA=\"},\"shape\":[52],\"dtype\":\"float64\",\"order\":\"little\"}],[\"y\",{\"type\":\"ndarray\",\"array\":{\"type\":\"bytes\",\"data\":\"f4cGkH95yD7N3DO7xFLRPmljlajYhdg+D8oHPndb4T5nUrQCJJLoPiqRuz1FZPE+d9g69Lqe+D4JXdPND20BP2C0yQwUqwg/6SjrXdp1ET+YYHCBj7cYP97oCIWtfiE/+PQiJBzEKD/3kDLakYcxPzmbTOSb0Dg/4FbNtWCQQT97QXakG91IPz5kBDMqmVE/1lhnIabpWD+40Et7OaJhPwN8EjNW9mg/AeTfwhWrcT91BMts6wJ5P5pQd1Trs4E/ij+KOnMPiT9bmfBL/byRP9NKIZBLHJk/t5p1xvfFoT/7c9GQ8SipP7jLft3pzrE/j95wH7k1uT+ADvPlBdjBP22oGOdvQsk/VFc+y/Pg0T8BE7h1N0/ZP3ztmSUB6uE/JLn8h/Rb6T9QNuUK7/LxP9Sa5h2naPk/zhlR2hv8AUDZPXlYqHUJQKHWNO84BRJANIC3QIKCGUAgY+5aQg4iQI/C9ShcjylAgZVDi2wXMkA/NV66SZw5QH9qvHSTIEJA8KfGSzepSUB9PzVeuilSQKAaL90ktllAexSuR+EyYkA=\"},\"shape\":[52],\"dtype\":\"float64\",\"order\":\"little\"}]]}}},\"view\":{\"type\":\"object\",\"name\":\"CDSView\",\"id\":\"p2613\",\"attributes\":{\"filter\":{\"type\":\"object\",\"name\":\"AllIndices\",\"id\":\"p2614\"}}},\"glyph\":{\"type\":\"object\",\"name\":\"Line\",\"id\":\"p2609\",\"attributes\":{\"x\":{\"type\":\"field\",\"field\":\"x\"},\"y\":{\"type\":\"field\",\"field\":\"y\"},\"line_color\":\"#E69F00\",\"line_width\":3}},\"nonselection_glyph\":{\"type\":\"object\",\"name\":\"Line\",\"id\":\"p2610\",\"attributes\":{\"x\":{\"type\":\"field\",\"field\":\"x\"},\"y\":{\"type\":\"field\",\"field\":\"y\"},\"line_color\":\"#E69F00\",\"line_alpha\":0.1,\"line_width\":3}},\"muted_glyph\":{\"type\":\"object\",\"name\":\"Line\",\"id\":\"p2611\",\"attributes\":{\"x\":{\"type\":\"field\",\"field\":\"x\"},\"y\":{\"type\":\"field\",\"field\":\"y\"},\"line_color\":\"#E69F00\",\"line_alpha\":0.2,\"line_width\":3}}}}],\"toolbar\":{\"type\":\"object\",\"name\":\"Toolbar\",\"id\":\"p2466\",\"attributes\":{\"tools\":[{\"id\":\"p2493\"},{\"id\":\"p2494\"},{\"id\":\"p2495\"},{\"type\":\"object\",\"name\":\"SaveTool\",\"id\":\"p2497\"},{\"id\":\"p2498\"},{\"id\":\"p2499\"}]}},\"toolbar_location\":null,\"left\":[{\"type\":\"object\",\"name\":\"LogAxis\",\"id\":\"p2486\",\"attributes\":{\"ticker\":{\"type\":\"object\",\"name\":\"LogTicker\",\"id\":\"p2489\",\"attributes\":{\"num_minor_ticks\":10,\"mantissas\":[1,5]}},\"formatter\":{\"type\":\"object\",\"name\":\"LogTickFormatter\",\"id\":\"p2487\"},\"major_label_policy\":{\"type\":\"object\",\"name\":\"AllLabels\",\"id\":\"p2488\"}}}],\"below\":[{\"type\":\"object\",\"name\":\"LinearAxis\",\"id\":\"p2479\",\"attributes\":{\"ticker\":{\"type\":\"object\",\"name\":\"BasicTicker\",\"id\":\"p2482\",\"attributes\":{\"mantissas\":[1,2,5]}},\"formatter\":{\"type\":\"object\",\"name\":\"BasicTickFormatter\",\"id\":\"p2480\"},\"axis_label\":\"Asymmetry\",\"major_label_policy\":{\"type\":\"object\",\"name\":\"AllLabels\",\"id\":\"p2481\"}}}],\"center\":[{\"type\":\"object\",\"name\":\"Grid\",\"id\":\"p2485\",\"attributes\":{\"axis\":{\"id\":\"p2479\"}}},{\"type\":\"object\",\"name\":\"Grid\",\"id\":\"p2492\",\"attributes\":{\"dimension\":1,\"axis\":{\"id\":\"p2486\"}}}]}},0,2]]}}]}};\n",
       "  const render_items = [{\"docid\":\"d176ac9d-ca57-48b7-836d-d53b3fd062ef\",\"roots\":{\"p2714\":\"96af62b4-57c0-40f5-8cd7-1ad5f06d78b3\"},\"root_ids\":[\"p2714\"]}];\n",
       "  root.Bokeh.embed.embed_items_notebook(docs_json, render_items);\n",
       "  }\n",
       "  if (root.Bokeh !== undefined) {\n",
       "    embed_document(root);\n",
       "  } else {\n",
       "    let attempts = 0;\n",
       "    const timer = setInterval(function(root) {\n",
       "      if (root.Bokeh !== undefined) {\n",
       "        clearInterval(timer);\n",
       "        embed_document(root);\n",
       "      } else {\n",
       "        attempts++;\n",
       "        if (attempts > 100) {\n",
       "          clearInterval(timer);\n",
       "          console.log(\"Bokeh: ERROR: Unable to run BokehJS code because BokehJS library is missing\");\n",
       "        }\n",
       "      }\n",
       "    }, 10, root)\n",
       "  }\n",
       "})(window);"
      ],
      "application/vnd.bokehjs_exec.v0+json": ""
     },
     "metadata": {
      "application/vnd.bokehjs_exec.v0+json": {
       "id": "p2714"
      }
     },
     "output_type": "display_data"
    }
   ],
   "source": [
    "#get full dictionary output \n",
    "show(jpi.all_optics_1d([hj_real,hj_constant],[0.3,1] , legend=['Real','Constant']))"
   ]
  },
  {
   "cell_type": "code",
   "execution_count": null,
   "metadata": {},
   "outputs": [],
   "source": []
  }
 ],
 "metadata": {
  "kernelspec": {
   "display_name": "Python 3 (ipykernel)",
   "language": "python",
   "name": "python3"
  },
  "language_info": {
   "codemirror_mode": {
    "name": "ipython",
    "version": 3
   },
   "file_extension": ".py",
   "mimetype": "text/x-python",
   "name": "python",
   "nbconvert_exporter": "python",
   "pygments_lexer": "ipython3",
   "version": "3.11.5"
  },
  "toc": {
   "base_numbering": 1,
   "nav_menu": {},
   "number_sections": true,
   "sideBar": true,
   "skip_h1_title": false,
   "title_cell": "Table of Contents",
   "title_sidebar": "Contents",
   "toc_cell": true,
   "toc_position": {},
   "toc_section_display": true,
   "toc_window_display": false
  }
 },
 "nbformat": 4,
 "nbformat_minor": 4
}
